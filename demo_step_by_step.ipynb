{
  "cells": [
    {
      "cell_type": "code",
      "execution_count": 3,
      "metadata": {
        "notebookRunGroups": {
          "groupValue": ""
        }
      },
      "outputs": [
        {
          "name": "stderr",
          "output_type": "stream",
          "text": [
            "[autoreload of deep_image_matching.utils failed: Traceback (most recent call last):\n",
            "  File \"/home/francesco/miniforge3/envs/dim/lib/python3.10/site-packages/IPython/extensions/autoreload.py\", line 276, in check\n",
            "    superreload(m, reload, self.old_objects)\n",
            "  File \"/home/francesco/miniforge3/envs/dim/lib/python3.10/site-packages/IPython/extensions/autoreload.py\", line 475, in superreload\n",
            "    module = reload(module)\n",
            "  File \"/home/francesco/miniforge3/envs/dim/lib/python3.10/importlib/__init__.py\", line 159, in reload\n",
            "    raise ImportError(msg.format(parent_name),\n",
            "ImportError: parent 'deep_image_matching' not in sys.modules\n",
            "]\n"
          ]
        },
        {
          "name": "stdout",
          "output_type": "stream",
          "text": [
            "Deep Image Matching loaded in 6.410 seconds.\n",
            "\u001b[1;33m2024-05-30 09:11:02 | [WARNING ] assets/example_cyprus/results_superpoint+lightglue_bruteforce_quality_high already exists, but the '--force' option is used. Deleting the folder.\u001b[0m\n"
          ]
        }
      ],
      "source": [
        "%reload_ext autoreload\n",
        "%autoreload 2\n",
        "\n",
        "import deep_image_matching as dim\n",
        "\n",
        "logger = dim.logger\n",
        "\n",
        "params = {\n",
        "    \"dir\": \"./assets/example_cyprus\",\n",
        "    \"pipeline\": \"superpoint+lightglue\",\n",
        "    \"strategy\": \"bruteforce\",\n",
        "    \"quality\": \"high\",\n",
        "    \"tiling\": \"none\",\n",
        "    \"camera_options\": \"./assets/example_cyprus/cameras.yaml\",\n",
        "    \"openmvg\": None,\n",
        "}\n",
        "config = dim.Config(params)"
      ]
    },
    {
      "cell_type": "markdown",
      "metadata": {},
      "source": [
        "Run feature extraction and matching\n"
      ]
    },
    {
      "cell_type": "code",
      "execution_count": 2,
      "metadata": {},
      "outputs": [
        {
          "name": "stdout",
          "output_type": "stream",
          "text": [
            "\u001b[1;30m2024-05-14 12:17:24 | [DEBUG   ] Matching options: Quality: LOW - Tiling: NONE\u001b[0m\n",
            "\u001b[1;30m2024-05-14 12:17:24 | [DEBUG   ] Saving directory: assets/example_cyprus/results_xfeat+kornia_matcher_bruteforce_quality_low\u001b[0m\n",
            "\u001b[1;30m2024-05-14 12:17:24 | [DEBUG   ] Running inference on device cuda\u001b[0m\n"
          ]
        },
        {
          "name": "stdout",
          "output_type": "stream",
          "text": [
            "\u001b[1;30m2024-05-14 12:17:25 | [DEBUG   ] Matching options: Tiling: NONE\u001b[0m\n",
            "\u001b[1;30m2024-05-14 12:17:25 | [DEBUG   ] Saving directory: assets/example_cyprus/results_xfeat+kornia_matcher_bruteforce_quality_low\u001b[0m\n",
            "\u001b[1;30m2024-05-14 12:17:25 | [DEBUG   ] Running inference on device cuda\u001b[0m\n",
            "\u001b[0;37m2024-05-14 12:17:25 | [INFO    ] Running image matching with the following configuration:\u001b[0m\n",
            "\u001b[0;37m2024-05-14 12:17:25 | [INFO    ]   Image folder: assets/example_cyprus/images\u001b[0m\n",
            "\u001b[0;37m2024-05-14 12:17:25 | [INFO    ]   Output folder: assets/example_cyprus/results_xfeat+kornia_matcher_bruteforce_quality_low\u001b[0m\n",
            "\u001b[0;37m2024-05-14 12:17:25 | [INFO    ]   Number of images: 10\u001b[0m\n",
            "\u001b[0;37m2024-05-14 12:17:25 | [INFO    ]   Matching strategy: bruteforce\u001b[0m\n",
            "\u001b[0;37m2024-05-14 12:17:25 | [INFO    ]   Image quality: LOW\u001b[0m\n",
            "\u001b[0;37m2024-05-14 12:17:25 | [INFO    ]   Tile selection: NONE\u001b[0m\n",
            "\u001b[0;37m2024-05-14 12:17:25 | [INFO    ]   Feature extraction method: xfeat\u001b[0m\n",
            "\u001b[0;37m2024-05-14 12:17:25 | [INFO    ]   Matching method: kornia_matcher\u001b[0m\n",
            "\u001b[0;37m2024-05-14 12:17:25 | [INFO    ]   Geometric verification: PYDEGENSAC\u001b[0m\n",
            "\u001b[0;37m2024-05-14 12:17:25 | [INFO    ]   CUDA available: True\u001b[0m\n",
            "\u001b[1;30m2024-05-14 12:17:25 | [DEBUG   ] Bruteforce matching, generating pairs ..\u001b[0m\n",
            "\u001b[0;37m2024-05-14 12:17:25 | [INFO    ] Number of pairs: 45\u001b[0m\n",
            "\u001b[0;37m2024-05-14 12:17:25 | [INFO    ] Found 45 pairs.\u001b[0m\n",
            "\u001b[0;37m2024-05-14 12:17:25 | [INFO    ] Extracting features with xfeat...\u001b[0m\n",
            "\u001b[0;37m2024-05-14 12:17:25 | [INFO    ] xfeat configuration: \u001b[0m\n",
            "{'name': 'xfeat', 'top_k': 4000}\n"
          ]
        },
        {
          "name": "stderr",
          "output_type": "stream",
          "text": [
            "  0%|          | 0/10 [00:00<?, ?it/s]"
          ]
        },
        {
          "name": "stdout",
          "output_type": "stream",
          "text": [
            "\u001b[1;30m2024-05-14 12:17:27 | [DEBUG   ] Extracted 1518 keypoints\u001b[0m\n"
          ]
        },
        {
          "name": "stderr",
          "output_type": "stream",
          "text": [
            " 10%|█         | 1/10 [00:01<00:17,  1.98s/it]"
          ]
        },
        {
          "name": "stdout",
          "output_type": "stream",
          "text": [
            "\u001b[1;30m2024-05-14 12:17:27 | [DEBUG   ] Extracted 1603 keypoints\u001b[0m\n"
          ]
        },
        {
          "name": "stderr",
          "output_type": "stream",
          "text": [
            " 20%|██        | 2/10 [00:02<00:07,  1.13it/s]"
          ]
        },
        {
          "name": "stdout",
          "output_type": "stream",
          "text": [
            "\u001b[1;30m2024-05-14 12:17:27 | [DEBUG   ] Extracted 1520 keypoints\u001b[0m\n"
          ]
        },
        {
          "name": "stderr",
          "output_type": "stream",
          "text": [
            " 30%|███       | 3/10 [00:02<00:03,  1.85it/s]"
          ]
        },
        {
          "name": "stdout",
          "output_type": "stream",
          "text": [
            "\u001b[1;30m2024-05-14 12:17:27 | [DEBUG   ] Extracted 1367 keypoints\u001b[0m\n"
          ]
        },
        {
          "name": "stderr",
          "output_type": "stream",
          "text": [
            " 40%|████      | 4/10 [00:02<00:02,  2.69it/s]"
          ]
        },
        {
          "name": "stdout",
          "output_type": "stream",
          "text": [
            "\u001b[1;30m2024-05-14 12:17:27 | [DEBUG   ] Extracted 1432 keypoints\u001b[0m\n"
          ]
        },
        {
          "name": "stderr",
          "output_type": "stream",
          "text": [
            " 50%|█████     | 5/10 [00:02<00:01,  3.59it/s]"
          ]
        },
        {
          "name": "stdout",
          "output_type": "stream",
          "text": [
            "\u001b[1;30m2024-05-14 12:17:27 | [DEBUG   ] Extracted 1400 keypoints\u001b[0m\n"
          ]
        },
        {
          "name": "stderr",
          "output_type": "stream",
          "text": [
            " 60%|██████    | 6/10 [00:02<00:00,  4.31it/s]"
          ]
        },
        {
          "name": "stdout",
          "output_type": "stream",
          "text": [
            "\u001b[1;30m2024-05-14 12:17:27 | [DEBUG   ] Extracted 1529 keypoints\u001b[0m\n"
          ]
        },
        {
          "name": "stderr",
          "output_type": "stream",
          "text": [
            " 70%|███████   | 7/10 [00:02<00:00,  5.16it/s]"
          ]
        },
        {
          "name": "stdout",
          "output_type": "stream",
          "text": [
            "\u001b[1;30m2024-05-14 12:17:28 | [DEBUG   ] Extracted 1396 keypoints\u001b[0m\n"
          ]
        },
        {
          "name": "stderr",
          "output_type": "stream",
          "text": [
            " 80%|████████  | 8/10 [00:02<00:00,  5.90it/s]"
          ]
        },
        {
          "name": "stdout",
          "output_type": "stream",
          "text": [
            "\u001b[1;30m2024-05-14 12:17:28 | [DEBUG   ] Extracted 1533 keypoints\u001b[0m\n"
          ]
        },
        {
          "name": "stderr",
          "output_type": "stream",
          "text": [
            " 90%|█████████ | 9/10 [00:02<00:00,  6.55it/s]"
          ]
        },
        {
          "name": "stdout",
          "output_type": "stream",
          "text": [
            "\u001b[1;30m2024-05-14 12:17:28 | [DEBUG   ] Extracted 1466 keypoints\u001b[0m\n"
          ]
        },
        {
          "name": "stderr",
          "output_type": "stream",
          "text": [
            "100%|██████████| 10/10 [00:03<00:00,  3.26it/s]"
          ]
        },
        {
          "name": "stdout",
          "output_type": "stream",
          "text": [
            "\u001b[0;37m2024-05-14 12:17:28 | [INFO    ] Features extracted!\u001b[0m\n",
            "\u001b[0;37m2024-05-14 12:17:28 | [INFO    ] Matching features with kornia_matcher...\u001b[0m\n",
            "\u001b[0;37m2024-05-14 12:17:28 | [INFO    ] kornia_matcher configuration: \u001b[0m\n",
            "{'match_mode': 'smnn', 'name': 'kornia_matcher', 'th': 0.99}\n",
            "\u001b[0;37m2024-05-14 12:17:28 | [INFO    ] Matching features...\u001b[0m\n",
            "\u001b[0;37m2024-05-14 12:17:28 | [INFO    ] \u001b[0m\n"
          ]
        },
        {
          "name": "stderr",
          "output_type": "stream",
          "text": [
            "\n",
            "  0%|          | 0/45 [00:00<?, ?it/s]"
          ]
        },
        {
          "name": "stdout",
          "output_type": "stream",
          "text": [
            "\u001b[1;30m2024-05-14 12:17:28 | [DEBUG   ] Matching image pair: DSC_6466.JPG - DSC_6467.JPG\u001b[0m\n",
            "\u001b[1;30m2024-05-14 12:17:28 | [DEBUG   ] Tile selection was NONE. Matching full images...\u001b[0m\n",
            "\u001b[1;30m2024-05-14 12:17:28 | [DEBUG   ] [Timer] | [MatcherBase match] load h5 features=0.006, match full images=0.027, save to h5=0.001, Total execution=0.033\u001b[0m\n",
            "\u001b[1;30m2024-05-14 12:17:28 | [DEBUG   ] PYDEGENSAC found 207 inliers (70.89%)\u001b[0m\n",
            "\u001b[1;30m2024-05-14 12:17:28 | [DEBUG   ] Estiamted Fundamental matrix: \n",
            "[[-2.41402172e-07 -4.60132982e-07 -2.13573398e-04]\n",
            " [-1.12951565e-06  4.45519803e-08 -2.66500220e-03]\n",
            " [ 9.65204120e-04  4.12853444e-03 -8.80942700e-01]]\u001b[0m\n",
            "\u001b[1;30m2024-05-14 12:17:28 | [DEBUG   ] [Timer] | [MatcherBase match] Geom. verification=0.087, save to h5=0.001, Total execution=0.088\u001b[0m\n",
            "\u001b[1;30m2024-05-14 12:17:28 | [DEBUG   ] Matching DSC_6466.JPG-DSC_6467.JPG done!\u001b[0m\n"
          ]
        },
        {
          "name": "stderr",
          "output_type": "stream",
          "text": [
            "  2%|▏         | 1/45 [00:00<00:09,  4.63it/s]"
          ]
        },
        {
          "name": "stdout",
          "output_type": "stream",
          "text": [
            "\u001b[1;30m2024-05-14 12:17:28 | [DEBUG   ] Matching image pair: DSC_6466.JPG - DSC_6468.JPG\u001b[0m\n",
            "\u001b[1;30m2024-05-14 12:17:28 | [DEBUG   ] Tile selection was NONE. Matching full images...\u001b[0m\n",
            "\u001b[1;30m2024-05-14 12:17:28 | [DEBUG   ] [Timer] | [MatcherBase match] load h5 features=0.005, match full images=0.016, save to h5=0.001, Total execution=0.022\u001b[0m\n",
            "\u001b[1;30m2024-05-14 12:17:28 | [DEBUG   ] PYDEGENSAC found 24 inliers (23.30%)\u001b[0m\n",
            "\u001b[1;30m2024-05-14 12:17:28 | [DEBUG   ] Estiamted Fundamental matrix: \n",
            "[[-2.13173156e-06  9.71216836e-06 -2.49787026e-03]\n",
            " [-5.42912291e-06 -3.12213857e-06  5.77178196e-03]\n",
            " [ 4.63142068e-03 -4.16759642e-03 -1.94844741e+00]]\u001b[0m\n",
            "\u001b[1;30m2024-05-14 12:17:28 | [DEBUG   ] Too small inlier ratio (23.30%). Skipping image pair DSC_6466.JPG-DSC_6468.JPG\u001b[0m\n",
            "\u001b[1;30m2024-05-14 12:17:28 | [DEBUG   ] [Timer] | [MatcherBase match] Total execution=0.048\u001b[0m\n",
            "\u001b[1;30m2024-05-14 12:17:28 | [DEBUG   ] Matching image pair: DSC_6466.JPG - DSC_6469.JPG\u001b[0m\n",
            "\u001b[1;30m2024-05-14 12:17:28 | [DEBUG   ] Tile selection was NONE. Matching full images...\u001b[0m\n",
            "\u001b[1;30m2024-05-14 12:17:28 | [DEBUG   ] [Timer] | [MatcherBase match] load h5 features=0.007, match full images=0.018, save to h5=0.001, Total execution=0.026\u001b[0m\n",
            "\u001b[1;30m2024-05-14 12:17:28 | [DEBUG   ] PYDEGENSAC found 248 inliers (64.25%)\u001b[0m\n",
            "\u001b[1;30m2024-05-14 12:17:28 | [DEBUG   ] Estiamted Fundamental matrix: \n",
            "[[ 9.37603654e-08  1.34882923e-07  1.70039433e-03]\n",
            " [-5.39449337e-07  3.23494663e-07 -1.63286440e-03]\n",
            " [-1.61288326e-03  1.69797377e-03  5.34744664e-01]]\u001b[0m\n",
            "\u001b[1;30m2024-05-14 12:17:28 | [DEBUG   ] [Timer] | [MatcherBase match] Geom. verification=0.105, save to h5=0.001, Total execution=0.105\u001b[0m\n",
            "\u001b[1;30m2024-05-14 12:17:28 | [DEBUG   ] Matching DSC_6466.JPG-DSC_6469.JPG done!\u001b[0m\n"
          ]
        },
        {
          "name": "stderr",
          "output_type": "stream",
          "text": [
            "  7%|▋         | 3/45 [00:00<00:06,  6.03it/s]"
          ]
        },
        {
          "name": "stdout",
          "output_type": "stream",
          "text": [
            "\u001b[1;30m2024-05-14 12:17:28 | [DEBUG   ] Matching image pair: DSC_6466.JPG - DSC_6470.JPG\u001b[0m\n",
            "\u001b[1;30m2024-05-14 12:17:28 | [DEBUG   ] Tile selection was NONE. Matching full images...\u001b[0m\n",
            "\u001b[1;30m2024-05-14 12:17:28 | [DEBUG   ] [Timer] | [MatcherBase match] load h5 features=0.005, match full images=0.019, save to h5=0.001, Total execution=0.024\u001b[0m\n",
            "\u001b[1;30m2024-05-14 12:17:28 | [DEBUG   ] PYDEGENSAC found 123 inliers (47.31%)\u001b[0m\n",
            "\u001b[1;30m2024-05-14 12:17:28 | [DEBUG   ] Estiamted Fundamental matrix: \n",
            "[[-4.60033806e-08  8.19736799e-07 -9.19009901e-04]\n",
            " [-6.77790526e-07  1.28504451e-07  4.14508839e-03]\n",
            " [ 1.00032341e-03 -3.88243853e-03 -6.52038674e-01]]\u001b[0m\n",
            "\u001b[1;30m2024-05-14 12:17:28 | [DEBUG   ] [Timer] | [MatcherBase match] Geom. verification=0.047, save to h5=0.001, Total execution=0.048\u001b[0m\n",
            "\u001b[1;30m2024-05-14 12:17:28 | [DEBUG   ] Matching DSC_6466.JPG-DSC_6470.JPG done!\u001b[0m\n"
          ]
        },
        {
          "name": "stderr",
          "output_type": "stream",
          "text": [
            "  9%|▉         | 4/45 [00:00<00:06,  6.04it/s]"
          ]
        },
        {
          "name": "stdout",
          "output_type": "stream",
          "text": [
            "\u001b[1;30m2024-05-14 12:17:29 | [DEBUG   ] Matching image pair: DSC_6466.JPG - DSC_6471.JPG\u001b[0m\n",
            "\u001b[1;30m2024-05-14 12:17:29 | [DEBUG   ] Tile selection was NONE. Matching full images...\u001b[0m\n",
            "\u001b[1;30m2024-05-14 12:17:29 | [DEBUG   ] [Timer] | [MatcherBase match] load h5 features=0.005, match full images=0.013, save to h5=0.001, Total execution=0.019\u001b[0m\n",
            "\u001b[1;30m2024-05-14 12:17:29 | [DEBUG   ] PYDEGENSAC found 26 inliers (25.24%)\u001b[0m\n",
            "\u001b[1;30m2024-05-14 12:17:29 | [DEBUG   ] Estiamted Fundamental matrix: \n",
            "[[-5.63303370e-04 -2.89131838e-03  3.27230550e+00]\n",
            " [ 4.47156378e-04 -2.70968269e-04 -6.96324654e-02]\n",
            " [-4.84820262e-01  1.00000000e+00 -6.20206291e+02]]\u001b[0m\n",
            "\u001b[1;30m2024-05-14 12:17:29 | [DEBUG   ] [Timer] | [MatcherBase match] Geom. verification=0.024, save to h5=0.001, Total execution=0.025\u001b[0m\n",
            "\u001b[1;30m2024-05-14 12:17:29 | [DEBUG   ] Matching DSC_6466.JPG-DSC_6471.JPG done!\u001b[0m\n"
          ]
        },
        {
          "name": "stderr",
          "output_type": "stream",
          "text": [
            " 11%|█         | 5/45 [00:00<00:06,  6.38it/s]"
          ]
        },
        {
          "name": "stdout",
          "output_type": "stream",
          "text": [
            "\u001b[1;30m2024-05-14 12:17:29 | [DEBUG   ] Matching image pair: DSC_6466.JPG - DSC_6472.JPG\u001b[0m\n",
            "\u001b[1;30m2024-05-14 12:17:29 | [DEBUG   ] Tile selection was NONE. Matching full images...\u001b[0m\n",
            "\u001b[1;30m2024-05-14 12:17:29 | [DEBUG   ] [Timer] | [MatcherBase match] load h5 features=0.005, match full images=0.020, save to h5=0.001, Total execution=0.026\u001b[0m\n",
            "\u001b[1;30m2024-05-14 12:17:29 | [DEBUG   ] PYDEGENSAC found 88 inliers (40.55%)\u001b[0m\n",
            "\u001b[1;30m2024-05-14 12:17:29 | [DEBUG   ] Estiamted Fundamental matrix: \n",
            "[[ 7.69955170e-08 -3.15018843e-06  2.30145148e-03]\n",
            " [ 3.15401084e-06 -4.17076227e-06  3.43763734e-03]\n",
            " [-2.33008209e-03  1.37006584e-03 -1.29483664e+00]]\u001b[0m\n",
            "\u001b[1;30m2024-05-14 12:17:29 | [DEBUG   ] [Timer] | [MatcherBase match] Geom. verification=0.052, save to h5=0.001, Total execution=0.053\u001b[0m\n",
            "\u001b[1;30m2024-05-14 12:17:29 | [DEBUG   ] Matching DSC_6466.JPG-DSC_6472.JPG done!\u001b[0m\n"
          ]
        },
        {
          "name": "stderr",
          "output_type": "stream",
          "text": [
            " 13%|█▎        | 6/45 [00:00<00:06,  6.21it/s]"
          ]
        },
        {
          "name": "stdout",
          "output_type": "stream",
          "text": [
            "\u001b[1;30m2024-05-14 12:17:29 | [DEBUG   ] Matching image pair: DSC_6466.JPG - DSC_6473.JPG\u001b[0m\n",
            "\u001b[1;30m2024-05-14 12:17:29 | [DEBUG   ] Tile selection was NONE. Matching full images...\u001b[0m\n",
            "\u001b[1;30m2024-05-14 12:17:29 | [DEBUG   ] [Timer] | [MatcherBase match] load h5 features=0.005, match full images=0.017, save to h5=0.001, Total execution=0.023\u001b[0m\n",
            "\u001b[1;30m2024-05-14 12:17:29 | [DEBUG   ] PYDEGENSAC found 132 inliers (44.44%)\u001b[0m\n",
            "\u001b[1;30m2024-05-14 12:17:29 | [DEBUG   ] Estiamted Fundamental matrix: \n",
            "[[ 1.57000480e-07  2.49188780e-06 -1.07175581e-03]\n",
            " [-1.63898470e-06 -2.54114927e-08 -1.34959712e-03]\n",
            " [ 6.72743863e-04  4.11490976e-04  3.60469341e-01]]\u001b[0m\n",
            "\u001b[1;30m2024-05-14 12:17:29 | [DEBUG   ] [Timer] | [MatcherBase match] Geom. verification=0.073, save to h5=0.001, Total execution=0.074\u001b[0m\n",
            "\u001b[1;30m2024-05-14 12:17:29 | [DEBUG   ] Matching DSC_6466.JPG-DSC_6473.JPG done!\u001b[0m\n"
          ]
        },
        {
          "name": "stderr",
          "output_type": "stream",
          "text": [
            " 16%|█▌        | 7/45 [00:01<00:06,  5.90it/s]"
          ]
        },
        {
          "name": "stdout",
          "output_type": "stream",
          "text": [
            "\u001b[1;30m2024-05-14 12:17:29 | [DEBUG   ] Matching image pair: DSC_6466.JPG - DSC_6474.JPG\u001b[0m\n",
            "\u001b[1;30m2024-05-14 12:17:29 | [DEBUG   ] Tile selection was NONE. Matching full images...\u001b[0m\n",
            "\u001b[1;30m2024-05-14 12:17:29 | [DEBUG   ] [Timer] | [MatcherBase match] load h5 features=0.005, match full images=0.015, save to h5=0.001, Total execution=0.021\u001b[0m\n",
            "\u001b[1;30m2024-05-14 12:17:29 | [DEBUG   ] PYDEGENSAC found 50 inliers (30.86%)\u001b[0m\n",
            "\u001b[1;30m2024-05-14 12:17:29 | [DEBUG   ] Estiamted Fundamental matrix: \n",
            "[[ 3.82484414e-06  1.09059829e-03 -7.04978663e-01]\n",
            " [-1.04160223e-03  6.45589902e-04 -1.46916575e+00]\n",
            " [ 6.45111889e-01  1.00000000e+00  9.54118739e-02]]\u001b[0m\n",
            "\u001b[1;30m2024-05-14 12:17:29 | [DEBUG   ] [Timer] | [MatcherBase match] Geom. verification=0.041, save to h5=0.001, Total execution=0.042\u001b[0m\n",
            "\u001b[1;30m2024-05-14 12:17:29 | [DEBUG   ] Matching DSC_6466.JPG-DSC_6474.JPG done!\u001b[0m\n"
          ]
        },
        {
          "name": "stderr",
          "output_type": "stream",
          "text": [
            " 18%|█▊        | 8/45 [00:01<00:06,  6.02it/s]"
          ]
        },
        {
          "name": "stdout",
          "output_type": "stream",
          "text": [
            "\u001b[1;30m2024-05-14 12:17:29 | [DEBUG   ] Matching image pair: DSC_6466.JPG - DSC_6475.JPG\u001b[0m\n",
            "\u001b[1;30m2024-05-14 12:17:29 | [DEBUG   ] Tile selection was NONE. Matching full images...\u001b[0m\n",
            "\u001b[1;30m2024-05-14 12:17:29 | [DEBUG   ] [Timer] | [MatcherBase match] load h5 features=0.005, match full images=0.017, save to h5=0.001, Total execution=0.023\u001b[0m\n",
            "\u001b[1;30m2024-05-14 12:17:29 | [DEBUG   ] PYDEGENSAC found 91 inliers (37.76%)\u001b[0m\n",
            "\u001b[1;30m2024-05-14 12:17:29 | [DEBUG   ] Estiamted Fundamental matrix: \n",
            "[[-2.63975692e-08 -1.60852916e-08  1.64973685e-04]\n",
            " [ 5.85491896e-07 -4.47361535e-07 -3.50917905e-03]\n",
            " [-1.08347794e-04  2.84342353e-03  1.34775421e-01]]\u001b[0m\n",
            "\u001b[1;30m2024-05-14 12:17:29 | [DEBUG   ] [Timer] | [MatcherBase match] Geom. verification=0.069, save to h5=0.001, Total execution=0.070\u001b[0m\n",
            "\u001b[1;30m2024-05-14 12:17:29 | [DEBUG   ] Matching DSC_6466.JPG-DSC_6475.JPG done!\u001b[0m\n"
          ]
        },
        {
          "name": "stderr",
          "output_type": "stream",
          "text": [
            " 20%|██        | 9/45 [00:01<00:06,  5.78it/s]"
          ]
        },
        {
          "name": "stdout",
          "output_type": "stream",
          "text": [
            "\u001b[1;30m2024-05-14 12:17:29 | [DEBUG   ] Matching image pair: DSC_6467.JPG - DSC_6468.JPG\u001b[0m\n",
            "\u001b[1;30m2024-05-14 12:17:29 | [DEBUG   ] Tile selection was NONE. Matching full images...\u001b[0m\n",
            "\u001b[1;30m2024-05-14 12:17:29 | [DEBUG   ] [Timer] | [MatcherBase match] load h5 features=0.005, match full images=0.017, save to h5=0.001, Total execution=0.024\u001b[0m\n",
            "\u001b[1;30m2024-05-14 12:17:29 | [DEBUG   ] PYDEGENSAC found 45 inliers (32.61%)\u001b[0m\n",
            "\u001b[1;30m2024-05-14 12:17:29 | [DEBUG   ] Estiamted Fundamental matrix: \n",
            "[[ 7.30645773e-08  1.50153873e-06 -9.60213301e-04]\n",
            " [-4.59849594e-08  4.17258071e-07  2.00106455e-03]\n",
            " [-1.09971684e-04 -3.17825601e-03  5.03784347e-01]]\u001b[0m\n",
            "\u001b[1;30m2024-05-14 12:17:29 | [DEBUG   ] [Timer] | [MatcherBase match] Geom. verification=0.032, save to h5=0.001, Total execution=0.033\u001b[0m\n",
            "\u001b[1;30m2024-05-14 12:17:29 | [DEBUG   ] Matching DSC_6467.JPG-DSC_6468.JPG done!\u001b[0m\n"
          ]
        },
        {
          "name": "stderr",
          "output_type": "stream",
          "text": [
            " 22%|██▏       | 10/45 [00:01<00:05,  5.96it/s]"
          ]
        },
        {
          "name": "stdout",
          "output_type": "stream",
          "text": [
            "\u001b[1;30m2024-05-14 12:17:30 | [DEBUG   ] Matching image pair: DSC_6467.JPG - DSC_6469.JPG\u001b[0m\n",
            "\u001b[1;30m2024-05-14 12:17:30 | [DEBUG   ] Tile selection was NONE. Matching full images...\u001b[0m\n",
            "\u001b[1;30m2024-05-14 12:17:30 | [DEBUG   ] [Timer] | [MatcherBase match] load h5 features=0.006, match full images=0.018, save to h5=0.001, Total execution=0.024\u001b[0m\n",
            "\u001b[1;30m2024-05-14 12:17:30 | [DEBUG   ] PYDEGENSAC found 131 inliers (52.61%)\u001b[0m\n",
            "\u001b[1;30m2024-05-14 12:17:30 | [DEBUG   ] Estiamted Fundamental matrix: \n",
            "[[ 1.37882369e-06  9.39495008e-07 -4.19085081e-03]\n",
            " [-1.85507593e-06 -4.50058559e-07  4.21499287e-03]\n",
            " [ 2.63504477e-03 -4.02163941e-03  2.16369241e+00]]\u001b[0m\n",
            "\u001b[1;30m2024-05-14 12:17:30 | [DEBUG   ] [Timer] | [MatcherBase match] Geom. verification=0.065, save to h5=0.001, Total execution=0.065\u001b[0m\n",
            "\u001b[1;30m2024-05-14 12:17:30 | [DEBUG   ] Matching DSC_6467.JPG-DSC_6469.JPG done!\u001b[0m\n"
          ]
        },
        {
          "name": "stderr",
          "output_type": "stream",
          "text": [
            " 24%|██▍       | 11/45 [00:01<00:05,  5.73it/s]"
          ]
        },
        {
          "name": "stdout",
          "output_type": "stream",
          "text": [
            "\u001b[1;30m2024-05-14 12:17:30 | [DEBUG   ] Matching image pair: DSC_6467.JPG - DSC_6470.JPG\u001b[0m\n",
            "\u001b[1;30m2024-05-14 12:17:30 | [DEBUG   ] Tile selection was NONE. Matching full images...\u001b[0m\n",
            "\u001b[1;30m2024-05-14 12:17:30 | [DEBUG   ] [Timer] | [MatcherBase match] load h5 features=0.005, match full images=0.020, save to h5=0.002, Total execution=0.027\u001b[0m\n",
            "\u001b[1;30m2024-05-14 12:17:30 | [DEBUG   ] PYDEGENSAC found 216 inliers (63.72%)\u001b[0m\n",
            "\u001b[1;30m2024-05-14 12:17:30 | [DEBUG   ] Estiamted Fundamental matrix: \n",
            "[[-2.81447861e-07 -1.12546159e-08  8.52591677e-04]\n",
            " [ 1.28353461e-06  2.84979804e-07 -4.09366962e-03]\n",
            " [-9.49489462e-04  3.28896600e-03 -4.90668284e-02]]\u001b[0m\n",
            "\u001b[1;30m2024-05-14 12:17:30 | [DEBUG   ] [Timer] | [MatcherBase match] Geom. verification=0.096, save to h5=0.001, Total execution=0.096\u001b[0m\n",
            "\u001b[1;30m2024-05-14 12:17:30 | [DEBUG   ] Matching DSC_6467.JPG-DSC_6470.JPG done!\u001b[0m\n"
          ]
        },
        {
          "name": "stderr",
          "output_type": "stream",
          "text": [
            " 27%|██▋       | 12/45 [00:02<00:06,  5.28it/s]"
          ]
        },
        {
          "name": "stdout",
          "output_type": "stream",
          "text": [
            "\u001b[1;30m2024-05-14 12:17:30 | [DEBUG   ] Matching image pair: DSC_6467.JPG - DSC_6471.JPG\u001b[0m\n",
            "\u001b[1;30m2024-05-14 12:17:30 | [DEBUG   ] Tile selection was NONE. Matching full images...\u001b[0m\n",
            "\u001b[1;30m2024-05-14 12:17:30 | [DEBUG   ] [Timer] | [MatcherBase match] load h5 features=0.005, match full images=0.013, save to h5=0.001, Total execution=0.019\u001b[0m\n",
            "\u001b[1;30m2024-05-14 12:17:30 | [DEBUG   ] PYDEGENSAC found 31 inliers (28.70%)\u001b[0m\n",
            "\u001b[1;30m2024-05-14 12:17:30 | [DEBUG   ] Estiamted Fundamental matrix: \n",
            "[[ 1.56457649e-03 -1.64899932e-03 -1.17190797e+00]\n",
            " [ 1.51625728e-04  1.81588123e-05 -1.53312775e-01]\n",
            " [-5.14853043e-01  1.00000000e+00  2.83504763e+02]]\u001b[0m\n",
            "\u001b[1;30m2024-05-14 12:17:30 | [DEBUG   ] [Timer] | [MatcherBase match] Geom. verification=0.030, save to h5=0.001, Total execution=0.031\u001b[0m\n",
            "\u001b[1;30m2024-05-14 12:17:30 | [DEBUG   ] Matching DSC_6467.JPG-DSC_6471.JPG done!\u001b[0m\n"
          ]
        },
        {
          "name": "stderr",
          "output_type": "stream",
          "text": [
            " 29%|██▉       | 13/45 [00:02<00:05,  5.68it/s]"
          ]
        },
        {
          "name": "stdout",
          "output_type": "stream",
          "text": [
            "\u001b[1;30m2024-05-14 12:17:30 | [DEBUG   ] Matching image pair: DSC_6467.JPG - DSC_6472.JPG\u001b[0m\n",
            "\u001b[1;30m2024-05-14 12:17:30 | [DEBUG   ] Tile selection was NONE. Matching full images...\u001b[0m\n",
            "\u001b[1;30m2024-05-14 12:17:30 | [DEBUG   ] [Timer] | [MatcherBase match] load h5 features=0.005, match full images=0.019, save to h5=0.001, Total execution=0.025\u001b[0m\n",
            "\u001b[1;30m2024-05-14 12:17:30 | [DEBUG   ] PYDEGENSAC found 151 inliers (50.67%)\u001b[0m\n",
            "\u001b[1;30m2024-05-14 12:17:30 | [DEBUG   ] Estiamted Fundamental matrix: \n",
            "[[ 7.65245412e-08 -1.84119121e-06  5.42975792e-04]\n",
            " [ 1.15655360e-07 -1.60206604e-07  3.20474021e-03]\n",
            " [ 6.14531179e-05 -2.18928450e-03 -2.10077899e-01]]\u001b[0m\n",
            "\u001b[1;30m2024-05-14 12:17:30 | [DEBUG   ] [Timer] | [MatcherBase match] Geom. verification=0.085, save to h5=0.001, Total execution=0.085\u001b[0m\n",
            "\u001b[1;30m2024-05-14 12:17:30 | [DEBUG   ] Matching DSC_6467.JPG-DSC_6472.JPG done!\u001b[0m\n"
          ]
        },
        {
          "name": "stderr",
          "output_type": "stream",
          "text": [
            " 31%|███       | 14/45 [00:02<00:05,  5.38it/s]"
          ]
        },
        {
          "name": "stdout",
          "output_type": "stream",
          "text": [
            "\u001b[1;30m2024-05-14 12:17:30 | [DEBUG   ] Matching image pair: DSC_6467.JPG - DSC_6473.JPG\u001b[0m\n",
            "\u001b[1;30m2024-05-14 12:17:30 | [DEBUG   ] Tile selection was NONE. Matching full images...\u001b[0m\n",
            "\u001b[1;30m2024-05-14 12:17:30 | [DEBUG   ] [Timer] | [MatcherBase match] load h5 features=0.005, match full images=0.015, save to h5=0.001, Total execution=0.021\u001b[0m\n",
            "\u001b[1;30m2024-05-14 12:17:30 | [DEBUG   ] PYDEGENSAC found 32 inliers (22.86%)\u001b[0m\n",
            "\u001b[1;30m2024-05-14 12:17:30 | [DEBUG   ] Estiamted Fundamental matrix: \n",
            "[[-1.92567352e-05 -8.55669649e-05  1.38829631e-01]\n",
            " [ 8.95293234e-04  7.66874699e-04 -3.03981615e+00]\n",
            " [-9.66766164e-01  1.00000000e+00  1.33862294e+03]]\u001b[0m\n",
            "\u001b[1;30m2024-05-14 12:17:30 | [DEBUG   ] Too small inlier ratio (22.86%). Skipping image pair DSC_6467.JPG-DSC_6473.JPG\u001b[0m\n",
            "\u001b[1;30m2024-05-14 12:17:30 | [DEBUG   ] [Timer] | [MatcherBase match] Total execution=0.027\u001b[0m\n",
            "\u001b[1;30m2024-05-14 12:17:30 | [DEBUG   ] Matching image pair: DSC_6467.JPG - DSC_6474.JPG\u001b[0m\n",
            "\u001b[1;30m2024-05-14 12:17:30 | [DEBUG   ] Tile selection was NONE. Matching full images...\u001b[0m\n",
            "\u001b[1;30m2024-05-14 12:17:30 | [DEBUG   ] [Timer] | [MatcherBase match] load h5 features=0.005, match full images=0.019, save to h5=0.001, Total execution=0.025\u001b[0m\n",
            "\u001b[1;30m2024-05-14 12:17:30 | [DEBUG   ] PYDEGENSAC found 143 inliers (44.83%)\u001b[0m\n",
            "\u001b[1;30m2024-05-14 12:17:30 | [DEBUG   ] Estiamted Fundamental matrix: \n",
            "[[-1.20686125e-07  5.62434377e-07  1.49839282e-05]\n",
            " [ 1.56737659e-06  4.57265606e-07 -4.36534149e-03]\n",
            " [-7.29322956e-04  2.43813103e-03  6.06800022e-01]]\u001b[0m\n",
            "\u001b[1;30m2024-05-14 12:17:30 | [DEBUG   ] [Timer] | [MatcherBase match] Geom. verification=0.087, save to h5=0.001, Total execution=0.088\u001b[0m\n",
            "\u001b[1;30m2024-05-14 12:17:30 | [DEBUG   ] Matching DSC_6467.JPG-DSC_6474.JPG done!\u001b[0m\n"
          ]
        },
        {
          "name": "stderr",
          "output_type": "stream",
          "text": [
            " 36%|███▌      | 16/45 [00:02<00:04,  6.19it/s]"
          ]
        },
        {
          "name": "stdout",
          "output_type": "stream",
          "text": [
            "\u001b[1;30m2024-05-14 12:17:31 | [DEBUG   ] Matching image pair: DSC_6467.JPG - DSC_6475.JPG\u001b[0m\n",
            "\u001b[1;30m2024-05-14 12:17:31 | [DEBUG   ] Tile selection was NONE. Matching full images...\u001b[0m\n",
            "\u001b[1;30m2024-05-14 12:17:31 | [DEBUG   ] [Timer] | [MatcherBase match] load h5 features=0.005, match full images=0.016, save to h5=0.001, Total execution=0.023\u001b[0m\n",
            "\u001b[1;30m2024-05-14 12:17:31 | [DEBUG   ] PYDEGENSAC found 42 inliers (23.46%)\u001b[0m\n",
            "\u001b[1;30m2024-05-14 12:17:31 | [DEBUG   ] Estiamted Fundamental matrix: \n",
            "[[-7.19972435e-07  3.61697925e-04 -1.45159016e-01]\n",
            " [ 9.36013636e-04 -7.78210321e-05 -1.88399359e+00]\n",
            " [-3.85187511e-01  1.00000000e+00  3.82882012e+02]]\u001b[0m\n",
            "\u001b[1;30m2024-05-14 12:17:31 | [DEBUG   ] Too small inlier ratio (23.46%). Skipping image pair DSC_6467.JPG-DSC_6475.JPG\u001b[0m\n",
            "\u001b[1;30m2024-05-14 12:17:31 | [DEBUG   ] [Timer] | [MatcherBase match] Total execution=0.037\u001b[0m\n",
            "\u001b[1;30m2024-05-14 12:17:31 | [DEBUG   ] Matching image pair: DSC_6468.JPG - DSC_6469.JPG\u001b[0m\n",
            "\u001b[1;30m2024-05-14 12:17:31 | [DEBUG   ] Tile selection was NONE. Matching full images...\u001b[0m\n",
            "\u001b[1;30m2024-05-14 12:17:31 | [DEBUG   ] [Timer] | [MatcherBase match] load h5 features=0.005, match full images=0.014, save to h5=0.001, Total execution=0.019\u001b[0m\n",
            "\u001b[1;30m2024-05-14 12:17:31 | [DEBUG   ] PYDEGENSAC found 40 inliers (28.57%)\u001b[0m\n",
            "\u001b[1;30m2024-05-14 12:17:31 | [DEBUG   ] Estiamted Fundamental matrix: \n",
            "[[ 1.13702968e-06  4.02293845e-06 -4.21632709e-03]\n",
            " [-5.40781751e-06 -4.89611098e-07  7.12177317e-03]\n",
            " [ 2.66789274e-03 -4.79615135e-03 -1.92856398e-02]]\u001b[0m\n",
            "\u001b[1;30m2024-05-14 12:17:31 | [DEBUG   ] [Timer] | [MatcherBase match] Geom. verification=0.033, save to h5=0.001, Total execution=0.034\u001b[0m\n",
            "\u001b[1;30m2024-05-14 12:17:31 | [DEBUG   ] Matching DSC_6468.JPG-DSC_6469.JPG done!\u001b[0m\n"
          ]
        },
        {
          "name": "stderr",
          "output_type": "stream",
          "text": [
            " 40%|████      | 18/45 [00:02<00:03,  7.20it/s]"
          ]
        },
        {
          "name": "stdout",
          "output_type": "stream",
          "text": [
            "\u001b[1;30m2024-05-14 12:17:31 | [DEBUG   ] Matching image pair: DSC_6468.JPG - DSC_6470.JPG\u001b[0m\n",
            "\u001b[1;30m2024-05-14 12:17:31 | [DEBUG   ] Tile selection was NONE. Matching full images...\u001b[0m\n",
            "\u001b[1;30m2024-05-14 12:17:31 | [DEBUG   ] [Timer] | [MatcherBase match] load h5 features=0.006, match full images=0.015, save to h5=0.001, Total execution=0.022\u001b[0m\n",
            "\u001b[1;30m2024-05-14 12:17:31 | [DEBUG   ] PYDEGENSAC found 27 inliers (22.13%)\u001b[0m\n",
            "\u001b[1;30m2024-05-14 12:17:31 | [DEBUG   ] Estiamted Fundamental matrix: \n",
            "[[-2.56026250e-07 -3.98924013e-07  8.08590157e-05]\n",
            " [ 2.87579578e-06 -1.15233662e-06  1.16911587e-03]\n",
            " [-1.12056352e-03 -6.95263097e-04 -3.35765058e-02]]\u001b[0m\n",
            "\u001b[1;30m2024-05-14 12:17:31 | [DEBUG   ] Too small inlier ratio (22.13%). Skipping image pair DSC_6468.JPG-DSC_6470.JPG\u001b[0m\n",
            "\u001b[1;30m2024-05-14 12:17:31 | [DEBUG   ] [Timer] | [MatcherBase match] Total execution=0.030\u001b[0m\n",
            "\u001b[1;30m2024-05-14 12:17:31 | [DEBUG   ] Matching image pair: DSC_6468.JPG - DSC_6471.JPG\u001b[0m\n",
            "\u001b[1;30m2024-05-14 12:17:31 | [DEBUG   ] Tile selection was NONE. Matching full images...\u001b[0m\n",
            "\u001b[1;30m2024-05-14 12:17:31 | [DEBUG   ] [Timer] | [MatcherBase match] load h5 features=0.005, match full images=0.013, save to h5=0.001, Total execution=0.019\u001b[0m\n",
            "\u001b[1;30m2024-05-14 12:17:31 | [DEBUG   ] PYDEGENSAC found 20 inliers (24.69%)\u001b[0m\n",
            "\u001b[1;30m2024-05-14 12:17:31 | [DEBUG   ] Estiamted Fundamental matrix: \n",
            "[[-6.93608814e-04 -1.45575919e-03  4.53731380e-01]\n",
            " [ 5.39840098e-04  3.24031945e-04 -8.31934264e-01]\n",
            " [ 4.30211364e-01  1.00000000e+00 -2.23981037e+02]]\u001b[0m\n",
            "\u001b[1;30m2024-05-14 12:17:31 | [DEBUG   ] Too small inlier ratio (24.69%). Skipping image pair DSC_6468.JPG-DSC_6471.JPG\u001b[0m\n",
            "\u001b[1;30m2024-05-14 12:17:31 | [DEBUG   ] [Timer] | [MatcherBase match] Total execution=0.032\u001b[0m\n"
          ]
        },
        {
          "name": "stderr",
          "output_type": "stream",
          "text": [
            " 44%|████▍     | 20/45 [00:03<00:02,  9.26it/s]"
          ]
        },
        {
          "name": "stdout",
          "output_type": "stream",
          "text": [
            "\u001b[1;30m2024-05-14 12:17:31 | [DEBUG   ] Matching image pair: DSC_6468.JPG - DSC_6472.JPG\u001b[0m\n",
            "\u001b[1;30m2024-05-14 12:17:31 | [DEBUG   ] Tile selection was NONE. Matching full images...\u001b[0m\n",
            "\u001b[1;30m2024-05-14 12:17:31 | [DEBUG   ] [Timer] | [MatcherBase match] load h5 features=0.005, match full images=0.016, save to h5=0.001, Total execution=0.022\u001b[0m\n",
            "\u001b[1;30m2024-05-14 12:17:31 | [DEBUG   ] PYDEGENSAC found 31 inliers (21.09%)\u001b[0m\n",
            "\u001b[1;30m2024-05-14 12:17:31 | [DEBUG   ] Estiamted Fundamental matrix: \n",
            "[[-6.22934871e-05 -1.17140885e-04  1.57327494e-01]\n",
            " [ 8.70439243e-04 -6.54452053e-04 -9.37891923e-01]\n",
            " [-4.31982632e-01  1.00000000e+00  9.40144005e+01]]\u001b[0m\n",
            "\u001b[1;30m2024-05-14 12:17:31 | [DEBUG   ] Too small inlier ratio (21.09%). Skipping image pair DSC_6468.JPG-DSC_6472.JPG\u001b[0m\n",
            "\u001b[1;30m2024-05-14 12:17:31 | [DEBUG   ] [Timer] | [MatcherBase match] Total execution=0.032\u001b[0m\n",
            "\u001b[1;30m2024-05-14 12:17:31 | [DEBUG   ] Matching image pair: DSC_6468.JPG - DSC_6473.JPG\u001b[0m\n",
            "\u001b[1;30m2024-05-14 12:17:31 | [DEBUG   ] Tile selection was NONE. Matching full images...\u001b[0m\n",
            "\u001b[1;30m2024-05-14 12:17:31 | [DEBUG   ] [Timer] | [MatcherBase match] load h5 features=0.005, match full images=0.015, save to h5=0.001, Total execution=0.021\u001b[0m\n",
            "\u001b[1;30m2024-05-14 12:17:31 | [DEBUG   ] PYDEGENSAC found 29 inliers (23.39%)\u001b[0m\n",
            "\u001b[1;30m2024-05-14 12:17:31 | [DEBUG   ] Estiamted Fundamental matrix: \n",
            "[[ 5.85060161e-06 -9.24676170e-04  8.79352178e-01]\n",
            " [ 5.95529695e-04  1.30481923e-04 -6.63659064e-01]\n",
            " [-6.36179114e-01  1.00000000e+00 -3.81103842e+02]]\u001b[0m\n",
            "\u001b[1;30m2024-05-14 12:17:31 | [DEBUG   ] Too small inlier ratio (23.39%). Skipping image pair DSC_6468.JPG-DSC_6473.JPG\u001b[0m\n",
            "\u001b[1;30m2024-05-14 12:17:31 | [DEBUG   ] [Timer] | [MatcherBase match] Total execution=0.025\u001b[0m\n"
          ]
        },
        {
          "name": "stderr",
          "output_type": "stream",
          "text": [
            " 49%|████▉     | 22/45 [00:03<00:02, 11.26it/s]"
          ]
        },
        {
          "name": "stdout",
          "output_type": "stream",
          "text": [
            "\u001b[1;30m2024-05-14 12:17:31 | [DEBUG   ] Matching image pair: DSC_6468.JPG - DSC_6474.JPG\u001b[0m\n",
            "\u001b[1;30m2024-05-14 12:17:31 | [DEBUG   ] Tile selection was NONE. Matching full images...\u001b[0m\n",
            "\u001b[1;30m2024-05-14 12:17:31 | [DEBUG   ] [Timer] | [MatcherBase match] load h5 features=0.006, match full images=0.018, save to h5=0.001, Total execution=0.025\u001b[0m\n",
            "\u001b[1;30m2024-05-14 12:17:31 | [DEBUG   ] PYDEGENSAC found 32 inliers (23.88%)\u001b[0m\n",
            "\u001b[1;30m2024-05-14 12:17:31 | [DEBUG   ] Estiamted Fundamental matrix: \n",
            "[[-1.47978761e-06 -4.25806421e-06  2.57904291e-03]\n",
            " [ 2.29511620e-06  1.21403512e-06 -3.97549791e-03]\n",
            " [ 1.03335868e-03  4.90972782e-03 -1.80980024e+00]]\u001b[0m\n",
            "\u001b[1;30m2024-05-14 12:17:31 | [DEBUG   ] Too small inlier ratio (23.88%). Skipping image pair DSC_6468.JPG-DSC_6474.JPG\u001b[0m\n",
            "\u001b[1;30m2024-05-14 12:17:31 | [DEBUG   ] [Timer] | [MatcherBase match] Total execution=0.040\u001b[0m\n",
            "\u001b[1;30m2024-05-14 12:17:31 | [DEBUG   ] Matching image pair: DSC_6468.JPG - DSC_6475.JPG\u001b[0m\n",
            "\u001b[1;30m2024-05-14 12:17:31 | [DEBUG   ] Tile selection was NONE. Matching full images...\u001b[0m\n",
            "\u001b[1;30m2024-05-14 12:17:31 | [DEBUG   ] [Timer] | [MatcherBase match] load h5 features=0.006, match full images=0.016, save to h5=0.001, Total execution=0.022\u001b[0m\n",
            "\u001b[1;30m2024-05-14 12:17:31 | [DEBUG   ] PYDEGENSAC found 24 inliers (17.91%)\u001b[0m\n",
            "\u001b[1;30m2024-05-14 12:17:31 | [DEBUG   ] Estiamted Fundamental matrix: \n",
            "[[-5.33447321e-04 -1.18354798e-03  2.22402843e+00]\n",
            " [ 2.90962468e-04 -3.88225062e-05 -1.57613292e-01]\n",
            " [-9.13830925e-01  1.00000000e+00 -8.59157768e+02]]\u001b[0m\n",
            "\u001b[1;30m2024-05-14 12:17:31 | [DEBUG   ] Too small inlier ratio (17.91%). Skipping image pair DSC_6468.JPG-DSC_6475.JPG\u001b[0m\n",
            "\u001b[1;30m2024-05-14 12:17:31 | [DEBUG   ] [Timer] | [MatcherBase match] Total execution=0.026\u001b[0m\n"
          ]
        },
        {
          "name": "stderr",
          "output_type": "stream",
          "text": [
            " 53%|█████▎    | 24/45 [00:03<00:01, 12.72it/s]"
          ]
        },
        {
          "name": "stdout",
          "output_type": "stream",
          "text": [
            "\u001b[1;30m2024-05-14 12:17:31 | [DEBUG   ] Matching image pair: DSC_6469.JPG - DSC_6470.JPG\u001b[0m\n",
            "\u001b[1;30m2024-05-14 12:17:31 | [DEBUG   ] Tile selection was NONE. Matching full images...\u001b[0m\n",
            "\u001b[1;30m2024-05-14 12:17:31 | [DEBUG   ] [Timer] | [MatcherBase match] load h5 features=0.005, match full images=0.020, save to h5=0.001, Total execution=0.026\u001b[0m\n",
            "\u001b[1;30m2024-05-14 12:17:31 | [DEBUG   ] PYDEGENSAC found 405 inliers (77.00%)\u001b[0m\n",
            "\u001b[1;30m2024-05-14 12:17:31 | [DEBUG   ] Estiamted Fundamental matrix: \n",
            "[[ 2.85863756e-08 -7.35288587e-07  2.16793746e-03]\n",
            " [ 9.06414515e-07  2.49435215e-07  2.11907263e-03]\n",
            " [-2.20569270e-03 -2.65905813e-03  6.45182636e-01]]\u001b[0m\n",
            "\u001b[1;30m2024-05-14 12:17:31 | [DEBUG   ] [Timer] | [MatcherBase match] Geom. verification=0.140, save to h5=0.001, Total execution=0.141\u001b[0m\n",
            "\u001b[1;30m2024-05-14 12:17:31 | [DEBUG   ] Matching DSC_6469.JPG-DSC_6470.JPG done!\u001b[0m\n",
            "\u001b[1;30m2024-05-14 12:17:31 | [DEBUG   ] Matching image pair: DSC_6469.JPG - DSC_6471.JPG\u001b[0m\n",
            "\u001b[1;30m2024-05-14 12:17:31 | [DEBUG   ] Tile selection was NONE. Matching full images...\u001b[0m\n",
            "\u001b[1;30m2024-05-14 12:17:31 | [DEBUG   ] [Timer] | [MatcherBase match] load h5 features=0.005, match full images=0.013, save to h5=0.001, Total execution=0.019\u001b[0m\n",
            "\u001b[1;30m2024-05-14 12:17:31 | [DEBUG   ] PYDEGENSAC found 30 inliers (25.00%)\u001b[0m\n",
            "\u001b[1;30m2024-05-14 12:17:31 | [DEBUG   ] Estiamted Fundamental matrix: \n",
            "[[ 2.71284648e-06  6.28293145e-06 -3.16701224e-03]\n",
            " [-1.64635695e-06  6.39928863e-07  3.37190324e-04]\n",
            " [-1.56771999e-03 -1.47695662e-03  1.06360993e+00]]\u001b[0m\n",
            "\u001b[1;30m2024-05-14 12:17:31 | [DEBUG   ] [Timer] | [MatcherBase match] Geom. verification=0.032, save to h5=0.001, Total execution=0.033\u001b[0m\n",
            "\u001b[1;30m2024-05-14 12:17:31 | [DEBUG   ] Matching DSC_6469.JPG-DSC_6471.JPG done!\u001b[0m\n"
          ]
        },
        {
          "name": "stderr",
          "output_type": "stream",
          "text": [
            " 58%|█████▊    | 26/45 [00:03<00:02,  8.41it/s]"
          ]
        },
        {
          "name": "stdout",
          "output_type": "stream",
          "text": [
            "\u001b[1;30m2024-05-14 12:17:31 | [DEBUG   ] Matching image pair: DSC_6469.JPG - DSC_6472.JPG\u001b[0m\n",
            "\u001b[1;30m2024-05-14 12:17:31 | [DEBUG   ] Tile selection was NONE. Matching full images...\u001b[0m\n",
            "\u001b[1;30m2024-05-14 12:17:32 | [DEBUG   ] [Timer] | [MatcherBase match] load h5 features=0.005, match full images=0.017, save to h5=0.001, Total execution=0.023\u001b[0m\n",
            "\u001b[1;30m2024-05-14 12:17:32 | [DEBUG   ] PYDEGENSAC found 226 inliers (61.41%)\u001b[0m\n",
            "\u001b[1;30m2024-05-14 12:17:32 | [DEBUG   ] Estiamted Fundamental matrix: \n",
            "[[-1.50501396e-08 -1.91083715e-08  9.06523257e-04]\n",
            " [ 5.91998407e-08  2.32098184e-07  2.15096716e-03]\n",
            " [-8.49618366e-04 -2.47122354e-03  4.49734107e-01]]\u001b[0m\n",
            "\u001b[1;30m2024-05-14 12:17:32 | [DEBUG   ] [Timer] | [MatcherBase match] Geom. verification=0.109, save to h5=0.001, Total execution=0.110\u001b[0m\n",
            "\u001b[1;30m2024-05-14 12:17:32 | [DEBUG   ] Matching DSC_6469.JPG-DSC_6472.JPG done!\u001b[0m\n",
            "\u001b[1;30m2024-05-14 12:17:32 | [DEBUG   ] Matching image pair: DSC_6469.JPG - DSC_6473.JPG\u001b[0m\n",
            "\u001b[1;30m2024-05-14 12:17:32 | [DEBUG   ] Tile selection was NONE. Matching full images...\u001b[0m\n",
            "\u001b[1;30m2024-05-14 12:17:32 | [DEBUG   ] [Timer] | [MatcherBase match] load h5 features=0.005, match full images=0.015, save to h5=0.001, Total execution=0.021\u001b[0m\n",
            "\u001b[1;30m2024-05-14 12:17:32 | [DEBUG   ] PYDEGENSAC found 232 inliers (67.44%)\u001b[0m\n",
            "\u001b[1;30m2024-05-14 12:17:32 | [DEBUG   ] Estiamted Fundamental matrix: \n",
            "[[-3.30912303e-07 -8.01225618e-07  1.36424136e-03]\n",
            " [-1.51853347e-07  1.77344005e-07  2.60342959e-03]\n",
            " [-4.25090724e-04 -1.75100986e-03 -8.66084500e-01]]\u001b[0m\n",
            "\u001b[1;30m2024-05-14 12:17:32 | [DEBUG   ] [Timer] | [MatcherBase match] Geom. verification=0.105, save to h5=0.001, Total execution=0.106\u001b[0m\n",
            "\u001b[1;30m2024-05-14 12:17:32 | [DEBUG   ] Matching DSC_6469.JPG-DSC_6473.JPG done!\u001b[0m\n"
          ]
        },
        {
          "name": "stderr",
          "output_type": "stream",
          "text": [
            " 62%|██████▏   | 28/45 [00:04<00:02,  6.54it/s]"
          ]
        },
        {
          "name": "stdout",
          "output_type": "stream",
          "text": [
            "\u001b[1;30m2024-05-14 12:17:32 | [DEBUG   ] Matching image pair: DSC_6469.JPG - DSC_6474.JPG\u001b[0m\n",
            "\u001b[1;30m2024-05-14 12:17:32 | [DEBUG   ] Tile selection was NONE. Matching full images...\u001b[0m\n",
            "\u001b[1;30m2024-05-14 12:17:32 | [DEBUG   ] [Timer] | [MatcherBase match] load h5 features=0.005, match full images=0.016, save to h5=0.001, Total execution=0.022\u001b[0m\n",
            "\u001b[1;30m2024-05-14 12:17:32 | [DEBUG   ] PYDEGENSAC found 69 inliers (31.36%)\u001b[0m\n",
            "\u001b[1;30m2024-05-14 12:17:32 | [DEBUG   ] Estiamted Fundamental matrix: \n",
            "[[-1.84963047e-07  2.57932342e-06 -1.71680660e-03]\n",
            " [-3.25300843e-06  5.68282734e-07  4.54639212e-03]\n",
            " [ 2.20211261e-03 -4.86885425e-03  3.99980988e-01]]\u001b[0m\n",
            "\u001b[1;30m2024-05-14 12:17:32 | [DEBUG   ] [Timer] | [MatcherBase match] Geom. verification=0.045, save to h5=0.001, Total execution=0.046\u001b[0m\n",
            "\u001b[1;30m2024-05-14 12:17:32 | [DEBUG   ] Matching DSC_6469.JPG-DSC_6474.JPG done!\u001b[0m\n"
          ]
        },
        {
          "name": "stderr",
          "output_type": "stream",
          "text": [
            " 64%|██████▍   | 29/45 [00:04<00:02,  6.44it/s]"
          ]
        },
        {
          "name": "stdout",
          "output_type": "stream",
          "text": [
            "\u001b[1;30m2024-05-14 12:17:32 | [DEBUG   ] Matching image pair: DSC_6469.JPG - DSC_6475.JPG\u001b[0m\n",
            "\u001b[1;30m2024-05-14 12:17:32 | [DEBUG   ] Tile selection was NONE. Matching full images...\u001b[0m\n",
            "\u001b[1;30m2024-05-14 12:17:32 | [DEBUG   ] [Timer] | [MatcherBase match] load h5 features=0.005, match full images=0.018, save to h5=0.001, Total execution=0.024\u001b[0m\n",
            "\u001b[1;30m2024-05-14 12:17:32 | [DEBUG   ] PYDEGENSAC found 224 inliers (57.00%)\u001b[0m\n",
            "\u001b[1;30m2024-05-14 12:17:32 | [DEBUG   ] Estiamted Fundamental matrix: \n",
            "[[ 4.06042711e-04  1.84975500e-03 -2.08278396e+00]\n",
            " [-8.62147351e-04 -3.13470317e-04 -1.97391083e+00]\n",
            " [ 8.83455428e-01  1.00000000e+00  8.21380843e+02]]\u001b[0m\n",
            "\u001b[1;30m2024-05-14 12:17:32 | [DEBUG   ] [Timer] | [MatcherBase match] Geom. verification=0.119, save to h5=0.001, Total execution=0.120\u001b[0m\n",
            "\u001b[1;30m2024-05-14 12:17:32 | [DEBUG   ] Matching DSC_6469.JPG-DSC_6475.JPG done!\u001b[0m\n"
          ]
        },
        {
          "name": "stderr",
          "output_type": "stream",
          "text": [
            " 67%|██████▋   | 30/45 [00:04<00:02,  5.75it/s]"
          ]
        },
        {
          "name": "stdout",
          "output_type": "stream",
          "text": [
            "\u001b[1;30m2024-05-14 12:17:32 | [DEBUG   ] Matching image pair: DSC_6470.JPG - DSC_6471.JPG\u001b[0m\n",
            "\u001b[1;30m2024-05-14 12:17:32 | [DEBUG   ] Tile selection was NONE. Matching full images...\u001b[0m\n",
            "\u001b[1;30m2024-05-14 12:17:32 | [DEBUG   ] [Timer] | [MatcherBase match] load h5 features=0.005, match full images=0.013, save to h5=0.001, Total execution=0.019\u001b[0m\n",
            "\u001b[1;30m2024-05-14 12:17:32 | [DEBUG   ] PYDEGENSAC found 31 inliers (26.05%)\u001b[0m\n",
            "\u001b[1;30m2024-05-14 12:17:32 | [DEBUG   ] Estiamted Fundamental matrix: \n",
            "[[-4.30991813e-06 -1.15272544e-06 -3.24483982e-04]\n",
            " [ 5.08093082e-07 -1.73424111e-07  6.95524961e-06]\n",
            " [ 2.72144587e-03 -2.38628002e-04  1.07097248e-01]]\u001b[0m\n",
            "\u001b[1;30m2024-05-14 12:17:32 | [DEBUG   ] [Timer] | [MatcherBase match] Geom. verification=0.037, save to h5=0.001, Total execution=0.038\u001b[0m\n",
            "\u001b[1;30m2024-05-14 12:17:32 | [DEBUG   ] Matching DSC_6470.JPG-DSC_6471.JPG done!\u001b[0m\n"
          ]
        },
        {
          "name": "stderr",
          "output_type": "stream",
          "text": [
            " 69%|██████▉   | 31/45 [00:04<00:02,  5.91it/s]"
          ]
        },
        {
          "name": "stdout",
          "output_type": "stream",
          "text": [
            "\u001b[1;30m2024-05-14 12:17:33 | [DEBUG   ] Matching image pair: DSC_6470.JPG - DSC_6472.JPG\u001b[0m\n",
            "\u001b[1;30m2024-05-14 12:17:33 | [DEBUG   ] Tile selection was NONE. Matching full images...\u001b[0m\n",
            "\u001b[1;30m2024-05-14 12:17:33 | [DEBUG   ] [Timer] | [MatcherBase match] load h5 features=0.005, match full images=0.026, save to h5=0.001, Total execution=0.032\u001b[0m\n",
            "\u001b[1;30m2024-05-14 12:17:33 | [DEBUG   ] PYDEGENSAC found 751 inliers (87.33%)\u001b[0m\n",
            "\u001b[1;30m2024-05-14 12:17:33 | [DEBUG   ] Estiamted Fundamental matrix: \n",
            "[[-2.71370803e-09  3.36683524e-07 -1.32545910e-04]\n",
            " [-3.92469760e-07  1.33488214e-09  2.60622650e-03]\n",
            " [ 1.66301507e-04 -2.61365397e-03  6.42794787e-02]]\u001b[0m\n",
            "\u001b[1;30m2024-05-14 12:17:33 | [DEBUG   ] [Timer] | [MatcherBase match] Geom. verification=0.237, save to h5=0.001, Total execution=0.238\u001b[0m\n",
            "\u001b[1;30m2024-05-14 12:17:33 | [DEBUG   ] Matching DSC_6470.JPG-DSC_6472.JPG done!\u001b[0m\n"
          ]
        },
        {
          "name": "stderr",
          "output_type": "stream",
          "text": [
            " 71%|███████   | 32/45 [00:05<00:02,  4.52it/s]"
          ]
        },
        {
          "name": "stdout",
          "output_type": "stream",
          "text": [
            "\u001b[1;30m2024-05-14 12:17:33 | [DEBUG   ] Matching image pair: DSC_6470.JPG - DSC_6473.JPG\u001b[0m\n",
            "\u001b[1;30m2024-05-14 12:17:33 | [DEBUG   ] Tile selection was NONE. Matching full images...\u001b[0m\n",
            "\u001b[1;30m2024-05-14 12:17:33 | [DEBUG   ] [Timer] | [MatcherBase match] load h5 features=0.005, match full images=0.017, save to h5=0.001, Total execution=0.023\u001b[0m\n",
            "\u001b[1;30m2024-05-14 12:17:33 | [DEBUG   ] PYDEGENSAC found 291 inliers (79.29%)\u001b[0m\n",
            "\u001b[1;30m2024-05-14 12:17:33 | [DEBUG   ] Estiamted Fundamental matrix: \n",
            "[[-1.12137149e-08  1.49469874e-06 -4.21260967e-04]\n",
            " [-2.50348934e-07  1.13790916e-07 -3.02036351e-03]\n",
            " [ 6.03349935e-05  1.49872349e-03  4.34930656e-01]]\u001b[0m\n",
            "\u001b[1;30m2024-05-14 12:17:33 | [DEBUG   ] [Timer] | [MatcherBase match] Geom. verification=0.094, save to h5=0.001, Total execution=0.094\u001b[0m\n",
            "\u001b[1;30m2024-05-14 12:17:33 | [DEBUG   ] Matching DSC_6470.JPG-DSC_6473.JPG done!\u001b[0m\n"
          ]
        },
        {
          "name": "stderr",
          "output_type": "stream",
          "text": [
            " 73%|███████▎  | 33/45 [00:05<00:02,  4.54it/s]"
          ]
        },
        {
          "name": "stdout",
          "output_type": "stream",
          "text": [
            "\u001b[1;30m2024-05-14 12:17:33 | [DEBUG   ] Matching image pair: DSC_6470.JPG - DSC_6474.JPG\u001b[0m\n",
            "\u001b[1;30m2024-05-14 12:17:33 | [DEBUG   ] Tile selection was NONE. Matching full images...\u001b[0m\n",
            "\u001b[1;30m2024-05-14 12:17:33 | [DEBUG   ] [Timer] | [MatcherBase match] load h5 features=0.005, match full images=0.021, save to h5=0.001, Total execution=0.027\u001b[0m\n",
            "\u001b[1;30m2024-05-14 12:17:33 | [DEBUG   ] PYDEGENSAC found 445 inliers (79.89%)\u001b[0m\n",
            "\u001b[1;30m2024-05-14 12:17:33 | [DEBUG   ] Estiamted Fundamental matrix: \n",
            "[[-2.94037631e-08 -4.26597113e-07  6.22727417e-04]\n",
            " [ 2.61974877e-07  7.70227775e-08  2.05302561e-03]\n",
            " [-4.74390005e-04 -2.00298702e-03  8.62825121e-02]]\u001b[0m\n",
            "\u001b[1;30m2024-05-14 12:17:33 | [DEBUG   ] [Timer] | [MatcherBase match] Geom. verification=0.142, save to h5=0.001, Total execution=0.143\u001b[0m\n",
            "\u001b[1;30m2024-05-14 12:17:33 | [DEBUG   ] Matching DSC_6470.JPG-DSC_6474.JPG done!\u001b[0m\n"
          ]
        },
        {
          "name": "stderr",
          "output_type": "stream",
          "text": [
            " 76%|███████▌  | 34/45 [00:05<00:02,  4.27it/s]"
          ]
        },
        {
          "name": "stdout",
          "output_type": "stream",
          "text": [
            "\u001b[1;30m2024-05-14 12:17:33 | [DEBUG   ] Matching image pair: DSC_6470.JPG - DSC_6475.JPG\u001b[0m\n",
            "\u001b[1;30m2024-05-14 12:17:33 | [DEBUG   ] Tile selection was NONE. Matching full images...\u001b[0m\n",
            "\u001b[1;30m2024-05-14 12:17:33 | [DEBUG   ] [Timer] | [MatcherBase match] load h5 features=0.005, match full images=0.022, save to h5=0.001, Total execution=0.028\u001b[0m\n",
            "\u001b[1;30m2024-05-14 12:17:34 | [DEBUG   ] PYDEGENSAC found 312 inliers (74.46%)\u001b[0m\n",
            "\u001b[1;30m2024-05-14 12:17:34 | [DEBUG   ] Estiamted Fundamental matrix: \n",
            "[[ 1.95431984e-07  1.23844122e-06 -1.00334846e-03]\n",
            " [-3.03292563e-07 -7.50448384e-09 -2.32889119e-03]\n",
            " [ 3.79054639e-04  1.13391219e-03  6.28032681e-01]]\u001b[0m\n",
            "\u001b[1;30m2024-05-14 12:17:34 | [DEBUG   ] [Timer] | [MatcherBase match] Geom. verification=0.113, save to h5=0.001, Total execution=0.114\u001b[0m\n",
            "\u001b[1;30m2024-05-14 12:17:34 | [DEBUG   ] Matching DSC_6470.JPG-DSC_6475.JPG done!\u001b[0m\n"
          ]
        },
        {
          "name": "stderr",
          "output_type": "stream",
          "text": [
            " 78%|███████▊  | 35/45 [00:05<00:02,  4.21it/s]"
          ]
        },
        {
          "name": "stdout",
          "output_type": "stream",
          "text": [
            "\u001b[1;30m2024-05-14 12:17:34 | [DEBUG   ] Matching image pair: DSC_6471.JPG - DSC_6472.JPG\u001b[0m\n",
            "\u001b[1;30m2024-05-14 12:17:34 | [DEBUG   ] Tile selection was NONE. Matching full images...\u001b[0m\n",
            "\u001b[1;30m2024-05-14 12:17:34 | [DEBUG   ] [Timer] | [MatcherBase match] load h5 features=0.005, match full images=0.013, save to h5=0.001, Total execution=0.019\u001b[0m\n",
            "\u001b[1;30m2024-05-14 12:17:34 | [DEBUG   ] PYDEGENSAC found 40 inliers (26.85%)\u001b[0m\n",
            "\u001b[1;30m2024-05-14 12:17:34 | [DEBUG   ] Estiamted Fundamental matrix: \n",
            "[[ 2.11223367e-05 -2.27195722e-04  4.35467963e-02]\n",
            " [ 1.22610288e-04 -4.09502211e-04 -4.48384598e-01]\n",
            " [-8.77969304e-02  1.00000000e+00 -2.23909736e+02]]\u001b[0m\n",
            "\u001b[1;30m2024-05-14 12:17:34 | [DEBUG   ] [Timer] | [MatcherBase match] Geom. verification=0.029, save to h5=0.001, Total execution=0.030\u001b[0m\n",
            "\u001b[1;30m2024-05-14 12:17:34 | [DEBUG   ] Matching DSC_6471.JPG-DSC_6472.JPG done!\u001b[0m\n"
          ]
        },
        {
          "name": "stderr",
          "output_type": "stream",
          "text": [
            " 80%|████████  | 36/45 [00:05<00:01,  4.76it/s]"
          ]
        },
        {
          "name": "stdout",
          "output_type": "stream",
          "text": [
            "\u001b[1;30m2024-05-14 12:17:34 | [DEBUG   ] Matching image pair: DSC_6471.JPG - DSC_6473.JPG\u001b[0m\n",
            "\u001b[1;30m2024-05-14 12:17:34 | [DEBUG   ] Tile selection was NONE. Matching full images...\u001b[0m\n",
            "\u001b[1;30m2024-05-14 12:17:34 | [DEBUG   ] [Timer] | [MatcherBase match] load h5 features=0.005, match full images=0.013, save to h5=0.001, Total execution=0.019\u001b[0m\n",
            "\u001b[1;30m2024-05-14 12:17:34 | [DEBUG   ] PYDEGENSAC found 29 inliers (24.58%)\u001b[0m\n",
            "\u001b[1;30m2024-05-14 12:17:34 | [DEBUG   ] Estiamted Fundamental matrix: \n",
            "[[ 2.18162168e-03 -2.24870883e-03 -1.52391736e-01]\n",
            " [ 8.76996166e-03  2.73622504e-03 -5.88430751e+00]\n",
            " [-6.82790400e+00  1.00000000e+00  3.17991858e+03]]\u001b[0m\n",
            "\u001b[1;30m2024-05-14 12:17:34 | [DEBUG   ] Too small inlier ratio (24.58%). Skipping image pair DSC_6471.JPG-DSC_6473.JPG\u001b[0m\n",
            "\u001b[1;30m2024-05-14 12:17:34 | [DEBUG   ] [Timer] | [MatcherBase match] Total execution=0.027\u001b[0m\n",
            "\u001b[1;30m2024-05-14 12:17:34 | [DEBUG   ] Matching image pair: DSC_6471.JPG - DSC_6474.JPG\u001b[0m\n",
            "\u001b[1;30m2024-05-14 12:17:34 | [DEBUG   ] Tile selection was NONE. Matching full images...\u001b[0m\n",
            "\u001b[1;30m2024-05-14 12:17:34 | [DEBUG   ] [Timer] | [MatcherBase match] load h5 features=0.005, match full images=0.014, save to h5=0.001, Total execution=0.020\u001b[0m\n",
            "\u001b[1;30m2024-05-14 12:17:34 | [DEBUG   ] PYDEGENSAC found 38 inliers (30.16%)\u001b[0m\n",
            "\u001b[1;30m2024-05-14 12:17:34 | [DEBUG   ] Estiamted Fundamental matrix: \n",
            "[[ 1.63987194e-06 -3.16999515e-06 -5.82642512e-05]\n",
            " [ 9.97467980e-06 -1.64534701e-07 -3.58477139e-03]\n",
            " [-4.02493616e-03  2.22871741e-03  1.08112755e+00]]\u001b[0m\n",
            "\u001b[1;30m2024-05-14 12:17:34 | [DEBUG   ] [Timer] | [MatcherBase match] Geom. verification=0.035, save to h5=0.001, Total execution=0.036\u001b[0m\n",
            "\u001b[1;30m2024-05-14 12:17:34 | [DEBUG   ] Matching DSC_6471.JPG-DSC_6474.JPG done!\u001b[0m\n"
          ]
        },
        {
          "name": "stderr",
          "output_type": "stream",
          "text": [
            " 84%|████████▍ | 38/45 [00:06<00:01,  6.25it/s]"
          ]
        },
        {
          "name": "stdout",
          "output_type": "stream",
          "text": [
            "\u001b[1;30m2024-05-14 12:17:34 | [DEBUG   ] Matching image pair: DSC_6471.JPG - DSC_6475.JPG\u001b[0m\n",
            "\u001b[1;30m2024-05-14 12:17:34 | [DEBUG   ] Tile selection was NONE. Matching full images...\u001b[0m\n",
            "\u001b[1;30m2024-05-14 12:17:34 | [DEBUG   ] [Timer] | [MatcherBase match] load h5 features=0.005, match full images=0.015, save to h5=0.001, Total execution=0.021\u001b[0m\n",
            "\u001b[1;30m2024-05-14 12:17:34 | [DEBUG   ] PYDEGENSAC found 30 inliers (21.58%)\u001b[0m\n",
            "\u001b[1;30m2024-05-14 12:17:34 | [DEBUG   ] Estiamted Fundamental matrix: \n",
            "[[ 8.61829915e-07 -1.72164765e-04 -2.11247404e-01]\n",
            " [ 4.68502580e-05 -2.91492126e-04 -1.12348772e+00]\n",
            " [ 3.80869524e-02  1.00000000e+00  4.99958586e+02]]\u001b[0m\n",
            "\u001b[1;30m2024-05-14 12:17:34 | [DEBUG   ] Too small inlier ratio (21.58%). Skipping image pair DSC_6471.JPG-DSC_6475.JPG\u001b[0m\n",
            "\u001b[1;30m2024-05-14 12:17:34 | [DEBUG   ] [Timer] | [MatcherBase match] Total execution=0.032\u001b[0m\n",
            "\u001b[1;30m2024-05-14 12:17:34 | [DEBUG   ] Matching image pair: DSC_6472.JPG - DSC_6473.JPG\u001b[0m\n",
            "\u001b[1;30m2024-05-14 12:17:34 | [DEBUG   ] Tile selection was NONE. Matching full images...\u001b[0m\n",
            "\u001b[1;30m2024-05-14 12:17:34 | [DEBUG   ] [Timer] | [MatcherBase match] load h5 features=0.005, match full images=0.018, save to h5=0.001, Total execution=0.024\u001b[0m\n",
            "\u001b[1;30m2024-05-14 12:17:34 | [DEBUG   ] PYDEGENSAC found 328 inliers (87.00%)\u001b[0m\n",
            "\u001b[1;30m2024-05-14 12:17:34 | [DEBUG   ] Estiamted Fundamental matrix: \n",
            "[[ 2.86790073e-08  2.31223476e-07 -1.44009202e-04]\n",
            " [ 1.11433421e-06  6.36594283e-08 -4.13160266e-03]\n",
            " [-2.53897172e-04  3.34991996e-03  3.89247267e-01]]\u001b[0m\n",
            "\u001b[1;30m2024-05-14 12:17:34 | [DEBUG   ] [Timer] | [MatcherBase match] Geom. verification=0.101, save to h5=0.001, Total execution=0.102\u001b[0m\n",
            "\u001b[1;30m2024-05-14 12:17:34 | [DEBUG   ] Matching DSC_6472.JPG-DSC_6473.JPG done!\u001b[0m\n"
          ]
        },
        {
          "name": "stderr",
          "output_type": "stream",
          "text": [
            " 89%|████████▉ | 40/45 [00:06<00:00,  6.55it/s]"
          ]
        },
        {
          "name": "stdout",
          "output_type": "stream",
          "text": [
            "\u001b[1;30m2024-05-14 12:17:34 | [DEBUG   ] Matching image pair: DSC_6472.JPG - DSC_6474.JPG\u001b[0m\n",
            "\u001b[1;30m2024-05-14 12:17:34 | [DEBUG   ] Tile selection was NONE. Matching full images...\u001b[0m\n",
            "\u001b[1;30m2024-05-14 12:17:34 | [DEBUG   ] [Timer] | [MatcherBase match] load h5 features=0.006, match full images=0.026, save to h5=0.001, Total execution=0.033\u001b[0m\n",
            "\u001b[1;30m2024-05-14 12:17:34 | [DEBUG   ] PYDEGENSAC found 624 inliers (84.44%)\u001b[0m\n",
            "\u001b[1;30m2024-05-14 12:17:34 | [DEBUG   ] Estiamted Fundamental matrix: \n",
            "[[-3.73136334e-08 -9.04427855e-07  1.11113957e-03]\n",
            " [ 8.07420062e-07  6.68057516e-08  1.63554522e-03]\n",
            " [-9.70715193e-04 -1.57847113e-03  6.17826566e-03]]\u001b[0m\n",
            "\u001b[1;30m2024-05-14 12:17:34 | [DEBUG   ] [Timer] | [MatcherBase match] Geom. verification=0.197, save to h5=0.001, Total execution=0.198\u001b[0m\n",
            "\u001b[1;30m2024-05-14 12:17:34 | [DEBUG   ] Matching DSC_6472.JPG-DSC_6474.JPG done!\u001b[0m\n"
          ]
        },
        {
          "name": "stderr",
          "output_type": "stream",
          "text": [
            " 91%|█████████ | 41/45 [00:06<00:00,  5.18it/s]"
          ]
        },
        {
          "name": "stdout",
          "output_type": "stream",
          "text": [
            "\u001b[1;30m2024-05-14 12:17:35 | [DEBUG   ] Matching image pair: DSC_6472.JPG - DSC_6475.JPG\u001b[0m\n",
            "\u001b[1;30m2024-05-14 12:17:35 | [DEBUG   ] Tile selection was NONE. Matching full images...\u001b[0m\n",
            "\u001b[1;30m2024-05-14 12:17:35 | [DEBUG   ] [Timer] | [MatcherBase match] load h5 features=0.005, match full images=0.027, save to h5=0.002, Total execution=0.033\u001b[0m\n",
            "\u001b[1;30m2024-05-14 12:17:35 | [DEBUG   ] PYDEGENSAC found 385 inliers (82.80%)\u001b[0m\n",
            "\u001b[1;30m2024-05-14 12:17:35 | [DEBUG   ] Estiamted Fundamental matrix: \n",
            "[[ 3.58981966e-07  1.30405745e-06 -1.66359664e-03]\n",
            " [-4.68353591e-07 -1.59632205e-08 -2.62804138e-03]\n",
            " [ 8.42368334e-04  1.29219775e-03  1.12947017e+00]]\u001b[0m\n",
            "\u001b[1;30m2024-05-14 12:17:35 | [DEBUG   ] [Timer] | [MatcherBase match] Geom. verification=0.134, save to h5=0.001, Total execution=0.135\u001b[0m\n",
            "\u001b[1;30m2024-05-14 12:17:35 | [DEBUG   ] Matching DSC_6472.JPG-DSC_6475.JPG done!\u001b[0m\n"
          ]
        },
        {
          "name": "stderr",
          "output_type": "stream",
          "text": [
            " 93%|█████████▎| 42/45 [00:07<00:00,  4.72it/s]"
          ]
        },
        {
          "name": "stdout",
          "output_type": "stream",
          "text": [
            "\u001b[1;30m2024-05-14 12:17:35 | [DEBUG   ] Matching image pair: DSC_6473.JPG - DSC_6474.JPG\u001b[0m\n",
            "\u001b[1;30m2024-05-14 12:17:35 | [DEBUG   ] Tile selection was NONE. Matching full images...\u001b[0m\n",
            "\u001b[1;30m2024-05-14 12:17:35 | [DEBUG   ] [Timer] | [MatcherBase match] load h5 features=0.005, match full images=0.016, save to h5=0.001, Total execution=0.021\u001b[0m\n",
            "\u001b[1;30m2024-05-14 12:17:35 | [DEBUG   ] PYDEGENSAC found 133 inliers (61.86%)\u001b[0m\n",
            "\u001b[1;30m2024-05-14 12:17:35 | [DEBUG   ] Estiamted Fundamental matrix: \n",
            "[[ 4.79878266e-08  9.62235411e-07 -1.07464285e-04]\n",
            " [ 5.41039301e-07  1.12400920e-06  3.19335434e-03]\n",
            " [-2.19462718e-04 -5.45820988e-03  9.70530902e-01]]\u001b[0m\n",
            "\u001b[1;30m2024-05-14 12:17:35 | [DEBUG   ] [Timer] | [MatcherBase match] Geom. verification=0.007, save to h5=0.001, Total execution=0.008\u001b[0m\n",
            "\u001b[1;30m2024-05-14 12:17:35 | [DEBUG   ] Matching DSC_6473.JPG-DSC_6474.JPG done!\u001b[0m\n"
          ]
        },
        {
          "name": "stderr",
          "output_type": "stream",
          "text": [
            " 96%|█████████▌| 43/45 [00:07<00:00,  5.27it/s]"
          ]
        },
        {
          "name": "stdout",
          "output_type": "stream",
          "text": [
            "\u001b[1;30m2024-05-14 12:17:35 | [DEBUG   ] Matching image pair: DSC_6473.JPG - DSC_6475.JPG\u001b[0m\n",
            "\u001b[1;30m2024-05-14 12:17:35 | [DEBUG   ] Tile selection was NONE. Matching full images...\u001b[0m\n",
            "\u001b[1;30m2024-05-14 12:17:35 | [DEBUG   ] [Timer] | [MatcherBase match] load h5 features=0.005, match full images=0.024, save to h5=0.001, Total execution=0.030\u001b[0m\n",
            "\u001b[1;30m2024-05-14 12:17:35 | [DEBUG   ] PYDEGENSAC found 515 inliers (80.97%)\u001b[0m\n",
            "\u001b[1;30m2024-05-14 12:17:35 | [DEBUG   ] Estiamted Fundamental matrix: \n",
            "[[-1.05027628e-07  3.09240661e-06 -2.48147853e-03]\n",
            " [-3.20019997e-06 -1.84754293e-07 -4.15438066e-04]\n",
            " [ 2.35470075e-03  8.98406926e-04 -3.01603488e-01]]\u001b[0m\n",
            "\u001b[1;30m2024-05-14 12:17:35 | [DEBUG   ] [Timer] | [MatcherBase match] Geom. verification=0.176, save to h5=0.001, Total execution=0.177\u001b[0m\n",
            "\u001b[1;30m2024-05-14 12:17:35 | [DEBUG   ] Matching DSC_6473.JPG-DSC_6475.JPG done!\u001b[0m\n"
          ]
        },
        {
          "name": "stderr",
          "output_type": "stream",
          "text": [
            " 98%|█████████▊| 44/45 [00:07<00:00,  4.53it/s]"
          ]
        },
        {
          "name": "stdout",
          "output_type": "stream",
          "text": [
            "\u001b[1;30m2024-05-14 12:17:35 | [DEBUG   ] Matching image pair: DSC_6474.JPG - DSC_6475.JPG\u001b[0m\n",
            "\u001b[1;30m2024-05-14 12:17:35 | [DEBUG   ] Tile selection was NONE. Matching full images...\u001b[0m\n",
            "\u001b[1;30m2024-05-14 12:17:35 | [DEBUG   ] [Timer] | [MatcherBase match] load h5 features=0.005, match full images=0.023, save to h5=0.001, Total execution=0.029\u001b[0m\n",
            "\u001b[1;30m2024-05-14 12:17:36 | [DEBUG   ] PYDEGENSAC found 456 inliers (89.41%)\u001b[0m\n",
            "\u001b[1;30m2024-05-14 12:17:36 | [DEBUG   ] Estiamted Fundamental matrix: \n",
            "[[-7.72868944e-08 -2.23269672e-06  6.90630327e-04]\n",
            " [ 1.33069881e-06 -1.86011814e-07  2.55854564e-03]\n",
            " [-4.29022984e-04 -7.68922518e-04 -5.14820250e-01]]\u001b[0m\n",
            "\u001b[1;30m2024-05-14 12:17:36 | [DEBUG   ] [Timer] | [MatcherBase match] Geom. verification=0.193, save to h5=0.001, Total execution=0.194\u001b[0m\n",
            "\u001b[1;30m2024-05-14 12:17:36 | [DEBUG   ] Matching DSC_6474.JPG-DSC_6475.JPG done!\u001b[0m\n"
          ]
        },
        {
          "name": "stderr",
          "output_type": "stream",
          "text": [
            "100%|██████████| 45/45 [00:07<00:00,  5.78it/s]"
          ]
        },
        {
          "name": "stdout",
          "output_type": "stream",
          "text": [
            "\u001b[0;37m2024-05-14 12:17:36 | [INFO    ] [Timer] | [matching] generate_pairs=1.149, extract_features=3.079, Match pair=0.261, Total execution=12.025\u001b[0m\n",
            "\u001b[0;37m2024-05-14 12:17:36 | [INFO    ] [Timer] | [Deep Image Matching] Total execution=0.000\u001b[0m\n"
          ]
        },
        {
          "name": "stderr",
          "output_type": "stream",
          "text": [
            "\n"
          ]
        }
      ],
      "source": [
        "matcher = dim.ImageMatcher(config)\n",
        "feature_path, match_path = matcher.run()"
      ]
    },
    {
      "cell_type": "markdown",
      "metadata": {},
      "source": [
        "Export matches to COLMAP format\n"
      ]
    },
    {
      "cell_type": "code",
      "execution_count": 3,
      "metadata": {},
      "outputs": [
        {
          "name": "stdout",
          "output_type": "stream",
          "text": [
            "\u001b[1;33m2024-05-14 12:17:36 | [WARNING ] Was not possible to load the first image to initialize cam0\u001b[0m\n",
            "\u001b[1;33m2024-05-14 12:17:36 | [WARNING ] Was not possible to load the first image to initialize cam1\u001b[0m\n"
          ]
        },
        {
          "name": "stderr",
          "output_type": "stream",
          "text": [
            "  0%|          | 0/10 [00:00<?, ?it/s]"
          ]
        },
        {
          "name": "stderr",
          "output_type": "stream",
          "text": [
            "100%|██████████| 10/10 [00:00<00:00, 1044.89it/s]\n",
            "45it [00:00, 9378.57it/s]             \n",
            " 94%|█████████▍| 34/36 [00:00<00:00, 10535.34it/s]\n"
          ]
        }
      ],
      "source": [
        "dim.io.export_to_colmap(\n",
        "    img_dir=config.general[\"image_dir\"],\n",
        "    feature_path=feature_path,\n",
        "    match_path=match_path,\n",
        "    database_path=config.general[\"output_dir\"] / \"database.db\",\n",
        "    camera_config_path=config.general[\"camera_options\"],\n",
        ")"
      ]
    },
    {
      "cell_type": "markdown",
      "metadata": {},
      "source": [
        "Run reconstruction with pycolmap\n"
      ]
    },
    {
      "cell_type": "code",
      "execution_count": 4,
      "metadata": {},
      "outputs": [
        {
          "name": "stdout",
          "output_type": "stream",
          "text": [
            "\u001b[0;37m2024-05-14 12:17:36 | [INFO    ] Running 3D reconstruction...\u001b[0m\n"
          ]
        },
        {
          "name": "stderr",
          "output_type": "stream",
          "text": [
            "I20240514 12:17:36.189705 518154 misc.cc:198] \n",
            "==============================================================================\n",
            "Loading database\n",
            "==============================================================================\n",
            "I20240514 12:17:36.191936 518154 database_cache.cc:54] Loading cameras...\n",
            "I20240514 12:17:36.192016 518154 database_cache.cc:64]  1 in 0.000s\n",
            "I20240514 12:17:36.192035 518154 database_cache.cc:72] Loading matches...\n",
            "I20240514 12:17:36.192314 518154 database_cache.cc:78]  34 in 0.000s\n",
            "I20240514 12:17:36.192328 518154 database_cache.cc:94] Loading images...\n",
            "I20240514 12:17:36.193208 518154 database_cache.cc:143]  10 in 0.001s (connected 10)\n",
            "I20240514 12:17:36.193228 518154 database_cache.cc:154] Building correspondence graph...\n",
            "I20240514 12:17:36.195083 518154 database_cache.cc:190]  in 0.002s (ignored 0)\n",
            "I20240514 12:17:36.195114 518154 timer.cc:91] Elapsed time: 0.000 [minutes]\n",
            "I20240514 12:17:36.195679 518154 misc.cc:198] \n",
            "==============================================================================\n",
            "Finding good initial image pair\n",
            "==============================================================================\n",
            "I20240514 12:17:36.418116 518154 misc.cc:198] \n",
            "==============================================================================\n",
            "Initializing with image pair #7 and #8\n",
            "==============================================================================\n",
            "I20240514 12:17:36.418833 518154 misc.cc:198] \n",
            "==============================================================================\n",
            "Global bundle adjustment\n",
            "==============================================================================\n",
            "I20240514 12:17:36.436286 518154 misc.cc:205] \n",
            "Bundle adjustment report\n",
            "------------------------\n",
            "I20240514 12:17:36.436322 518154 bundle_adjustment.cc:942] \n",
            "    Residuals : 1312\n",
            "   Parameters : 989\n",
            "   Iterations : 11\n",
            "         Time : 0.00952506 [s]\n",
            " Initial cost : 4.03957 [px]\n",
            "   Final cost : 1.09712 [px]\n",
            "  Termination : Convergence\n",
            "\n",
            "I20240514 12:17:36.436750 518154 incremental_mapper.cc:160] => Filtered observations: 50\n",
            "I20240514 12:17:36.436767 518154 incremental_mapper.cc:167] => Filtered images: 0\n",
            "I20240514 12:17:36.466513 518154 misc.cc:198] \n",
            "==============================================================================\n",
            "Registering image #5 (3)\n",
            "==============================================================================\n",
            "I20240514 12:17:36.466542 518154 incremental_mapper.cc:495] => Image sees 215 / 1159 points\n",
            "I20240514 12:17:36.473404 518154 misc.cc:205] \n",
            "Pose refinement report\n",
            "----------------------\n",
            "I20240514 12:17:36.473434 518154 bundle_adjustment.cc:942] \n",
            "    Residuals : 164\n",
            "   Parameters : 6\n",
            "   Iterations : 27\n",
            "         Time : 0.00222921 [s]\n",
            " Initial cost : 0.969559 [px]\n",
            "   Final cost : 0.958079 [px]\n",
            "  Termination : Convergence\n",
            "\n",
            "I20240514 12:17:36.473501 518154 incremental_mapper.cc:40] => Continued observations: 82\n",
            "I20240514 12:17:36.475132 518154 incremental_mapper.cc:43] => Added observations: 1063\n",
            "I20240514 12:17:36.518795 518154 misc.cc:205] \n",
            "Bundle adjustment report\n",
            "------------------------\n",
            "I20240514 12:17:36.518831 518154 bundle_adjustment.cc:942] \n",
            "    Residuals : 3502\n",
            "   Parameters : 2309\n",
            "   Iterations : 26\n",
            "         Time : 0.042763 [s]\n",
            " Initial cost : 2.44214 [px]\n",
            "   Final cost : 1.6238 [px]\n",
            "  Termination : No convergence\n",
            "\n",
            "I20240514 12:17:36.520166 518154 incremental_mapper.cc:78] => Merged observations: 0\n",
            "I20240514 12:17:36.520176 518154 incremental_mapper.cc:79] => Completed observations: 29\n",
            "I20240514 12:17:36.520181 518154 incremental_mapper.cc:81] => Filtered observations: 1125\n",
            "I20240514 12:17:36.520184 518154 incremental_mapper.cc:90] => Changed observations: 0.659052\n",
            "I20240514 12:17:36.529947 518154 misc.cc:205] \n",
            "Bundle adjustment report\n",
            "------------------------\n",
            "I20240514 12:17:36.529964 518154 bundle_adjustment.cc:942] \n",
            "    Residuals : 1310\n",
            "   Parameters : 968\n",
            "   Iterations : 15\n",
            "         Time : 0.00935602 [s]\n",
            " Initial cost : 0.968925 [px]\n",
            "   Final cost : 0.729196 [px]\n",
            "  Termination : Convergence\n",
            "\n",
            "I20240514 12:17:36.531695 518154 incremental_mapper.cc:78] => Merged observations: 0\n",
            "I20240514 12:17:36.531702 518154 incremental_mapper.cc:79] => Completed observations: 343\n",
            "I20240514 12:17:36.531706 518154 incremental_mapper.cc:81] => Filtered observations: 2\n",
            "I20240514 12:17:36.531709 518154 incremental_mapper.cc:90] => Changed observations: 0.526718\n",
            "I20240514 12:17:36.531760 518154 misc.cc:198] \n",
            "==============================================================================\n",
            "Retriangulation\n",
            "==============================================================================\n",
            "I20240514 12:17:36.531862 518154 incremental_mapper.cc:175] => Completed observations: 0\n",
            "I20240514 12:17:36.531935 518154 incremental_mapper.cc:178] => Merged observations: 0\n",
            "I20240514 12:17:36.531939 518154 incremental_mapper.cc:105] => Retriangulated observations: 0\n",
            "I20240514 12:17:36.531950 518154 misc.cc:198] \n",
            "==============================================================================\n",
            "Global bundle adjustment\n",
            "==============================================================================\n",
            "I20240514 12:17:36.554438 518154 misc.cc:205] \n",
            "Bundle adjustment report\n",
            "------------------------\n",
            "I20240514 12:17:36.554466 518154 bundle_adjustment.cc:942] \n",
            "    Residuals : 1992\n",
            "   Parameters : 1478\n",
            "   Iterations : 28\n",
            "         Time : 0.0220029 [s]\n",
            " Initial cost : 0.968158 [px]\n",
            "   Final cost : 0.909935 [px]\n",
            "  Termination : Convergence\n",
            "\n",
            "I20240514 12:17:36.554780 518154 incremental_mapper.cc:175] => Completed observations: 0\n",
            "I20240514 12:17:36.554860 518154 incremental_mapper.cc:178] => Merged observations: 0\n",
            "I20240514 12:17:36.554960 518154 incremental_mapper.cc:160] => Filtered observations: 13\n",
            "I20240514 12:17:36.554965 518154 incremental_mapper.cc:119] => Changed observations: 0.013052\n",
            "I20240514 12:17:36.554970 518154 misc.cc:198] \n",
            "==============================================================================\n",
            "Global bundle adjustment\n",
            "==============================================================================\n",
            "I20240514 12:17:36.571199 518154 misc.cc:205] \n",
            "Bundle adjustment report\n",
            "------------------------\n",
            "I20240514 12:17:36.571224 518154 bundle_adjustment.cc:942] \n",
            "    Residuals : 1952\n",
            "   Parameters : 1451\n",
            "   Iterations : 20\n",
            "         Time : 0.0157568 [s]\n",
            " Initial cost : 0.901528 [px]\n",
            "   Final cost : 0.897944 [px]\n",
            "  Termination : Convergence\n",
            "\n",
            "I20240514 12:17:36.571529 518154 incremental_mapper.cc:175] => Completed observations: 1\n",
            "I20240514 12:17:36.571609 518154 incremental_mapper.cc:178] => Merged observations: 0\n",
            "I20240514 12:17:36.571696 518154 incremental_mapper.cc:160] => Filtered observations: 2\n",
            "I20240514 12:17:36.571700 518154 incremental_mapper.cc:119] => Changed observations: 0.003074\n",
            "I20240514 12:17:36.571707 518154 misc.cc:198] \n",
            "==============================================================================\n",
            "Global bundle adjustment\n",
            "==============================================================================\n",
            "I20240514 12:17:36.582518 518154 misc.cc:205] \n",
            "Bundle adjustment report\n",
            "------------------------\n",
            "I20240514 12:17:36.582542 518154 bundle_adjustment.cc:942] \n",
            "    Residuals : 1946\n",
            "   Parameters : 1445\n",
            "   Iterations : 13\n",
            "         Time : 0.0103281 [s]\n",
            " Initial cost : 0.899832 [px]\n",
            "   Final cost : 0.899001 [px]\n",
            "  Termination : Convergence\n",
            "\n",
            "I20240514 12:17:36.582847 518154 incremental_mapper.cc:175] => Completed observations: 0\n",
            "I20240514 12:17:36.582926 518154 incremental_mapper.cc:178] => Merged observations: 0\n",
            "I20240514 12:17:36.583010 518154 incremental_mapper.cc:160] => Filtered observations: 0\n",
            "I20240514 12:17:36.583014 518154 incremental_mapper.cc:119] => Changed observations: 0.000000\n",
            "I20240514 12:17:36.583020 518154 incremental_mapper.cc:167] => Filtered images: 0\n",
            "I20240514 12:17:36.606997 518154 misc.cc:198] \n",
            "==============================================================================\n",
            "Registering image #9 (4)\n",
            "==============================================================================\n",
            "I20240514 12:17:36.607028 518154 incremental_mapper.cc:495] => Image sees 280 / 1006 points\n",
            "I20240514 12:17:36.615295 518154 misc.cc:205] \n",
            "Pose refinement report\n",
            "----------------------\n",
            "I20240514 12:17:36.615331 518154 bundle_adjustment.cc:942] \n",
            "    Residuals : 188\n",
            "   Parameters : 6\n",
            "   Iterations : 18\n",
            "         Time : 0.00157285 [s]\n",
            " Initial cost : 0.972624 [px]\n",
            "   Final cost : 0.945018 [px]\n",
            "  Termination : Convergence\n",
            "\n",
            "I20240514 12:17:36.615407 518154 incremental_mapper.cc:40] => Continued observations: 94\n",
            "I20240514 12:17:36.617545 518154 incremental_mapper.cc:43] => Added observations: 1179\n",
            "I20240514 12:17:36.657495 518154 misc.cc:205] \n",
            "Bundle adjustment report\n",
            "------------------------\n",
            "I20240514 12:17:36.657544 518154 bundle_adjustment.cc:942] \n",
            "    Residuals : 4492\n",
            "   Parameters : 2702\n",
            "   Iterations : 16\n",
            "         Time : 0.0387249 [s]\n",
            " Initial cost : 1.69468 [px]\n",
            "   Final cost : 1.44258 [px]\n",
            "  Termination : Convergence\n",
            "\n",
            "I20240514 12:17:36.658996 518154 incremental_mapper.cc:78] => Merged observations: 0\n",
            "I20240514 12:17:36.659009 518154 incremental_mapper.cc:79] => Completed observations: 6\n",
            "I20240514 12:17:36.659013 518154 incremental_mapper.cc:81] => Filtered observations: 1089\n",
            "I20240514 12:17:36.659018 518154 incremental_mapper.cc:90] => Changed observations: 0.487533\n",
            "I20240514 12:17:36.669031 518154 misc.cc:205] \n",
            "Bundle adjustment report\n",
            "------------------------\n",
            "I20240514 12:17:36.669055 518154 bundle_adjustment.cc:942] \n",
            "    Residuals : 2248\n",
            "   Parameters : 1619\n",
            "   Iterations : 8\n",
            "         Time : 0.00932789 [s]\n",
            " Initial cost : 0.887938 [px]\n",
            "   Final cost : 0.768725 [px]\n",
            "  Termination : Convergence\n",
            "\n",
            "I20240514 12:17:36.671023 518154 incremental_mapper.cc:78] => Merged observations: 0\n",
            "I20240514 12:17:36.671031 518154 incremental_mapper.cc:79] => Completed observations: 293\n",
            "I20240514 12:17:36.671036 518154 incremental_mapper.cc:81] => Filtered observations: 2\n",
            "I20240514 12:17:36.671039 518154 incremental_mapper.cc:90] => Changed observations: 0.262456\n",
            "I20240514 12:17:36.671051 518154 misc.cc:198] \n",
            "==============================================================================\n",
            "Retriangulation\n",
            "==============================================================================\n",
            "I20240514 12:17:36.671205 518154 incremental_mapper.cc:175] => Completed observations: 5\n",
            "I20240514 12:17:36.671322 518154 incremental_mapper.cc:178] => Merged observations: 0\n",
            "I20240514 12:17:36.671326 518154 incremental_mapper.cc:105] => Retriangulated observations: 216\n",
            "I20240514 12:17:36.671648 518154 misc.cc:198] \n",
            "==============================================================================\n",
            "Global bundle adjustment\n",
            "==============================================================================\n",
            "I20240514 12:17:36.715480 518154 misc.cc:205] \n",
            "Bundle adjustment report\n",
            "------------------------\n",
            "I20240514 12:17:36.715517 518154 bundle_adjustment.cc:942] \n",
            "    Residuals : 3268\n",
            "   Parameters : 2189\n",
            "   Iterations : 30\n",
            "         Time : 0.043004 [s]\n",
            " Initial cost : 4.31765 [px]\n",
            "   Final cost : 2.09343 [px]\n",
            "  Termination : Convergence\n",
            "\n",
            "I20240514 12:17:36.716069 518154 incremental_mapper.cc:175] => Completed observations: 16\n",
            "I20240514 12:17:36.716217 518154 incremental_mapper.cc:178] => Merged observations: 0\n",
            "I20240514 12:17:36.716523 518154 incremental_mapper.cc:160] => Filtered observations: 534\n",
            "I20240514 12:17:36.716528 518154 incremental_mapper.cc:119] => Changed observations: 0.336597\n",
            "I20240514 12:17:36.716534 518154 misc.cc:198] \n",
            "==============================================================================\n",
            "Global bundle adjustment\n",
            "==============================================================================\n",
            "I20240514 12:17:36.730579 518154 misc.cc:205] \n",
            "Bundle adjustment report\n",
            "------------------------\n",
            "I20240514 12:17:36.730607 518154 bundle_adjustment.cc:942] \n",
            "    Residuals : 2100\n",
            "   Parameters : 1502\n",
            "   Iterations : 14\n",
            "         Time : 0.013494 [s]\n",
            " Initial cost : 0.975249 [px]\n",
            "   Final cost : 0.847465 [px]\n",
            "  Termination : Convergence\n",
            "\n",
            "I20240514 12:17:36.730985 518154 incremental_mapper.cc:175] => Completed observations: 8\n",
            "I20240514 12:17:36.731081 518154 incremental_mapper.cc:178] => Merged observations: 0\n",
            "I20240514 12:17:36.731186 518154 incremental_mapper.cc:160] => Filtered observations: 13\n",
            "I20240514 12:17:36.731189 518154 incremental_mapper.cc:119] => Changed observations: 0.020000\n",
            "I20240514 12:17:36.731196 518154 misc.cc:198] \n",
            "==============================================================================\n",
            "Global bundle adjustment\n",
            "==============================================================================\n",
            "I20240514 12:17:36.744169 518154 misc.cc:205] \n",
            "Bundle adjustment report\n",
            "------------------------\n",
            "I20240514 12:17:36.744222 518154 bundle_adjustment.cc:942] \n",
            "    Residuals : 2086\n",
            "   Parameters : 1487\n",
            "   Iterations : 13\n",
            "         Time : 0.0124359 [s]\n",
            " Initial cost : 0.828312 [px]\n",
            "   Final cost : 0.816669 [px]\n",
            "  Termination : Convergence\n",
            "\n",
            "I20240514 12:17:36.744575 518154 incremental_mapper.cc:175] => Completed observations: 2\n",
            "I20240514 12:17:36.744668 518154 incremental_mapper.cc:178] => Merged observations: 0\n",
            "I20240514 12:17:36.744766 518154 incremental_mapper.cc:160] => Filtered observations: 2\n",
            "I20240514 12:17:36.744771 518154 incremental_mapper.cc:119] => Changed observations: 0.003835\n",
            "I20240514 12:17:36.744776 518154 misc.cc:198] \n",
            "==============================================================================\n",
            "Global bundle adjustment\n",
            "==============================================================================\n",
            "I20240514 12:17:36.756804 518154 misc.cc:205] \n",
            "Bundle adjustment report\n",
            "------------------------\n",
            "I20240514 12:17:36.756825 518154 bundle_adjustment.cc:942] \n",
            "    Residuals : 2086\n",
            "   Parameters : 1484\n",
            "   Iterations : 12\n",
            "         Time : 0.0114889 [s]\n",
            " Initial cost : 0.815008 [px]\n",
            "   Final cost : 0.81326 [px]\n",
            "  Termination : Convergence\n",
            "\n",
            "I20240514 12:17:36.757167 518154 incremental_mapper.cc:175] => Completed observations: 2\n",
            "I20240514 12:17:36.757259 518154 incremental_mapper.cc:178] => Merged observations: 0\n",
            "I20240514 12:17:36.757356 518154 incremental_mapper.cc:160] => Filtered observations: 0\n",
            "I20240514 12:17:36.757359 518154 incremental_mapper.cc:119] => Changed observations: 0.001918\n",
            "I20240514 12:17:36.757366 518154 misc.cc:198] \n",
            "==============================================================================\n",
            "Global bundle adjustment\n",
            "==============================================================================\n",
            "I20240514 12:17:36.768446 518154 misc.cc:205] \n",
            "Bundle adjustment report\n",
            "------------------------\n",
            "I20240514 12:17:36.768466 518154 bundle_adjustment.cc:942] \n",
            "    Residuals : 2090\n",
            "   Parameters : 1484\n",
            "   Iterations : 11\n",
            "         Time : 0.0105548 [s]\n",
            " Initial cost : 0.81669 [px]\n",
            "   Final cost : 0.81458 [px]\n",
            "  Termination : Convergence\n",
            "\n",
            "I20240514 12:17:36.768800 518154 incremental_mapper.cc:175] => Completed observations: 0\n",
            "I20240514 12:17:36.768893 518154 incremental_mapper.cc:178] => Merged observations: 0\n",
            "I20240514 12:17:36.768990 518154 incremental_mapper.cc:160] => Filtered observations: 0\n",
            "I20240514 12:17:36.768993 518154 incremental_mapper.cc:119] => Changed observations: 0.000000\n",
            "I20240514 12:17:36.768999 518154 incremental_mapper.cc:167] => Filtered images: 0\n",
            "I20240514 12:17:36.793284 518154 misc.cc:198] \n",
            "==============================================================================\n",
            "Registering image #10 (5)\n",
            "==============================================================================\n",
            "I20240514 12:17:36.793316 518154 incremental_mapper.cc:495] => Image sees 277 / 1046 points\n",
            "I20240514 12:17:36.798357 518154 misc.cc:205] \n",
            "Pose refinement report\n",
            "----------------------\n",
            "I20240514 12:17:36.798396 518154 bundle_adjustment.cc:942] \n",
            "    Residuals : 344\n",
            "   Parameters : 6\n",
            "   Iterations : 24\n",
            "         Time : 0.00282788 [s]\n",
            " Initial cost : 0.933087 [px]\n",
            "   Final cost : 0.919007 [px]\n",
            "  Termination : Convergence\n",
            "\n",
            "I20240514 12:17:36.798504 518154 incremental_mapper.cc:40] => Continued observations: 171\n",
            "I20240514 12:17:36.801436 518154 incremental_mapper.cc:43] => Added observations: 1238\n",
            "I20240514 12:17:36.867511 518154 misc.cc:205] \n",
            "Bundle adjustment report\n",
            "------------------------\n",
            "I20240514 12:17:36.867555 518154 bundle_adjustment.cc:942] \n",
            "    Residuals : 4908\n",
            "   Parameters : 2714\n",
            "   Iterations : 26\n",
            "         Time : 0.0647609 [s]\n",
            " Initial cost : 1.69735 [px]\n",
            "   Final cost : 1.49809 [px]\n",
            "  Termination : No convergence\n",
            "\n",
            "I20240514 12:17:36.869305 518154 incremental_mapper.cc:78] => Merged observations: 0\n",
            "I20240514 12:17:36.869320 518154 incremental_mapper.cc:79] => Completed observations: 19\n",
            "I20240514 12:17:36.869324 518154 incremental_mapper.cc:81] => Filtered observations: 1319\n",
            "I20240514 12:17:36.869328 518154 incremental_mapper.cc:90] => Changed observations: 0.545232\n",
            "I20240514 12:17:36.878206 518154 misc.cc:205] \n",
            "Bundle adjustment report\n",
            "------------------------\n",
            "I20240514 12:17:36.878235 518154 bundle_adjustment.cc:942] \n",
            "    Residuals : 2040\n",
            "   Parameters : 1406\n",
            "   Iterations : 8\n",
            "         Time : 0.00819588 [s]\n",
            " Initial cost : 0.914759 [px]\n",
            "   Final cost : 0.73653 [px]\n",
            "  Termination : Convergence\n",
            "\n",
            "I20240514 12:17:36.881040 518154 incremental_mapper.cc:78] => Merged observations: 0\n",
            "I20240514 12:17:36.881050 518154 incremental_mapper.cc:79] => Completed observations: 322\n",
            "I20240514 12:17:36.881055 518154 incremental_mapper.cc:81] => Filtered observations: 3\n",
            "I20240514 12:17:36.881058 518154 incremental_mapper.cc:90] => Changed observations: 0.318627\n",
            "I20240514 12:17:36.881070 518154 misc.cc:198] \n",
            "==============================================================================\n",
            "Retriangulation\n",
            "==============================================================================\n",
            "I20240514 12:17:36.881232 518154 incremental_mapper.cc:175] => Completed observations: 7\n",
            "I20240514 12:17:36.881358 518154 incremental_mapper.cc:178] => Merged observations: 0\n",
            "I20240514 12:17:36.881363 518154 incremental_mapper.cc:105] => Retriangulated observations: 1011\n",
            "I20240514 12:17:36.882797 518154 misc.cc:198] \n",
            "==============================================================================\n",
            "Global bundle adjustment\n",
            "==============================================================================\n",
            "I20240514 12:17:36.963161 518154 misc.cc:205] \n",
            "Bundle adjustment report\n",
            "------------------------\n",
            "I20240514 12:17:36.963202 518154 bundle_adjustment.cc:942] \n",
            "    Residuals : 4714\n",
            "   Parameters : 2609\n",
            "   Iterations : 36\n",
            "         Time : 0.079247 [s]\n",
            " Initial cost : 4.62651 [px]\n",
            "   Final cost : 3.06653 [px]\n",
            "  Termination : Convergence\n",
            "\n",
            "I20240514 12:17:36.963922 518154 incremental_mapper.cc:175] => Completed observations: 13\n",
            "I20240514 12:17:36.964128 518154 incremental_mapper.cc:178] => Merged observations: 0\n",
            "I20240514 12:17:36.964643 518154 incremental_mapper.cc:160] => Filtered observations: 1342\n",
            "I20240514 12:17:36.964650 518154 incremental_mapper.cc:119] => Changed observations: 0.574883\n",
            "I20240514 12:17:36.964658 518154 misc.cc:198] \n",
            "==============================================================================\n",
            "Global bundle adjustment\n",
            "==============================================================================\n",
            "I20240514 12:17:36.974795 518154 misc.cc:205] \n",
            "Bundle adjustment report\n",
            "------------------------\n",
            "I20240514 12:17:36.974818 518154 bundle_adjustment.cc:942] \n",
            "    Residuals : 1996\n",
            "   Parameters : 1334\n",
            "   Iterations : 10\n",
            "         Time : 0.00958514 [s]\n",
            " Initial cost : 1.11169 [px]\n",
            "   Final cost : 0.942882 [px]\n",
            "  Termination : Convergence\n",
            "\n",
            "I20240514 12:17:36.975181 518154 incremental_mapper.cc:175] => Completed observations: 8\n",
            "I20240514 12:17:36.975277 518154 incremental_mapper.cc:178] => Merged observations: 0\n",
            "I20240514 12:17:36.975381 518154 incremental_mapper.cc:160] => Filtered observations: 11\n",
            "I20240514 12:17:36.975386 518154 incremental_mapper.cc:119] => Changed observations: 0.019038\n",
            "I20240514 12:17:36.975394 518154 misc.cc:198] \n",
            "==============================================================================\n",
            "Global bundle adjustment\n",
            "==============================================================================\n",
            "I20240514 12:17:36.986326 518154 misc.cc:205] \n",
            "Bundle adjustment report\n",
            "------------------------\n",
            "I20240514 12:17:36.986356 518154 bundle_adjustment.cc:942] \n",
            "    Residuals : 1986\n",
            "   Parameters : 1322\n",
            "   Iterations : 11\n",
            "         Time : 0.0104029 [s]\n",
            " Initial cost : 0.932819 [px]\n",
            "   Final cost : 0.92332 [px]\n",
            "  Termination : Convergence\n",
            "\n",
            "I20240514 12:17:36.986719 518154 incremental_mapper.cc:175] => Completed observations: 3\n",
            "I20240514 12:17:36.986816 518154 incremental_mapper.cc:178] => Merged observations: 0\n",
            "I20240514 12:17:36.986910 518154 incremental_mapper.cc:160] => Filtered observations: 4\n",
            "I20240514 12:17:36.986914 518154 incremental_mapper.cc:119] => Changed observations: 0.007049\n",
            "I20240514 12:17:36.986922 518154 misc.cc:198] \n",
            "==============================================================================\n",
            "Global bundle adjustment\n",
            "==============================================================================\n",
            "I20240514 12:17:36.997040 518154 misc.cc:205] \n",
            "Bundle adjustment report\n",
            "------------------------\n",
            "I20240514 12:17:36.997082 518154 bundle_adjustment.cc:942] \n",
            "    Residuals : 1984\n",
            "   Parameters : 1319\n",
            "   Iterations : 10\n",
            "         Time : 0.00954986 [s]\n",
            " Initial cost : 0.921006 [px]\n",
            "   Final cost : 0.913183 [px]\n",
            "  Termination : Convergence\n",
            "\n",
            "I20240514 12:17:36.997452 518154 incremental_mapper.cc:175] => Completed observations: 1\n",
            "I20240514 12:17:36.997551 518154 incremental_mapper.cc:178] => Merged observations: 0\n",
            "I20240514 12:17:36.997646 518154 incremental_mapper.cc:160] => Filtered observations: 1\n",
            "I20240514 12:17:36.997650 518154 incremental_mapper.cc:119] => Changed observations: 0.002016\n",
            "I20240514 12:17:36.997658 518154 misc.cc:198] \n",
            "==============================================================================\n",
            "Global bundle adjustment\n",
            "==============================================================================\n",
            "I20240514 12:17:37.004011 518154 misc.cc:205] \n",
            "Bundle adjustment report\n",
            "------------------------\n",
            "I20240514 12:17:37.004027 518154 bundle_adjustment.cc:942] \n",
            "    Residuals : 1982\n",
            "   Parameters : 1316\n",
            "   Iterations : 6\n",
            "         Time : 0.00583386 [s]\n",
            " Initial cost : 0.915483 [px]\n",
            "   Final cost : 0.914586 [px]\n",
            "  Termination : Convergence\n",
            "\n",
            "I20240514 12:17:37.004359 518154 incremental_mapper.cc:175] => Completed observations: 1\n",
            "I20240514 12:17:37.004453 518154 incremental_mapper.cc:178] => Merged observations: 0\n",
            "I20240514 12:17:37.004544 518154 incremental_mapper.cc:160] => Filtered observations: 1\n",
            "I20240514 12:17:37.004547 518154 incremental_mapper.cc:119] => Changed observations: 0.002018\n",
            "I20240514 12:17:37.004552 518154 incremental_mapper.cc:167] => Filtered images: 0\n",
            "I20240514 12:17:37.028666 518154 misc.cc:198] \n",
            "==============================================================================\n",
            "Registering image #4 (6)\n",
            "==============================================================================\n",
            "I20240514 12:17:37.028699 518154 incremental_mapper.cc:495] => Image sees 209 / 858 points\n",
            "I20240514 12:17:37.038427 518154 misc.cc:205] \n",
            "Pose refinement report\n",
            "----------------------\n",
            "I20240514 12:17:37.038467 518154 bundle_adjustment.cc:942] \n",
            "    Residuals : 116\n",
            "   Parameters : 6\n",
            "   Iterations : 10\n",
            "         Time : 0.000481129 [s]\n",
            " Initial cost : 0.954515 [px]\n",
            "   Final cost : 0.949673 [px]\n",
            "  Termination : Convergence\n",
            "\n",
            "I20240514 12:17:37.038532 518154 incremental_mapper.cc:40] => Continued observations: 58\n",
            "I20240514 12:17:37.041251 518154 incremental_mapper.cc:43] => Added observations: 1236\n",
            "W20240514 12:17:37.098568 518154 levenberg_marquardt_strategy.cc:115] Linear solver failure. Failed to compute a step: Eigen failure. Unable to perform dense Cholesky factorization.\n",
            "I20240514 12:17:37.098906 518154 misc.cc:205] \n",
            "Bundle adjustment report\n",
            "------------------------\n",
            "I20240514 12:17:37.098924 518154 bundle_adjustment.cc:942] \n",
            "    Residuals : 4570\n",
            "   Parameters : 2600\n",
            "   Iterations : 26\n",
            "         Time : 0.0563059 [s]\n",
            " Initial cost : 1.97206 [px]\n",
            "   Final cost : 1.69251 [px]\n",
            "  Termination : No convergence\n",
            "\n",
            "I20240514 12:17:37.100597 518154 incremental_mapper.cc:78] => Merged observations: 0\n",
            "I20240514 12:17:37.100607 518154 incremental_mapper.cc:79] => Completed observations: 30\n",
            "I20240514 12:17:37.100611 518154 incremental_mapper.cc:81] => Filtered observations: 1427\n",
            "I20240514 12:17:37.100615 518154 incremental_mapper.cc:90] => Changed observations: 0.637637\n",
            "I20240514 12:17:37.106477 518154 misc.cc:205] \n",
            "Bundle adjustment report\n",
            "------------------------\n",
            "I20240514 12:17:37.106494 518154 bundle_adjustment.cc:942] \n",
            "    Residuals : 1396\n",
            "   Parameters : 956\n",
            "   Iterations : 7\n",
            "         Time : 0.005373 [s]\n",
            " Initial cost : 0.968543 [px]\n",
            "   Final cost : 0.81929 [px]\n",
            "  Termination : Convergence\n",
            "\n",
            "I20240514 12:17:37.108888 518154 incremental_mapper.cc:78] => Merged observations: 4\n",
            "I20240514 12:17:37.108896 518154 incremental_mapper.cc:79] => Completed observations: 174\n",
            "I20240514 12:17:37.108901 518154 incremental_mapper.cc:81] => Filtered observations: 2\n",
            "I20240514 12:17:37.108929 518154 incremental_mapper.cc:90] => Changed observations: 0.257880\n",
            "I20240514 12:17:37.108942 518154 misc.cc:198] \n",
            "==============================================================================\n",
            "Retriangulation\n",
            "==============================================================================\n",
            "I20240514 12:17:37.109055 518154 incremental_mapper.cc:175] => Completed observations: 5\n",
            "I20240514 12:17:37.109143 518154 incremental_mapper.cc:178] => Merged observations: 0\n",
            "I20240514 12:17:37.109146 518154 incremental_mapper.cc:105] => Retriangulated observations: 1548\n",
            "I20240514 12:17:37.111641 518154 misc.cc:198] \n",
            "==============================================================================\n",
            "Global bundle adjustment\n",
            "==============================================================================\n",
            "W20240514 12:17:37.162410 518154 levenberg_marquardt_strategy.cc:115] Linear solver failure. Failed to compute a step: Eigen failure. Unable to perform dense Cholesky factorization.\n",
            "W20240514 12:17:37.163244 518154 levenberg_marquardt_strategy.cc:115] Linear solver failure. Failed to compute a step: Eigen failure. Unable to perform dense Cholesky factorization.\n",
            "W20240514 12:17:37.168915 518154 levenberg_marquardt_strategy.cc:115] Linear solver failure. Failed to compute a step: Eigen failure. Unable to perform dense Cholesky factorization.\n",
            "W20240514 12:17:37.169695 518154 levenberg_marquardt_strategy.cc:115] Linear solver failure. Failed to compute a step: Eigen failure. Unable to perform dense Cholesky factorization.\n",
            "W20240514 12:17:37.172978 518154 levenberg_marquardt_strategy.cc:115] Linear solver failure. Failed to compute a step: Eigen failure. Unable to perform dense Cholesky factorization.\n",
            "W20240514 12:17:37.176219 518154 levenberg_marquardt_strategy.cc:115] Linear solver failure. Failed to compute a step: Eigen failure. Unable to perform dense Cholesky factorization.\n",
            "W20240514 12:17:37.179497 518154 levenberg_marquardt_strategy.cc:115] Linear solver failure. Failed to compute a step: Eigen failure. Unable to perform dense Cholesky factorization.\n",
            "W20240514 12:17:37.182780 518154 levenberg_marquardt_strategy.cc:115] Linear solver failure. Failed to compute a step: Eigen failure. Unable to perform dense Cholesky factorization.\n",
            "W20240514 12:17:37.183554 518154 levenberg_marquardt_strategy.cc:115] Linear solver failure. Failed to compute a step: Eigen failure. Unable to perform dense Cholesky factorization.\n",
            "W20240514 12:17:37.189311 518154 levenberg_marquardt_strategy.cc:115] Linear solver failure. Failed to compute a step: Eigen failure. Unable to perform dense Cholesky factorization.\n",
            "W20240514 12:17:37.190074 518154 levenberg_marquardt_strategy.cc:115] Linear solver failure. Failed to compute a step: Eigen failure. Unable to perform dense Cholesky factorization.\n",
            "W20240514 12:17:37.195820 518154 levenberg_marquardt_strategy.cc:115] Linear solver failure. Failed to compute a step: Eigen failure. Unable to perform dense Cholesky factorization.\n",
            "W20240514 12:17:37.199054 518154 levenberg_marquardt_strategy.cc:115] Linear solver failure. Failed to compute a step: Eigen failure. Unable to perform dense Cholesky factorization.\n",
            "W20240514 12:17:37.199833 518154 levenberg_marquardt_strategy.cc:115] Linear solver failure. Failed to compute a step: Eigen failure. Unable to perform dense Cholesky factorization.\n",
            "W20240514 12:17:37.203087 518154 levenberg_marquardt_strategy.cc:115] Linear solver failure. Failed to compute a step: Eigen failure. Unable to perform dense Cholesky factorization.\n",
            "W20240514 12:17:37.206398 518154 levenberg_marquardt_strategy.cc:115] Linear solver failure. Failed to compute a step: Eigen failure. Unable to perform dense Cholesky factorization.\n",
            "W20240514 12:17:37.207204 518154 levenberg_marquardt_strategy.cc:115] Linear solver failure. Failed to compute a step: Eigen failure. Unable to perform dense Cholesky factorization.\n",
            "W20240514 12:17:37.210472 518154 levenberg_marquardt_strategy.cc:115] Linear solver failure. Failed to compute a step: Eigen failure. Unable to perform dense Cholesky factorization.\n",
            "W20240514 12:17:37.213690 518154 levenberg_marquardt_strategy.cc:115] Linear solver failure. Failed to compute a step: Eigen failure. Unable to perform dense Cholesky factorization.\n",
            "W20240514 12:17:37.216970 518154 levenberg_marquardt_strategy.cc:115] Linear solver failure. Failed to compute a step: Eigen failure. Unable to perform dense Cholesky factorization.\n",
            "W20240514 12:17:37.220218 518154 levenberg_marquardt_strategy.cc:115] Linear solver failure. Failed to compute a step: Eigen failure. Unable to perform dense Cholesky factorization.\n",
            "W20240514 12:17:37.220988 518154 levenberg_marquardt_strategy.cc:115] Linear solver failure. Failed to compute a step: Eigen failure. Unable to perform dense Cholesky factorization.\n",
            "W20240514 12:17:37.226711 518154 levenberg_marquardt_strategy.cc:115] Linear solver failure. Failed to compute a step: Eigen failure. Unable to perform dense Cholesky factorization.\n",
            "W20240514 12:17:37.227492 518154 levenberg_marquardt_strategy.cc:115] Linear solver failure. Failed to compute a step: Eigen failure. Unable to perform dense Cholesky factorization.\n",
            "W20240514 12:17:37.230746 518154 levenberg_marquardt_strategy.cc:115] Linear solver failure. Failed to compute a step: Eigen failure. Unable to perform dense Cholesky factorization.\n",
            "W20240514 12:17:37.234189 518154 levenberg_marquardt_strategy.cc:115] Linear solver failure. Failed to compute a step: Eigen failure. Unable to perform dense Cholesky factorization.\n",
            "W20240514 12:17:37.234977 518154 levenberg_marquardt_strategy.cc:115] Linear solver failure. Failed to compute a step: Eigen failure. Unable to perform dense Cholesky factorization.\n",
            "W20240514 12:17:37.240808 518154 levenberg_marquardt_strategy.cc:115] Linear solver failure. Failed to compute a step: Eigen failure. Unable to perform dense Cholesky factorization.\n",
            "W20240514 12:17:37.241595 518154 levenberg_marquardt_strategy.cc:115] Linear solver failure. Failed to compute a step: Eigen failure. Unable to perform dense Cholesky factorization.\n",
            "W20240514 12:17:37.247298 518154 levenberg_marquardt_strategy.cc:115] Linear solver failure. Failed to compute a step: Eigen failure. Unable to perform dense Cholesky factorization.\n",
            "W20240514 12:17:37.248106 518154 levenberg_marquardt_strategy.cc:115] Linear solver failure. Failed to compute a step: Eigen failure. Unable to perform dense Cholesky factorization.\n",
            "W20240514 12:17:37.251379 518154 levenberg_marquardt_strategy.cc:115] Linear solver failure. Failed to compute a step: Eigen failure. Unable to perform dense Cholesky factorization.\n",
            "W20240514 12:17:37.254709 518154 levenberg_marquardt_strategy.cc:115] Linear solver failure. Failed to compute a step: Eigen failure. Unable to perform dense Cholesky factorization.\n",
            "W20240514 12:17:37.257938 518154 levenberg_marquardt_strategy.cc:115] Linear solver failure. Failed to compute a step: Eigen failure. Unable to perform dense Cholesky factorization.\n",
            "W20240514 12:17:37.258728 518154 levenberg_marquardt_strategy.cc:115] Linear solver failure. Failed to compute a step: Eigen failure. Unable to perform dense Cholesky factorization.\n",
            "W20240514 12:17:37.264355 518154 levenberg_marquardt_strategy.cc:115] Linear solver failure. Failed to compute a step: Eigen failure. Unable to perform dense Cholesky factorization.\n",
            "W20240514 12:17:37.265154 518154 levenberg_marquardt_strategy.cc:115] Linear solver failure. Failed to compute a step: Eigen failure. Unable to perform dense Cholesky factorization.\n",
            "W20240514 12:17:37.268435 518154 levenberg_marquardt_strategy.cc:115] Linear solver failure. Failed to compute a step: Eigen failure. Unable to perform dense Cholesky factorization.\n",
            "W20240514 12:17:37.271798 518154 levenberg_marquardt_strategy.cc:115] Linear solver failure. Failed to compute a step: Eigen failure. Unable to perform dense Cholesky factorization.\n",
            "W20240514 12:17:37.275081 518154 levenberg_marquardt_strategy.cc:115] Linear solver failure. Failed to compute a step: Eigen failure. Unable to perform dense Cholesky factorization.\n",
            "W20240514 12:17:37.278353 518154 levenberg_marquardt_strategy.cc:115] Linear solver failure. Failed to compute a step: Eigen failure. Unable to perform dense Cholesky factorization.\n",
            "W20240514 12:17:37.279150 518154 levenberg_marquardt_strategy.cc:115] Linear solver failure. Failed to compute a step: Eigen failure. Unable to perform dense Cholesky factorization.\n",
            "W20240514 12:17:37.282402 518154 levenberg_marquardt_strategy.cc:115] Linear solver failure. Failed to compute a step: Eigen failure. Unable to perform dense Cholesky factorization.\n",
            "W20240514 12:17:37.285672 518154 levenberg_marquardt_strategy.cc:115] Linear solver failure. Failed to compute a step: Eigen failure. Unable to perform dense Cholesky factorization.\n",
            "I20240514 12:17:37.288329 518154 misc.cc:205] \n",
            "Bundle adjustment report\n",
            "------------------------\n",
            "I20240514 12:17:37.288344 518154 bundle_adjustment.cc:942] \n",
            "    Residuals : 4846\n",
            "   Parameters : 2597\n",
            "   Iterations : 101\n",
            "         Time : 0.175507 [s]\n",
            " Initial cost : 8.5815 [px]\n",
            "   Final cost : 5.66561 [px]\n",
            "  Termination : No convergence\n",
            "\n",
            "I20240514 12:17:37.289068 518154 incremental_mapper.cc:175] => Completed observations: 18\n",
            "I20240514 12:17:37.289304 518154 incremental_mapper.cc:178] => Merged observations: 4\n",
            "I20240514 12:17:37.289853 518154 incremental_mapper.cc:160] => Filtered observations: 1837\n",
            "I20240514 12:17:37.289857 518154 incremental_mapper.cc:119] => Changed observations: 0.767231\n",
            "I20240514 12:17:37.289865 518154 misc.cc:198] \n",
            "==============================================================================\n",
            "Global bundle adjustment\n",
            "==============================================================================\n",
            "I20240514 12:17:37.297433 518154 misc.cc:205] \n",
            "Bundle adjustment report\n",
            "------------------------\n",
            "I20240514 12:17:37.297454 518154 bundle_adjustment.cc:942] \n",
            "    Residuals : 1192\n",
            "   Parameters : 860\n",
            "   Iterations : 12\n",
            "         Time : 0.00719285 [s]\n",
            " Initial cost : 1.08 [px]\n",
            "   Final cost : 0.849402 [px]\n",
            "  Termination : Convergence\n",
            "\n",
            "I20240514 12:17:37.297737 518154 incremental_mapper.cc:175] => Completed observations: 12\n",
            "I20240514 12:17:37.297806 518154 incremental_mapper.cc:178] => Merged observations: 0\n",
            "I20240514 12:17:37.297870 518154 incremental_mapper.cc:160] => Filtered observations: 6\n",
            "I20240514 12:17:37.297875 518154 incremental_mapper.cc:119] => Changed observations: 0.030201\n",
            "I20240514 12:17:37.297881 518154 misc.cc:198] \n",
            "==============================================================================\n",
            "Global bundle adjustment\n",
            "==============================================================================\n",
            "I20240514 12:17:37.304877 518154 misc.cc:205] \n",
            "Bundle adjustment report\n",
            "------------------------\n",
            "I20240514 12:17:37.304894 518154 bundle_adjustment.cc:942] \n",
            "    Residuals : 1200\n",
            "   Parameters : 848\n",
            "   Iterations : 11\n",
            "         Time : 0.00664091 [s]\n",
            " Initial cost : 0.860215 [px]\n",
            "   Final cost : 0.844529 [px]\n",
            "  Termination : Convergence\n",
            "\n",
            "I20240514 12:17:37.305135 518154 incremental_mapper.cc:175] => Completed observations: 2\n",
            "I20240514 12:17:37.305199 518154 incremental_mapper.cc:178] => Merged observations: 0\n",
            "I20240514 12:17:37.305261 518154 incremental_mapper.cc:160] => Filtered observations: 5\n",
            "I20240514 12:17:37.305265 518154 incremental_mapper.cc:119] => Changed observations: 0.011667\n",
            "I20240514 12:17:37.305270 518154 misc.cc:198] \n",
            "==============================================================================\n",
            "Global bundle adjustment\n",
            "==============================================================================\n",
            "I20240514 12:17:37.312737 518154 misc.cc:205] \n",
            "Bundle adjustment report\n",
            "------------------------\n",
            "I20240514 12:17:37.312757 518154 bundle_adjustment.cc:942] \n",
            "    Residuals : 1190\n",
            "   Parameters : 839\n",
            "   Iterations : 12\n",
            "         Time : 0.00711894 [s]\n",
            " Initial cost : 0.840346 [px]\n",
            "   Final cost : 0.834563 [px]\n",
            "  Termination : Convergence\n",
            "\n",
            "I20240514 12:17:37.312987 518154 incremental_mapper.cc:175] => Completed observations: 0\n",
            "I20240514 12:17:37.313052 518154 incremental_mapper.cc:178] => Merged observations: 0\n",
            "I20240514 12:17:37.313109 518154 incremental_mapper.cc:160] => Filtered observations: 0\n",
            "I20240514 12:17:37.313113 518154 incremental_mapper.cc:119] => Changed observations: 0.000000\n",
            "I20240514 12:17:37.313148 518154 incremental_mapper.cc:167] => Filtered images: 0\n",
            "I20240514 12:17:37.336436 518154 misc.cc:198] \n",
            "==============================================================================\n",
            "Registering image #1 (7)\n",
            "==============================================================================\n",
            "I20240514 12:17:37.336479 518154 incremental_mapper.cc:495] => Image sees 95 / 592 points\n",
            "I20240514 12:17:37.342600 518154 misc.cc:205] \n",
            "Pose refinement report\n",
            "----------------------\n",
            "I20240514 12:17:37.342626 518154 bundle_adjustment.cc:942] \n",
            "    Residuals : 62\n",
            "   Parameters : 6\n",
            "   Iterations : 6\n",
            "         Time : 0.000192881 [s]\n",
            " Initial cost : 0.930354 [px]\n",
            "   Final cost : 0.929123 [px]\n",
            "  Termination : Convergence\n",
            "\n",
            "I20240514 12:17:37.342662 518154 incremental_mapper.cc:40] => Continued observations: 30\n",
            "I20240514 12:17:37.344448 518154 incremental_mapper.cc:43] => Added observations: 762\n",
            "I20240514 12:17:37.382448 518154 misc.cc:205] \n",
            "Bundle adjustment report\n",
            "------------------------\n",
            "I20240514 12:17:37.382493 518154 bundle_adjustment.cc:942] \n",
            "    Residuals : 2742\n",
            "   Parameters : 1661\n",
            "   Iterations : 26\n",
            "         Time : 0.037086 [s]\n",
            " Initial cost : 2.01855 [px]\n",
            "   Final cost : 1.73547 [px]\n",
            "  Termination : No convergence\n",
            "\n",
            "I20240514 12:17:37.383570 518154 incremental_mapper.cc:78] => Merged observations: 0\n",
            "I20240514 12:17:37.383580 518154 incremental_mapper.cc:79] => Completed observations: 26\n",
            "I20240514 12:17:37.383584 518154 incremental_mapper.cc:81] => Filtered observations: 681\n",
            "I20240514 12:17:37.383589 518154 incremental_mapper.cc:90] => Changed observations: 0.514556\n",
            "I20240514 12:17:37.387836 518154 misc.cc:205] \n",
            "Bundle adjustment report\n",
            "------------------------\n",
            "I20240514 12:17:37.387848 518154 bundle_adjustment.cc:942] \n",
            "    Residuals : 1432\n",
            "   Parameters : 1001\n",
            "   Iterations : 5\n",
            "         Time : 0.00376701 [s]\n",
            " Initial cost : 0.945602 [px]\n",
            "   Final cost : 0.807984 [px]\n",
            "  Termination : Convergence\n",
            "\n",
            "I20240514 12:17:37.389161 518154 incremental_mapper.cc:78] => Merged observations: 5\n",
            "I20240514 12:17:37.389168 518154 incremental_mapper.cc:79] => Completed observations: 134\n",
            "I20240514 12:17:37.389173 518154 incremental_mapper.cc:81] => Filtered observations: 3\n",
            "I20240514 12:17:37.389176 518154 incremental_mapper.cc:90] => Changed observations: 0.198324\n",
            "I20240514 12:17:37.389186 518154 misc.cc:198] \n",
            "==============================================================================\n",
            "Retriangulation\n",
            "==============================================================================\n",
            "I20240514 12:17:37.389294 518154 incremental_mapper.cc:175] => Completed observations: 4\n",
            "I20240514 12:17:37.389382 518154 incremental_mapper.cc:178] => Merged observations: 0\n",
            "I20240514 12:17:37.389386 518154 incremental_mapper.cc:105] => Retriangulated observations: 1220\n",
            "I20240514 12:17:37.391155 518154 misc.cc:198] \n",
            "==============================================================================\n",
            "Global bundle adjustment\n",
            "==============================================================================\n",
            "I20240514 12:17:37.466578 518154 misc.cc:205] \n",
            "Bundle adjustment report\n",
            "------------------------\n",
            "I20240514 12:17:37.466631 518154 bundle_adjustment.cc:942] \n",
            "    Residuals : 4148\n",
            "   Parameters : 2399\n",
            "   Iterations : 33\n",
            "         Time : 0.0743921 [s]\n",
            " Initial cost : 8.26551 [px]\n",
            "   Final cost : 5.40677 [px]\n",
            "  Termination : Convergence\n",
            "\n",
            "I20240514 12:17:37.467355 518154 incremental_mapper.cc:175] => Completed observations: 44\n",
            "I20240514 12:17:37.467571 518154 incremental_mapper.cc:178] => Merged observations: 4\n",
            "I20240514 12:17:37.468037 518154 incremental_mapper.cc:160] => Filtered observations: 1548\n",
            "I20240514 12:17:37.468043 518154 incremental_mapper.cc:119] => Changed observations: 0.769527\n",
            "I20240514 12:17:37.468051 518154 misc.cc:198] \n",
            "==============================================================================\n",
            "Global bundle adjustment\n",
            "==============================================================================\n",
            "I20240514 12:17:37.484493 518154 misc.cc:205] \n",
            "Bundle adjustment report\n",
            "------------------------\n",
            "I20240514 12:17:37.484530 518154 bundle_adjustment.cc:942] \n",
            "    Residuals : 1090\n",
            "   Parameters : 770\n",
            "   Iterations : 32\n",
            "         Time : 0.016083 [s]\n",
            " Initial cost : 1.12804 [px]\n",
            "   Final cost : 0.928672 [px]\n",
            "  Termination : Convergence\n",
            "\n",
            "I20240514 12:17:37.484869 518154 incremental_mapper.cc:175] => Completed observations: 14\n",
            "I20240514 12:17:37.484936 518154 incremental_mapper.cc:178] => Merged observations: 0\n",
            "I20240514 12:17:37.484999 518154 incremental_mapper.cc:160] => Filtered observations: 9\n",
            "I20240514 12:17:37.485003 518154 incremental_mapper.cc:119] => Changed observations: 0.042202\n",
            "I20240514 12:17:37.485010 518154 misc.cc:198] \n",
            "==============================================================================\n",
            "Global bundle adjustment\n",
            "==============================================================================\n",
            "I20240514 12:17:37.488898 518154 misc.cc:205] \n",
            "Bundle adjustment report\n",
            "------------------------\n",
            "I20240514 12:17:37.488919 518154 bundle_adjustment.cc:942] \n",
            "    Residuals : 1100\n",
            "   Parameters : 761\n",
            "   Iterations : 6\n",
            "         Time : 0.00355411 [s]\n",
            " Initial cost : 0.918974 [px]\n",
            "   Final cost : 0.892829 [px]\n",
            "  Termination : Convergence\n",
            "\n",
            "I20240514 12:17:37.489157 518154 incremental_mapper.cc:175] => Completed observations: 5\n",
            "I20240514 12:17:37.489220 518154 incremental_mapper.cc:178] => Merged observations: 0\n",
            "I20240514 12:17:37.489276 518154 incremental_mapper.cc:160] => Filtered observations: 2\n",
            "I20240514 12:17:37.489280 518154 incremental_mapper.cc:119] => Changed observations: 0.012727\n",
            "I20240514 12:17:37.489286 518154 misc.cc:198] \n",
            "==============================================================================\n",
            "Global bundle adjustment\n",
            "==============================================================================\n",
            "I20240514 12:17:37.497467 518154 misc.cc:205] \n",
            "Bundle adjustment report\n",
            "------------------------\n",
            "I20240514 12:17:37.497489 518154 bundle_adjustment.cc:942] \n",
            "    Residuals : 1106\n",
            "   Parameters : 758\n",
            "   Iterations : 14\n",
            "         Time : 0.00785303 [s]\n",
            " Initial cost : 0.901185 [px]\n",
            "   Final cost : 0.888038 [px]\n",
            "  Termination : Convergence\n",
            "\n",
            "I20240514 12:17:37.497735 518154 incremental_mapper.cc:175] => Completed observations: 2\n",
            "I20240514 12:17:37.497797 518154 incremental_mapper.cc:178] => Merged observations: 0\n",
            "I20240514 12:17:37.497854 518154 incremental_mapper.cc:160] => Filtered observations: 3\n",
            "I20240514 12:17:37.497859 518154 incremental_mapper.cc:119] => Changed observations: 0.009042\n",
            "I20240514 12:17:37.497865 518154 misc.cc:198] \n",
            "==============================================================================\n",
            "Global bundle adjustment\n",
            "==============================================================================\n",
            "I20240514 12:17:37.505957 518154 misc.cc:205] \n",
            "Bundle adjustment report\n",
            "------------------------\n",
            "I20240514 12:17:37.505987 518154 bundle_adjustment.cc:942] \n",
            "    Residuals : 1104\n",
            "   Parameters : 755\n",
            "   Iterations : 13\n",
            "         Time : 0.00775194 [s]\n",
            " Initial cost : 0.883205 [px]\n",
            "   Final cost : 0.875636 [px]\n",
            "  Termination : Convergence\n",
            "\n",
            "I20240514 12:17:37.506227 518154 incremental_mapper.cc:175] => Completed observations: 0\n",
            "I20240514 12:17:37.506289 518154 incremental_mapper.cc:178] => Merged observations: 0\n",
            "I20240514 12:17:37.506342 518154 incremental_mapper.cc:160] => Filtered observations: 0\n",
            "I20240514 12:17:37.506346 518154 incremental_mapper.cc:119] => Changed observations: 0.000000\n",
            "I20240514 12:17:37.506351 518154 incremental_mapper.cc:167] => Filtered images: 0\n",
            "I20240514 12:17:37.530356 518154 misc.cc:198] \n",
            "==============================================================================\n",
            "Registering image #2 (8)\n",
            "==============================================================================\n",
            "I20240514 12:17:37.530390 518154 incremental_mapper.cc:495] => Image sees 59 / 573 points\n",
            "I20240514 12:17:37.532534 518154 misc.cc:205] \n",
            "Pose refinement report\n",
            "----------------------\n",
            "I20240514 12:17:37.532550 518154 bundle_adjustment.cc:942] \n",
            "    Residuals : 62\n",
            "   Parameters : 6\n",
            "   Iterations : 19\n",
            "         Time : 0.000487089 [s]\n",
            " Initial cost : 0.903024 [px]\n",
            "   Final cost : 0.872548 [px]\n",
            "  Termination : Convergence\n",
            "\n",
            "I20240514 12:17:37.532579 518154 incremental_mapper.cc:40] => Continued observations: 31\n",
            "I20240514 12:17:37.534847 518154 incremental_mapper.cc:43] => Added observations: 824\n",
            "I20240514 12:17:37.564484 518154 misc.cc:205] \n",
            "Bundle adjustment report\n",
            "------------------------\n",
            "I20240514 12:17:37.564517 518154 bundle_adjustment.cc:942] \n",
            "    Residuals : 2704\n",
            "   Parameters : 1520\n",
            "   Iterations : 20\n",
            "         Time : 0.028805 [s]\n",
            " Initial cost : 2.45798 [px]\n",
            "   Final cost : 1.99442 [px]\n",
            "  Termination : Convergence\n",
            "\n",
            "I20240514 12:17:37.565670 518154 incremental_mapper.cc:78] => Merged observations: 0\n",
            "I20240514 12:17:37.565680 518154 incremental_mapper.cc:79] => Completed observations: 27\n",
            "I20240514 12:17:37.565683 518154 incremental_mapper.cc:81] => Filtered observations: 833\n",
            "I20240514 12:17:37.565686 518154 incremental_mapper.cc:90] => Changed observations: 0.633751\n",
            "I20240514 12:17:37.567900 518154 misc.cc:205] \n",
            "Bundle adjustment report\n",
            "------------------------\n",
            "I20240514 12:17:37.567910 518154 bundle_adjustment.cc:942] \n",
            "    Residuals : 1098\n",
            "   Parameters : 734\n",
            "   Iterations : 3\n",
            "         Time : 0.00183105 [s]\n",
            " Initial cost : 0.91034 [px]\n",
            "   Final cost : 0.750186 [px]\n",
            "  Termination : Convergence\n",
            "\n",
            "I20240514 12:17:37.569528 518154 incremental_mapper.cc:78] => Merged observations: 5\n",
            "I20240514 12:17:37.569535 518154 incremental_mapper.cc:79] => Completed observations: 152\n",
            "I20240514 12:17:37.569538 518154 incremental_mapper.cc:81] => Filtered observations: 3\n",
            "I20240514 12:17:37.569541 518154 incremental_mapper.cc:90] => Changed observations: 0.288809\n",
            "I20240514 12:17:37.569551 518154 misc.cc:198] \n",
            "==============================================================================\n",
            "Retriangulation\n",
            "==============================================================================\n",
            "I20240514 12:17:37.569658 518154 incremental_mapper.cc:175] => Completed observations: 12\n",
            "I20240514 12:17:37.569731 518154 incremental_mapper.cc:178] => Merged observations: 0\n",
            "I20240514 12:17:37.569734 518154 incremental_mapper.cc:105] => Retriangulated observations: 1199\n",
            "I20240514 12:17:37.571072 518154 misc.cc:198] \n",
            "==============================================================================\n",
            "Global bundle adjustment\n",
            "==============================================================================\n"
          ]
        },
        {
          "name": "stdout",
          "output_type": "stream",
          "text": [
            "\u001b[0;37m2024-05-14 12:17:37 | [INFO    ] Reconstructed 1 model(s).\u001b[0m\n",
            "\u001b[0;37m2024-05-14 12:17:37 | [INFO    ] Largest model is #0 with 8 images.\u001b[0m\n",
            "\u001b[0;37m2024-05-14 12:17:37 | [INFO    ] Exporting model...\u001b[0m\n"
          ]
        },
        {
          "name": "stderr",
          "output_type": "stream",
          "text": [
            "I20240514 12:17:37.766497 518154 misc.cc:205] \n",
            "Bundle adjustment report\n",
            "------------------------\n",
            "I20240514 12:17:37.766537 518154 bundle_adjustment.cc:942] \n",
            "    Residuals : 3908\n",
            "   Parameters : 2231\n",
            "   Iterations : 101\n",
            "         Time : 0.194458 [s]\n",
            " Initial cost : 10.2365 [px]\n",
            "   Final cost : 7.09495 [px]\n",
            "  Termination : No convergence\n",
            "\n",
            "I20240514 12:17:37.767215 518154 incremental_mapper.cc:175] => Completed observations: 28\n",
            "I20240514 12:17:37.767408 518154 incremental_mapper.cc:178] => Merged observations: 0\n",
            "I20240514 12:17:37.767850 518154 incremental_mapper.cc:160] => Filtered observations: 1571\n",
            "I20240514 12:17:37.767855 518154 incremental_mapper.cc:119] => Changed observations: 0.818321\n",
            "I20240514 12:17:37.767863 518154 misc.cc:198] \n",
            "==============================================================================\n",
            "Global bundle adjustment\n",
            "==============================================================================\n",
            "I20240514 12:17:37.778743 518154 misc.cc:205] \n",
            "Bundle adjustment report\n",
            "------------------------\n",
            "I20240514 12:17:37.778765 518154 bundle_adjustment.cc:942] \n",
            "    Residuals : 820\n",
            "   Parameters : 620\n",
            "   Iterations : 24\n",
            "         Time : 0.010591 [s]\n",
            " Initial cost : 1.09181 [px]\n",
            "   Final cost : 0.828095 [px]\n",
            "  Termination : Convergence\n",
            "\n",
            "I20240514 12:17:37.779006 518154 incremental_mapper.cc:175] => Completed observations: 19\n",
            "I20240514 12:17:37.779052 518154 incremental_mapper.cc:178] => Merged observations: 0\n",
            "I20240514 12:17:37.779098 518154 incremental_mapper.cc:160] => Filtered observations: 6\n",
            "I20240514 12:17:37.779103 518154 incremental_mapper.cc:119] => Changed observations: 0.060976\n",
            "I20240514 12:17:37.779109 518154 misc.cc:198] \n",
            "==============================================================================\n",
            "Global bundle adjustment\n",
            "==============================================================================\n",
            "I20240514 12:17:37.787187 518154 misc.cc:205] \n",
            "Bundle adjustment report\n",
            "------------------------\n",
            "I20240514 12:17:37.787240 518154 bundle_adjustment.cc:942] \n",
            "    Residuals : 844\n",
            "   Parameters : 611\n",
            "   Iterations : 17\n",
            "         Time : 0.00781798 [s]\n",
            " Initial cost : 0.829533 [px]\n",
            "   Final cost : 0.788181 [px]\n",
            "  Termination : Convergence\n",
            "\n",
            "I20240514 12:17:37.787446 518154 incremental_mapper.cc:175] => Completed observations: 2\n",
            "I20240514 12:17:37.787490 518154 incremental_mapper.cc:178] => Merged observations: 0\n",
            "I20240514 12:17:37.787531 518154 incremental_mapper.cc:160] => Filtered observations: 0\n",
            "I20240514 12:17:37.787535 518154 incremental_mapper.cc:119] => Changed observations: 0.004739\n",
            "I20240514 12:17:37.787541 518154 misc.cc:198] \n",
            "==============================================================================\n",
            "Global bundle adjustment\n",
            "==============================================================================\n",
            "I20240514 12:17:37.794291 518154 misc.cc:205] \n",
            "Bundle adjustment report\n",
            "------------------------\n",
            "I20240514 12:17:37.794306 518154 bundle_adjustment.cc:942] \n",
            "    Residuals : 848\n",
            "   Parameters : 611\n",
            "   Iterations : 14\n",
            "         Time : 0.0064919 [s]\n",
            " Initial cost : 0.794615 [px]\n",
            "   Final cost : 0.791419 [px]\n",
            "  Termination : Convergence\n",
            "\n",
            "I20240514 12:17:37.794485 518154 incremental_mapper.cc:175] => Completed observations: 0\n",
            "I20240514 12:17:37.794528 518154 incremental_mapper.cc:178] => Merged observations: 0\n",
            "I20240514 12:17:37.794569 518154 incremental_mapper.cc:160] => Filtered observations: 0\n",
            "I20240514 12:17:37.794574 518154 incremental_mapper.cc:119] => Changed observations: 0.000000\n",
            "I20240514 12:17:37.794579 518154 incremental_mapper.cc:167] => Filtered images: 0\n",
            "I20240514 12:17:37.819439 518154 misc.cc:198] \n",
            "==============================================================================\n",
            "Finding good initial image pair\n",
            "==============================================================================\n",
            "I20240514 12:17:37.819490 518154 incremental_mapper.cc:404] => No good initial image pair found.\n",
            "I20240514 12:17:37.819504 518154 timer.cc:91] Elapsed time: 0.027 [minutes]\n"
          ]
        }
      ],
      "source": [
        "model = dim.reconstruction.pycolmap_reconstruction(\n",
        "    database_path=config.general[\"output_dir\"] / \"database.db\",\n",
        "    sfm_dir=config.general[\"output_dir\"],\n",
        "    image_dir=config.general[\"image_dir\"],\n",
        "    refine_intrinsics=False,\n",
        ")"
      ]
    }
  ],
  "metadata": {
    "kernelspec": {
      "display_name": "deep_image_matching",
      "language": "python",
      "name": "python3"
    },
    "language_info": {
      "codemirror_mode": {
        "name": "ipython",
        "version": 3
      },
      "file_extension": ".py",
      "mimetype": "text/x-python",
      "name": "python",
      "nbconvert_exporter": "python",
      "pygments_lexer": "ipython3",
      "version": "3.10.14"
    }
  },
  "nbformat": 4,
  "nbformat_minor": 2
}
