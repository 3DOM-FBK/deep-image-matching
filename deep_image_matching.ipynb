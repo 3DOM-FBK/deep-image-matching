{
 "cells": [
  {
   "cell_type": "code",
   "execution_count": 33,
   "metadata": {},
   "outputs": [],
   "source": [
    "%reload_ext autoreload\n",
    "%autoreload 2\n",
    "\n",
    "from importlib import import_module\n",
    "from pprint import pprint\n",
    "from deep_image_matching import logger, timer\n",
    "from deep_image_matching.config import Config\n",
    "from deep_image_matching.image_matching import ImageMatching\n",
    "from deep_image_matching.io.h5_to_db import export_to_colmap\n"
   ]
  },
  {
   "cell_type": "markdown",
   "metadata": {},
   "source": [
    "Get the list of possible configurations and chose one of them."
   ]
  },
  {
   "cell_type": "code",
   "execution_count": 5,
   "metadata": {},
   "outputs": [
    {
     "data": {
      "text/plain": [
       "['superpoint+lightglue',\n",
       " 'superpoint+lightglue_fast',\n",
       " 'superpoint+superglue',\n",
       " 'disk+lightglue',\n",
       " 'aliked+lightglue',\n",
       " 'orb+kornia_matcher',\n",
       " 'sift+kornia_matcher',\n",
       " 'loftr',\n",
       " 'se2loftr',\n",
       " 'roma',\n",
       " 'keynetaffnethardnet+kornia_matcher',\n",
       " 'dedode']"
      ]
     },
     "execution_count": 5,
     "metadata": {},
     "output_type": "execute_result"
    }
   ],
   "source": [
    "Config.get_config_names()"
   ]
  },
  {
   "cell_type": "markdown",
   "metadata": {},
   "source": [
    "Build a dictionary with the input processing parameters (they are the same as the input parameters for the CLI and GUI) and pass it to the Config class to get the initialize the configuration object.\n",
    "Refer to the README for more information about the parameters."
   ]
  },
  {
   "cell_type": "code",
   "execution_count": 29,
   "metadata": {},
   "outputs": [
    {
     "name": "stdout",
     "output_type": "stream",
     "text": [
      "\u001b[1;33m2024-01-07 16:43:07 | [WARNING ] /home/francesco/casalbagliano/subset_B/results_superpoint+superglue_matching_lowres_quality_high already exists, removing /home/francesco/casalbagliano/subset_B/results_superpoint+superglue_matching_lowres_quality_high\u001b[0m\n"
     ]
    }
   ],
   "source": [
    "cli_params = {\n",
    "    \"dir\": \"/home/francesco/casalbagliano/subset_B\",\n",
    "    \"config\": \"superpoint+superglue\",\n",
    "    \"strategy\": \"matching_lowres\",\n",
    "    \"quality\": \"high\",\n",
    "    \"tiling\": \"preselection\",\n",
    "    \"skip_reconstruction\": True,\n",
    "    \"force\": True,\n",
    "    \"verbose\": True,\n",
    "}\n",
    "cfg = Config(cli_params)"
   ]
  },
  {
   "cell_type": "markdown",
   "metadata": {},
   "source": [
    "Check the configuration object and, if you kow what you are doing, you can modify it for updating the configuration.\n"
   ]
  },
  {
   "cell_type": "code",
   "execution_count": 31,
   "metadata": {},
   "outputs": [
    {
     "name": "stdout",
     "output_type": "stream",
     "text": [
      "Config general:\n",
      "{'geom_verification': <GeometricVerification.PYDEGENSAC: 1>,\n",
      " 'gv_confidence': 0.999999,\n",
      " 'gv_threshold': 2,\n",
      " 'image_dir': PosixPath('/home/francesco/casalbagliano/subset_B/images'),\n",
      " 'matching_strategy': 'matching_lowres',\n",
      " 'output_dir': PosixPath('/home/francesco/casalbagliano/subset_B/results_superpoint+superglue_matching_lowres_quality_high'),\n",
      " 'overlap': None,\n",
      " 'pair_file': PosixPath('/home/francesco/casalbagliano/subset_B/results_superpoint+superglue_matching_lowres_quality_high/pairs.txt'),\n",
      " 'preselection_size_max': 2000,\n",
      " 'quality': <Quality.HIGH: 3>,\n",
      " 'retrieval': None,\n",
      " 'skip_reconstruction': True,\n",
      " 'tile_overlap': 50,\n",
      " 'tile_selection': <TileSelection.PRESELECTION: 3>,\n",
      " 'tile_size': (2400, 2000),\n",
      " 'upright': False,\n",
      " 'verbose': True}\n",
      "Config extractor:\n",
      "{'keypoint_threshold': 0.005, 'max_keypoints': 4096, 'name': 'superpoint'}\n",
      "Config matcher:\n",
      "{'match_threshold': 0.3, 'name': 'superglue'}\n"
     ]
    }
   ],
   "source": [
    "print(\"Config general:\")\n",
    "pprint(cfg.general)\n",
    "print(\"Config extractor:\")\n",
    "pprint(cfg.extractor)\n",
    "print(\"Config matcher:\")\n",
    "pprint(cfg.matcher)"
   ]
  },
  {
   "cell_type": "markdown",
   "metadata": {},
   "source": [
    "For simplicity, save some of the configuration parameters in variables."
   ]
  },
  {
   "cell_type": "code",
   "execution_count": 32,
   "metadata": {},
   "outputs": [],
   "source": [
    "imgs_dir = cfg.general[\"image_dir\"]\n",
    "output_dir = cfg.general[\"output_dir\"]\n",
    "matching_strategy = cfg.general[\"matching_strategy\"]\n",
    "retrieval_option = cfg.general[\"retrieval\"]\n",
    "pair_file = cfg.general[\"pair_file\"]\n",
    "overlap = cfg.general[\"overlap\"]\n",
    "upright = cfg.general[\"upright\"]\n",
    "extractor = cfg.extractor[\"name\"]\n",
    "matcher = cfg.matcher[\"name\"]"
   ]
  },
  {
   "cell_type": "markdown",
   "metadata": {},
   "source": [
    "Initialize the ImageMatching class that will be used for performing the image matching."
   ]
  },
  {
   "cell_type": "code",
   "execution_count": 34,
   "metadata": {},
   "outputs": [
    {
     "name": "stdout",
     "output_type": "stream",
     "text": [
      "\u001b[1;30m2024-01-07 16:45:51 | [DEBUG   ] Matching options: Quality: MEDIUM - Tiling: NONE\u001b[0m\n",
      "\u001b[1;30m2024-01-07 16:45:51 | [DEBUG   ] Saving directory: output\u001b[0m\n",
      "\u001b[1;30m2024-01-07 16:45:51 | [DEBUG   ] Running inference on device cuda\u001b[0m\n",
      "Loaded SuperPoint model\n",
      "\u001b[1;30m2024-01-07 16:45:52 | [DEBUG   ] Matching options: Tiling: NONE\u001b[0m\n",
      "\u001b[1;30m2024-01-07 16:45:52 | [DEBUG   ] Saving directory: output\u001b[0m\n",
      "\u001b[1;30m2024-01-07 16:45:52 | [DEBUG   ] Running inference on device cuda\u001b[0m\n",
      "Loaded SuperGlue model (\"indoor\" weights)\n",
      "\u001b[0;37m2024-01-07 16:45:52 | [INFO    ] Running image matching with the following configuration:\u001b[0m\n",
      "\u001b[0;37m2024-01-07 16:45:52 | [INFO    ]   Image folder: /home/francesco/casalbagliano/subset_B/images\u001b[0m\n",
      "\u001b[0;37m2024-01-07 16:45:52 | [INFO    ]   Output folder: /home/francesco/casalbagliano/subset_B/results_superpoint+superglue_matching_lowres_quality_high\u001b[0m\n",
      "\u001b[0;37m2024-01-07 16:45:52 | [INFO    ]   Number of images: 63\u001b[0m\n",
      "\u001b[0;37m2024-01-07 16:45:52 | [INFO    ]   Matching strategy: matching_lowres\u001b[0m\n",
      "\u001b[0;37m2024-01-07 16:45:52 | [INFO    ]   Image quality: Quality.MEDIUM\u001b[0m\n",
      "\u001b[0;37m2024-01-07 16:45:52 | [INFO    ]   Tile selection: TileSelection.NONE\u001b[0m\n",
      "\u001b[0;37m2024-01-07 16:45:52 | [INFO    ]   Retrieval option: None\u001b[0m\n",
      "\u001b[0;37m2024-01-07 16:45:52 | [INFO    ]   Overlap: None\u001b[0m\n",
      "\u001b[0;37m2024-01-07 16:45:52 | [INFO    ]   Feature extraction method: superpoint\u001b[0m\n",
      "\u001b[0;37m2024-01-07 16:45:52 | [INFO    ]   Matching method: superglue\u001b[0m\n"
     ]
    }
   ],
   "source": [
    "img_matching = ImageMatching(\n",
    "    imgs_dir=imgs_dir,\n",
    "    output_dir=output_dir,\n",
    "    matching_strategy=matching_strategy,\n",
    "    retrieval_option=retrieval_option,\n",
    "    local_features=extractor,\n",
    "    matching_method=matcher,\n",
    "    pair_file=pair_file,\n",
    "    custom_config=cfg.as_dict(),\n",
    "    overlap=overlap,\n",
    ")"
   ]
  },
  {
   "cell_type": "markdown",
   "metadata": {},
   "source": [
    "Generate pairs to be matched"
   ]
  },
  {
   "cell_type": "code",
   "execution_count": 35,
   "metadata": {},
   "outputs": [
    {
     "name": "stdout",
     "output_type": "stream",
     "text": [
      "\u001b[0;37m2024-01-07 16:46:55 | [INFO    ] Low resolution matching, generating pairs ..\u001b[0m\n",
      "\u001b[0;37m2024-01-07 16:46:55 | [INFO    ] Extracting features from downsampled images...\u001b[0m\n"
     ]
    },
    {
     "name": "stderr",
     "output_type": "stream",
     "text": [
      "100%|██████████| 63/63 [00:19<00:00,  3.20it/s]"
     ]
    },
    {
     "name": "stdout",
     "output_type": "stream",
     "text": [
      "\u001b[0;37m2024-01-07 16:47:15 | [INFO    ] Matching downsampled images...\u001b[0m\n"
     ]
    },
    {
     "name": "stderr",
     "output_type": "stream",
     "text": [
      "\n",
      "100%|██████████| 1953/1953 [00:51<00:00, 37.62it/s]"
     ]
    },
    {
     "name": "stdout",
     "output_type": "stream",
     "text": [
      "\u001b[1;30m2024-01-07 16:48:07 | [DEBUG   ] [Timer] | [low-res pair generation] extraction=0.287, geometric verification=0.041, matching=0.002, Total execution=71.624\u001b[0m\n",
      "\u001b[0;37m2024-01-07 16:48:07 | [INFO    ] Found 1396 pairs.\u001b[0m\n"
     ]
    },
    {
     "name": "stderr",
     "output_type": "stream",
     "text": [
      "\n"
     ]
    }
   ],
   "source": [
    "pair_path = img_matching.generate_pairs()\n",
    "timer.update(\"generate_pairs\")"
   ]
  },
  {
   "cell_type": "code",
   "execution_count": 36,
   "metadata": {},
   "outputs": [],
   "source": [
    "# Try to rotate images so they will be all \"upright\", useful for deep-learning approaches that usually are not rotation invariant\n",
    "if upright:\n",
    "    img_matching.rotate_upright_images()\n",
    "    timer.update(\"rotate_upright_images\")"
   ]
  },
  {
   "cell_type": "code",
   "execution_count": null,
   "metadata": {},
   "outputs": [],
   "source": [
    "# Extract features\n",
    "feature_path = img_matching.extract_features()\n",
    "timer.update(\"extract_features\")"
   ]
  },
  {
   "cell_type": "code",
   "execution_count": null,
   "metadata": {},
   "outputs": [],
   "source": [
    "# Matching\n",
    "match_path = img_matching.match_pairs(feature_path)\n",
    "timer.update(\"matching\")"
   ]
  },
  {
   "cell_type": "code",
   "execution_count": null,
   "metadata": {},
   "outputs": [],
   "source": [
    "# Features are extracted on \"upright\" images, this function report back images on their original orientation\n",
    "if upright:\n",
    "    img_matching.rotate_back_features(feature_path)\n",
    "    timer.update(\"rotate_back_features\")"
   ]
  },
  {
   "cell_type": "code",
   "execution_count": null,
   "metadata": {},
   "outputs": [],
   "source": [
    "# Export in colmap format\n",
    "database_path = output_dir / \"database.db\"\n",
    "export_to_colmap(\n",
    "    img_dir=imgs_dir,\n",
    "    feature_path=feature_path,\n",
    "    match_path=match_path,\n",
    "    database_path=database_path,\n",
    "    camera_model=\"simple-radial\",\n",
    "    single_camera=True,\n",
    ")\n",
    "timer.update(\"export_to_colmap\")"
   ]
  },
  {
   "cell_type": "code",
   "execution_count": 37,
   "metadata": {},
   "outputs": [
    {
     "name": "stdout",
     "output_type": "stream",
     "text": [
      "\u001b[0;37m2024-01-07 16:51:09 | [INFO    ] [Timer] | [Timer] generate_pairs=2237.797, Total execution=2419.879\u001b[0m\n"
     ]
    }
   ],
   "source": [
    "timer.print()"
   ]
  }
 ],
 "metadata": {
  "kernelspec": {
   "display_name": "deep_image_matching",
   "language": "python",
   "name": "python3"
  },
  "language_info": {
   "codemirror_mode": {
    "name": "ipython",
    "version": 3
   },
   "file_extension": ".py",
   "mimetype": "text/x-python",
   "name": "python",
   "nbconvert_exporter": "python",
   "pygments_lexer": "ipython3",
   "version": "3.10.12"
  }
 },
 "nbformat": 4,
 "nbformat_minor": 2
}
