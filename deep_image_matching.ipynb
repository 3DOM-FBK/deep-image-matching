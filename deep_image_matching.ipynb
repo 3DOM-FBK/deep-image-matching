{
 "cells": [
  {
   "cell_type": "code",
   "execution_count": 3,
   "metadata": {},
   "outputs": [],
   "source": [
    "%reload_ext autoreload\n",
    "%autoreload 2\n",
    "\n",
    "from importlib import import_module\n",
    "\n",
    "from deep_image_matching import logger, timer\n",
    "from deep_image_matching.config import Config\n",
    "from deep_image_matching.image_matching import ImageMatching\n",
    "from deep_image_matching.io.h5_to_db import export_to_colmap\n",
    "from deep_image_matching.parser import parse_config"
   ]
  },
  {
   "cell_type": "markdown",
   "metadata": {},
   "source": [
    "Get the list of possible configurations"
   ]
  },
  {
   "cell_type": "code",
   "execution_count": 4,
   "metadata": {},
   "outputs": [
    {
     "data": {
      "text/plain": [
       "['superpoint+lightglue',\n",
       " 'superpoint+lightglue_fast',\n",
       " 'superpoint+superglue',\n",
       " 'disk+lightglue',\n",
       " 'aliked+lightglue',\n",
       " 'orb+kornia_matcher',\n",
       " 'sift+kornia_matcher',\n",
       " 'loftr',\n",
       " 'se2loftr',\n",
       " 'roma',\n",
       " 'keynetaffnethardnet+kornia_matcher',\n",
       " 'dedode']"
      ]
     },
     "execution_count": 4,
     "metadata": {},
     "output_type": "execute_result"
    }
   ],
   "source": [
    "Config.get_config_names()"
   ]
  },
  {
   "cell_type": "markdown",
   "metadata": {},
   "source": [
    "build the configuration dictionary"
   ]
  },
  {
   "cell_type": "code",
   "execution_count": 5,
   "metadata": {},
   "outputs": [
    {
     "data": {
      "text/plain": [
       "{'extractor': {'name': 'superpoint',\n",
       "  'keypoint_threshold': 0.001,\n",
       "  'max_keypoints': 2048},\n",
       " 'matcher': {'name': 'lightglue',\n",
       "  'n_layers': 9,\n",
       "  'flash': True,\n",
       "  'depth_confidence': -1,\n",
       "  'width_confidence': -1,\n",
       "  'filter_threshold': 0.5},\n",
       " 'general': {'quality': <Quality.HIGH: 3>,\n",
       "  'tile_selection': <TileSelection.PRESELECTION: 3>,\n",
       "  'tile_size': (2400, 2000),\n",
       "  'tile_overlap': 50,\n",
       "  'geom_verification': <GeometricVerification.PYDEGENSAC: 1>,\n",
       "  'gv_threshold': 4,\n",
       "  'gv_confidence': 0.9999,\n",
       "  'preselection_size_max': 2000}}"
      ]
     },
     "execution_count": 5,
     "metadata": {},
     "output_type": "execute_result"
    }
   ],
   "source": [
    "cfg = Config.from_name(\"superpoint+lightglue\")\n",
    "cfg"
   ]
  },
  {
   "cell_type": "code",
   "execution_count": 6,
   "metadata": {},
   "outputs": [
    {
     "ename": "NameError",
     "evalue": "name 'args' is not defined",
     "output_type": "error",
     "traceback": [
      "\u001b[0;31m---------------------------------------------------------------------------\u001b[0m",
      "\u001b[0;31mNameError\u001b[0m                                 Traceback (most recent call last)",
      "Cell \u001b[0;32mIn[6], line 2\u001b[0m\n\u001b[1;32m      1\u001b[0m cfg_general_user \u001b[38;5;241m=\u001b[39m {\n\u001b[0;32m----> 2\u001b[0m     \u001b[38;5;124m\"\u001b[39m\u001b[38;5;124mimage_dir\u001b[39m\u001b[38;5;124m\"\u001b[39m: \u001b[43margs\u001b[49m\u001b[38;5;241m.\u001b[39mimages,\n\u001b[1;32m      3\u001b[0m     \u001b[38;5;124m\"\u001b[39m\u001b[38;5;124moutput_dir\u001b[39m\u001b[38;5;124m\"\u001b[39m: args\u001b[38;5;241m.\u001b[39mouts,\n\u001b[1;32m      4\u001b[0m     \u001b[38;5;124m\"\u001b[39m\u001b[38;5;124mmatching_strategy\u001b[39m\u001b[38;5;124m\"\u001b[39m: args\u001b[38;5;241m.\u001b[39mstrategy,\n\u001b[1;32m      5\u001b[0m     \u001b[38;5;124m\"\u001b[39m\u001b[38;5;124mretrieval\u001b[39m\u001b[38;5;124m\"\u001b[39m: args\u001b[38;5;241m.\u001b[39mretrieval,\n\u001b[1;32m      6\u001b[0m     \u001b[38;5;124m\"\u001b[39m\u001b[38;5;124mpair_file\u001b[39m\u001b[38;5;124m\"\u001b[39m: args\u001b[38;5;241m.\u001b[39mpairs,\n\u001b[1;32m      7\u001b[0m     \u001b[38;5;124m\"\u001b[39m\u001b[38;5;124moverlap\u001b[39m\u001b[38;5;124m\"\u001b[39m: args\u001b[38;5;241m.\u001b[39moverlap,\n\u001b[1;32m      8\u001b[0m     \u001b[38;5;124m\"\u001b[39m\u001b[38;5;124mupright\u001b[39m\u001b[38;5;124m\"\u001b[39m: args\u001b[38;5;241m.\u001b[39mupright,\n\u001b[1;32m      9\u001b[0m     \u001b[38;5;124m\"\u001b[39m\u001b[38;5;124mverbose\u001b[39m\u001b[38;5;124m\"\u001b[39m: args\u001b[38;5;241m.\u001b[39mverbose,\n\u001b[1;32m     10\u001b[0m     \u001b[38;5;124m\"\u001b[39m\u001b[38;5;124mskip_reconstruction\u001b[39m\u001b[38;5;124m\"\u001b[39m: args\u001b[38;5;241m.\u001b[39mskip_reconstruction,\n\u001b[1;32m     11\u001b[0m }\n\u001b[1;32m     14\u001b[0m imgs_dir \u001b[38;5;241m=\u001b[39m config[\u001b[38;5;124m\"\u001b[39m\u001b[38;5;124mgeneral\u001b[39m\u001b[38;5;124m\"\u001b[39m][\u001b[38;5;124m\"\u001b[39m\u001b[38;5;124mimage_dir\u001b[39m\u001b[38;5;124m\"\u001b[39m]\n\u001b[1;32m     15\u001b[0m output_dir \u001b[38;5;241m=\u001b[39m config[\u001b[38;5;124m\"\u001b[39m\u001b[38;5;124mgeneral\u001b[39m\u001b[38;5;124m\"\u001b[39m][\u001b[38;5;124m\"\u001b[39m\u001b[38;5;124moutput_dir\u001b[39m\u001b[38;5;124m\"\u001b[39m]\n",
      "\u001b[0;31mNameError\u001b[0m: name 'args' is not defined"
     ]
    }
   ],
   "source": [
    "\n",
    "\n",
    "\n",
    "cfg_general_user = {\n",
    "    \"image_dir\": args.images,\n",
    "    \"output_dir\": args.outs,\n",
    "    \"matching_strategy\": args.strategy,\n",
    "    \"retrieval\": args.retrieval,\n",
    "    \"pair_file\": args.pairs,\n",
    "    \"overlap\": args.overlap,\n",
    "    \"upright\": args.upright,\n",
    "    \"verbose\": args.verbose,\n",
    "    \"skip_reconstruction\": args.skip_reconstruction,\n",
    "}\n",
    "\n",
    "\n",
    "imgs_dir = config[\"general\"][\"image_dir\"]\n",
    "output_dir = config[\"general\"][\"output_dir\"]\n",
    "matching_strategy = config[\"general\"][\"matching_strategy\"]\n",
    "retrieval_option = config[\"general\"][\"retrieval\"]\n",
    "pair_file = config[\"general\"][\"pair_file\"]\n",
    "overlap = config[\"general\"][\"overlap\"]\n",
    "upright = config[\"general\"][\"upright\"]\n",
    "extractor = config[\"extractor\"][\"name\"]\n",
    "matcher = config[\"matcher\"][\"name\"]"
   ]
  },
  {
   "cell_type": "code",
   "execution_count": null,
   "metadata": {},
   "outputs": [],
   "source": [
    "# Initialize ImageMatching class\n",
    "img_matching = ImageMatching(\n",
    "    imgs_dir=imgs_dir,\n",
    "    output_dir=output_dir,\n",
    "    matching_strategy=matching_strategy,\n",
    "    retrieval_option=retrieval_option,\n",
    "    local_features=extractor,\n",
    "    matching_method=matcher,\n",
    "    pair_file=pair_file,\n",
    "    custom_config=config,\n",
    "    overlap=overlap,\n",
    ")"
   ]
  }
 ],
 "metadata": {
  "kernelspec": {
   "display_name": "deep_image_matching",
   "language": "python",
   "name": "python3"
  },
  "language_info": {
   "codemirror_mode": {
    "name": "ipython",
    "version": 3
   },
   "file_extension": ".py",
   "mimetype": "text/x-python",
   "name": "python",
   "nbconvert_exporter": "python",
   "pygments_lexer": "ipython3",
   "version": "3.10.12"
  }
 },
 "nbformat": 4,
 "nbformat_minor": 2
}
