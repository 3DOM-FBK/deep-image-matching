{
 "cells": [
  {
   "cell_type": "code",
   "execution_count": 12,
   "metadata": {},
   "outputs": [],
   "source": [
    "%reload_ext autoreload\n",
    "%autoreload 2\n",
    "\n",
    "from pathlib import Path\n",
    "\n",
    "import pycolmap\n",
    "from deep_image_matching.triangulation import (\n",
    "    create_db_from_model,\n",
    "    import_keypoints,\n",
    "    import_matches,\n",
    "    import_verifed_matches,\n",
    ")\n",
    "from deep_image_matching.utils import (\n",
    "    OutputCapture,\n",
    ")"
   ]
  },
  {
   "cell_type": "markdown",
   "metadata": {},
   "source": [
    "## Tringulate points with Pycolmap\n"
   ]
  },
  {
   "cell_type": "code",
   "execution_count": 13,
   "metadata": {},
   "outputs": [],
   "source": [
    "# Define project directory\n",
    "root_path = Path(\"sandbox/dense\")\n",
    "\n",
    "# Path to the images\n",
    "image_dir = root_path / \"images\"\n",
    "\n",
    "# Path to the pre-computed COLMAP reconstuction with the knwon poses\n",
    "sfm_path = root_path / \"sfm\"\n",
    "sfm_db_path = sfm_path / \"database.db\"\n",
    "sfm_rec_path = sfm_path / \"reconstruction\"\n",
    "\n",
    "# Path to the dense matching results to be triangulated\n",
    "dense_path = root_path / \"dense\"\n",
    "features_h5 = dense_path / \"features.h5\"\n",
    "matches_h5 = dense_path / \"matches.h5\"\n",
    "pair_file = dense_path / \"pairs.txt\"\n",
    "\n",
    "# Path to the output for the dense matching\n",
    "dense_db_path = dense_path / \"database.db\"\n",
    "model_path = dense_path / \"model\"\n",
    "model_path.mkdir(exist_ok=True)"
   ]
  },
  {
   "cell_type": "code",
   "execution_count": 14,
   "metadata": {},
   "outputs": [
    {
     "name": "stderr",
     "output_type": "stream",
     "text": [
      "WARNING:dim:The database already exists, deleting it.\n",
      "Importing keypoints: 100%|██████████| 2/2 [00:00<00:00, 118.95it/s]\n",
      "Importing matches: 100%|██████████| 1/1 [00:00<00:00, 359.07it/s]\n",
      "INFO:dim:Performing geometric verification of the matches...\n",
      "Importing verified matches: 100%|██████████| 1/1 [00:00<00:00,  1.22it/s]\n",
      "INFO:dim:mean/med/min/max valid matches 68.09/68.09/68.09/68.09%.\n"
     ]
    }
   ],
   "source": [
    "# Import the sparse reconstruction\n",
    "sfm_rec = pycolmap.Reconstruction(sfm_rec_path)\n",
    "\n",
    "# Create an empty database from the sparse reconstruction\n",
    "image_ids = create_db_from_model(sfm_rec, dense_db_path)\n",
    "\n",
    "# Add keypoints to the database\n",
    "import_keypoints(features_h5, image_ids, dense_db_path)\n",
    "\n",
    "# Add matches to the database, but do not add two-view geometry\n",
    "import_matches(\n",
    "    matches_h5, image_ids, dense_db_path, pair_file, add_two_view_geometry=False\n",
    ")\n",
    "\n",
    "# Run the geometric verification with the knwon camera poses and add the inliers matches to the database in the two-view geometry table\n",
    "import_verifed_matches(\n",
    "    image_ids, sfm_rec, dense_db_path, features_h5, matches_h5, pair_file, max_error=4.0\n",
    ")"
   ]
  },
  {
   "cell_type": "code",
   "execution_count": 15,
   "metadata": {},
   "outputs": [
    {
     "name": "stderr",
     "output_type": "stream",
     "text": [
      "I20240330 16:27:56.156109 4158779 misc.cc:198] \n",
      "==============================================================================\n",
      "Loading database\n",
      "==============================================================================\n",
      "I20240330 16:27:56.157060 4158779 database_cache.cc:54] Loading cameras...\n",
      "I20240330 16:27:56.157088 4158779 database_cache.cc:64]  2 in 0.000s\n",
      "I20240330 16:27:56.157095 4158779 database_cache.cc:72] Loading matches...\n",
      "I20240330 16:27:56.157989 4158779 database_cache.cc:78]  1 in 0.001s\n",
      "I20240330 16:27:56.158003 4158779 database_cache.cc:94] Loading images...\n",
      "I20240330 16:27:56.196110 4158779 database_cache.cc:143]  2 in 0.038s (connected 2)\n",
      "I20240330 16:27:56.196182 4158779 database_cache.cc:154] Building correspondence graph...\n",
      "I20240330 16:27:56.239976 4158779 database_cache.cc:190]  in 0.044s (ignored 0)\n",
      "I20240330 16:27:56.240840 4158779 timer.cc:91] Elapsed time: 0.001 [minutes]\n",
      "I20240330 16:27:56.259898 4158779 misc.cc:198] \n",
      "==============================================================================\n",
      "Triangulating image #1 (0)\n",
      "==============================================================================\n",
      "I20240330 16:27:56.259933 4158779 sfm.cc:473] => Image sees 0 / 127384 points\n",
      "I20240330 16:27:56.617060 4158779 sfm.cc:478] => Triangulated 127379 points\n",
      "I20240330 16:27:56.617122 4158779 misc.cc:198] \n",
      "==============================================================================\n",
      "Triangulating image #2 (1)\n",
      "==============================================================================\n",
      "I20240330 16:27:56.617130 4158779 sfm.cc:473] => Image sees 127379 / 127384 points\n",
      "I20240330 16:27:56.628777 4158779 sfm.cc:478] => Triangulated 1 points\n",
      "I20240330 16:27:56.628813 4158779 misc.cc:198] \n",
      "==============================================================================\n",
      "Retriangulation\n",
      "==============================================================================\n",
      "I20240330 16:27:56.655813 4158779 incremental_mapper.cc:175] => Completed observations: 0\n",
      "I20240330 16:27:56.678421 4158779 incremental_mapper.cc:178] => Merged observations: 0\n",
      "I20240330 16:27:56.687144 4158779 misc.cc:198] \n",
      "==============================================================================\n",
      "Bundle adjustment\n",
      "==============================================================================\n"
     ]
    },
    {
     "name": "stdout",
     "output_type": "stream",
     "text": [
      "iter      cost      cost_change  |gradient|   |step|    tr_ratio  tr_radius  ls_iter  iter_time  total_time\n",
      "   0  6.656609e+04    0.00e+00    1.48e+03   0.00e+00   0.00e+00  1.00e+04        0    9.13e-02    3.32e-01\n",
      "   1  6.409387e+04    2.47e+03    1.46e-01   2.12e-01   1.00e+00  3.00e+04        0    1.09e-01    4.42e-01\n"
     ]
    },
    {
     "name": "stderr",
     "output_type": "stream",
     "text": [
      "I20240330 16:27:57.335784 4158779 misc.cc:205] \n",
      "Bundle adjustment report\n",
      "------------------------\n",
      "I20240330 16:27:57.335851 4158779 bundle_adjustment.cc:942] \n",
      "    Residuals : 509520\n",
      "   Parameters : 382140\n",
      "   Iterations : 2\n",
      "         Time : 0.471104 [s]\n",
      " Initial cost : 0.361448 [px]\n",
      "   Final cost : 0.354673 [px]\n",
      "  Termination : Convergence\n",
      "\n",
      "I20240330 16:27:57.367061 4158779 incremental_mapper.cc:175] => Completed observations: 0\n",
      "I20240330 16:27:57.386754 4158779 incremental_mapper.cc:178] => Merged observations: 0\n",
      "I20240330 16:27:57.429034 4158779 incremental_mapper.cc:160] => Filtered observations: 0\n",
      "I20240330 16:27:57.429075 4158779 sfm.cc:521] => Changed observations: 0.000000\n",
      "I20240330 16:27:57.546033 4158779 misc.cc:198] \n",
      "==============================================================================\n",
      "Extracting colors\n",
      "==============================================================================\n"
     ]
    }
   ],
   "source": [
    "# Run the triangulation with the known camera poses\n",
    "\n",
    "# Define the options for the triangulation according to the IncrementalPipelineOptions available in pycolmap\n",
    "# print(pycolmap.IncrementalPipelineOptions().summary())\n",
    "opt = dict(triangulation=dict(ignore_two_view_tracks=False))\n",
    "verbose = True\n",
    "\n",
    "with OutputCapture(verbose):\n",
    "    with pycolmap.ostream():\n",
    "        reconstruction = pycolmap.triangulate_points(\n",
    "            sfm_rec,\n",
    "            dense_db_path,\n",
    "            image_dir,\n",
    "            model_path,\n",
    "            options=opt,\n",
    "        )"
   ]
  }
 ],
 "metadata": {
  "kernelspec": {
   "display_name": "deep-image-matching",
   "language": "python",
   "name": "python3"
  },
  "language_info": {
   "codemirror_mode": {
    "name": "ipython",
    "version": 3
   },
   "file_extension": ".py",
   "mimetype": "text/x-python",
   "name": "python",
   "nbconvert_exporter": "python",
   "pygments_lexer": "ipython3",
   "version": "3.10.13"
  }
 },
 "nbformat": 4,
 "nbformat_minor": 2
}
