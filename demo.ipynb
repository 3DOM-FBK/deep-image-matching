{
  "cells": [
    {
      "cell_type": "code",
      "execution_count": 1,
      "metadata": {
        "notebookRunGroups": {
          "groupValue": ""
        }
      },
      "outputs": [
        {
          "name": "stderr",
          "output_type": "stream",
          "text": [
            "/home/francesco/dev/deep-image-matching/src/deep_image_matching/thirdparty/LightGlue/lightglue/lightglue.py:24: FutureWarning: `torch.cuda.amp.custom_fwd(args...)` is deprecated. Please use `torch.amp.custom_fwd(args..., device_type='cuda')` instead.\n",
            "  @torch.cuda.amp.custom_fwd(cast_inputs=torch.float32)\n",
            "xFormers not available\n",
            "xFormers not available\n"
          ]
        },
        {
          "name": "stdout",
          "output_type": "stream",
          "text": [
            "Deep Image Matching loaded in 5.334 seconds.\n"
          ]
        }
      ],
      "source": [
        "import deep_image_matching as dim\n",
        "\n",
        "params = {\n",
        "    \"dir\": \"./assets/example_cyprus\",\n",
        "    \"pipeline\": \"superpoint+lightglue\",\n",
        "    \"strategy\": \"bruteforce\",\n",
        "    \"quality\": \"medium\",\n",
        "    \"tiling\": \"none\",\n",
        "    \"camera_options\": \"./assets/example_cyprus/cameras.yaml\",\n",
        "    \"openmvg\": None,\n",
        "}\n",
        "config = dim.Config(params)\n",
        "imgs_dir = config.general[\"image_dir\"]\n",
        "output_dir = config.general[\"output_dir\"]"
      ]
    },
    {
      "cell_type": "markdown",
      "metadata": {},
      "source": [
        "Run feature extraction and matching\n"
      ]
    },
    {
      "cell_type": "code",
      "execution_count": 2,
      "metadata": {},
      "outputs": [
        {
          "name": "stdout",
          "output_type": "stream",
          "text": [
            "Loaded SuperPoint model\n",
            "\u001b[0;37m2025-07-04 19:52:04 | [INFO    ] Running image matching with the following configuration:\u001b[0m\n",
            "\u001b[0;37m2025-07-04 19:52:04 | [INFO    ]   Image folder: assets/example_cyprus/images\u001b[0m\n",
            "\u001b[0;37m2025-07-04 19:52:04 | [INFO    ]   Output folder: assets/example_cyprus/results_superpoint+lightglue_bruteforce_quality_medium\u001b[0m\n",
            "\u001b[0;37m2025-07-04 19:52:04 | [INFO    ]   Number of images: 10\u001b[0m\n",
            "\u001b[0;37m2025-07-04 19:52:04 | [INFO    ]   Matching strategy: bruteforce\u001b[0m\n",
            "\u001b[0;37m2025-07-04 19:52:04 | [INFO    ]   Image quality: MEDIUM\u001b[0m\n",
            "\u001b[0;37m2025-07-04 19:52:04 | [INFO    ]   Tile selection: NONE\u001b[0m\n",
            "\u001b[0;37m2025-07-04 19:52:04 | [INFO    ]   Feature extraction method: superpoint\u001b[0m\n",
            "\u001b[0;37m2025-07-04 19:52:04 | [INFO    ]   Matching method: lightglue\u001b[0m\n",
            "\u001b[0;37m2025-07-04 19:52:04 | [INFO    ]   Geometric verification: PYDEGENSAC\u001b[0m\n",
            "\u001b[0;37m2025-07-04 19:52:04 | [INFO    ]   CUDA available: False\u001b[0m\n",
            "\u001b[0;37m2025-07-04 19:52:04 | [INFO    ] Number of pairs: 45\u001b[0m\n",
            "\u001b[0;37m2025-07-04 19:52:04 | [INFO    ] Found 45 pairs.\u001b[0m\n",
            "\u001b[0;37m2025-07-04 19:52:04 | [INFO    ] Extracting features with superpoint...\u001b[0m\n",
            "\u001b[0;37m2025-07-04 19:52:04 | [INFO    ] superpoint configuration: \u001b[0m\n",
            "{'keypoint_threshold': 0.0005,\n",
            " 'max_keypoints': 2048,\n",
            " 'name': 'superpoint',\n",
            " 'nms_radius': 3}\n"
          ]
        },
        {
          "name": "stderr",
          "output_type": "stream",
          "text": [
            "100%|██████████| 10/10 [00:09<00:00,  1.04it/s]"
          ]
        },
        {
          "name": "stdout",
          "output_type": "stream",
          "text": [
            "\u001b[0;37m2025-07-04 19:52:14 | [INFO    ] Features extracted!\u001b[0m\n",
            "\u001b[0;37m2025-07-04 19:52:14 | [INFO    ] Matching features with lightglue...\u001b[0m\n",
            "\u001b[0;37m2025-07-04 19:52:14 | [INFO    ] lightglue configuration: \u001b[0m\n",
            "{'depth_confidence': 0.95,\n",
            " 'filter_threshold': 0.1,\n",
            " 'flash': True,\n",
            " 'mp': False,\n",
            " 'n_layers': 9,\n",
            " 'name': 'lightglue',\n",
            " 'width_confidence': 0.99}\n",
            "\u001b[0;37m2025-07-04 19:52:14 | [INFO    ] Matching features...\u001b[0m\n",
            "\u001b[0;37m2025-07-04 19:52:14 | [INFO    ] \u001b[0m\n"
          ]
        },
        {
          "name": "stderr",
          "output_type": "stream",
          "text": [
            "\n",
            "100%|██████████| 45/45 [01:24<00:00,  1.88s/it]"
          ]
        },
        {
          "name": "stdout",
          "output_type": "stream",
          "text": [
            "\u001b[0;37m2025-07-04 19:53:39 | [INFO    ] [Timer] | [matching] generate_pairs=1.647, extract_features=9.657, Match pair=1.713, Total execution=95.815\u001b[0m\n",
            "\u001b[0;37m2025-07-04 19:53:39 | [INFO    ] [Timer] | [Deep Image Matching] Total execution=0.000\u001b[0m\n"
          ]
        },
        {
          "name": "stderr",
          "output_type": "stream",
          "text": [
            "\n"
          ]
        }
      ],
      "source": [
        "matcher = dim.ImageMatcher(config)\n",
        "feature_path, match_path = matcher.run()"
      ]
    },
    {
      "cell_type": "markdown",
      "metadata": {},
      "source": [
        "Export matches to COLMAP format\n"
      ]
    },
    {
      "cell_type": "code",
      "execution_count": 3,
      "metadata": {},
      "outputs": [
        {
          "name": "stderr",
          "output_type": "stream",
          "text": [
            "100%|██████████| 10/10 [00:00<00:00, 1049.78it/s]\n",
            "45it [00:00, 1823.28it/s]             \n",
            " 86%|████████▌ | 31/36 [00:00<00:00, 2622.81it/s]\n"
          ]
        }
      ],
      "source": [
        "# First remove existing database if it exists\n",
        "database_path = output_dir / \"database.db\"\n",
        "if database_path.exists():\n",
        "    database_path.unlink()\n",
        "\n",
        "# Export to COLMAP format\n",
        "dim.io.export_to_colmap(\n",
        "    img_dir=imgs_dir,\n",
        "    feature_path=feature_path,\n",
        "    match_path=match_path,\n",
        "    database_path=database_path,\n",
        "    camera_config_path=config.general[\"camera_options\"],\n",
        ")"
      ]
    },
    {
      "cell_type": "markdown",
      "metadata": {},
      "source": [
        "Run reconstruction with pycolmap\n"
      ]
    },
    {
      "cell_type": "code",
      "execution_count": 4,
      "metadata": {},
      "outputs": [
        {
          "name": "stdout",
          "output_type": "stream",
          "text": [
            "\u001b[0;37m2025-07-04 19:53:39 | [INFO    ] Running 3D reconstruction...\u001b[0m\n",
            "\u001b[6n\n",
            "Images registered:   0%|                               |  0/10 [00:01<?, 0.00/s]"
          ]
        },
        {
          "name": "stderr",
          "output_type": "stream",
          "text": [
            "I20250704 19:53:41.283129 140427792920640 incremental_pipeline.cc:253] Loading database\n",
            "I20250704 19:53:41.287739 140427792920640 database_cache.cc:66] Loading rigs...\n",
            "I20250704 19:53:41.287803 140427792920640 database_cache.cc:76]  0 in 0.000s\n",
            "I20250704 19:53:41.287844 140427792920640 database_cache.cc:84] Loading cameras...\n",
            "I20250704 19:53:41.287925 140427792920640 database_cache.cc:102]  2 in 0.000s\n",
            "I20250704 19:53:41.287944 140427792920640 database_cache.cc:110] Loading frames...\n",
            "I20250704 19:53:41.287977 140427792920640 database_cache.cc:127]  0 in 0.000s\n",
            "I20250704 19:53:41.287992 140427792920640 database_cache.cc:135] Loading matches...\n",
            "I20250704 19:53:41.288703 140427792920640 database_cache.cc:140]  31 in 0.001s\n",
            "I20250704 19:53:41.288727 140427792920640 database_cache.cc:156] Loading images...\n",
            "I20250704 19:53:41.290382 140427792920640 database_cache.cc:241]  10 in 0.002s (connected 10)\n",
            "I20250704 19:53:41.290413 140427792920640 database_cache.cc:252] Building correspondence graph...\n",
            "I20250704 19:53:41.302321 140427792920640 database_cache.cc:279]  in 0.012s (ignored 0)\n",
            "I20250704 19:53:41.302418 140427792920640 timer.cc:91] Elapsed time: 0.000 [minutes]\n",
            "I20250704 19:53:41.303964 140427792920640 incremental_pipeline.cc:299] Finding good initial image pair\n",
            "I20250704 19:53:41.381859 140427792920640 incremental_pipeline.cc:323] Registering initial image pair #5 and #9\n",
            "I20250704 19:53:41.387072 140427792920640 incremental_pipeline.cc:337] Global bundle adjustment\n"
          ]
        },
        {
          "name": "stdout",
          "output_type": "stream",
          "text": [
            "Images registered:  20%|█████▍                     |  2/10 [00:03<00:10, 0.76/s]"
          ]
        },
        {
          "name": "stderr",
          "output_type": "stream",
          "text": [
            "I20250704 19:53:42.902863 140427792920640 incremental_pipeline.cc:427] Registering image #7 (num_reg_frames=2)\n",
            "I20250704 19:53:42.902922 140427792920640 incremental_pipeline.cc:430] => Image sees 640 / 1895 points\n",
            "I20250704 19:53:43.168738 140427792920640 incremental_pipeline.cc:42] Retriangulation and Global bundle adjustment\n"
          ]
        },
        {
          "name": "stdout",
          "output_type": "stream",
          "text": [
            "Images registered:  30%|████████▏                  |  3/10 [00:04<00:10, 0.73/s]"
          ]
        },
        {
          "name": "stderr",
          "output_type": "stream",
          "text": [
            "I20250704 19:53:44.373031 140427792920640 incremental_pipeline.cc:427] Registering image #10 (num_reg_frames=3)\n",
            "I20250704 19:53:44.373083 140427792920640 incremental_pipeline.cc:430] => Image sees 892 / 1807 points\n",
            "I20250704 19:53:44.795251 140427792920640 incremental_pipeline.cc:42] Retriangulation and Global bundle adjustment\n"
          ]
        },
        {
          "name": "stdout",
          "output_type": "stream",
          "text": [
            "Images registered:  40%|██████████▊                |  4/10 [00:06<00:09, 0.70/s]"
          ]
        },
        {
          "name": "stderr",
          "output_type": "stream",
          "text": [
            "I20250704 19:53:45.984196 140427792920640 incremental_pipeline.cc:427] Registering image #4 (num_reg_frames=4)\n",
            "I20250704 19:53:45.984226 140427792920640 incremental_pipeline.cc:430] => Image sees 957 / 1794 points\n",
            "I20250704 19:53:46.368139 140427792920640 incremental_pipeline.cc:42] Retriangulation and Global bundle adjustment\n"
          ]
        },
        {
          "name": "stdout",
          "output_type": "stream",
          "text": [
            "Images registered:  50%|█████████████▌             |  5/10 [00:07<00:07, 0.68/s]"
          ]
        },
        {
          "name": "stderr",
          "output_type": "stream",
          "text": [
            "I20250704 19:53:47.612612 140427792920640 incremental_pipeline.cc:427] Registering image #8 (num_reg_frames=5)\n",
            "I20250704 19:53:47.612663 140427792920640 incremental_pipeline.cc:430] => Image sees 948 / 1586 points\n",
            "I20250704 19:53:48.137449 140427792920640 incremental_pipeline.cc:42] Retriangulation and Global bundle adjustment\n"
          ]
        },
        {
          "name": "stdout",
          "output_type": "stream",
          "text": [
            "Images registered:  60%|████████████████▎          |  6/10 [00:09<00:06, 0.66/s]"
          ]
        },
        {
          "name": "stderr",
          "output_type": "stream",
          "text": [
            "I20250704 19:53:49.358494 140427792920640 incremental_pipeline.cc:427] Registering image #2 (num_reg_frames=6)\n",
            "I20250704 19:53:49.358554 140427792920640 incremental_pipeline.cc:430] => Image sees 1040 / 1492 points\n",
            "I20250704 19:53:49.828150 140427792920640 incremental_pipeline.cc:42] Retriangulation and Global bundle adjustment\n"
          ]
        },
        {
          "name": "stdout",
          "output_type": "stream",
          "text": [
            "Images registered:  70%|██████████████████▉        |  7/10 [00:11<00:05, 0.62/s]"
          ]
        },
        {
          "name": "stderr",
          "output_type": "stream",
          "text": [
            "I20250704 19:53:51.509364 140427792920640 incremental_pipeline.cc:427] Registering image #1 (num_reg_frames=7)\n",
            "I20250704 19:53:51.509417 140427792920640 incremental_pipeline.cc:430] => Image sees 1056 / 1497 points\n",
            "I20250704 19:53:51.984060 140427792920640 incremental_pipeline.cc:42] Retriangulation and Global bundle adjustment\n"
          ]
        },
        {
          "name": "stdout",
          "output_type": "stream",
          "text": [
            "Images registered:  80%|█████████████████████▋     |  8/10 [00:13<00:03, 0.60/s]\u001b[6n"
          ]
        },
        {
          "name": "stderr",
          "output_type": "stream",
          "text": [
            "I20250704 19:53:53.590156 140427792920640 incremental_pipeline.cc:581] Keeping successful reconstruction\n",
            "I20250704 19:53:53.592023 140427792920640 incremental_pipeline.cc:299] Finding good initial image pair\n",
            "I20250704 19:53:53.592390 140427792920640 incremental_pipeline.cc:303] => No good initial image pair found.\n",
            "I20250704 19:53:53.592425 140427792920640 incremental_pipeline.cc:544] Discarding reconstruction due to no initial pair\n",
            "I20250704 19:53:53.592503 140427792920640 incremental_pipeline.cc:234] => Relaxing the initialization constraints.\n",
            "I20250704 19:53:53.592926 140427792920640 incremental_pipeline.cc:299] Finding good initial image pair\n",
            "I20250704 19:53:53.593250 140427792920640 incremental_pipeline.cc:303] => No good initial image pair found.\n",
            "I20250704 19:53:53.593351 140427792920640 incremental_pipeline.cc:544] Discarding reconstruction due to no initial pair\n",
            "I20250704 19:53:53.593405 140427792920640 incremental_pipeline.cc:243] => Relaxing the initialization constraints.\n",
            "I20250704 19:53:53.593708 140427792920640 incremental_pipeline.cc:299] Finding good initial image pair\n",
            "I20250704 19:53:53.593935 140427792920640 incremental_pipeline.cc:303] => No good initial image pair found.\n",
            "I20250704 19:53:53.593950 140427792920640 incremental_pipeline.cc:544] Discarding reconstruction due to no initial pair\n",
            "I20250704 19:53:53.593990 140427792920640 incremental_pipeline.cc:234] => Relaxing the initialization constraints.\n",
            "I20250704 19:53:53.594267 140427792920640 incremental_pipeline.cc:299] Finding good initial image pair\n",
            "I20250704 19:53:53.594491 140427792920640 incremental_pipeline.cc:303] => No good initial image pair found.\n",
            "I20250704 19:53:53.594506 140427792920640 incremental_pipeline.cc:544] Discarding reconstruction due to no initial pair\n",
            "I20250704 19:53:53.594543 140427792920640 incremental_pipeline.cc:243] => Relaxing the initialization constraints.\n",
            "I20250704 19:53:53.594928 140427792920640 incremental_pipeline.cc:299] Finding good initial image pair\n",
            "I20250704 19:53:53.595199 140427792920640 incremental_pipeline.cc:303] => No good initial image pair found.\n",
            "I20250704 19:53:53.595219 140427792920640 incremental_pipeline.cc:544] Discarding reconstruction due to no initial pair\n",
            "I20250704 19:53:53.595266 140427792920640 timer.cc:91] Elapsed time: 0.205 [minutes]\n"
          ]
        },
        {
          "name": "stdout",
          "output_type": "stream",
          "text": [
            "\u001b[0;37m2025-07-04 19:53:54 | [INFO    ] Reconstructed 1 model(s).\u001b[0m\n",
            "Images registered:  80%|█████████████████████▋     |  8/10 [00:13<00:03, 0.60/s]\n",
            "\u001b[0;37m2025-07-04 19:53:54 | [INFO    ] Largest model is #0 with 8 images.\u001b[0m\n"
          ]
        }
      ],
      "source": [
        "# Optional - You can specify some reconstruction configuration\n",
        "# reconst_opts = (\n",
        "#     {\n",
        "#         \"ba_refine_focal_length\": True,\n",
        "#         \"ba_refine_principal_point\": False,\n",
        "#         \"ba_refine_extra_params\": False,\n",
        "#     },\n",
        "# )\n",
        "reconst_opts = {}\n",
        "model = dim.reconstruction.incremental_reconstruction(\n",
        "    database_path=output_dir / \"database.db\",\n",
        "    image_dir=imgs_dir,\n",
        "    sfm_dir=output_dir / \"reconstruction\",\n",
        "    reconstruction_options=reconst_opts,\n",
        "    refine_intrinsics=True,\n",
        "    ignore_two_view_tracks=True,\n",
        "    filter_min_tri_angle=None,\n",
        "    export_ply=True,\n",
        "    export_text=True,\n",
        "    export_bundler=False,\n",
        ")\n"
      ]
    }
  ],
  "metadata": {
    "kernelspec": {
      "display_name": "deep-image-matching (3.11.2)",
      "language": "python",
      "name": "python3"
    },
    "language_info": {
      "codemirror_mode": {
        "name": "ipython",
        "version": 3
      },
      "file_extension": ".py",
      "mimetype": "text/x-python",
      "name": "python",
      "nbconvert_exporter": "python",
      "pygments_lexer": "ipython3",
      "version": "3.11.2"
    }
  },
  "nbformat": 4,
  "nbformat_minor": 2
}
