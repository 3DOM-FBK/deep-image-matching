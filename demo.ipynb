{
  "cells": [
    {
      "cell_type": "code",
      "execution_count": 1,
      "metadata": {
        "notebookRunGroups": {
          "groupValue": ""
        }
      },
      "outputs": [
        {
          "name": "stderr",
          "output_type": "stream",
          "text": [
            "/home/francesco/dev/deep-image-matching/src/deep_image_matching/thirdparty/LightGlue/lightglue/lightglue.py:24: FutureWarning: `torch.cuda.amp.custom_fwd(args...)` is deprecated. Please use `torch.amp.custom_fwd(args..., device_type='cuda')` instead.\n",
            "  @torch.cuda.amp.custom_fwd(cast_inputs=torch.float32)\n",
            "xFormers not available\n",
            "xFormers not available\n"
          ]
        },
        {
          "name": "stdout",
          "output_type": "stream",
          "text": [
            "Deep Image Matching loaded in 5.091 seconds.\n"
          ]
        }
      ],
      "source": [
        "import deep_image_matching as dim\n",
        "\n",
        "params = {\n",
        "    \"dir\": \"./assets/example_cyprus\",\n",
        "    \"pipeline\": \"superpoint+lightglue\",\n",
        "    \"strategy\": \"matching_lowres\",\n",
        "    \"quality\": \"medium\",\n",
        "    \"tiling\": \"none\",\n",
        "    \"camera_options\": \"./assets/example_cyprus/cameras.yaml\",\n",
        "    \"openmvg\": None,\n",
        "}\n",
        "config = dim.Config(params)\n",
        "imgs_dir = config.general[\"image_dir\"]\n",
        "output_dir = config.general[\"output_dir\"]"
      ]
    },
    {
      "cell_type": "markdown",
      "metadata": {},
      "source": [
        "Run feature extraction and matching\n"
      ]
    },
    {
      "cell_type": "code",
      "execution_count": 2,
      "metadata": {},
      "outputs": [
        {
          "name": "stdout",
          "output_type": "stream",
          "text": [
            "Loaded SuperPoint model\n",
            "\u001b[0;37m2025-07-04 18:41:41 | [INFO    ] Running image matching with the following configuration:\u001b[0m\n",
            "\u001b[0;37m2025-07-04 18:41:41 | [INFO    ]   Image folder: assets/example_cyprus/images\u001b[0m\n",
            "\u001b[0;37m2025-07-04 18:41:41 | [INFO    ]   Output folder: assets/example_cyprus/results_superpoint+lightglue_matching_lowres_quality_medium\u001b[0m\n",
            "\u001b[0;37m2025-07-04 18:41:41 | [INFO    ]   Number of images: 10\u001b[0m\n",
            "\u001b[0;37m2025-07-04 18:41:41 | [INFO    ]   Matching strategy: matching_lowres\u001b[0m\n",
            "\u001b[0;37m2025-07-04 18:41:41 | [INFO    ]   Image quality: MEDIUM\u001b[0m\n",
            "\u001b[0;37m2025-07-04 18:41:41 | [INFO    ]   Tile selection: NONE\u001b[0m\n",
            "\u001b[0;37m2025-07-04 18:41:41 | [INFO    ]   Feature extraction method: superpoint\u001b[0m\n",
            "\u001b[0;37m2025-07-04 18:41:41 | [INFO    ]   Matching method: lightglue\u001b[0m\n",
            "\u001b[0;37m2025-07-04 18:41:41 | [INFO    ]   Geometric verification: PYDEGENSAC\u001b[0m\n",
            "\u001b[0;37m2025-07-04 18:41:41 | [INFO    ]   CUDA available: False\u001b[0m\n",
            "\u001b[0;37m2025-07-04 18:41:41 | [INFO    ] Low resolution matching, generating pairs ..\u001b[0m\n",
            "Loaded SuperPoint model\n",
            "\u001b[0;37m2025-07-04 18:41:41 | [INFO    ] Extracting features from downsampled images...\u001b[0m\n"
          ]
        },
        {
          "name": "stderr",
          "output_type": "stream",
          "text": [
            "100%|██████████| 10/10 [00:14<00:00,  1.48s/it]"
          ]
        },
        {
          "name": "stdout",
          "output_type": "stream",
          "text": [
            "\u001b[0;37m2025-07-04 18:41:56 | [INFO    ] Matching downsampled images...\u001b[0m\n"
          ]
        },
        {
          "name": "stderr",
          "output_type": "stream",
          "text": [
            "\n",
            "100%|██████████| 45/45 [00:43<00:00,  1.02it/s]"
          ]
        },
        {
          "name": "stdout",
          "output_type": "stream",
          "text": [
            "\u001b[0;37m2025-07-04 18:42:40 | [INFO    ] Found 28 pairs.\u001b[0m\n",
            "\u001b[0;37m2025-07-04 18:42:40 | [INFO    ] Extracting features with superpoint...\u001b[0m\n",
            "\u001b[0;37m2025-07-04 18:42:40 | [INFO    ] superpoint configuration: \u001b[0m\n"
          ]
        },
        {
          "name": "stderr",
          "output_type": "stream",
          "text": [
            "\n"
          ]
        },
        {
          "name": "stdout",
          "output_type": "stream",
          "text": [
            "{'keypoint_threshold': 0.0005,\n",
            " 'max_keypoints': 2048,\n",
            " 'name': 'superpoint',\n",
            " 'nms_radius': 3}\n"
          ]
        },
        {
          "name": "stderr",
          "output_type": "stream",
          "text": [
            "100%|██████████| 10/10 [00:12<00:00,  1.27s/it]"
          ]
        },
        {
          "name": "stdout",
          "output_type": "stream",
          "text": [
            "\u001b[0;37m2025-07-04 18:42:53 | [INFO    ] Features extracted!\u001b[0m\n",
            "\u001b[0;37m2025-07-04 18:42:53 | [INFO    ] Matching features with lightglue...\u001b[0m\n",
            "\u001b[0;37m2025-07-04 18:42:53 | [INFO    ] lightglue configuration: \u001b[0m\n",
            "{'depth_confidence': 0.95,\n",
            " 'filter_threshold': 0.1,\n",
            " 'flash': True,\n",
            " 'mp': False,\n",
            " 'n_layers': 9,\n",
            " 'name': 'lightglue',\n",
            " 'width_confidence': 0.99}\n",
            "\u001b[0;37m2025-07-04 18:42:53 | [INFO    ] Matching features...\u001b[0m\n",
            "\u001b[0;37m2025-07-04 18:42:53 | [INFO    ] \u001b[0m\n"
          ]
        },
        {
          "name": "stderr",
          "output_type": "stream",
          "text": [
            "\n",
            "100%|██████████| 28/28 [01:12<00:00,  2.59s/it]"
          ]
        },
        {
          "name": "stdout",
          "output_type": "stream",
          "text": [
            "\u001b[0;37m2025-07-04 18:44:05 | [INFO    ] [Timer] | [matching] generate_pairs=60.908, extract_features=12.701, Match pair=1.677, Total execution=146.011\u001b[0m\n",
            "\u001b[0;37m2025-07-04 18:44:05 | [INFO    ] [Timer] | [Deep Image Matching] Total execution=0.000\u001b[0m\n"
          ]
        },
        {
          "name": "stderr",
          "output_type": "stream",
          "text": [
            "\n"
          ]
        }
      ],
      "source": [
        "matcher = dim.ImageMatcher(config)\n",
        "feature_path, match_path = matcher.run()"
      ]
    },
    {
      "cell_type": "markdown",
      "metadata": {},
      "source": [
        "Export matches to COLMAP format\n"
      ]
    },
    {
      "cell_type": "code",
      "execution_count": null,
      "metadata": {},
      "outputs": [
        {
          "name": "stdout",
          "output_type": "stream",
          "text": [
            "\u001b[1;33m2025-07-04 18:44:05 | [WARNING ] Was not possible to load the first image to initialize cam0\u001b[0m\n",
            "\u001b[1;33m2025-07-04 18:44:05 | [WARNING ] Was not possible to load the first image to initialize cam1\u001b[0m\n"
          ]
        },
        {
          "name": "stderr",
          "output_type": "stream",
          "text": [
            "  0%|          | 0/10 [00:00<?, ?it/s]\n"
          ]
        },
        {
          "ename": "AttributeError",
          "evalue": "'list' object has no attribute 'tolist'",
          "output_type": "error",
          "traceback": [
            "\u001b[31m---------------------------------------------------------------------------\u001b[39m",
            "\u001b[31mAttributeError\u001b[39m                            Traceback (most recent call last)",
            "\u001b[36mCell\u001b[39m\u001b[36m \u001b[39m\u001b[32mIn[3]\u001b[39m\u001b[32m, line 1\u001b[39m\n\u001b[32m----> \u001b[39m\u001b[32m1\u001b[39m \u001b[43mdim\u001b[49m\u001b[43m.\u001b[49m\u001b[43mio\u001b[49m\u001b[43m.\u001b[49m\u001b[43mexport_to_colmap\u001b[49m\u001b[43m(\u001b[49m\n\u001b[32m      2\u001b[39m \u001b[43m    \u001b[49m\u001b[43mimg_dir\u001b[49m\u001b[43m=\u001b[49m\u001b[43mimgs_dir\u001b[49m\u001b[43m,\u001b[49m\n\u001b[32m      3\u001b[39m \u001b[43m    \u001b[49m\u001b[43mfeature_path\u001b[49m\u001b[43m=\u001b[49m\u001b[43mfeature_path\u001b[49m\u001b[43m,\u001b[49m\n\u001b[32m      4\u001b[39m \u001b[43m    \u001b[49m\u001b[43mmatch_path\u001b[49m\u001b[43m=\u001b[49m\u001b[43mmatch_path\u001b[49m\u001b[43m,\u001b[49m\n\u001b[32m      5\u001b[39m \u001b[43m    \u001b[49m\u001b[43mdatabase_path\u001b[49m\u001b[43m=\u001b[49m\u001b[43moutput_dir\u001b[49m\u001b[43m \u001b[49m\u001b[43m/\u001b[49m\u001b[43m \u001b[49m\u001b[33;43m\"\u001b[39;49m\u001b[33;43mdatabase.db\u001b[39;49m\u001b[33;43m\"\u001b[39;49m\u001b[43m,\u001b[49m\n\u001b[32m      6\u001b[39m \u001b[43m    \u001b[49m\u001b[43mcamera_config_path\u001b[49m\u001b[43m=\u001b[49m\u001b[43mconfig\u001b[49m\u001b[43m.\u001b[49m\u001b[43mgeneral\u001b[49m\u001b[43m[\u001b[49m\u001b[33;43m\"\u001b[39;49m\u001b[33;43mcamera_options\u001b[39;49m\u001b[33;43m\"\u001b[39;49m\u001b[43m]\u001b[49m\u001b[43m,\u001b[49m\n\u001b[32m      7\u001b[39m \u001b[43m)\u001b[49m\n",
            "\u001b[36mFile \u001b[39m\u001b[32m~/dev/deep-image-matching/src/deep_image_matching/io/h5_to_db.py:96\u001b[39m, in \u001b[36mexport_to_colmap\u001b[39m\u001b[34m(img_dir, feature_path, match_path, database_path, camera_config_path)\u001b[39m\n\u001b[32m     94\u001b[39m db = COLMAPDatabase.connect(database_path)\n\u001b[32m     95\u001b[39m db.create_tables()\n\u001b[32m---> \u001b[39m\u001b[32m96\u001b[39m fname_to_id = \u001b[43madd_keypoints\u001b[49m\u001b[43m(\u001b[49m\u001b[43mdb\u001b[49m\u001b[43m,\u001b[49m\u001b[43m \u001b[49m\u001b[43mfeature_path\u001b[49m\u001b[43m,\u001b[49m\u001b[43m \u001b[49m\u001b[43mimg_dir\u001b[49m\u001b[43m,\u001b[49m\u001b[43m \u001b[49m\u001b[43mcamera_options\u001b[49m\u001b[43m)\u001b[49m\n\u001b[32m     97\u001b[39m raw_match_path = match_path.parent / \u001b[33m\"\u001b[39m\u001b[33mraw_matches.h5\u001b[39m\u001b[33m\"\u001b[39m\n\u001b[32m     98\u001b[39m \u001b[38;5;28;01mif\u001b[39;00m raw_match_path.exists():\n",
            "\u001b[36mFile \u001b[39m\u001b[32m~/dev/deep-image-matching/src/deep_image_matching/io/h5_to_db.py:301\u001b[39m, in \u001b[36madd_keypoints\u001b[39m\u001b[34m(db, h5_path, image_path, camera_options)\u001b[39m\n\u001b[32m    296\u001b[39m \u001b[38;5;28;01melif\u001b[39;00m (\n\u001b[32m    297\u001b[39m     camera_options.get(\u001b[33m\"\u001b[39m\u001b[33mgeneral\u001b[39m\u001b[33m\"\u001b[39m, {}).get(\u001b[33m\"\u001b[39m\u001b[33msingle_camera\u001b[39m\u001b[33m\"\u001b[39m, \u001b[38;5;28;01mFalse\u001b[39;00m)\n\u001b[32m    298\u001b[39m     \u001b[38;5;129;01mis\u001b[39;00m \u001b[38;5;28;01mTrue\u001b[39;00m\n\u001b[32m    299\u001b[39m ):\n\u001b[32m    300\u001b[39m     \u001b[38;5;28;01mif\u001b[39;00m k == \u001b[32m0\u001b[39m:\n\u001b[32m--> \u001b[39m\u001b[32m301\u001b[39m         camera_id = \u001b[43mcreate_camera\u001b[49m\u001b[43m(\u001b[49m\n\u001b[32m    302\u001b[39m \u001b[43m            \u001b[49m\u001b[43mdb\u001b[49m\u001b[43m,\u001b[49m\n\u001b[32m    303\u001b[39m \u001b[43m            \u001b[49m\u001b[43mpath\u001b[49m\u001b[43m,\u001b[49m\n\u001b[32m    304\u001b[39m \u001b[43m            \u001b[49m\u001b[43mcamera_options\u001b[49m\u001b[43m.\u001b[49m\u001b[43mget\u001b[49m\u001b[43m(\u001b[49m\u001b[33;43m\"\u001b[39;49m\u001b[33;43mgeneral\u001b[39;49m\u001b[33;43m\"\u001b[39;49m\u001b[43m,\u001b[49m\u001b[43m \u001b[49m\u001b[43m{\u001b[49m\u001b[43m}\u001b[49m\u001b[43m)\u001b[49m\u001b[43m.\u001b[49m\u001b[43mget\u001b[49m\u001b[43m(\u001b[49m\n\u001b[32m    305\u001b[39m \u001b[43m                \u001b[49m\u001b[33;43m\"\u001b[39;49m\u001b[33;43mcamera_model\u001b[39;49m\u001b[33;43m\"\u001b[39;49m\u001b[43m,\u001b[49m\u001b[43m \u001b[49m\u001b[33;43m\"\u001b[39;49m\u001b[33;43msimple-radial\u001b[39;49m\u001b[33;43m\"\u001b[39;49m\n\u001b[32m    306\u001b[39m \u001b[43m            \u001b[49m\u001b[43m)\u001b[49m\u001b[43m,\u001b[49m\n\u001b[32m    307\u001b[39m \u001b[43m            \u001b[49m\u001b[43mcamera_options\u001b[49m\u001b[43m.\u001b[49m\u001b[43mget\u001b[49m\u001b[43m(\u001b[49m\u001b[33;43m\"\u001b[39;49m\u001b[33;43mgeneral\u001b[39;49m\u001b[33;43m\"\u001b[39;49m\u001b[43m,\u001b[49m\u001b[43m \u001b[49m\u001b[43m{\u001b[49m\u001b[43m}\u001b[49m\u001b[43m)\u001b[49m\u001b[43m.\u001b[49m\u001b[43mget\u001b[49m\u001b[43m(\u001b[49m\u001b[33;43m\"\u001b[39;49m\u001b[33;43mintrinsics\u001b[39;49m\u001b[33;43m\"\u001b[39;49m\u001b[43m)\u001b[49m\u001b[43m,\u001b[49m\n\u001b[32m    308\u001b[39m \u001b[43m        \u001b[49m\u001b[43m)\u001b[49m\n\u001b[32m    309\u001b[39m         single_camera_id = camera_id\n\u001b[32m    310\u001b[39m         k += \u001b[32m1\u001b[39m\n",
            "\u001b[36mFile \u001b[39m\u001b[32m~/dev/deep-image-matching/src/deep_image_matching/io/h5_to_db.py:193\u001b[39m, in \u001b[36mcreate_camera\u001b[39m\u001b[34m(db, image_path, camera_model, param_arr)\u001b[39m\n\u001b[32m    190\u001b[39m \u001b[38;5;28;01melse\u001b[39;00m:\n\u001b[32m    191\u001b[39m     \u001b[38;5;28;01mraise\u001b[39;00m \u001b[38;5;167;01mRuntimeError\u001b[39;00m(\u001b[33mf\u001b[39m\u001b[33m\"\u001b[39m\u001b[33mInvalid camera model \u001b[39m\u001b[38;5;132;01m{\u001b[39;00mcamera_model\u001b[38;5;132;01m}\u001b[39;00m\u001b[33m\"\u001b[39m)\n\u001b[32m--> \u001b[39m\u001b[32m193\u001b[39m \u001b[38;5;28;01mreturn\u001b[39;00m db.add_camera(\u001b[38;5;28mstr\u001b[39m(model), width, height, \u001b[43mparam_arr\u001b[49m\u001b[43m.\u001b[49m\u001b[43mtolist\u001b[49m())\n",
            "\u001b[31mAttributeError\u001b[39m: 'list' object has no attribute 'tolist'"
          ]
        }
      ],
      "source": [
        "# First remove existing database if it exists\n",
        "database_path = output_dir / \"database.db\"\n",
        "if database_path.exists():\n",
        "    database_path.unlink()\n",
        "\n",
        "# Export to COLMAP format\n",
        "dim.io.export_to_colmap(\n",
        "    img_dir=imgs_dir,\n",
        "    feature_path=feature_path,\n",
        "    match_path=match_path,\n",
        "    database_path=database_path,\n",
        "    camera_config_path=config.general[\"camera_options\"],\n",
        ")"
      ]
    },
    {
      "cell_type": "markdown",
      "metadata": {},
      "source": [
        "Run reconstruction with pycolmap\n"
      ]
    },
    {
      "cell_type": "code",
      "execution_count": null,
      "metadata": {},
      "outputs": [
        {
          "name": "stdout",
          "output_type": "stream",
          "text": [
            "\u001b[0;37m2025-07-02 14:33:46 | [INFO    ] Running 3D reconstruction...\u001b[0m\n"
          ]
        },
        {
          "name": "stderr",
          "output_type": "stream",
          "text": [
            "I20250702 14:33:46.073336 140420164540224 incremental_pipeline.cc:253] Loading database\n",
            "I20250702 14:33:46.085152 140420164540224 database_cache.cc:66] Loading rigs...\n",
            "I20250702 14:33:46.085198 140420164540224 database_cache.cc:76]  0 in 0.000s\n",
            "I20250702 14:33:46.085208 140420164540224 database_cache.cc:84] Loading cameras...\n",
            "I20250702 14:33:46.086809 140420164540224 database_cache.cc:102]  1 in 0.002s\n",
            "I20250702 14:33:46.086836 140420164540224 database_cache.cc:110] Loading frames...\n",
            "I20250702 14:33:46.086866 140420164540224 database_cache.cc:127]  0 in 0.000s\n",
            "I20250702 14:33:46.086873 140420164540224 database_cache.cc:135] Loading matches...\n",
            "I20250702 14:33:46.087203 140420164540224 database_cache.cc:140]  28 in 0.000s\n",
            "I20250702 14:33:46.087211 140420164540224 database_cache.cc:156] Loading images...\n",
            "I20250702 14:33:46.088835 140420164540224 database_cache.cc:241]  10 in 0.002s (connected 8)\n",
            "I20250702 14:33:46.088877 140420164540224 database_cache.cc:252] Building correspondence graph...\n",
            "I20250702 14:33:46.095349 140420164540224 database_cache.cc:279]  in 0.006s (ignored 0)\n",
            "I20250702 14:33:46.095387 140420164540224 timer.cc:91] Elapsed time: 0.000 [minutes]\n",
            "I20250702 14:33:46.096635 140420164540224 incremental_pipeline.cc:299] Finding good initial image pair\n",
            "I20250702 14:33:46.182531 140420164540224 incremental_pipeline.cc:323] Registering initial image pair #5 and #9\n",
            "I20250702 14:33:46.193603 140420164540224 incremental_pipeline.cc:337] Global bundle adjustment\n",
            "I20250702 14:33:46.324332 140420164540224 incremental_pipeline.cc:427] Registering image #7 (num_reg_frames=2)\n",
            "I20250702 14:33:46.324369 140420164540224 incremental_pipeline.cc:430] => Image sees 1178 / 3640 points\n",
            "I20250702 14:33:47.002278 140420164540224 incremental_pipeline.cc:42] Retriangulation and Global bundle adjustment\n",
            "I20250702 14:33:47.230529 140420164540224 incremental_pipeline.cc:427] Registering image #10 (num_reg_frames=3)\n",
            "I20250702 14:33:47.230559 140420164540224 incremental_pipeline.cc:430] => Image sees 1658 / 3215 points\n",
            "I20250702 14:33:48.112955 140420164540224 incremental_pipeline.cc:42] Retriangulation and Global bundle adjustment\n",
            "I20250702 14:33:48.612318 140420164540224 incremental_pipeline.cc:427] Registering image #4 (num_reg_frames=4)\n",
            "I20250702 14:33:48.612345 140420164540224 incremental_pipeline.cc:430] => Image sees 1614 / 3079 points\n",
            "I20250702 14:33:49.309847 140420164540224 incremental_pipeline.cc:42] Retriangulation and Global bundle adjustment\n",
            "I20250702 14:33:50.955531 140420164540224 incremental_pipeline.cc:427] Registering image #2 (num_reg_frames=5)\n",
            "I20250702 14:33:50.955556 140420164540224 incremental_pipeline.cc:430] => Image sees 1782 / 2644 points\n",
            "I20250702 14:33:51.778977 140420164540224 incremental_pipeline.cc:42] Retriangulation and Global bundle adjustment\n",
            "I20250702 14:33:52.887404 140420164540224 incremental_pipeline.cc:427] Registering image #8 (num_reg_frames=6)\n",
            "I20250702 14:33:52.887428 140420164540224 incremental_pipeline.cc:430] => Image sees 1245 / 2587 points\n",
            "I20250702 14:33:53.704275 140420164540224 incremental_pipeline.cc:42] Retriangulation and Global bundle adjustment\n",
            "I20250702 14:33:54.703491 140420164540224 incremental_pipeline.cc:427] Registering image #1 (num_reg_frames=7)\n",
            "I20250702 14:33:54.703515 140420164540224 incremental_pipeline.cc:430] => Image sees 1651 / 2576 points\n",
            "I20250702 14:33:55.553287 140420164540224 incremental_pipeline.cc:42] Retriangulation and Global bundle adjustment\n"
          ]
        },
        {
          "name": "stdout",
          "output_type": "stream",
          "text": [
            "\u001b[0;37m2025-07-02 14:33:56 | [INFO    ] Reconstructed 1 model(s).\u001b[0m\n",
            "\u001b[0;37m2025-07-02 14:33:56 | [INFO    ] Largest model is #0 with 8 images.\u001b[0m\n",
            "\u001b[0;37m2025-07-02 14:33:56 | [INFO    ] Exporting model...\u001b[0m\n"
          ]
        },
        {
          "name": "stderr",
          "output_type": "stream",
          "text": [
            "I20250702 14:33:56.518462 140420164540224 incremental_pipeline.cc:581] Keeping successful reconstruction\n",
            "I20250702 14:33:56.519494 140420164540224 timer.cc:91] Elapsed time: 0.174 [minutes]\n"
          ]
        },
        {
          "ename": "AttributeError",
          "evalue": "'pycolmap._core.Reconstruction' object has no attribute 'export_bundler'",
          "output_type": "error",
          "traceback": [
            "\u001b[0;31m---------------------------------------------------------------------------\u001b[0m",
            "\u001b[0;31mAttributeError\u001b[0m                            Traceback (most recent call last)",
            "Cell \u001b[0;32mIn[4], line 1\u001b[0m\n\u001b[0;32m----> 1\u001b[0m model \u001b[38;5;241m=\u001b[39m \u001b[43mdim\u001b[49m\u001b[38;5;241;43m.\u001b[39;49m\u001b[43mreconstruction\u001b[49m\u001b[38;5;241;43m.\u001b[39;49m\u001b[43mpycolmap_reconstruction\u001b[49m\u001b[43m(\u001b[49m\n\u001b[1;32m      2\u001b[0m \u001b[43m    \u001b[49m\u001b[43mdatabase_path\u001b[49m\u001b[38;5;241;43m=\u001b[39;49m\u001b[43mconfig\u001b[49m\u001b[38;5;241;43m.\u001b[39;49m\u001b[43mgeneral\u001b[49m\u001b[43m[\u001b[49m\u001b[38;5;124;43m\"\u001b[39;49m\u001b[38;5;124;43moutput_dir\u001b[39;49m\u001b[38;5;124;43m\"\u001b[39;49m\u001b[43m]\u001b[49m\u001b[43m \u001b[49m\u001b[38;5;241;43m/\u001b[39;49m\u001b[43m \u001b[49m\u001b[38;5;124;43m\"\u001b[39;49m\u001b[38;5;124;43mdatabase.db\u001b[39;49m\u001b[38;5;124;43m\"\u001b[39;49m\u001b[43m,\u001b[49m\n\u001b[1;32m      3\u001b[0m \u001b[43m    \u001b[49m\u001b[43msfm_dir\u001b[49m\u001b[38;5;241;43m=\u001b[39;49m\u001b[43mconfig\u001b[49m\u001b[38;5;241;43m.\u001b[39;49m\u001b[43mgeneral\u001b[49m\u001b[43m[\u001b[49m\u001b[38;5;124;43m\"\u001b[39;49m\u001b[38;5;124;43moutput_dir\u001b[39;49m\u001b[38;5;124;43m\"\u001b[39;49m\u001b[43m]\u001b[49m\u001b[43m,\u001b[49m\n\u001b[1;32m      4\u001b[0m \u001b[43m    \u001b[49m\u001b[43mimage_dir\u001b[49m\u001b[38;5;241;43m=\u001b[39;49m\u001b[43mconfig\u001b[49m\u001b[38;5;241;43m.\u001b[39;49m\u001b[43mgeneral\u001b[49m\u001b[43m[\u001b[49m\u001b[38;5;124;43m\"\u001b[39;49m\u001b[38;5;124;43mimage_dir\u001b[39;49m\u001b[38;5;124;43m\"\u001b[39;49m\u001b[43m]\u001b[49m\u001b[43m,\u001b[49m\n\u001b[1;32m      5\u001b[0m \u001b[43m    \u001b[49m\u001b[43mrefine_intrinsics\u001b[49m\u001b[38;5;241;43m=\u001b[39;49m\u001b[38;5;28;43;01mFalse\u001b[39;49;00m\u001b[43m,\u001b[49m\n\u001b[1;32m      6\u001b[0m \u001b[43m)\u001b[49m\n",
            "File \u001b[0;32m~/dev/deep-image-matching/src/deep_image_matching/reconstruction.py:96\u001b[0m, in \u001b[0;36mpycolmap_reconstruction\u001b[0;34m(database_path, sfm_dir, image_dir, refine_intrinsics, options, export_text, export_bundler, export_ply, verbose)\u001b[0m\n\u001b[1;32m     94\u001b[0m     \u001b[38;5;28;01mif\u001b[39;00m export_bundler:\n\u001b[1;32m     95\u001b[0m         fname \u001b[38;5;241m=\u001b[39m \u001b[38;5;124m\"\u001b[39m\u001b[38;5;124mbundler\u001b[39m\u001b[38;5;124m\"\u001b[39m\n\u001b[0;32m---> 96\u001b[0m         \u001b[43mmodel\u001b[49m\u001b[38;5;241;43m.\u001b[39;49m\u001b[43mexport_bundler\u001b[49m(\n\u001b[1;32m     97\u001b[0m             reconstruction_dir \u001b[38;5;241m/\u001b[39m (fname \u001b[38;5;241m+\u001b[39m \u001b[38;5;124m\"\u001b[39m\u001b[38;5;124m.out\u001b[39m\u001b[38;5;124m\"\u001b[39m),\n\u001b[1;32m     98\u001b[0m             reconstruction_dir \u001b[38;5;241m/\u001b[39m (fname \u001b[38;5;241m+\u001b[39m \u001b[38;5;124m\"\u001b[39m\u001b[38;5;124m_list.txt\u001b[39m\u001b[38;5;124m\"\u001b[39m),\n\u001b[1;32m     99\u001b[0m             skip_distortion\u001b[38;5;241m=\u001b[39m\u001b[38;5;28;01mTrue\u001b[39;00m,\n\u001b[1;32m    100\u001b[0m         )\n\u001b[1;32m    102\u001b[0m \u001b[38;5;28;01mreturn\u001b[39;00m reconstructions[largest_index]\n",
            "\u001b[0;31mAttributeError\u001b[0m: 'pycolmap._core.Reconstruction' object has no attribute 'export_bundler'"
          ]
        }
      ],
      "source": [
        "# Optional - You can specify some reconstruction configuration\n",
        "# reconst_opts = (\n",
        "#     {\n",
        "#         \"ba_refine_focal_length\": True,\n",
        "#         \"ba_refine_principal_point\": False,\n",
        "#         \"ba_refine_extra_params\": False,\n",
        "#     },\n",
        "# )\n",
        "reconst_opts = {}\n",
        "model = dim.reconstruction.incremental_reconstruction(\n",
        "    database_path=output_dir / \"database.db\",\n",
        "    image_dir=imgs_dir,\n",
        "    sfm_dir=output_dir / \"reconstruction\",\n",
        "    reconstruction_options=reconst_opts,\n",
        "    refine_intrinsics=True,\n",
        "    ignore_two_view_tracks=True,\n",
        "    filter_min_tri_angle=None,\n",
        "    export_ply=True,\n",
        "    export_text=True,\n",
        "    export_bundler=False,\n",
        ")\n"
      ]
    }
  ],
  "metadata": {
    "kernelspec": {
      "display_name": "deep-image-matching (3.11.2)",
      "language": "python",
      "name": "python3"
    },
    "language_info": {
      "codemirror_mode": {
        "name": "ipython",
        "version": 3
      },
      "file_extension": ".py",
      "mimetype": "text/x-python",
      "name": "python",
      "nbconvert_exporter": "python",
      "pygments_lexer": "ipython3",
      "version": "3.11.2"
    }
  },
  "nbformat": 4,
  "nbformat_minor": 2
}
