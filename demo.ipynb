{
  "cells": [
    {
      "cell_type": "code",
      "execution_count": 6,
      "metadata": {
        "notebookRunGroups": {
          "groupValue": ""
        }
      },
      "outputs": [
        {
          "name": "stdout",
          "output_type": "stream",
          "text": [
            "\u001b[1;33m2024-05-14 11:27:49 | [WARNING ] assets/example_cyprus/results_sift+lightglue_bruteforce_quality_high already exists, but the '--force' option is used. Deleting the folder.\u001b[0m\n"
          ]
        }
      ],
      "source": [
        "import deep_image_matching as dim\n",
        "\n",
        "params = {\n",
        "    \"dir\": \"./assets/example_cyprus\",\n",
        "    \"pipeline\": \"sift+lightglue\",\n",
        "    \"strategy\": \"bruteforce\",\n",
        "    \"quality\": \"high\",\n",
        "    \"tiling\": \"none\",\n",
        "    \"camera_options\": \"./assets/example_cyprus/cameras.yaml\",\n",
        "    \"openmvg\": None,\n",
        "    \"verbose\": True,\n",
        "}\n",
        "config = dim.Config(params)"
      ]
    },
    {
      "cell_type": "code",
      "execution_count": 7,
      "metadata": {},
      "outputs": [],
      "source": [
        "config.extractor[\"n_features\"] = 10000\n",
        "config.extractor[\"nOctaveLayers\"] = 4\n",
        "config.extractor[\"contrastThreshold\"] = 0.001\n",
        "config.extractor[\"edgeThreshold\"] = 10\n",
        "config.extractor[\"sigma\"] = 1.6"
      ]
    },
    {
      "cell_type": "markdown",
      "metadata": {},
      "source": [
        "Run feature extraction and matching\n"
      ]
    },
    {
      "cell_type": "code",
      "execution_count": 8,
      "metadata": {},
      "outputs": [
        {
          "name": "stdout",
          "output_type": "stream",
          "text": [
            "\u001b[1;30m2024-05-14 11:27:49 | [DEBUG   ] Matching options: Quality: HIGH - Tiling: NONE\u001b[0m\n",
            "\u001b[1;30m2024-05-14 11:27:49 | [DEBUG   ] Saving directory: assets/example_cyprus/results_sift+lightglue_bruteforce_quality_high\u001b[0m\n",
            "\u001b[1;30m2024-05-14 11:27:49 | [DEBUG   ] Running inference on device cuda\u001b[0m\n",
            "\u001b[1;30m2024-05-14 11:27:49 | [DEBUG   ] Matching options: Tiling: NONE\u001b[0m\n",
            "\u001b[1;30m2024-05-14 11:27:49 | [DEBUG   ] Saving directory: assets/example_cyprus/results_sift+lightglue_bruteforce_quality_high\u001b[0m\n",
            "\u001b[1;30m2024-05-14 11:27:49 | [DEBUG   ] Running inference on device cuda\u001b[0m\n"
          ]
        },
        {
          "name": "stdout",
          "output_type": "stream",
          "text": [
            "Loaded LightGlue model\n",
            "\u001b[0;37m2024-05-14 11:27:49 | [INFO    ] Running image matching with the following configuration:\u001b[0m\n",
            "\u001b[0;37m2024-05-14 11:27:49 | [INFO    ]   Image folder: assets/example_cyprus/images\u001b[0m\n",
            "\u001b[0;37m2024-05-14 11:27:49 | [INFO    ]   Output folder: assets/example_cyprus/results_sift+lightglue_bruteforce_quality_high\u001b[0m\n",
            "\u001b[0;37m2024-05-14 11:27:49 | [INFO    ]   Number of images: 10\u001b[0m\n",
            "\u001b[0;37m2024-05-14 11:27:49 | [INFO    ]   Matching strategy: bruteforce\u001b[0m\n",
            "\u001b[0;37m2024-05-14 11:27:49 | [INFO    ]   Image quality: HIGH\u001b[0m\n",
            "\u001b[0;37m2024-05-14 11:27:49 | [INFO    ]   Tile selection: NONE\u001b[0m\n",
            "\u001b[0;37m2024-05-14 11:27:49 | [INFO    ]   Feature extraction method: sift\u001b[0m\n",
            "\u001b[0;37m2024-05-14 11:27:49 | [INFO    ]   Matching method: lightglue\u001b[0m\n",
            "\u001b[0;37m2024-05-14 11:27:49 | [INFO    ]   Geometric verification: PYDEGENSAC\u001b[0m\n",
            "\u001b[0;37m2024-05-14 11:27:49 | [INFO    ]   CUDA available: True\u001b[0m\n",
            "\u001b[1;30m2024-05-14 11:27:49 | [DEBUG   ] Bruteforce matching, generating pairs ..\u001b[0m\n",
            "\u001b[0;37m2024-05-14 11:27:49 | [INFO    ] Number of pairs: 45\u001b[0m\n",
            "\u001b[0;37m2024-05-14 11:27:49 | [INFO    ] Found 45 pairs.\u001b[0m\n",
            "\u001b[0;37m2024-05-14 11:27:49 | [INFO    ] Extracting features with sift...\u001b[0m\n",
            "\u001b[0;37m2024-05-14 11:27:49 | [INFO    ] sift configuration: \u001b[0m\n",
            "{'contrastThreshold': 0.001,\n",
            " 'edgeThreshold': 10,\n",
            " 'nOctaveLayers': 4,\n",
            " 'n_features': 10000,\n",
            " 'name': 'sift',\n",
            " 'sigma': 1.6}\n"
          ]
        },
        {
          "name": "stderr",
          "output_type": "stream",
          "text": [
            "  0%|          | 0/10 [00:00<?, ?it/s]"
          ]
        },
        {
          "name": "stdout",
          "output_type": "stream",
          "text": [
            "\u001b[1;30m2024-05-14 11:27:49 | [DEBUG   ] Extracted 10000 keypoints\u001b[0m\n"
          ]
        },
        {
          "name": "stderr",
          "output_type": "stream",
          "text": [
            " 10%|█         | 1/10 [00:00<00:07,  1.28it/s]"
          ]
        },
        {
          "name": "stdout",
          "output_type": "stream",
          "text": [
            "\u001b[1;30m2024-05-14 11:27:50 | [DEBUG   ] Extracted 10000 keypoints\u001b[0m\n"
          ]
        },
        {
          "name": "stderr",
          "output_type": "stream",
          "text": [
            " 20%|██        | 2/10 [00:01<00:06,  1.30it/s]"
          ]
        },
        {
          "name": "stdout",
          "output_type": "stream",
          "text": [
            "\u001b[1;30m2024-05-14 11:27:51 | [DEBUG   ] Extracted 10000 keypoints\u001b[0m\n"
          ]
        },
        {
          "name": "stderr",
          "output_type": "stream",
          "text": [
            " 30%|███       | 3/10 [00:02<00:05,  1.30it/s]"
          ]
        },
        {
          "name": "stdout",
          "output_type": "stream",
          "text": [
            "\u001b[1;30m2024-05-14 11:27:52 | [DEBUG   ] Extracted 10000 keypoints\u001b[0m\n"
          ]
        },
        {
          "name": "stderr",
          "output_type": "stream",
          "text": [
            " 40%|████      | 4/10 [00:03<00:04,  1.30it/s]"
          ]
        },
        {
          "name": "stdout",
          "output_type": "stream",
          "text": [
            "\u001b[1;30m2024-05-14 11:27:53 | [DEBUG   ] Extracted 10000 keypoints\u001b[0m\n"
          ]
        },
        {
          "name": "stderr",
          "output_type": "stream",
          "text": [
            " 50%|█████     | 5/10 [00:03<00:03,  1.31it/s]"
          ]
        },
        {
          "name": "stdout",
          "output_type": "stream",
          "text": [
            "\u001b[1;30m2024-05-14 11:27:53 | [DEBUG   ] Extracted 10000 keypoints\u001b[0m\n"
          ]
        },
        {
          "name": "stderr",
          "output_type": "stream",
          "text": [
            " 60%|██████    | 6/10 [00:04<00:03,  1.33it/s]"
          ]
        },
        {
          "name": "stdout",
          "output_type": "stream",
          "text": [
            "\u001b[1;30m2024-05-14 11:27:54 | [DEBUG   ] Extracted 10000 keypoints\u001b[0m\n"
          ]
        },
        {
          "name": "stderr",
          "output_type": "stream",
          "text": [
            " 70%|███████   | 7/10 [00:05<00:02,  1.30it/s]"
          ]
        },
        {
          "name": "stdout",
          "output_type": "stream",
          "text": [
            "\u001b[1;30m2024-05-14 11:27:55 | [DEBUG   ] Extracted 10001 keypoints\u001b[0m\n"
          ]
        },
        {
          "name": "stderr",
          "output_type": "stream",
          "text": [
            " 80%|████████  | 8/10 [00:06<00:01,  1.29it/s]"
          ]
        },
        {
          "name": "stdout",
          "output_type": "stream",
          "text": [
            "\u001b[1;30m2024-05-14 11:27:56 | [DEBUG   ] Extracted 10000 keypoints\u001b[0m\n"
          ]
        },
        {
          "name": "stderr",
          "output_type": "stream",
          "text": [
            " 90%|█████████ | 9/10 [00:06<00:00,  1.29it/s]"
          ]
        },
        {
          "name": "stdout",
          "output_type": "stream",
          "text": [
            "\u001b[1;30m2024-05-14 11:27:56 | [DEBUG   ] Extracted 10000 keypoints\u001b[0m\n"
          ]
        },
        {
          "name": "stderr",
          "output_type": "stream",
          "text": [
            "100%|██████████| 10/10 [00:07<00:00,  1.30it/s]"
          ]
        },
        {
          "name": "stdout",
          "output_type": "stream",
          "text": [
            "\u001b[0;37m2024-05-14 11:27:57 | [INFO    ] Features extracted!\u001b[0m\n",
            "\u001b[0;37m2024-05-14 11:27:57 | [INFO    ] Matching features with lightglue...\u001b[0m\n",
            "\u001b[0;37m2024-05-14 11:27:57 | [INFO    ] lightglue configuration: \u001b[0m\n",
            "{'add_laf': False,\n",
            " 'add_scale_ori': False,\n",
            " 'depth_confidence': 0.95,\n",
            " 'descriptor_dim': 256,\n",
            " 'filter_threshold': 0.1,\n",
            " 'flash': True,\n",
            " 'input_dim': 256,\n",
            " 'mp': False,\n",
            " 'n_layers': 9,\n",
            " 'name': 'lightglue',\n",
            " 'num_heads': 4,\n",
            " 'scale_coef': 1.0,\n",
            " 'weights': None,\n",
            " 'width_confidence': 0.99}\n",
            "\u001b[0;37m2024-05-14 11:27:57 | [INFO    ] Matching features...\u001b[0m\n",
            "\u001b[0;37m2024-05-14 11:27:57 | [INFO    ] \u001b[0m\n"
          ]
        },
        {
          "name": "stderr",
          "output_type": "stream",
          "text": [
            "\n",
            "  0%|          | 0/45 [00:00<?, ?it/s]"
          ]
        },
        {
          "name": "stdout",
          "output_type": "stream",
          "text": [
            "\u001b[1;30m2024-05-14 11:27:57 | [DEBUG   ] Matching image pair: DSC_6466.JPG - DSC_6467.JPG\u001b[0m\n",
            "\u001b[1;33m2024-05-14 11:27:57 | [WARNING ] Cannot find scores in assets/example_cyprus/results_sift+lightglue_bruteforce_quality_high/features.h5\u001b[0m\n",
            "\u001b[1;33m2024-05-14 11:27:57 | [WARNING ] Cannot find scores in assets/example_cyprus/results_sift+lightglue_bruteforce_quality_high/features.h5\u001b[0m\n",
            "\u001b[1;30m2024-05-14 11:27:57 | [DEBUG   ] Tile selection was NONE. Matching full images...\u001b[0m\n",
            "\u001b[1;30m2024-05-14 11:27:57 | [DEBUG   ] [Timer] | [MatcherBase match] load h5 features=0.044, match full images=0.109, save to h5=0.001, Total execution=0.155\u001b[0m\n",
            "\u001b[1;30m2024-05-14 11:27:57 | [DEBUG   ] PYDEGENSAC found 364 inliers (84.26%)\u001b[0m\n",
            "\u001b[1;30m2024-05-14 11:27:57 | [DEBUG   ] Estiamted Fundamental matrix: \n",
            "[[-4.47000558e-07  1.74589082e-06 -9.47616664e-04]\n",
            " [ 2.84801520e-07 -2.19748748e-07  4.14258262e-03]\n",
            " [ 1.02903008e-03 -4.78535203e-03 -8.56016270e-01]]\u001b[0m\n",
            "\u001b[1;30m2024-05-14 11:27:57 | [DEBUG   ] [Timer] | [MatcherBase match] Geom. verification=0.113, save to h5=0.001, Total execution=0.113\u001b[0m\n",
            "\u001b[1;30m2024-05-14 11:27:57 | [DEBUG   ] Matching DSC_6466.JPG-DSC_6467.JPG done!\u001b[0m\n",
            "\u001b[1;33m2024-05-14 11:27:57 | [WARNING ] Cannot find scores in assets/example_cyprus/results_sift+lightglue_bruteforce_quality_high/features.h5\u001b[0m\n",
            "\u001b[1;33m2024-05-14 11:27:57 | [WARNING ] Cannot find scores in assets/example_cyprus/results_sift+lightglue_bruteforce_quality_high/features.h5\u001b[0m\n"
          ]
        },
        {
          "name": "stderr",
          "output_type": "stream",
          "text": [
            "  2%|▏         | 1/45 [00:00<00:17,  2.46it/s]"
          ]
        },
        {
          "name": "stdout",
          "output_type": "stream",
          "text": [
            "\u001b[1;30m2024-05-14 11:27:57 | [DEBUG   ] Matching image pair: DSC_6466.JPG - DSC_6468.JPG\u001b[0m\n",
            "\u001b[1;33m2024-05-14 11:27:57 | [WARNING ] Cannot find scores in assets/example_cyprus/results_sift+lightglue_bruteforce_quality_high/features.h5\u001b[0m\n",
            "\u001b[1;33m2024-05-14 11:27:57 | [WARNING ] Cannot find scores in assets/example_cyprus/results_sift+lightglue_bruteforce_quality_high/features.h5\u001b[0m\n",
            "\u001b[1;30m2024-05-14 11:27:57 | [DEBUG   ] Tile selection was NONE. Matching full images...\u001b[0m\n",
            "\u001b[1;30m2024-05-14 11:27:57 | [DEBUG   ] [Timer] | [MatcherBase match] load h5 features=0.042, match full images=0.095, save to h5=0.001, Total execution=0.138\u001b[0m\n",
            "\u001b[1;30m2024-05-14 11:27:58 | [DEBUG   ] PYDEGENSAC found 466 inliers (88.59%)\u001b[0m\n",
            "\u001b[1;30m2024-05-14 11:27:58 | [DEBUG   ] Estiamted Fundamental matrix: \n",
            "[[ 7.45216447e-08  7.39321786e-05 -5.81429746e-03]\n",
            " [-1.70738526e-05  8.48968815e-07  1.08765822e+00]\n",
            " [ 1.68646410e-02  1.00000000e+00 -1.08877477e+03]]\u001b[0m\n",
            "\u001b[1;30m2024-05-14 11:27:58 | [DEBUG   ] [Timer] | [MatcherBase match] Geom. verification=0.097, save to h5=0.001, Total execution=0.098\u001b[0m\n",
            "\u001b[1;30m2024-05-14 11:27:58 | [DEBUG   ] Matching DSC_6466.JPG-DSC_6468.JPG done!\u001b[0m\n",
            "\u001b[1;33m2024-05-14 11:27:58 | [WARNING ] Cannot find scores in assets/example_cyprus/results_sift+lightglue_bruteforce_quality_high/features.h5\u001b[0m\n",
            "\u001b[1;33m2024-05-14 11:27:58 | [WARNING ] Cannot find scores in assets/example_cyprus/results_sift+lightglue_bruteforce_quality_high/features.h5\u001b[0m\n"
          ]
        },
        {
          "name": "stderr",
          "output_type": "stream",
          "text": [
            "  4%|▍         | 2/45 [00:00<00:16,  2.54it/s]"
          ]
        },
        {
          "name": "stdout",
          "output_type": "stream",
          "text": [
            "\u001b[1;30m2024-05-14 11:27:58 | [DEBUG   ] Matching image pair: DSC_6466.JPG - DSC_6469.JPG\u001b[0m\n",
            "\u001b[1;33m2024-05-14 11:27:58 | [WARNING ] Cannot find scores in assets/example_cyprus/results_sift+lightglue_bruteforce_quality_high/features.h5\u001b[0m\n",
            "\u001b[1;33m2024-05-14 11:27:58 | [WARNING ] Cannot find scores in assets/example_cyprus/results_sift+lightglue_bruteforce_quality_high/features.h5\u001b[0m\n",
            "\u001b[1;30m2024-05-14 11:27:58 | [DEBUG   ] Tile selection was NONE. Matching full images...\u001b[0m\n",
            "\u001b[1;30m2024-05-14 11:27:58 | [DEBUG   ] [Timer] | [MatcherBase match] load h5 features=0.043, match full images=0.100, save to h5=0.001, Total execution=0.143\u001b[0m\n",
            "\u001b[1;30m2024-05-14 11:27:58 | [DEBUG   ] PYDEGENSAC found 253 inliers (73.76%)\u001b[0m\n",
            "\u001b[1;30m2024-05-14 11:27:58 | [DEBUG   ] Estiamted Fundamental matrix: \n",
            "[[ 6.79448833e-08 -2.65582588e-08  1.78861840e-03]\n",
            " [-3.27448513e-07  3.01775893e-07 -1.79851171e-03]\n",
            " [-1.69250144e-03  1.81064915e-03  5.50163527e-01]]\u001b[0m\n",
            "\u001b[1;30m2024-05-14 11:27:58 | [DEBUG   ] [Timer] | [MatcherBase match] Geom. verification=0.010, save to h5=0.001, Total execution=0.011\u001b[0m\n",
            "\u001b[1;30m2024-05-14 11:27:58 | [DEBUG   ] Matching DSC_6466.JPG-DSC_6469.JPG done!\u001b[0m\n",
            "\u001b[1;33m2024-05-14 11:27:58 | [WARNING ] Cannot find scores in assets/example_cyprus/results_sift+lightglue_bruteforce_quality_high/features.h5\u001b[0m\n",
            "\u001b[1;33m2024-05-14 11:27:58 | [WARNING ] Cannot find scores in assets/example_cyprus/results_sift+lightglue_bruteforce_quality_high/features.h5\u001b[0m\n"
          ]
        },
        {
          "name": "stderr",
          "output_type": "stream",
          "text": [
            "  7%|▋         | 3/45 [00:01<00:14,  2.84it/s]"
          ]
        },
        {
          "name": "stdout",
          "output_type": "stream",
          "text": [
            "\u001b[1;30m2024-05-14 11:27:58 | [DEBUG   ] Matching image pair: DSC_6466.JPG - DSC_6470.JPG\u001b[0m\n",
            "\u001b[1;33m2024-05-14 11:27:58 | [WARNING ] Cannot find scores in assets/example_cyprus/results_sift+lightglue_bruteforce_quality_high/features.h5\u001b[0m\n",
            "\u001b[1;33m2024-05-14 11:27:58 | [WARNING ] Cannot find scores in assets/example_cyprus/results_sift+lightglue_bruteforce_quality_high/features.h5\u001b[0m\n",
            "\u001b[1;30m2024-05-14 11:27:58 | [DEBUG   ] Tile selection was NONE. Matching full images...\u001b[0m\n",
            "\u001b[1;30m2024-05-14 11:27:58 | [DEBUG   ] [Timer] | [MatcherBase match] load h5 features=0.043, match full images=0.101, save to h5=0.001, Total execution=0.146\u001b[0m\n",
            "\u001b[1;30m2024-05-14 11:27:58 | [DEBUG   ] PYDEGENSAC found 103 inliers (55.08%)\u001b[0m\n",
            "\u001b[1;30m2024-05-14 11:27:58 | [DEBUG   ] Estiamted Fundamental matrix: \n",
            "[[-2.23183022e-08 -3.43458518e-07 -5.28681365e-04]\n",
            " [ 5.25938091e-07 -1.71851375e-07  3.00237330e-03]\n",
            " [ 5.13559680e-04 -3.08689442e-03 -4.07857576e-01]]\u001b[0m\n",
            "\u001b[1;30m2024-05-14 11:27:58 | [DEBUG   ] [Timer] | [MatcherBase match] Geom. verification=0.039, save to h5=0.001, Total execution=0.040\u001b[0m\n",
            "\u001b[1;30m2024-05-14 11:27:58 | [DEBUG   ] Matching DSC_6466.JPG-DSC_6470.JPG done!\u001b[0m\n",
            "\u001b[1;33m2024-05-14 11:27:58 | [WARNING ] Cannot find scores in assets/example_cyprus/results_sift+lightglue_bruteforce_quality_high/features.h5\u001b[0m\n",
            "\u001b[1;33m2024-05-14 11:27:58 | [WARNING ] Cannot find scores in assets/example_cyprus/results_sift+lightglue_bruteforce_quality_high/features.h5\u001b[0m\n"
          ]
        },
        {
          "name": "stderr",
          "output_type": "stream",
          "text": [
            "  9%|▉         | 4/45 [00:01<00:13,  2.94it/s]"
          ]
        },
        {
          "name": "stdout",
          "output_type": "stream",
          "text": [
            "\u001b[1;30m2024-05-14 11:27:58 | [DEBUG   ] Matching image pair: DSC_6466.JPG - DSC_6471.JPG\u001b[0m\n",
            "\u001b[1;33m2024-05-14 11:27:58 | [WARNING ] Cannot find scores in assets/example_cyprus/results_sift+lightglue_bruteforce_quality_high/features.h5\u001b[0m\n",
            "\u001b[1;33m2024-05-14 11:27:58 | [WARNING ] Cannot find scores in assets/example_cyprus/results_sift+lightglue_bruteforce_quality_high/features.h5\u001b[0m\n",
            "\u001b[1;30m2024-05-14 11:27:58 | [DEBUG   ] Tile selection was NONE. Matching full images...\u001b[0m\n",
            "\u001b[1;30m2024-05-14 11:27:58 | [DEBUG   ] [Timer] | [MatcherBase match] load h5 features=0.044, match full images=0.100, save to h5=0.001, Total execution=0.144\u001b[0m\n",
            "\u001b[1;30m2024-05-14 11:27:58 | [DEBUG   ] PYDEGENSAC found 160 inliers (66.39%)\u001b[0m\n",
            "\u001b[1;30m2024-05-14 11:27:58 | [DEBUG   ] Estiamted Fundamental matrix: \n",
            "[[-3.50190443e-07  2.22578481e-07 -2.25834021e-03]\n",
            " [ 1.51805431e-07 -1.03619624e-06 -4.02192289e-04]\n",
            " [ 5.86089189e-04 -1.46607723e-03  2.17232554e+00]]\u001b[0m\n",
            "\u001b[1;30m2024-05-14 11:27:58 | [DEBUG   ] [Timer] | [MatcherBase match] Geom. verification=0.046, save to h5=0.001, Total execution=0.047\u001b[0m\n",
            "\u001b[1;30m2024-05-14 11:27:58 | [DEBUG   ] Matching DSC_6466.JPG-DSC_6471.JPG done!\u001b[0m\n",
            "\u001b[1;33m2024-05-14 11:27:59 | [WARNING ] Cannot find scores in assets/example_cyprus/results_sift+lightglue_bruteforce_quality_high/features.h5\u001b[0m\n",
            "\u001b[1;33m2024-05-14 11:27:59 | [WARNING ] Cannot find scores in assets/example_cyprus/results_sift+lightglue_bruteforce_quality_high/features.h5\u001b[0m\n"
          ]
        },
        {
          "name": "stderr",
          "output_type": "stream",
          "text": [
            " 11%|█         | 5/45 [00:01<00:13,  2.93it/s]"
          ]
        },
        {
          "name": "stdout",
          "output_type": "stream",
          "text": [
            "\u001b[1;30m2024-05-14 11:27:59 | [DEBUG   ] Matching image pair: DSC_6466.JPG - DSC_6472.JPG\u001b[0m\n",
            "\u001b[1;33m2024-05-14 11:27:59 | [WARNING ] Cannot find scores in assets/example_cyprus/results_sift+lightglue_bruteforce_quality_high/features.h5\u001b[0m\n",
            "\u001b[1;33m2024-05-14 11:27:59 | [WARNING ] Cannot find scores in assets/example_cyprus/results_sift+lightglue_bruteforce_quality_high/features.h5\u001b[0m\n",
            "\u001b[1;30m2024-05-14 11:27:59 | [DEBUG   ] Tile selection was NONE. Matching full images...\u001b[0m\n",
            "\u001b[1;30m2024-05-14 11:27:59 | [DEBUG   ] [Timer] | [MatcherBase match] load h5 features=0.044, match full images=0.097, save to h5=0.001, Total execution=0.142\u001b[0m\n",
            "\u001b[1;30m2024-05-14 11:27:59 | [DEBUG   ] PYDEGENSAC found 57 inliers (38.78%)\u001b[0m\n",
            "\u001b[1;30m2024-05-14 11:27:59 | [DEBUG   ] Estiamted Fundamental matrix: \n",
            "[[-3.67487605e-09 -4.55152067e-08 -4.54649500e-04]\n",
            " [ 1.10155001e-07 -1.77971143e-07  3.43485494e-03]\n",
            " [ 5.14775325e-04 -3.31779700e-03 -3.79408196e-01]]\u001b[0m\n",
            "\u001b[1;30m2024-05-14 11:27:59 | [DEBUG   ] [Timer] | [MatcherBase match] Geom. verification=0.032, save to h5=0.001, Total execution=0.033\u001b[0m\n",
            "\u001b[1;30m2024-05-14 11:27:59 | [DEBUG   ] Matching DSC_6466.JPG-DSC_6472.JPG done!\u001b[0m\n",
            "\u001b[1;33m2024-05-14 11:27:59 | [WARNING ] Cannot find scores in assets/example_cyprus/results_sift+lightglue_bruteforce_quality_high/features.h5\u001b[0m\n",
            "\u001b[1;33m2024-05-14 11:27:59 | [WARNING ] Cannot find scores in assets/example_cyprus/results_sift+lightglue_bruteforce_quality_high/features.h5\u001b[0m\n"
          ]
        },
        {
          "name": "stderr",
          "output_type": "stream",
          "text": [
            " 13%|█▎        | 6/45 [00:02<00:13,  2.96it/s]"
          ]
        },
        {
          "name": "stdout",
          "output_type": "stream",
          "text": [
            "\u001b[1;30m2024-05-14 11:27:59 | [DEBUG   ] Matching image pair: DSC_6466.JPG - DSC_6473.JPG\u001b[0m\n",
            "\u001b[1;33m2024-05-14 11:27:59 | [WARNING ] Cannot find scores in assets/example_cyprus/results_sift+lightglue_bruteforce_quality_high/features.h5\u001b[0m\n",
            "\u001b[1;33m2024-05-14 11:27:59 | [WARNING ] Cannot find scores in assets/example_cyprus/results_sift+lightglue_bruteforce_quality_high/features.h5\u001b[0m\n",
            "\u001b[1;30m2024-05-14 11:27:59 | [DEBUG   ] Tile selection was NONE. Matching full images...\u001b[0m\n",
            "\u001b[1;30m2024-05-14 11:27:59 | [DEBUG   ] [Timer] | [MatcherBase match] load h5 features=0.046, match full images=0.098, save to h5=0.001, Total execution=0.145\u001b[0m\n",
            "\u001b[1;30m2024-05-14 11:27:59 | [DEBUG   ] PYDEGENSAC found 111 inliers (57.22%)\u001b[0m\n",
            "\u001b[1;30m2024-05-14 11:27:59 | [DEBUG   ] Estiamted Fundamental matrix: \n",
            "[[ 1.67176116e-07 -1.04787499e-06 -3.09598098e-04]\n",
            " [ 8.28954710e-08 -2.44432383e-07  2.79737173e-03]\n",
            " [ 2.44007734e-04 -1.50866154e-03 -2.28812759e-01]]\u001b[0m\n",
            "\u001b[1;30m2024-05-14 11:27:59 | [DEBUG   ] [Timer] | [MatcherBase match] Geom. verification=0.011, save to h5=0.001, Total execution=0.012\u001b[0m\n",
            "\u001b[1;30m2024-05-14 11:27:59 | [DEBUG   ] Matching DSC_6466.JPG-DSC_6473.JPG done!\u001b[0m\n",
            "\u001b[1;33m2024-05-14 11:27:59 | [WARNING ] Cannot find scores in assets/example_cyprus/results_sift+lightglue_bruteforce_quality_high/features.h5\u001b[0m\n",
            "\u001b[1;33m2024-05-14 11:27:59 | [WARNING ] Cannot find scores in assets/example_cyprus/results_sift+lightglue_bruteforce_quality_high/features.h5\u001b[0m\n"
          ]
        },
        {
          "name": "stderr",
          "output_type": "stream",
          "text": [
            " 16%|█▌        | 7/45 [00:02<00:12,  3.08it/s]"
          ]
        },
        {
          "name": "stdout",
          "output_type": "stream",
          "text": [
            "\u001b[1;30m2024-05-14 11:27:59 | [DEBUG   ] Matching image pair: DSC_6466.JPG - DSC_6474.JPG\u001b[0m\n",
            "\u001b[1;33m2024-05-14 11:27:59 | [WARNING ] Cannot find scores in assets/example_cyprus/results_sift+lightglue_bruteforce_quality_high/features.h5\u001b[0m\n",
            "\u001b[1;33m2024-05-14 11:27:59 | [WARNING ] Cannot find scores in assets/example_cyprus/results_sift+lightglue_bruteforce_quality_high/features.h5\u001b[0m\n",
            "\u001b[1;30m2024-05-14 11:27:59 | [DEBUG   ] Tile selection was NONE. Matching full images...\u001b[0m\n",
            "\u001b[1;30m2024-05-14 11:27:59 | [DEBUG   ] [Timer] | [MatcherBase match] load h5 features=0.043, match full images=0.099, save to h5=0.001, Total execution=0.143\u001b[0m\n",
            "\u001b[1;30m2024-05-14 11:27:59 | [DEBUG   ] PYDEGENSAC found 22 inliers (18.03%)\u001b[0m\n",
            "\u001b[1;30m2024-05-14 11:27:59 | [DEBUG   ] Estiamted Fundamental matrix: \n",
            "[[ 1.31466864e-07  5.52310923e-06 -2.44285944e-02]\n",
            " [ 8.19805523e-06  1.27001408e-04 -1.13767855e+00]\n",
            " [-1.64012909e-02  1.00000000e+00  5.15531734e+01]]\u001b[0m\n",
            "\u001b[1;30m2024-05-14 11:27:59 | [DEBUG   ] Too small inlier ratio (18.03%). Skipping image pair DSC_6466.JPG-DSC_6474.JPG\u001b[0m\n",
            "\u001b[1;30m2024-05-14 11:27:59 | [DEBUG   ] [Timer] | [MatcherBase match] Total execution=0.021\u001b[0m\n"
          ]
        },
        {
          "name": "stderr",
          "output_type": "stream",
          "text": [
            " 18%|█▊        | 8/45 [00:02<00:10,  3.65it/s]"
          ]
        },
        {
          "name": "stdout",
          "output_type": "stream",
          "text": [
            "\u001b[1;30m2024-05-14 11:27:59 | [DEBUG   ] Matching image pair: DSC_6466.JPG - DSC_6475.JPG\u001b[0m\n",
            "\u001b[1;33m2024-05-14 11:27:59 | [WARNING ] Cannot find scores in assets/example_cyprus/results_sift+lightglue_bruteforce_quality_high/features.h5\u001b[0m\n",
            "\u001b[1;33m2024-05-14 11:27:59 | [WARNING ] Cannot find scores in assets/example_cyprus/results_sift+lightglue_bruteforce_quality_high/features.h5\u001b[0m\n",
            "\u001b[1;30m2024-05-14 11:27:59 | [DEBUG   ] Tile selection was NONE. Matching full images...\u001b[0m\n",
            "\u001b[1;30m2024-05-14 11:28:00 | [DEBUG   ] [Timer] | [MatcherBase match] load h5 features=0.043, match full images=0.098, save to h5=0.001, Total execution=0.142\u001b[0m\n",
            "\u001b[1;30m2024-05-14 11:28:00 | [DEBUG   ] PYDEGENSAC found 50 inliers (34.48%)\u001b[0m\n",
            "\u001b[1;30m2024-05-14 11:28:00 | [DEBUG   ] Estiamted Fundamental matrix: \n",
            "[[-1.79403244e-05  1.06587275e-03 -2.55043902e-01]\n",
            " [-3.44751807e-04  8.29546609e-05 -1.91308253e+00]\n",
            " [ 7.19425748e-02  1.00000000e+00  2.50211317e+02]]\u001b[0m\n",
            "\u001b[1;30m2024-05-14 11:28:00 | [DEBUG   ] [Timer] | [MatcherBase match] Geom. verification=0.022, save to h5=0.001, Total execution=0.023\u001b[0m\n",
            "\u001b[1;30m2024-05-14 11:28:00 | [DEBUG   ] Matching DSC_6466.JPG-DSC_6475.JPG done!\u001b[0m\n",
            "\u001b[1;33m2024-05-14 11:28:00 | [WARNING ] Cannot find scores in assets/example_cyprus/results_sift+lightglue_bruteforce_quality_high/features.h5\u001b[0m\n",
            "\u001b[1;33m2024-05-14 11:28:00 | [WARNING ] Cannot find scores in assets/example_cyprus/results_sift+lightglue_bruteforce_quality_high/features.h5\u001b[0m\n"
          ]
        },
        {
          "name": "stderr",
          "output_type": "stream",
          "text": [
            " 20%|██        | 9/45 [00:02<00:10,  3.52it/s]"
          ]
        },
        {
          "name": "stdout",
          "output_type": "stream",
          "text": [
            "\u001b[1;30m2024-05-14 11:28:00 | [DEBUG   ] Matching image pair: DSC_6467.JPG - DSC_6468.JPG\u001b[0m\n",
            "\u001b[1;33m2024-05-14 11:28:00 | [WARNING ] Cannot find scores in assets/example_cyprus/results_sift+lightglue_bruteforce_quality_high/features.h5\u001b[0m\n",
            "\u001b[1;33m2024-05-14 11:28:00 | [WARNING ] Cannot find scores in assets/example_cyprus/results_sift+lightglue_bruteforce_quality_high/features.h5\u001b[0m\n",
            "\u001b[1;30m2024-05-14 11:28:00 | [DEBUG   ] Tile selection was NONE. Matching full images...\u001b[0m\n",
            "\u001b[1;30m2024-05-14 11:28:00 | [DEBUG   ] [Timer] | [MatcherBase match] load h5 features=0.046, match full images=0.098, save to h5=0.001, Total execution=0.145\u001b[0m\n",
            "\u001b[1;30m2024-05-14 11:28:00 | [DEBUG   ] PYDEGENSAC found 375 inliers (88.65%)\u001b[0m\n",
            "\u001b[1;30m2024-05-14 11:28:00 | [DEBUG   ] Estiamted Fundamental matrix: \n",
            "[[-9.35469048e-06  1.01477441e-04 -4.21718598e-03]\n",
            " [-5.17525359e-04  5.08365937e-05  1.27114216e+00]\n",
            " [ 3.98311958e-01  1.00000000e+00 -1.25934265e+03]]\u001b[0m\n",
            "\u001b[1;30m2024-05-14 11:28:00 | [DEBUG   ] [Timer] | [MatcherBase match] Geom. verification=0.087, save to h5=0.001, Total execution=0.088\u001b[0m\n",
            "\u001b[1;30m2024-05-14 11:28:00 | [DEBUG   ] Matching DSC_6467.JPG-DSC_6468.JPG done!\u001b[0m\n",
            "\u001b[1;33m2024-05-14 11:28:00 | [WARNING ] Cannot find scores in assets/example_cyprus/results_sift+lightglue_bruteforce_quality_high/features.h5\u001b[0m\n",
            "\u001b[1;33m2024-05-14 11:28:00 | [WARNING ] Cannot find scores in assets/example_cyprus/results_sift+lightglue_bruteforce_quality_high/features.h5\u001b[0m\n"
          ]
        },
        {
          "name": "stderr",
          "output_type": "stream",
          "text": [
            " 22%|██▏       | 10/45 [00:03<00:10,  3.22it/s]"
          ]
        },
        {
          "name": "stdout",
          "output_type": "stream",
          "text": [
            "\u001b[1;30m2024-05-14 11:28:00 | [DEBUG   ] Matching image pair: DSC_6467.JPG - DSC_6469.JPG\u001b[0m\n",
            "\u001b[1;33m2024-05-14 11:28:00 | [WARNING ] Cannot find scores in assets/example_cyprus/results_sift+lightglue_bruteforce_quality_high/features.h5\u001b[0m\n",
            "\u001b[1;33m2024-05-14 11:28:00 | [WARNING ] Cannot find scores in assets/example_cyprus/results_sift+lightglue_bruteforce_quality_high/features.h5\u001b[0m\n",
            "\u001b[1;30m2024-05-14 11:28:00 | [DEBUG   ] Tile selection was NONE. Matching full images...\u001b[0m\n",
            "\u001b[1;30m2024-05-14 11:28:00 | [DEBUG   ] [Timer] | [MatcherBase match] load h5 features=0.042, match full images=0.103, save to h5=0.001, Total execution=0.147\u001b[0m\n",
            "\u001b[1;30m2024-05-14 11:28:00 | [DEBUG   ] PYDEGENSAC found 219 inliers (75.26%)\u001b[0m\n",
            "\u001b[1;30m2024-05-14 11:28:00 | [DEBUG   ] Estiamted Fundamental matrix: \n",
            "[[-3.95157827e-04 -4.55770758e-05  1.12993828e+00]\n",
            " [ 3.31183574e-04  1.29384199e-04 -1.16350743e+00]\n",
            " [-6.87967024e-01  1.00000000e+00 -5.95466348e+02]]\u001b[0m\n",
            "\u001b[1;30m2024-05-14 11:28:00 | [DEBUG   ] [Timer] | [MatcherBase match] Geom. verification=0.045, save to h5=0.001, Total execution=0.046\u001b[0m\n",
            "\u001b[1;30m2024-05-14 11:28:00 | [DEBUG   ] Matching DSC_6467.JPG-DSC_6469.JPG done!\u001b[0m\n",
            "\u001b[1;33m2024-05-14 11:28:00 | [WARNING ] Cannot find scores in assets/example_cyprus/results_sift+lightglue_bruteforce_quality_high/features.h5\u001b[0m\n",
            "\u001b[1;33m2024-05-14 11:28:00 | [WARNING ] Cannot find scores in assets/example_cyprus/results_sift+lightglue_bruteforce_quality_high/features.h5\u001b[0m\n"
          ]
        },
        {
          "name": "stderr",
          "output_type": "stream",
          "text": [
            " 24%|██▍       | 11/45 [00:03<00:10,  3.17it/s]"
          ]
        },
        {
          "name": "stdout",
          "output_type": "stream",
          "text": [
            "\u001b[1;30m2024-05-14 11:28:00 | [DEBUG   ] Matching image pair: DSC_6467.JPG - DSC_6470.JPG\u001b[0m\n",
            "\u001b[1;33m2024-05-14 11:28:00 | [WARNING ] Cannot find scores in assets/example_cyprus/results_sift+lightglue_bruteforce_quality_high/features.h5\u001b[0m\n",
            "\u001b[1;33m2024-05-14 11:28:00 | [WARNING ] Cannot find scores in assets/example_cyprus/results_sift+lightglue_bruteforce_quality_high/features.h5\u001b[0m\n",
            "\u001b[1;30m2024-05-14 11:28:00 | [DEBUG   ] Tile selection was NONE. Matching full images...\u001b[0m\n",
            "\u001b[1;30m2024-05-14 11:28:01 | [DEBUG   ] [Timer] | [MatcherBase match] load h5 features=0.042, match full images=0.099, save to h5=0.001, Total execution=0.143\u001b[0m\n",
            "\u001b[1;30m2024-05-14 11:28:01 | [DEBUG   ] PYDEGENSAC found 180 inliers (71.71%)\u001b[0m\n",
            "\u001b[1;30m2024-05-14 11:28:01 | [DEBUG   ] Estiamted Fundamental matrix: \n",
            "[[-2.92990922e-07  7.67354218e-08  8.45812759e-04]\n",
            " [ 1.33843263e-06  1.54212939e-07 -4.30320809e-03]\n",
            " [-9.69855011e-04  3.56444497e-03 -8.19546514e-02]]\u001b[0m\n",
            "\u001b[1;30m2024-05-14 11:28:01 | [DEBUG   ] [Timer] | [MatcherBase match] Geom. verification=0.010, save to h5=0.001, Total execution=0.010\u001b[0m\n",
            "\u001b[1;30m2024-05-14 11:28:01 | [DEBUG   ] Matching DSC_6467.JPG-DSC_6470.JPG done!\u001b[0m\n",
            "\u001b[1;33m2024-05-14 11:28:01 | [WARNING ] Cannot find scores in assets/example_cyprus/results_sift+lightglue_bruteforce_quality_high/features.h5\u001b[0m\n",
            "\u001b[1;33m2024-05-14 11:28:01 | [WARNING ] Cannot find scores in assets/example_cyprus/results_sift+lightglue_bruteforce_quality_high/features.h5\u001b[0m\n"
          ]
        },
        {
          "name": "stderr",
          "output_type": "stream",
          "text": [
            " 27%|██▋       | 12/45 [00:03<00:10,  3.24it/s]"
          ]
        },
        {
          "name": "stdout",
          "output_type": "stream",
          "text": [
            "\u001b[1;30m2024-05-14 11:28:01 | [DEBUG   ] Matching image pair: DSC_6467.JPG - DSC_6471.JPG\u001b[0m\n",
            "\u001b[1;33m2024-05-14 11:28:01 | [WARNING ] Cannot find scores in assets/example_cyprus/results_sift+lightglue_bruteforce_quality_high/features.h5\u001b[0m\n",
            "\u001b[1;33m2024-05-14 11:28:01 | [WARNING ] Cannot find scores in assets/example_cyprus/results_sift+lightglue_bruteforce_quality_high/features.h5\u001b[0m\n",
            "\u001b[1;30m2024-05-14 11:28:01 | [DEBUG   ] Tile selection was NONE. Matching full images...\u001b[0m\n",
            "\u001b[1;30m2024-05-14 11:28:01 | [DEBUG   ] [Timer] | [MatcherBase match] load h5 features=0.042, match full images=0.098, save to h5=0.001, Total execution=0.141\u001b[0m\n",
            "\u001b[1;30m2024-05-14 11:28:01 | [DEBUG   ] PYDEGENSAC found 68 inliers (47.89%)\u001b[0m\n",
            "\u001b[1;30m2024-05-14 11:28:01 | [DEBUG   ] Estiamted Fundamental matrix: \n",
            "[[-5.75284808e-04 -1.11964762e-04  1.94015766e+00]\n",
            " [-2.65202538e-04  6.72186897e-04  2.40838446e-01]\n",
            " [ 3.59486964e-01  1.00000000e+00 -2.05215674e+03]]\u001b[0m\n",
            "\u001b[1;30m2024-05-14 11:28:01 | [DEBUG   ] [Timer] | [MatcherBase match] Geom. verification=0.011, save to h5=0.001, Total execution=0.012\u001b[0m\n",
            "\u001b[1;30m2024-05-14 11:28:01 | [DEBUG   ] Matching DSC_6467.JPG-DSC_6471.JPG done!\u001b[0m\n",
            "\u001b[1;33m2024-05-14 11:28:01 | [WARNING ] Cannot find scores in assets/example_cyprus/results_sift+lightglue_bruteforce_quality_high/features.h5\u001b[0m\n",
            "\u001b[1;33m2024-05-14 11:28:01 | [WARNING ] Cannot find scores in assets/example_cyprus/results_sift+lightglue_bruteforce_quality_high/features.h5\u001b[0m\n"
          ]
        },
        {
          "name": "stderr",
          "output_type": "stream",
          "text": [
            " 29%|██▉       | 13/45 [00:04<00:09,  3.29it/s]"
          ]
        },
        {
          "name": "stdout",
          "output_type": "stream",
          "text": [
            "\u001b[1;30m2024-05-14 11:28:01 | [DEBUG   ] Matching image pair: DSC_6467.JPG - DSC_6472.JPG\u001b[0m\n",
            "\u001b[1;33m2024-05-14 11:28:01 | [WARNING ] Cannot find scores in assets/example_cyprus/results_sift+lightglue_bruteforce_quality_high/features.h5\u001b[0m\n",
            "\u001b[1;33m2024-05-14 11:28:01 | [WARNING ] Cannot find scores in assets/example_cyprus/results_sift+lightglue_bruteforce_quality_high/features.h5\u001b[0m\n",
            "\u001b[1;30m2024-05-14 11:28:01 | [DEBUG   ] Tile selection was NONE. Matching full images...\u001b[0m\n",
            "\u001b[1;30m2024-05-14 11:28:01 | [DEBUG   ] [Timer] | [MatcherBase match] load h5 features=0.045, match full images=0.101, save to h5=0.001, Total execution=0.147\u001b[0m\n",
            "\u001b[1;30m2024-05-14 11:28:01 | [DEBUG   ] PYDEGENSAC found 105 inliers (58.33%)\u001b[0m\n",
            "\u001b[1;30m2024-05-14 11:28:01 | [DEBUG   ] Estiamted Fundamental matrix: \n",
            "[[-6.05101568e-05 -4.39951331e-05  1.80838920e-01]\n",
            " [ 4.57653098e-04  2.39219591e-05 -1.16238789e+00]\n",
            " [-2.58056262e-01  1.00000000e+00 -1.84476271e+01]]\u001b[0m\n",
            "\u001b[1;30m2024-05-14 11:28:01 | [DEBUG   ] [Timer] | [MatcherBase match] Geom. verification=0.036, save to h5=0.001, Total execution=0.036\u001b[0m\n",
            "\u001b[1;30m2024-05-14 11:28:01 | [DEBUG   ] Matching DSC_6467.JPG-DSC_6472.JPG done!\u001b[0m\n",
            "\u001b[1;33m2024-05-14 11:28:01 | [WARNING ] Cannot find scores in assets/example_cyprus/results_sift+lightglue_bruteforce_quality_high/features.h5\u001b[0m\n",
            "\u001b[1;33m2024-05-14 11:28:01 | [WARNING ] Cannot find scores in assets/example_cyprus/results_sift+lightglue_bruteforce_quality_high/features.h5\u001b[0m\n"
          ]
        },
        {
          "name": "stderr",
          "output_type": "stream",
          "text": [
            " 31%|███       | 14/45 [00:04<00:09,  3.24it/s]"
          ]
        },
        {
          "name": "stdout",
          "output_type": "stream",
          "text": [
            "\u001b[1;30m2024-05-14 11:28:01 | [DEBUG   ] Matching image pair: DSC_6467.JPG - DSC_6473.JPG\u001b[0m\n",
            "\u001b[1;33m2024-05-14 11:28:01 | [WARNING ] Cannot find scores in assets/example_cyprus/results_sift+lightglue_bruteforce_quality_high/features.h5\u001b[0m\n",
            "\u001b[1;33m2024-05-14 11:28:01 | [WARNING ] Cannot find scores in assets/example_cyprus/results_sift+lightglue_bruteforce_quality_high/features.h5\u001b[0m\n",
            "\u001b[1;30m2024-05-14 11:28:01 | [DEBUG   ] Tile selection was NONE. Matching full images...\u001b[0m\n",
            "\u001b[1;30m2024-05-14 11:28:01 | [DEBUG   ] [Timer] | [MatcherBase match] load h5 features=0.042, match full images=0.098, save to h5=0.001, Total execution=0.141\u001b[0m\n",
            "\u001b[1;30m2024-05-14 11:28:02 | [DEBUG   ] PYDEGENSAC found 38 inliers (31.15%)\u001b[0m\n",
            "\u001b[1;30m2024-05-14 11:28:02 | [DEBUG   ] Estiamted Fundamental matrix: \n",
            "[[-4.45029199e-07  1.00836769e-06  3.60609204e-04]\n",
            " [ 1.78466568e-06  1.37016945e-07 -4.02058733e-03]\n",
            " [-5.99008759e-04  2.24696374e-03 -6.24843135e-02]]\u001b[0m\n",
            "\u001b[1;30m2024-05-14 11:28:02 | [DEBUG   ] [Timer] | [MatcherBase match] Geom. verification=0.023, save to h5=0.001, Total execution=0.024\u001b[0m\n",
            "\u001b[1;30m2024-05-14 11:28:02 | [DEBUG   ] Matching DSC_6467.JPG-DSC_6473.JPG done!\u001b[0m\n",
            "\u001b[1;33m2024-05-14 11:28:02 | [WARNING ] Cannot find scores in assets/example_cyprus/results_sift+lightglue_bruteforce_quality_high/features.h5\u001b[0m\n",
            "\u001b[1;33m2024-05-14 11:28:02 | [WARNING ] Cannot find scores in assets/example_cyprus/results_sift+lightglue_bruteforce_quality_high/features.h5\u001b[0m\n"
          ]
        },
        {
          "name": "stderr",
          "output_type": "stream",
          "text": [
            " 33%|███▎      | 15/45 [00:04<00:09,  3.28it/s]"
          ]
        },
        {
          "name": "stdout",
          "output_type": "stream",
          "text": [
            "\u001b[1;30m2024-05-14 11:28:02 | [DEBUG   ] Matching image pair: DSC_6467.JPG - DSC_6474.JPG\u001b[0m\n",
            "\u001b[1;33m2024-05-14 11:28:02 | [WARNING ] Cannot find scores in assets/example_cyprus/results_sift+lightglue_bruteforce_quality_high/features.h5\u001b[0m\n",
            "\u001b[1;33m2024-05-14 11:28:02 | [WARNING ] Cannot find scores in assets/example_cyprus/results_sift+lightglue_bruteforce_quality_high/features.h5\u001b[0m\n",
            "\u001b[1;30m2024-05-14 11:28:02 | [DEBUG   ] Tile selection was NONE. Matching full images...\u001b[0m\n",
            "\u001b[1;30m2024-05-14 11:28:02 | [DEBUG   ] [Timer] | [MatcherBase match] load h5 features=0.044, match full images=0.097, save to h5=0.001, Total execution=0.142\u001b[0m\n",
            "\u001b[1;30m2024-05-14 11:28:02 | [DEBUG   ] PYDEGENSAC found 52 inliers (39.39%)\u001b[0m\n",
            "\u001b[1;30m2024-05-14 11:28:02 | [DEBUG   ] Estiamted Fundamental matrix: \n",
            "[[ 9.41854400e-08  1.07479336e-07 -2.71752297e-04]\n",
            " [-1.60300372e-06  1.24057342e-07  3.66746871e-03]\n",
            " [ 6.89236443e-04 -2.93852318e-03 -1.62354691e-01]]\u001b[0m\n",
            "\u001b[1;30m2024-05-14 11:28:02 | [DEBUG   ] [Timer] | [MatcherBase match] Geom. verification=0.036, save to h5=0.001, Total execution=0.037\u001b[0m\n",
            "\u001b[1;30m2024-05-14 11:28:02 | [DEBUG   ] Matching DSC_6467.JPG-DSC_6474.JPG done!\u001b[0m\n",
            "\u001b[1;33m2024-05-14 11:28:02 | [WARNING ] Cannot find scores in assets/example_cyprus/results_sift+lightglue_bruteforce_quality_high/features.h5\u001b[0m\n",
            "\u001b[1;33m2024-05-14 11:28:02 | [WARNING ] Cannot find scores in assets/example_cyprus/results_sift+lightglue_bruteforce_quality_high/features.h5\u001b[0m\n"
          ]
        },
        {
          "name": "stderr",
          "output_type": "stream",
          "text": [
            " 36%|███▌      | 16/45 [00:05<00:08,  3.23it/s]"
          ]
        },
        {
          "name": "stdout",
          "output_type": "stream",
          "text": [
            "\u001b[1;30m2024-05-14 11:28:02 | [DEBUG   ] Matching image pair: DSC_6467.JPG - DSC_6475.JPG\u001b[0m\n",
            "\u001b[1;33m2024-05-14 11:28:02 | [WARNING ] Cannot find scores in assets/example_cyprus/results_sift+lightglue_bruteforce_quality_high/features.h5\u001b[0m\n",
            "\u001b[1;33m2024-05-14 11:28:02 | [WARNING ] Cannot find scores in assets/example_cyprus/results_sift+lightglue_bruteforce_quality_high/features.h5\u001b[0m\n",
            "\u001b[1;30m2024-05-14 11:28:02 | [DEBUG   ] Tile selection was NONE. Matching full images...\u001b[0m\n",
            "\u001b[1;30m2024-05-14 11:28:02 | [DEBUG   ] [Timer] | [MatcherBase match] load h5 features=0.042, match full images=0.097, save to h5=0.001, Total execution=0.140\u001b[0m\n",
            "\u001b[1;30m2024-05-14 11:28:02 | [DEBUG   ] PYDEGENSAC found 32 inliers (26.23%)\u001b[0m\n",
            "\u001b[1;30m2024-05-14 11:28:02 | [DEBUG   ] Estiamted Fundamental matrix: \n",
            "[[ 2.44024403e-07  8.19612174e-06 -3.06604092e-03]\n",
            " [-6.31643807e-06  1.04911939e-06  5.77405689e-04]\n",
            " [ 1.92829159e-03 -6.22823843e-03  2.00692912e+00]]\u001b[0m\n",
            "\u001b[1;30m2024-05-14 11:28:02 | [DEBUG   ] [Timer] | [MatcherBase match] Geom. verification=0.027, save to h5=0.001, Total execution=0.028\u001b[0m\n",
            "\u001b[1;30m2024-05-14 11:28:02 | [DEBUG   ] Matching DSC_6467.JPG-DSC_6475.JPG done!\u001b[0m\n",
            "\u001b[1;33m2024-05-14 11:28:02 | [WARNING ] Cannot find scores in assets/example_cyprus/results_sift+lightglue_bruteforce_quality_high/features.h5\u001b[0m\n",
            "\u001b[1;33m2024-05-14 11:28:02 | [WARNING ] Cannot find scores in assets/example_cyprus/results_sift+lightglue_bruteforce_quality_high/features.h5\u001b[0m\n"
          ]
        },
        {
          "name": "stderr",
          "output_type": "stream",
          "text": [
            " 38%|███▊      | 17/45 [00:05<00:08,  3.27it/s]"
          ]
        },
        {
          "name": "stdout",
          "output_type": "stream",
          "text": [
            "\u001b[1;30m2024-05-14 11:28:02 | [DEBUG   ] Matching image pair: DSC_6468.JPG - DSC_6469.JPG\u001b[0m\n",
            "\u001b[1;33m2024-05-14 11:28:02 | [WARNING ] Cannot find scores in assets/example_cyprus/results_sift+lightglue_bruteforce_quality_high/features.h5\u001b[0m\n",
            "\u001b[1;33m2024-05-14 11:28:02 | [WARNING ] Cannot find scores in assets/example_cyprus/results_sift+lightglue_bruteforce_quality_high/features.h5\u001b[0m\n",
            "\u001b[1;30m2024-05-14 11:28:02 | [DEBUG   ] Tile selection was NONE. Matching full images...\u001b[0m\n",
            "\u001b[1;30m2024-05-14 11:28:02 | [DEBUG   ] [Timer] | [MatcherBase match] load h5 features=0.046, match full images=0.096, save to h5=0.001, Total execution=0.143\u001b[0m\n",
            "\u001b[1;30m2024-05-14 11:28:02 | [DEBUG   ] PYDEGENSAC found 488 inliers (90.37%)\u001b[0m\n",
            "\u001b[1;30m2024-05-14 11:28:02 | [DEBUG   ] Estiamted Fundamental matrix: \n",
            "[[ 5.66674877e-08  2.11300845e-07  1.95162808e-03]\n",
            " [ 1.15773311e-07 -1.18453761e-07 -7.29993685e-04]\n",
            " [ 2.00044368e-03 -8.33208208e-04 -2.20797723e+00]]\u001b[0m\n",
            "\u001b[1;30m2024-05-14 11:28:02 | [DEBUG   ] [Timer] | [MatcherBase match] Geom. verification=0.014, save to h5=0.001, Total execution=0.014\u001b[0m\n",
            "\u001b[1;30m2024-05-14 11:28:02 | [DEBUG   ] Matching DSC_6468.JPG-DSC_6469.JPG done!\u001b[0m\n",
            "\u001b[1;33m2024-05-14 11:28:03 | [WARNING ] Cannot find scores in assets/example_cyprus/results_sift+lightglue_bruteforce_quality_high/features.h5\u001b[0m\n",
            "\u001b[1;33m2024-05-14 11:28:03 | [WARNING ] Cannot find scores in assets/example_cyprus/results_sift+lightglue_bruteforce_quality_high/features.h5\u001b[0m\n"
          ]
        },
        {
          "name": "stderr",
          "output_type": "stream",
          "text": [
            " 40%|████      | 18/45 [00:05<00:08,  3.27it/s]"
          ]
        },
        {
          "name": "stdout",
          "output_type": "stream",
          "text": [
            "\u001b[1;30m2024-05-14 11:28:03 | [DEBUG   ] Matching image pair: DSC_6468.JPG - DSC_6470.JPG\u001b[0m\n",
            "\u001b[1;33m2024-05-14 11:28:03 | [WARNING ] Cannot find scores in assets/example_cyprus/results_sift+lightglue_bruteforce_quality_high/features.h5\u001b[0m\n",
            "\u001b[1;33m2024-05-14 11:28:03 | [WARNING ] Cannot find scores in assets/example_cyprus/results_sift+lightglue_bruteforce_quality_high/features.h5\u001b[0m\n",
            "\u001b[1;30m2024-05-14 11:28:03 | [DEBUG   ] Tile selection was NONE. Matching full images...\u001b[0m\n",
            "\u001b[1;30m2024-05-14 11:28:03 | [DEBUG   ] [Timer] | [MatcherBase match] load h5 features=0.045, match full images=0.103, save to h5=0.001, Total execution=0.148\u001b[0m\n",
            "\u001b[1;30m2024-05-14 11:28:03 | [DEBUG   ] PYDEGENSAC found 312 inliers (81.04%)\u001b[0m\n",
            "\u001b[1;30m2024-05-14 11:28:03 | [DEBUG   ] Estiamted Fundamental matrix: \n",
            "[[-6.44968118e-06  1.06596158e-04 -4.27397007e-01]\n",
            " [-1.14297993e-04  7.71316044e-05  1.14996745e+00]\n",
            " [-3.11847979e-01  1.00000000e+00 -6.64048278e+02]]\u001b[0m\n",
            "\u001b[1;30m2024-05-14 11:28:03 | [DEBUG   ] [Timer] | [MatcherBase match] Geom. verification=0.053, save to h5=0.001, Total execution=0.054\u001b[0m\n",
            "\u001b[1;30m2024-05-14 11:28:03 | [DEBUG   ] Matching DSC_6468.JPG-DSC_6470.JPG done!\u001b[0m\n",
            "\u001b[1;33m2024-05-14 11:28:03 | [WARNING ] Cannot find scores in assets/example_cyprus/results_sift+lightglue_bruteforce_quality_high/features.h5\u001b[0m\n",
            "\u001b[1;33m2024-05-14 11:28:03 | [WARNING ] Cannot find scores in assets/example_cyprus/results_sift+lightglue_bruteforce_quality_high/features.h5\u001b[0m\n"
          ]
        },
        {
          "name": "stderr",
          "output_type": "stream",
          "text": [
            " 42%|████▏     | 19/45 [00:06<00:08,  3.12it/s]"
          ]
        },
        {
          "name": "stdout",
          "output_type": "stream",
          "text": [
            "\u001b[1;30m2024-05-14 11:28:03 | [DEBUG   ] Matching image pair: DSC_6468.JPG - DSC_6471.JPG\u001b[0m\n",
            "\u001b[1;33m2024-05-14 11:28:03 | [WARNING ] Cannot find scores in assets/example_cyprus/results_sift+lightglue_bruteforce_quality_high/features.h5\u001b[0m\n",
            "\u001b[1;33m2024-05-14 11:28:03 | [WARNING ] Cannot find scores in assets/example_cyprus/results_sift+lightglue_bruteforce_quality_high/features.h5\u001b[0m\n",
            "\u001b[1;30m2024-05-14 11:28:03 | [DEBUG   ] Tile selection was NONE. Matching full images...\u001b[0m\n",
            "\u001b[1;30m2024-05-14 11:28:03 | [DEBUG   ] [Timer] | [MatcherBase match] load h5 features=0.044, match full images=0.098, save to h5=0.001, Total execution=0.143\u001b[0m\n",
            "\u001b[1;30m2024-05-14 11:28:03 | [DEBUG   ] PYDEGENSAC found 231 inliers (79.11%)\u001b[0m\n",
            "\u001b[1;30m2024-05-14 11:28:03 | [DEBUG   ] Estiamted Fundamental matrix: \n",
            "[[ 3.10433067e-07 -2.91717478e-07 -2.66265311e-03]\n",
            " [-3.14422093e-07  1.15346885e-06 -1.52075448e-03]\n",
            " [-7.44992373e-04  1.53352531e-03  2.29304686e+00]]\u001b[0m\n",
            "\u001b[1;30m2024-05-14 11:28:03 | [DEBUG   ] [Timer] | [MatcherBase match] Geom. verification=0.052, save to h5=0.001, Total execution=0.053\u001b[0m\n",
            "\u001b[1;30m2024-05-14 11:28:03 | [DEBUG   ] Matching DSC_6468.JPG-DSC_6471.JPG done!\u001b[0m\n",
            "\u001b[1;33m2024-05-14 11:28:03 | [WARNING ] Cannot find scores in assets/example_cyprus/results_sift+lightglue_bruteforce_quality_high/features.h5\u001b[0m\n",
            "\u001b[1;33m2024-05-14 11:28:03 | [WARNING ] Cannot find scores in assets/example_cyprus/results_sift+lightglue_bruteforce_quality_high/features.h5\u001b[0m\n"
          ]
        },
        {
          "name": "stderr",
          "output_type": "stream",
          "text": [
            " 44%|████▍     | 20/45 [00:06<00:08,  3.08it/s]"
          ]
        },
        {
          "name": "stdout",
          "output_type": "stream",
          "text": [
            "\u001b[1;30m2024-05-14 11:28:03 | [DEBUG   ] Matching image pair: DSC_6468.JPG - DSC_6472.JPG\u001b[0m\n",
            "\u001b[1;33m2024-05-14 11:28:03 | [WARNING ] Cannot find scores in assets/example_cyprus/results_sift+lightglue_bruteforce_quality_high/features.h5\u001b[0m\n",
            "\u001b[1;33m2024-05-14 11:28:03 | [WARNING ] Cannot find scores in assets/example_cyprus/results_sift+lightglue_bruteforce_quality_high/features.h5\u001b[0m\n",
            "\u001b[1;30m2024-05-14 11:28:03 | [DEBUG   ] Tile selection was NONE. Matching full images...\u001b[0m\n",
            "\u001b[1;30m2024-05-14 11:28:03 | [DEBUG   ] [Timer] | [MatcherBase match] load h5 features=0.043, match full images=0.100, save to h5=0.001, Total execution=0.143\u001b[0m\n",
            "\u001b[1;30m2024-05-14 11:28:03 | [DEBUG   ] PYDEGENSAC found 166 inliers (70.64%)\u001b[0m\n",
            "\u001b[1;30m2024-05-14 11:28:03 | [DEBUG   ] Estiamted Fundamental matrix: \n",
            "[[ 2.63599668e-08  6.61985469e-08  4.69819114e-04]\n",
            " [-1.83187038e-07 -1.33282168e-07 -2.57022215e-03]\n",
            " [ 6.36326609e-04 -2.74913396e-03  2.09845713e+00]]\u001b[0m\n",
            "\u001b[1;30m2024-05-14 11:28:03 | [DEBUG   ] [Timer] | [MatcherBase match] Geom. verification=0.043, save to h5=0.001, Total execution=0.043\u001b[0m\n",
            "\u001b[1;30m2024-05-14 11:28:03 | [DEBUG   ] Matching DSC_6468.JPG-DSC_6472.JPG done!\u001b[0m\n",
            "\u001b[1;33m2024-05-14 11:28:04 | [WARNING ] Cannot find scores in assets/example_cyprus/results_sift+lightglue_bruteforce_quality_high/features.h5\u001b[0m\n",
            "\u001b[1;33m2024-05-14 11:28:04 | [WARNING ] Cannot find scores in assets/example_cyprus/results_sift+lightglue_bruteforce_quality_high/features.h5\u001b[0m\n"
          ]
        },
        {
          "name": "stderr",
          "output_type": "stream",
          "text": [
            " 47%|████▋     | 21/45 [00:06<00:07,  3.08it/s]"
          ]
        },
        {
          "name": "stdout",
          "output_type": "stream",
          "text": [
            "\u001b[1;30m2024-05-14 11:28:04 | [DEBUG   ] Matching image pair: DSC_6468.JPG - DSC_6473.JPG\u001b[0m\n",
            "\u001b[1;33m2024-05-14 11:28:04 | [WARNING ] Cannot find scores in assets/example_cyprus/results_sift+lightglue_bruteforce_quality_high/features.h5\u001b[0m\n",
            "\u001b[1;33m2024-05-14 11:28:04 | [WARNING ] Cannot find scores in assets/example_cyprus/results_sift+lightglue_bruteforce_quality_high/features.h5\u001b[0m\n",
            "\u001b[1;30m2024-05-14 11:28:04 | [DEBUG   ] Tile selection was NONE. Matching full images...\u001b[0m\n",
            "\u001b[1;30m2024-05-14 11:28:04 | [DEBUG   ] [Timer] | [MatcherBase match] load h5 features=0.047, match full images=0.097, save to h5=0.001, Total execution=0.145\u001b[0m\n",
            "\u001b[1;30m2024-05-14 11:28:04 | [DEBUG   ] PYDEGENSAC found 149 inliers (68.66%)\u001b[0m\n",
            "\u001b[1;30m2024-05-14 11:28:04 | [DEBUG   ] Estiamted Fundamental matrix: \n",
            "[[-1.67929621e-04  6.43917288e-04 -7.30288324e-01]\n",
            " [ 7.69543932e-05  1.68747184e-04  1.58921550e+00]\n",
            " [-2.30208933e-01  1.00000000e+00 -6.83917835e+02]]\u001b[0m\n",
            "\u001b[1;30m2024-05-14 11:28:04 | [DEBUG   ] [Timer] | [MatcherBase match] Geom. verification=0.047, save to h5=0.001, Total execution=0.047\u001b[0m\n",
            "\u001b[1;30m2024-05-14 11:28:04 | [DEBUG   ] Matching DSC_6468.JPG-DSC_6473.JPG done!\u001b[0m\n",
            "\u001b[1;33m2024-05-14 11:28:04 | [WARNING ] Cannot find scores in assets/example_cyprus/results_sift+lightglue_bruteforce_quality_high/features.h5\u001b[0m\n",
            "\u001b[1;33m2024-05-14 11:28:04 | [WARNING ] Cannot find scores in assets/example_cyprus/results_sift+lightglue_bruteforce_quality_high/features.h5\u001b[0m\n"
          ]
        },
        {
          "name": "stderr",
          "output_type": "stream",
          "text": [
            " 49%|████▉     | 22/45 [00:07<00:07,  2.92it/s]"
          ]
        },
        {
          "name": "stdout",
          "output_type": "stream",
          "text": [
            "\u001b[1;30m2024-05-14 11:28:04 | [DEBUG   ] Matching image pair: DSC_6468.JPG - DSC_6474.JPG\u001b[0m\n",
            "\u001b[1;33m2024-05-14 11:28:04 | [WARNING ] Cannot find scores in assets/example_cyprus/results_sift+lightglue_bruteforce_quality_high/features.h5\u001b[0m\n",
            "\u001b[1;33m2024-05-14 11:28:04 | [WARNING ] Cannot find scores in assets/example_cyprus/results_sift+lightglue_bruteforce_quality_high/features.h5\u001b[0m\n",
            "\u001b[1;30m2024-05-14 11:28:04 | [DEBUG   ] Tile selection was NONE. Matching full images...\u001b[0m\n",
            "\u001b[1;30m2024-05-14 11:28:04 | [DEBUG   ] [Timer] | [MatcherBase match] load h5 features=0.078, match full images=0.097, save to h5=0.001, Total execution=0.176\u001b[0m\n",
            "\u001b[1;30m2024-05-14 11:28:04 | [DEBUG   ] PYDEGENSAC found 63 inliers (38.41%)\u001b[0m\n",
            "\u001b[1;30m2024-05-14 11:28:04 | [DEBUG   ] Estiamted Fundamental matrix: \n",
            "[[ 1.59347069e-08 -3.10125522e-07  2.94523814e-04]\n",
            " [ 5.75259858e-09 -4.98345081e-08 -3.01912646e-03]\n",
            " [ 1.37391814e-04 -2.67656801e-03  2.67083624e+00]]\u001b[0m\n",
            "\u001b[1;30m2024-05-14 11:28:04 | [DEBUG   ] [Timer] | [MatcherBase match] Geom. verification=0.056, save to h5=0.001, Total execution=0.058\u001b[0m\n",
            "\u001b[1;30m2024-05-14 11:28:04 | [DEBUG   ] Matching DSC_6468.JPG-DSC_6474.JPG done!\u001b[0m\n",
            "\u001b[1;33m2024-05-14 11:28:04 | [WARNING ] Cannot find scores in assets/example_cyprus/results_sift+lightglue_bruteforce_quality_high/features.h5\u001b[0m\n",
            "\u001b[1;33m2024-05-14 11:28:04 | [WARNING ] Cannot find scores in assets/example_cyprus/results_sift+lightglue_bruteforce_quality_high/features.h5\u001b[0m\n"
          ]
        },
        {
          "name": "stderr",
          "output_type": "stream",
          "text": [
            " 51%|█████     | 23/45 [00:07<00:08,  2.72it/s]"
          ]
        },
        {
          "name": "stdout",
          "output_type": "stream",
          "text": [
            "\u001b[1;30m2024-05-14 11:28:04 | [DEBUG   ] Matching image pair: DSC_6468.JPG - DSC_6475.JPG\u001b[0m\n",
            "\u001b[1;33m2024-05-14 11:28:04 | [WARNING ] Cannot find scores in assets/example_cyprus/results_sift+lightglue_bruteforce_quality_high/features.h5\u001b[0m\n",
            "\u001b[1;33m2024-05-14 11:28:04 | [WARNING ] Cannot find scores in assets/example_cyprus/results_sift+lightglue_bruteforce_quality_high/features.h5\u001b[0m\n",
            "\u001b[1;30m2024-05-14 11:28:04 | [DEBUG   ] Tile selection was NONE. Matching full images...\u001b[0m\n",
            "\u001b[1;30m2024-05-14 11:28:05 | [DEBUG   ] [Timer] | [MatcherBase match] load h5 features=0.041, match full images=0.096, save to h5=0.001, Total execution=0.138\u001b[0m\n",
            "\u001b[1;30m2024-05-14 11:28:05 | [DEBUG   ] PYDEGENSAC found 92 inliers (48.94%)\u001b[0m\n",
            "\u001b[1;30m2024-05-14 11:28:05 | [DEBUG   ] Estiamted Fundamental matrix: \n",
            "[[ 3.95254433e-08 -1.22286631e-06  9.64395752e-04]\n",
            " [ 1.99548602e-07 -1.46637112e-07 -2.70422457e-03]\n",
            " [-1.20532592e-06 -1.21430394e-03  1.54321661e+00]]\u001b[0m\n",
            "\u001b[1;30m2024-05-14 11:28:05 | [DEBUG   ] [Timer] | [MatcherBase match] Geom. verification=0.020, save to h5=0.001, Total execution=0.021\u001b[0m\n",
            "\u001b[1;30m2024-05-14 11:28:05 | [DEBUG   ] Matching DSC_6468.JPG-DSC_6475.JPG done!\u001b[0m\n",
            "\u001b[1;33m2024-05-14 11:28:05 | [WARNING ] Cannot find scores in assets/example_cyprus/results_sift+lightglue_bruteforce_quality_high/features.h5\u001b[0m\n",
            "\u001b[1;33m2024-05-14 11:28:05 | [WARNING ] Cannot find scores in assets/example_cyprus/results_sift+lightglue_bruteforce_quality_high/features.h5\u001b[0m\n"
          ]
        },
        {
          "name": "stderr",
          "output_type": "stream",
          "text": [
            " 53%|█████▎    | 24/45 [00:07<00:07,  2.90it/s]"
          ]
        },
        {
          "name": "stdout",
          "output_type": "stream",
          "text": [
            "\u001b[1;30m2024-05-14 11:28:05 | [DEBUG   ] Matching image pair: DSC_6469.JPG - DSC_6470.JPG\u001b[0m\n",
            "\u001b[1;33m2024-05-14 11:28:05 | [WARNING ] Cannot find scores in assets/example_cyprus/results_sift+lightglue_bruteforce_quality_high/features.h5\u001b[0m\n",
            "\u001b[1;33m2024-05-14 11:28:05 | [WARNING ] Cannot find scores in assets/example_cyprus/results_sift+lightglue_bruteforce_quality_high/features.h5\u001b[0m\n",
            "\u001b[1;30m2024-05-14 11:28:05 | [DEBUG   ] Tile selection was NONE. Matching full images...\u001b[0m\n",
            "\u001b[1;30m2024-05-14 11:28:05 | [DEBUG   ] [Timer] | [MatcherBase match] load h5 features=0.047, match full images=0.097, save to h5=0.001, Total execution=0.145\u001b[0m\n",
            "\u001b[1;30m2024-05-14 11:28:05 | [DEBUG   ] PYDEGENSAC found 390 inliers (86.47%)\u001b[0m\n",
            "\u001b[1;30m2024-05-14 11:28:05 | [DEBUG   ] Estiamted Fundamental matrix: \n",
            "[[-1.38078400e-05  5.34905927e-05 -6.42725153e-01]\n",
            " [-1.29788484e-04 -9.25252981e-05 -8.39713672e-01]\n",
            " [ 6.71618584e-01  1.00000000e+00 -2.08844055e+02]]\u001b[0m\n",
            "\u001b[1;30m2024-05-14 11:28:05 | [DEBUG   ] [Timer] | [MatcherBase match] Geom. verification=0.086, save to h5=0.001, Total execution=0.087\u001b[0m\n",
            "\u001b[1;30m2024-05-14 11:28:05 | [DEBUG   ] Matching DSC_6469.JPG-DSC_6470.JPG done!\u001b[0m\n",
            "\u001b[1;33m2024-05-14 11:28:05 | [WARNING ] Cannot find scores in assets/example_cyprus/results_sift+lightglue_bruteforce_quality_high/features.h5\u001b[0m\n",
            "\u001b[1;33m2024-05-14 11:28:05 | [WARNING ] Cannot find scores in assets/example_cyprus/results_sift+lightglue_bruteforce_quality_high/features.h5\u001b[0m\n"
          ]
        },
        {
          "name": "stderr",
          "output_type": "stream",
          "text": [
            " 56%|█████▌    | 25/45 [00:08<00:07,  2.82it/s]"
          ]
        },
        {
          "name": "stdout",
          "output_type": "stream",
          "text": [
            "\u001b[1;30m2024-05-14 11:28:05 | [DEBUG   ] Matching image pair: DSC_6469.JPG - DSC_6471.JPG\u001b[0m\n",
            "\u001b[1;33m2024-05-14 11:28:05 | [WARNING ] Cannot find scores in assets/example_cyprus/results_sift+lightglue_bruteforce_quality_high/features.h5\u001b[0m\n",
            "\u001b[1;33m2024-05-14 11:28:05 | [WARNING ] Cannot find scores in assets/example_cyprus/results_sift+lightglue_bruteforce_quality_high/features.h5\u001b[0m\n",
            "\u001b[1;30m2024-05-14 11:28:05 | [DEBUG   ] Tile selection was NONE. Matching full images...\u001b[0m\n",
            "\u001b[1;30m2024-05-14 11:28:05 | [DEBUG   ] [Timer] | [MatcherBase match] load h5 features=0.045, match full images=0.098, save to h5=0.001, Total execution=0.143\u001b[0m\n",
            "\u001b[1;30m2024-05-14 11:28:05 | [DEBUG   ] PYDEGENSAC found 277 inliers (83.94%)\u001b[0m\n",
            "\u001b[1;30m2024-05-14 11:28:05 | [DEBUG   ] Estiamted Fundamental matrix: \n",
            "[[ 1.36702236e-04  1.27825439e-04  1.71720779e+00]\n",
            " [ 3.94550731e-04  6.65289528e-04 -1.62700729e+00]\n",
            " [ 6.42979460e-01  1.00000000e+00 -7.81308807e+02]]\u001b[0m\n",
            "\u001b[1;30m2024-05-14 11:28:05 | [DEBUG   ] [Timer] | [MatcherBase match] Geom. verification=0.076, save to h5=0.001, Total execution=0.076\u001b[0m\n",
            "\u001b[1;30m2024-05-14 11:28:05 | [DEBUG   ] Matching DSC_6469.JPG-DSC_6471.JPG done!\u001b[0m\n",
            "\u001b[1;33m2024-05-14 11:28:05 | [WARNING ] Cannot find scores in assets/example_cyprus/results_sift+lightglue_bruteforce_quality_high/features.h5\u001b[0m\n",
            "\u001b[1;33m2024-05-14 11:28:05 | [WARNING ] Cannot find scores in assets/example_cyprus/results_sift+lightglue_bruteforce_quality_high/features.h5\u001b[0m\n"
          ]
        },
        {
          "name": "stderr",
          "output_type": "stream",
          "text": [
            " 58%|█████▊    | 26/45 [00:08<00:06,  2.80it/s]"
          ]
        },
        {
          "name": "stdout",
          "output_type": "stream",
          "text": [
            "\u001b[1;30m2024-05-14 11:28:05 | [DEBUG   ] Matching image pair: DSC_6469.JPG - DSC_6472.JPG\u001b[0m\n",
            "\u001b[1;33m2024-05-14 11:28:05 | [WARNING ] Cannot find scores in assets/example_cyprus/results_sift+lightglue_bruteforce_quality_high/features.h5\u001b[0m\n",
            "\u001b[1;33m2024-05-14 11:28:05 | [WARNING ] Cannot find scores in assets/example_cyprus/results_sift+lightglue_bruteforce_quality_high/features.h5\u001b[0m\n",
            "\u001b[1;30m2024-05-14 11:28:05 | [DEBUG   ] Tile selection was NONE. Matching full images...\u001b[0m\n",
            "\u001b[1;30m2024-05-14 11:28:06 | [DEBUG   ] [Timer] | [MatcherBase match] load h5 features=0.045, match full images=0.095, save to h5=0.001, Total execution=0.141\u001b[0m\n",
            "\u001b[1;30m2024-05-14 11:28:06 | [DEBUG   ] PYDEGENSAC found 215 inliers (75.97%)\u001b[0m\n",
            "\u001b[1;30m2024-05-14 11:28:06 | [DEBUG   ] Estiamted Fundamental matrix: \n",
            "[[-1.95023995e-08  1.74089613e-07  9.03247170e-04]\n",
            " [-1.09608182e-07  2.84069366e-07  2.48025345e-03]\n",
            " [-8.44588466e-04 -2.79854426e-03  4.63475365e-01]]\u001b[0m\n",
            "\u001b[1;30m2024-05-14 11:28:06 | [DEBUG   ] [Timer] | [MatcherBase match] Geom. verification=0.056, save to h5=0.001, Total execution=0.056\u001b[0m\n",
            "\u001b[1;30m2024-05-14 11:28:06 | [DEBUG   ] Matching DSC_6469.JPG-DSC_6472.JPG done!\u001b[0m\n",
            "\u001b[1;33m2024-05-14 11:28:06 | [WARNING ] Cannot find scores in assets/example_cyprus/results_sift+lightglue_bruteforce_quality_high/features.h5\u001b[0m\n",
            "\u001b[1;33m2024-05-14 11:28:06 | [WARNING ] Cannot find scores in assets/example_cyprus/results_sift+lightglue_bruteforce_quality_high/features.h5\u001b[0m\n"
          ]
        },
        {
          "name": "stderr",
          "output_type": "stream",
          "text": [
            " 60%|██████    | 27/45 [00:08<00:06,  2.85it/s]"
          ]
        },
        {
          "name": "stdout",
          "output_type": "stream",
          "text": [
            "\u001b[1;30m2024-05-14 11:28:06 | [DEBUG   ] Matching image pair: DSC_6469.JPG - DSC_6473.JPG\u001b[0m\n",
            "\u001b[1;33m2024-05-14 11:28:06 | [WARNING ] Cannot find scores in assets/example_cyprus/results_sift+lightglue_bruteforce_quality_high/features.h5\u001b[0m\n",
            "\u001b[1;33m2024-05-14 11:28:06 | [WARNING ] Cannot find scores in assets/example_cyprus/results_sift+lightglue_bruteforce_quality_high/features.h5\u001b[0m\n",
            "\u001b[1;30m2024-05-14 11:28:06 | [DEBUG   ] Tile selection was NONE. Matching full images...\u001b[0m\n",
            "\u001b[1;30m2024-05-14 11:28:06 | [DEBUG   ] [Timer] | [MatcherBase match] load h5 features=0.042, match full images=0.099, save to h5=0.001, Total execution=0.142\u001b[0m\n",
            "\u001b[1;30m2024-05-14 11:28:06 | [DEBUG   ] PYDEGENSAC found 169 inliers (67.60%)\u001b[0m\n",
            "\u001b[1;30m2024-05-14 11:28:06 | [DEBUG   ] Estiamted Fundamental matrix: \n",
            "[[-3.97052591e-07 -9.72276618e-07  1.63503676e-03]\n",
            " [-8.88132565e-08  1.94994042e-07  2.82250446e-03]\n",
            " [-5.36340900e-04 -1.85463359e-03 -1.01533397e+00]]\u001b[0m\n",
            "\u001b[1;30m2024-05-14 11:28:06 | [DEBUG   ] [Timer] | [MatcherBase match] Geom. verification=0.016, save to h5=0.001, Total execution=0.017\u001b[0m\n",
            "\u001b[1;30m2024-05-14 11:28:06 | [DEBUG   ] Matching DSC_6469.JPG-DSC_6473.JPG done!\u001b[0m\n",
            "\u001b[1;33m2024-05-14 11:28:06 | [WARNING ] Cannot find scores in assets/example_cyprus/results_sift+lightglue_bruteforce_quality_high/features.h5\u001b[0m\n",
            "\u001b[1;33m2024-05-14 11:28:06 | [WARNING ] Cannot find scores in assets/example_cyprus/results_sift+lightglue_bruteforce_quality_high/features.h5\u001b[0m\n"
          ]
        },
        {
          "name": "stderr",
          "output_type": "stream",
          "text": [
            " 62%|██████▏   | 28/45 [00:09<00:05,  3.02it/s]"
          ]
        },
        {
          "name": "stdout",
          "output_type": "stream",
          "text": [
            "\u001b[1;30m2024-05-14 11:28:06 | [DEBUG   ] Matching image pair: DSC_6469.JPG - DSC_6474.JPG\u001b[0m\n",
            "\u001b[1;33m2024-05-14 11:28:06 | [WARNING ] Cannot find scores in assets/example_cyprus/results_sift+lightglue_bruteforce_quality_high/features.h5\u001b[0m\n",
            "\u001b[1;33m2024-05-14 11:28:06 | [WARNING ] Cannot find scores in assets/example_cyprus/results_sift+lightglue_bruteforce_quality_high/features.h5\u001b[0m\n",
            "\u001b[1;30m2024-05-14 11:28:06 | [DEBUG   ] Tile selection was NONE. Matching full images...\u001b[0m\n",
            "\u001b[1;30m2024-05-14 11:28:06 | [DEBUG   ] [Timer] | [MatcherBase match] load h5 features=0.042, match full images=0.098, save to h5=0.001, Total execution=0.141\u001b[0m\n",
            "\u001b[1;30m2024-05-14 11:28:06 | [DEBUG   ] PYDEGENSAC found 84 inliers (46.67%)\u001b[0m\n",
            "\u001b[1;30m2024-05-14 11:28:06 | [DEBUG   ] Estiamted Fundamental matrix: \n",
            "[[ 6.28686087e-08  2.20225608e-07 -1.16600492e-03]\n",
            " [-1.61146201e-07 -3.94562382e-07 -2.33995819e-03]\n",
            " [ 8.89160677e-04  2.60291917e-03 -4.42454641e-01]]\u001b[0m\n",
            "\u001b[1;30m2024-05-14 11:28:06 | [DEBUG   ] [Timer] | [MatcherBase match] Geom. verification=0.040, save to h5=0.001, Total execution=0.041\u001b[0m\n",
            "\u001b[1;30m2024-05-14 11:28:06 | [DEBUG   ] Matching DSC_6469.JPG-DSC_6474.JPG done!\u001b[0m\n",
            "\u001b[1;33m2024-05-14 11:28:06 | [WARNING ] Cannot find scores in assets/example_cyprus/results_sift+lightglue_bruteforce_quality_high/features.h5\u001b[0m\n",
            "\u001b[1;33m2024-05-14 11:28:06 | [WARNING ] Cannot find scores in assets/example_cyprus/results_sift+lightglue_bruteforce_quality_high/features.h5\u001b[0m\n"
          ]
        },
        {
          "name": "stderr",
          "output_type": "stream",
          "text": [
            " 64%|██████▍   | 29/45 [00:09<00:05,  3.08it/s]"
          ]
        },
        {
          "name": "stdout",
          "output_type": "stream",
          "text": [
            "\u001b[1;30m2024-05-14 11:28:06 | [DEBUG   ] Matching image pair: DSC_6469.JPG - DSC_6475.JPG\u001b[0m\n",
            "\u001b[1;33m2024-05-14 11:28:06 | [WARNING ] Cannot find scores in assets/example_cyprus/results_sift+lightglue_bruteforce_quality_high/features.h5\u001b[0m\n",
            "\u001b[1;33m2024-05-14 11:28:06 | [WARNING ] Cannot find scores in assets/example_cyprus/results_sift+lightglue_bruteforce_quality_high/features.h5\u001b[0m\n",
            "\u001b[1;30m2024-05-14 11:28:06 | [DEBUG   ] Tile selection was NONE. Matching full images...\u001b[0m\n",
            "\u001b[1;30m2024-05-14 11:28:06 | [DEBUG   ] [Timer] | [MatcherBase match] load h5 features=0.043, match full images=0.098, save to h5=0.001, Total execution=0.142\u001b[0m\n",
            "\u001b[1;30m2024-05-14 11:28:07 | [DEBUG   ] PYDEGENSAC found 112 inliers (55.45%)\u001b[0m\n",
            "\u001b[1;30m2024-05-14 11:28:07 | [DEBUG   ] Estiamted Fundamental matrix: \n",
            "[[-2.76703706e-07 -1.01914416e-06  1.38714215e-03]\n",
            " [ 3.21553211e-07  2.42400624e-07  1.76574784e-03]\n",
            " [-5.44919967e-04 -1.08059464e-03 -5.90412361e-01]]\u001b[0m\n",
            "\u001b[1;30m2024-05-14 11:28:07 | [DEBUG   ] [Timer] | [MatcherBase match] Geom. verification=0.016, save to h5=0.001, Total execution=0.017\u001b[0m\n",
            "\u001b[1;30m2024-05-14 11:28:07 | [DEBUG   ] Matching DSC_6469.JPG-DSC_6475.JPG done!\u001b[0m\n",
            "\u001b[1;33m2024-05-14 11:28:07 | [WARNING ] Cannot find scores in assets/example_cyprus/results_sift+lightglue_bruteforce_quality_high/features.h5\u001b[0m\n",
            "\u001b[1;33m2024-05-14 11:28:07 | [WARNING ] Cannot find scores in assets/example_cyprus/results_sift+lightglue_bruteforce_quality_high/features.h5\u001b[0m\n"
          ]
        },
        {
          "name": "stderr",
          "output_type": "stream",
          "text": [
            " 67%|██████▋   | 30/45 [00:09<00:04,  3.16it/s]"
          ]
        },
        {
          "name": "stdout",
          "output_type": "stream",
          "text": [
            "\u001b[1;30m2024-05-14 11:28:07 | [DEBUG   ] Matching image pair: DSC_6470.JPG - DSC_6471.JPG\u001b[0m\n",
            "\u001b[1;33m2024-05-14 11:28:07 | [WARNING ] Cannot find scores in assets/example_cyprus/results_sift+lightglue_bruteforce_quality_high/features.h5\u001b[0m\n",
            "\u001b[1;33m2024-05-14 11:28:07 | [WARNING ] Cannot find scores in assets/example_cyprus/results_sift+lightglue_bruteforce_quality_high/features.h5\u001b[0m\n",
            "\u001b[1;30m2024-05-14 11:28:07 | [DEBUG   ] Tile selection was NONE. Matching full images...\u001b[0m\n",
            "\u001b[1;30m2024-05-14 11:28:07 | [DEBUG   ] [Timer] | [MatcherBase match] load h5 features=0.049, match full images=0.101, save to h5=0.001, Total execution=0.151\u001b[0m\n",
            "\u001b[1;30m2024-05-14 11:28:07 | [DEBUG   ] PYDEGENSAC found 376 inliers (89.10%)\u001b[0m\n",
            "\u001b[1;30m2024-05-14 11:28:07 | [DEBUG   ] Estiamted Fundamental matrix: \n",
            "[[-2.18084374e-04 -1.85407004e-05  1.36852062e+00]\n",
            " [ 8.12222760e-05  2.35227700e-04 -3.23039848e-01]\n",
            " [ 2.97435828e-01  1.00000000e+00 -1.06967371e+03]]\u001b[0m\n",
            "\u001b[1;30m2024-05-14 11:28:07 | [DEBUG   ] [Timer] | [MatcherBase match] Geom. verification=0.086, save to h5=0.001, Total execution=0.087\u001b[0m\n",
            "\u001b[1;30m2024-05-14 11:28:07 | [DEBUG   ] Matching DSC_6470.JPG-DSC_6471.JPG done!\u001b[0m\n",
            "\u001b[1;33m2024-05-14 11:28:07 | [WARNING ] Cannot find scores in assets/example_cyprus/results_sift+lightglue_bruteforce_quality_high/features.h5\u001b[0m\n",
            "\u001b[1;33m2024-05-14 11:28:07 | [WARNING ] Cannot find scores in assets/example_cyprus/results_sift+lightglue_bruteforce_quality_high/features.h5\u001b[0m\n"
          ]
        },
        {
          "name": "stderr",
          "output_type": "stream",
          "text": [
            " 69%|██████▉   | 31/45 [00:10<00:04,  2.99it/s]"
          ]
        },
        {
          "name": "stdout",
          "output_type": "stream",
          "text": [
            "\u001b[1;30m2024-05-14 11:28:07 | [DEBUG   ] Matching image pair: DSC_6470.JPG - DSC_6472.JPG\u001b[0m\n",
            "\u001b[1;33m2024-05-14 11:28:07 | [WARNING ] Cannot find scores in assets/example_cyprus/results_sift+lightglue_bruteforce_quality_high/features.h5\u001b[0m\n",
            "\u001b[1;33m2024-05-14 11:28:07 | [WARNING ] Cannot find scores in assets/example_cyprus/results_sift+lightglue_bruteforce_quality_high/features.h5\u001b[0m\n",
            "\u001b[1;30m2024-05-14 11:28:07 | [DEBUG   ] Tile selection was NONE. Matching full images...\u001b[0m\n",
            "\u001b[1;30m2024-05-14 11:28:07 | [DEBUG   ] [Timer] | [MatcherBase match] load h5 features=0.046, match full images=0.100, save to h5=0.001, Total execution=0.147\u001b[0m\n",
            "\u001b[1;30m2024-05-14 11:28:07 | [DEBUG   ] PYDEGENSAC found 731 inliers (95.43%)\u001b[0m\n",
            "\u001b[1;30m2024-05-14 11:28:07 | [DEBUG   ] Estiamted Fundamental matrix: \n",
            "[[ 2.43698398e-06 -2.14647827e-04  7.76176143e-02]\n",
            " [ 2.40328792e-04 -1.22659868e-05 -1.00114048e+00]\n",
            " [-9.30592070e-02  1.00000000e+00 -1.95355030e+01]]\u001b[0m\n",
            "\u001b[1;30m2024-05-14 11:28:07 | [DEBUG   ] [Timer] | [MatcherBase match] Geom. verification=0.177, save to h5=0.001, Total execution=0.178\u001b[0m\n",
            "\u001b[1;30m2024-05-14 11:28:07 | [DEBUG   ] Matching DSC_6470.JPG-DSC_6472.JPG done!\u001b[0m\n",
            "\u001b[1;33m2024-05-14 11:28:07 | [WARNING ] Cannot find scores in assets/example_cyprus/results_sift+lightglue_bruteforce_quality_high/features.h5\u001b[0m\n",
            "\u001b[1;33m2024-05-14 11:28:07 | [WARNING ] Cannot find scores in assets/example_cyprus/results_sift+lightglue_bruteforce_quality_high/features.h5\u001b[0m\n"
          ]
        },
        {
          "name": "stderr",
          "output_type": "stream",
          "text": [
            " 71%|███████   | 32/45 [00:10<00:04,  2.65it/s]"
          ]
        },
        {
          "name": "stdout",
          "output_type": "stream",
          "text": [
            "\u001b[1;30m2024-05-14 11:28:08 | [DEBUG   ] Matching image pair: DSC_6470.JPG - DSC_6473.JPG\u001b[0m\n",
            "\u001b[1;33m2024-05-14 11:28:08 | [WARNING ] Cannot find scores in assets/example_cyprus/results_sift+lightglue_bruteforce_quality_high/features.h5\u001b[0m\n",
            "\u001b[1;33m2024-05-14 11:28:08 | [WARNING ] Cannot find scores in assets/example_cyprus/results_sift+lightglue_bruteforce_quality_high/features.h5\u001b[0m\n",
            "\u001b[1;30m2024-05-14 11:28:08 | [DEBUG   ] Tile selection was NONE. Matching full images...\u001b[0m\n",
            "\u001b[1;30m2024-05-14 11:28:08 | [DEBUG   ] [Timer] | [MatcherBase match] load h5 features=0.045, match full images=0.099, save to h5=0.001, Total execution=0.144\u001b[0m\n",
            "\u001b[1;30m2024-05-14 11:28:08 | [DEBUG   ] PYDEGENSAC found 255 inliers (79.69%)\u001b[0m\n",
            "\u001b[1;30m2024-05-14 11:28:08 | [DEBUG   ] Estiamted Fundamental matrix: \n",
            "[[-9.70331239e-06  1.82107764e-04 -2.69954598e-02]\n",
            " [ 3.04628228e-04  9.98604737e-06 -1.33285963e+00]\n",
            " [-1.07612391e-01  1.00000000e+00  8.87924010e+01]]\u001b[0m\n",
            "\u001b[1;30m2024-05-14 11:28:08 | [DEBUG   ] [Timer] | [MatcherBase match] Geom. verification=0.016, save to h5=0.001, Total execution=0.017\u001b[0m\n",
            "\u001b[1;30m2024-05-14 11:28:08 | [DEBUG   ] Matching DSC_6470.JPG-DSC_6473.JPG done!\u001b[0m\n",
            "\u001b[1;33m2024-05-14 11:28:08 | [WARNING ] Cannot find scores in assets/example_cyprus/results_sift+lightglue_bruteforce_quality_high/features.h5\u001b[0m\n",
            "\u001b[1;33m2024-05-14 11:28:08 | [WARNING ] Cannot find scores in assets/example_cyprus/results_sift+lightglue_bruteforce_quality_high/features.h5\u001b[0m\n"
          ]
        },
        {
          "name": "stderr",
          "output_type": "stream",
          "text": [
            " 73%|███████▎  | 33/45 [00:10<00:04,  2.83it/s]"
          ]
        },
        {
          "name": "stdout",
          "output_type": "stream",
          "text": [
            "\u001b[1;30m2024-05-14 11:28:08 | [DEBUG   ] Matching image pair: DSC_6470.JPG - DSC_6474.JPG\u001b[0m\n",
            "\u001b[1;33m2024-05-14 11:28:08 | [WARNING ] Cannot find scores in assets/example_cyprus/results_sift+lightglue_bruteforce_quality_high/features.h5\u001b[0m\n",
            "\u001b[1;33m2024-05-14 11:28:08 | [WARNING ] Cannot find scores in assets/example_cyprus/results_sift+lightglue_bruteforce_quality_high/features.h5\u001b[0m\n",
            "\u001b[1;30m2024-05-14 11:28:08 | [DEBUG   ] Tile selection was NONE. Matching full images...\u001b[0m\n",
            "\u001b[1;30m2024-05-14 11:28:08 | [DEBUG   ] [Timer] | [MatcherBase match] load h5 features=0.054, match full images=0.103, save to h5=0.001, Total execution=0.158\u001b[0m\n",
            "\u001b[1;30m2024-05-14 11:28:08 | [DEBUG   ] PYDEGENSAC found 305 inliers (82.88%)\u001b[0m\n",
            "\u001b[1;30m2024-05-14 11:28:08 | [DEBUG   ] Estiamted Fundamental matrix: \n",
            "[[ 1.61732994e-05  2.08398721e-04 -3.18879733e-01]\n",
            " [-1.21243370e-04 -6.25299063e-05 -1.00310598e+00]\n",
            " [ 2.35156134e-01  1.00000000e+00 -4.28039038e+01]]\u001b[0m\n",
            "\u001b[1;30m2024-05-14 11:28:08 | [DEBUG   ] [Timer] | [MatcherBase match] Geom. verification=0.079, save to h5=0.001, Total execution=0.079\u001b[0m\n",
            "\u001b[1;30m2024-05-14 11:28:08 | [DEBUG   ] Matching DSC_6470.JPG-DSC_6474.JPG done!\u001b[0m\n",
            "\u001b[1;33m2024-05-14 11:28:08 | [WARNING ] Cannot find scores in assets/example_cyprus/results_sift+lightglue_bruteforce_quality_high/features.h5\u001b[0m\n",
            "\u001b[1;33m2024-05-14 11:28:08 | [WARNING ] Cannot find scores in assets/example_cyprus/results_sift+lightglue_bruteforce_quality_high/features.h5\u001b[0m\n"
          ]
        },
        {
          "name": "stderr",
          "output_type": "stream",
          "text": [
            " 76%|███████▌  | 34/45 [00:11<00:03,  2.76it/s]"
          ]
        },
        {
          "name": "stdout",
          "output_type": "stream",
          "text": [
            "\u001b[1;30m2024-05-14 11:28:08 | [DEBUG   ] Matching image pair: DSC_6470.JPG - DSC_6475.JPG\u001b[0m\n",
            "\u001b[1;33m2024-05-14 11:28:08 | [WARNING ] Cannot find scores in assets/example_cyprus/results_sift+lightglue_bruteforce_quality_high/features.h5\u001b[0m\n",
            "\u001b[1;33m2024-05-14 11:28:08 | [WARNING ] Cannot find scores in assets/example_cyprus/results_sift+lightglue_bruteforce_quality_high/features.h5\u001b[0m\n",
            "\u001b[1;30m2024-05-14 11:28:08 | [DEBUG   ] Tile selection was NONE. Matching full images...\u001b[0m\n",
            "\u001b[1;30m2024-05-14 11:28:08 | [DEBUG   ] [Timer] | [MatcherBase match] load h5 features=0.044, match full images=0.099, save to h5=0.001, Total execution=0.144\u001b[0m\n",
            "\u001b[1;30m2024-05-14 11:28:08 | [DEBUG   ] PYDEGENSAC found 212 inliers (74.39%)\u001b[0m\n",
            "\u001b[1;30m2024-05-14 11:28:08 | [DEBUG   ] Estiamted Fundamental matrix: \n",
            "[[ 2.01397600e-07  1.20777536e-06 -1.02794994e-03]\n",
            " [-2.70189982e-07 -4.83821460e-08 -2.27775563e-03]\n",
            " [ 3.71594318e-04  1.13356668e-03  6.50373624e-01]]\u001b[0m\n",
            "\u001b[1;30m2024-05-14 11:28:08 | [DEBUG   ] [Timer] | [MatcherBase match] Geom. verification=0.051, save to h5=0.001, Total execution=0.052\u001b[0m\n",
            "\u001b[1;30m2024-05-14 11:28:08 | [DEBUG   ] Matching DSC_6470.JPG-DSC_6475.JPG done!\u001b[0m\n",
            "\u001b[1;33m2024-05-14 11:28:08 | [WARNING ] Cannot find scores in assets/example_cyprus/results_sift+lightglue_bruteforce_quality_high/features.h5\u001b[0m\n",
            "\u001b[1;33m2024-05-14 11:28:08 | [WARNING ] Cannot find scores in assets/example_cyprus/results_sift+lightglue_bruteforce_quality_high/features.h5\u001b[0m\n"
          ]
        },
        {
          "name": "stderr",
          "output_type": "stream",
          "text": [
            " 78%|███████▊  | 35/45 [00:11<00:03,  2.83it/s]"
          ]
        },
        {
          "name": "stdout",
          "output_type": "stream",
          "text": [
            "\u001b[1;30m2024-05-14 11:28:09 | [DEBUG   ] Matching image pair: DSC_6471.JPG - DSC_6472.JPG\u001b[0m\n",
            "\u001b[1;33m2024-05-14 11:28:09 | [WARNING ] Cannot find scores in assets/example_cyprus/results_sift+lightglue_bruteforce_quality_high/features.h5\u001b[0m\n",
            "\u001b[1;33m2024-05-14 11:28:09 | [WARNING ] Cannot find scores in assets/example_cyprus/results_sift+lightglue_bruteforce_quality_high/features.h5\u001b[0m\n",
            "\u001b[1;30m2024-05-14 11:28:09 | [DEBUG   ] Tile selection was NONE. Matching full images...\u001b[0m\n",
            "\u001b[1;30m2024-05-14 11:28:09 | [DEBUG   ] [Timer] | [MatcherBase match] load h5 features=0.043, match full images=0.097, save to h5=0.001, Total execution=0.140\u001b[0m\n",
            "\u001b[1;30m2024-05-14 11:28:09 | [DEBUG   ] PYDEGENSAC found 149 inliers (68.04%)\u001b[0m\n",
            "\u001b[1;30m2024-05-14 11:28:09 | [DEBUG   ] Estiamted Fundamental matrix: \n",
            "[[-2.05208806e-02 -6.75640538e-04  1.47827545e+01]\n",
            " [-1.79761968e-03  7.79441702e-03  7.97454816e+01]\n",
            " [ 9.69616304e+01  1.00000000e+00 -9.17491526e+04]]\u001b[0m\n",
            "\u001b[1;30m2024-05-14 11:28:09 | [DEBUG   ] [Timer] | [MatcherBase match] Geom. verification=0.042, save to h5=0.001, Total execution=0.043\u001b[0m\n",
            "\u001b[1;30m2024-05-14 11:28:09 | [DEBUG   ] Matching DSC_6471.JPG-DSC_6472.JPG done!\u001b[0m\n",
            "\u001b[1;33m2024-05-14 11:28:09 | [WARNING ] Cannot find scores in assets/example_cyprus/results_sift+lightglue_bruteforce_quality_high/features.h5\u001b[0m\n",
            "\u001b[1;33m2024-05-14 11:28:09 | [WARNING ] Cannot find scores in assets/example_cyprus/results_sift+lightglue_bruteforce_quality_high/features.h5\u001b[0m\n"
          ]
        },
        {
          "name": "stderr",
          "output_type": "stream",
          "text": [
            " 80%|████████  | 36/45 [00:11<00:03,  2.90it/s]"
          ]
        },
        {
          "name": "stdout",
          "output_type": "stream",
          "text": [
            "\u001b[1;30m2024-05-14 11:28:09 | [DEBUG   ] Matching image pair: DSC_6471.JPG - DSC_6473.JPG\u001b[0m\n",
            "\u001b[1;33m2024-05-14 11:28:09 | [WARNING ] Cannot find scores in assets/example_cyprus/results_sift+lightglue_bruteforce_quality_high/features.h5\u001b[0m\n",
            "\u001b[1;33m2024-05-14 11:28:09 | [WARNING ] Cannot find scores in assets/example_cyprus/results_sift+lightglue_bruteforce_quality_high/features.h5\u001b[0m\n",
            "\u001b[1;30m2024-05-14 11:28:09 | [DEBUG   ] Tile selection was NONE. Matching full images...\u001b[0m\n",
            "\u001b[1;30m2024-05-14 11:28:09 | [DEBUG   ] [Timer] | [MatcherBase match] load h5 features=0.051, match full images=0.100, save to h5=0.001, Total execution=0.151\u001b[0m\n",
            "\u001b[1;30m2024-05-14 11:28:09 | [DEBUG   ] PYDEGENSAC found 739 inliers (97.24%)\u001b[0m\n",
            "\u001b[1;30m2024-05-14 11:28:09 | [DEBUG   ] Estiamted Fundamental matrix: \n",
            "[[-4.14266892e-02 -1.02224244e-03  3.37113146e+01]\n",
            " [-2.12486590e-03 -2.71992139e-02 -2.04667391e+02]\n",
            " [-1.90743987e+02  1.00000000e+00  1.98608118e+05]]\u001b[0m\n",
            "\u001b[1;30m2024-05-14 11:28:09 | [DEBUG   ] [Timer] | [MatcherBase match] Geom. verification=0.177, save to h5=0.001, Total execution=0.178\u001b[0m\n",
            "\u001b[1;30m2024-05-14 11:28:09 | [DEBUG   ] Matching DSC_6471.JPG-DSC_6473.JPG done!\u001b[0m\n",
            "\u001b[1;33m2024-05-14 11:28:09 | [WARNING ] Cannot find scores in assets/example_cyprus/results_sift+lightglue_bruteforce_quality_high/features.h5\u001b[0m\n",
            "\u001b[1;33m2024-05-14 11:28:09 | [WARNING ] Cannot find scores in assets/example_cyprus/results_sift+lightglue_bruteforce_quality_high/features.h5\u001b[0m\n"
          ]
        },
        {
          "name": "stderr",
          "output_type": "stream",
          "text": [
            " 82%|████████▏ | 37/45 [00:12<00:03,  2.58it/s]"
          ]
        },
        {
          "name": "stdout",
          "output_type": "stream",
          "text": [
            "\u001b[1;30m2024-05-14 11:28:09 | [DEBUG   ] Matching image pair: DSC_6471.JPG - DSC_6474.JPG\u001b[0m\n",
            "\u001b[1;33m2024-05-14 11:28:09 | [WARNING ] Cannot find scores in assets/example_cyprus/results_sift+lightglue_bruteforce_quality_high/features.h5\u001b[0m\n",
            "\u001b[1;33m2024-05-14 11:28:09 | [WARNING ] Cannot find scores in assets/example_cyprus/results_sift+lightglue_bruteforce_quality_high/features.h5\u001b[0m\n",
            "\u001b[1;30m2024-05-14 11:28:09 | [DEBUG   ] Tile selection was NONE. Matching full images...\u001b[0m\n",
            "\u001b[1;30m2024-05-14 11:28:09 | [DEBUG   ] [Timer] | [MatcherBase match] load h5 features=0.049, match full images=0.099, save to h5=0.001, Total execution=0.149\u001b[0m\n",
            "\u001b[1;30m2024-05-14 11:28:10 | [DEBUG   ] PYDEGENSAC found 63 inliers (41.72%)\u001b[0m\n",
            "\u001b[1;30m2024-05-14 11:28:10 | [DEBUG   ] Estiamted Fundamental matrix: \n",
            "[[ 1.04164815e-07  2.51751237e-07  5.52570636e-04]\n",
            " [-4.34686028e-07  1.19488112e-06  2.67800202e-03]\n",
            " [ 3.75187998e-03 -1.09755012e-03 -2.65958753e+00]]\u001b[0m\n",
            "\u001b[1;30m2024-05-14 11:28:10 | [DEBUG   ] [Timer] | [MatcherBase match] Geom. verification=0.023, save to h5=0.001, Total execution=0.024\u001b[0m\n",
            "\u001b[1;30m2024-05-14 11:28:10 | [DEBUG   ] Matching DSC_6471.JPG-DSC_6474.JPG done!\u001b[0m\n",
            "\u001b[1;33m2024-05-14 11:28:10 | [WARNING ] Cannot find scores in assets/example_cyprus/results_sift+lightglue_bruteforce_quality_high/features.h5\u001b[0m\n",
            "\u001b[1;33m2024-05-14 11:28:10 | [WARNING ] Cannot find scores in assets/example_cyprus/results_sift+lightglue_bruteforce_quality_high/features.h5\u001b[0m\n"
          ]
        },
        {
          "name": "stderr",
          "output_type": "stream",
          "text": [
            " 84%|████████▍ | 38/45 [00:12<00:02,  2.75it/s]"
          ]
        },
        {
          "name": "stdout",
          "output_type": "stream",
          "text": [
            "\u001b[1;30m2024-05-14 11:28:10 | [DEBUG   ] Matching image pair: DSC_6471.JPG - DSC_6475.JPG\u001b[0m\n",
            "\u001b[1;33m2024-05-14 11:28:10 | [WARNING ] Cannot find scores in assets/example_cyprus/results_sift+lightglue_bruteforce_quality_high/features.h5\u001b[0m\n",
            "\u001b[1;33m2024-05-14 11:28:10 | [WARNING ] Cannot find scores in assets/example_cyprus/results_sift+lightglue_bruteforce_quality_high/features.h5\u001b[0m\n",
            "\u001b[1;30m2024-05-14 11:28:10 | [DEBUG   ] Tile selection was NONE. Matching full images...\u001b[0m\n",
            "\u001b[1;30m2024-05-14 11:28:10 | [DEBUG   ] [Timer] | [MatcherBase match] load h5 features=0.046, match full images=0.096, save to h5=0.001, Total execution=0.143\u001b[0m\n",
            "\u001b[1;30m2024-05-14 11:28:10 | [DEBUG   ] PYDEGENSAC found 298 inliers (82.78%)\u001b[0m\n",
            "\u001b[1;30m2024-05-14 11:28:10 | [DEBUG   ] Estiamted Fundamental matrix: \n",
            "[[ 2.17528445e-06  5.82152216e-08 -5.55106052e-04]\n",
            " [-2.67809964e-07  2.10147309e-06  2.16285192e-03]\n",
            " [ 2.10357578e-03 -1.38913570e-03 -1.97255277e+00]]\u001b[0m\n",
            "\u001b[1;30m2024-05-14 11:28:10 | [DEBUG   ] [Timer] | [MatcherBase match] Geom. verification=0.073, save to h5=0.001, Total execution=0.073\u001b[0m\n",
            "\u001b[1;30m2024-05-14 11:28:10 | [DEBUG   ] Matching DSC_6471.JPG-DSC_6475.JPG done!\u001b[0m\n",
            "\u001b[1;33m2024-05-14 11:28:10 | [WARNING ] Cannot find scores in assets/example_cyprus/results_sift+lightglue_bruteforce_quality_high/features.h5\u001b[0m\n",
            "\u001b[1;33m2024-05-14 11:28:10 | [WARNING ] Cannot find scores in assets/example_cyprus/results_sift+lightglue_bruteforce_quality_high/features.h5\u001b[0m\n"
          ]
        },
        {
          "name": "stderr",
          "output_type": "stream",
          "text": [
            " 87%|████████▋ | 39/45 [00:13<00:02,  2.77it/s]"
          ]
        },
        {
          "name": "stdout",
          "output_type": "stream",
          "text": [
            "\u001b[1;30m2024-05-14 11:28:10 | [DEBUG   ] Matching image pair: DSC_6472.JPG - DSC_6473.JPG\u001b[0m\n",
            "\u001b[1;33m2024-05-14 11:28:10 | [WARNING ] Cannot find scores in assets/example_cyprus/results_sift+lightglue_bruteforce_quality_high/features.h5\u001b[0m\n",
            "\u001b[1;33m2024-05-14 11:28:10 | [WARNING ] Cannot find scores in assets/example_cyprus/results_sift+lightglue_bruteforce_quality_high/features.h5\u001b[0m\n",
            "\u001b[1;30m2024-05-14 11:28:10 | [DEBUG   ] Tile selection was NONE. Matching full images...\u001b[0m\n",
            "\u001b[1;30m2024-05-14 11:28:10 | [DEBUG   ] [Timer] | [MatcherBase match] load h5 features=0.046, match full images=0.096, save to h5=0.001, Total execution=0.143\u001b[0m\n",
            "\u001b[1;30m2024-05-14 11:28:10 | [DEBUG   ] PYDEGENSAC found 285 inliers (85.33%)\u001b[0m\n",
            "\u001b[1;30m2024-05-14 11:28:10 | [DEBUG   ] Estiamted Fundamental matrix: \n",
            "[[-4.07929479e-05  5.69070606e-04 -1.49031798e-02]\n",
            " [ 4.99860334e-05  5.10446206e-05 -1.67564823e+00]\n",
            " [-7.65366325e-02  1.00000000e+00  1.25283377e+02]]\u001b[0m\n",
            "\u001b[1;30m2024-05-14 11:28:10 | [DEBUG   ] [Timer] | [MatcherBase match] Geom. verification=0.063, save to h5=0.001, Total execution=0.064\u001b[0m\n",
            "\u001b[1;30m2024-05-14 11:28:10 | [DEBUG   ] Matching DSC_6472.JPG-DSC_6473.JPG done!\u001b[0m\n",
            "\u001b[1;33m2024-05-14 11:28:10 | [WARNING ] Cannot find scores in assets/example_cyprus/results_sift+lightglue_bruteforce_quality_high/features.h5\u001b[0m\n",
            "\u001b[1;33m2024-05-14 11:28:10 | [WARNING ] Cannot find scores in assets/example_cyprus/results_sift+lightglue_bruteforce_quality_high/features.h5\u001b[0m\n"
          ]
        },
        {
          "name": "stderr",
          "output_type": "stream",
          "text": [
            " 89%|████████▉ | 40/45 [00:13<00:01,  2.78it/s]"
          ]
        },
        {
          "name": "stdout",
          "output_type": "stream",
          "text": [
            "\u001b[1;30m2024-05-14 11:28:10 | [DEBUG   ] Matching image pair: DSC_6472.JPG - DSC_6474.JPG\u001b[0m\n",
            "\u001b[1;33m2024-05-14 11:28:10 | [WARNING ] Cannot find scores in assets/example_cyprus/results_sift+lightglue_bruteforce_quality_high/features.h5\u001b[0m\n",
            "\u001b[1;33m2024-05-14 11:28:10 | [WARNING ] Cannot find scores in assets/example_cyprus/results_sift+lightglue_bruteforce_quality_high/features.h5\u001b[0m\n",
            "\u001b[1;30m2024-05-14 11:28:10 | [DEBUG   ] Tile selection was NONE. Matching full images...\u001b[0m\n",
            "\u001b[1;30m2024-05-14 11:28:11 | [DEBUG   ] [Timer] | [MatcherBase match] load h5 features=0.047, match full images=0.098, save to h5=0.001, Total execution=0.146\u001b[0m\n",
            "\u001b[1;30m2024-05-14 11:28:11 | [DEBUG   ] PYDEGENSAC found 513 inliers (91.61%)\u001b[0m\n",
            "\u001b[1;30m2024-05-14 11:28:11 | [DEBUG   ] Estiamted Fundamental matrix: \n",
            "[[ 2.62600208e-05  5.92172442e-04 -7.37394718e-01]\n",
            " [-5.25268678e-04 -6.18264847e-05 -1.01697870e+00]\n",
            " [ 6.36935157e-01  1.00000000e+00 -4.58470155e+00]]\u001b[0m\n",
            "\u001b[1;30m2024-05-14 11:28:11 | [DEBUG   ] [Timer] | [MatcherBase match] Geom. verification=0.031, save to h5=0.001, Total execution=0.032\u001b[0m\n",
            "\u001b[1;30m2024-05-14 11:28:11 | [DEBUG   ] Matching DSC_6472.JPG-DSC_6474.JPG done!\u001b[0m\n",
            "\u001b[1;33m2024-05-14 11:28:11 | [WARNING ] Cannot find scores in assets/example_cyprus/results_sift+lightglue_bruteforce_quality_high/features.h5\u001b[0m\n",
            "\u001b[1;33m2024-05-14 11:28:11 | [WARNING ] Cannot find scores in assets/example_cyprus/results_sift+lightglue_bruteforce_quality_high/features.h5\u001b[0m\n"
          ]
        },
        {
          "name": "stderr",
          "output_type": "stream",
          "text": [
            " 91%|█████████ | 41/45 [00:13<00:01,  2.84it/s]"
          ]
        },
        {
          "name": "stdout",
          "output_type": "stream",
          "text": [
            "\u001b[1;30m2024-05-14 11:28:11 | [DEBUG   ] Matching image pair: DSC_6472.JPG - DSC_6475.JPG\u001b[0m\n",
            "\u001b[1;33m2024-05-14 11:28:11 | [WARNING ] Cannot find scores in assets/example_cyprus/results_sift+lightglue_bruteforce_quality_high/features.h5\u001b[0m\n",
            "\u001b[1;33m2024-05-14 11:28:11 | [WARNING ] Cannot find scores in assets/example_cyprus/results_sift+lightglue_bruteforce_quality_high/features.h5\u001b[0m\n",
            "\u001b[1;30m2024-05-14 11:28:11 | [DEBUG   ] Tile selection was NONE. Matching full images...\u001b[0m\n",
            "\u001b[1;30m2024-05-14 11:28:11 | [DEBUG   ] [Timer] | [MatcherBase match] load h5 features=0.045, match full images=0.099, save to h5=0.001, Total execution=0.145\u001b[0m\n",
            "\u001b[1;30m2024-05-14 11:28:11 | [DEBUG   ] PYDEGENSAC found 287 inliers (79.72%)\u001b[0m\n",
            "\u001b[1;30m2024-05-14 11:28:11 | [DEBUG   ] Estiamted Fundamental matrix: \n",
            "[[ 4.10821269e-07  2.27716707e-06 -1.93499714e-03]\n",
            " [-1.39094466e-06  8.43096855e-08 -1.88068560e-03]\n",
            " [ 1.01569564e-03  2.48416677e-05  1.27983666e+00]]\u001b[0m\n",
            "\u001b[1;30m2024-05-14 11:28:11 | [DEBUG   ] [Timer] | [MatcherBase match] Geom. verification=0.072, save to h5=0.001, Total execution=0.073\u001b[0m\n",
            "\u001b[1;30m2024-05-14 11:28:11 | [DEBUG   ] Matching DSC_6472.JPG-DSC_6475.JPG done!\u001b[0m\n",
            "\u001b[1;33m2024-05-14 11:28:11 | [WARNING ] Cannot find scores in assets/example_cyprus/results_sift+lightglue_bruteforce_quality_high/features.h5\u001b[0m\n",
            "\u001b[1;33m2024-05-14 11:28:11 | [WARNING ] Cannot find scores in assets/example_cyprus/results_sift+lightglue_bruteforce_quality_high/features.h5\u001b[0m\n"
          ]
        },
        {
          "name": "stderr",
          "output_type": "stream",
          "text": [
            " 93%|█████████▎| 42/45 [00:14<00:01,  2.78it/s]"
          ]
        },
        {
          "name": "stdout",
          "output_type": "stream",
          "text": [
            "\u001b[1;30m2024-05-14 11:28:11 | [DEBUG   ] Matching image pair: DSC_6473.JPG - DSC_6474.JPG\u001b[0m\n",
            "\u001b[1;33m2024-05-14 11:28:11 | [WARNING ] Cannot find scores in assets/example_cyprus/results_sift+lightglue_bruteforce_quality_high/features.h5\u001b[0m\n",
            "\u001b[1;33m2024-05-14 11:28:11 | [WARNING ] Cannot find scores in assets/example_cyprus/results_sift+lightglue_bruteforce_quality_high/features.h5\u001b[0m\n",
            "\u001b[1;30m2024-05-14 11:28:11 | [DEBUG   ] Tile selection was NONE. Matching full images...\u001b[0m\n",
            "\u001b[1;30m2024-05-14 11:28:11 | [DEBUG   ] [Timer] | [MatcherBase match] load h5 features=0.048, match full images=0.098, save to h5=0.001, Total execution=0.147\u001b[0m\n",
            "\u001b[1;30m2024-05-14 11:28:11 | [DEBUG   ] PYDEGENSAC found 103 inliers (56.91%)\u001b[0m\n",
            "\u001b[1;30m2024-05-14 11:28:11 | [DEBUG   ] Estiamted Fundamental matrix: \n",
            "[[ 4.87912408e-07 -1.34651640e-06  1.22378552e-03]\n",
            " [ 2.62805547e-06  2.68402065e-07  7.05290576e-04]\n",
            " [-2.03124597e-03 -3.18608146e-03  1.78608772e+00]]\u001b[0m\n",
            "\u001b[1;30m2024-05-14 11:28:11 | [DEBUG   ] [Timer] | [MatcherBase match] Geom. verification=0.044, save to h5=0.001, Total execution=0.045\u001b[0m\n",
            "\u001b[1;30m2024-05-14 11:28:11 | [DEBUG   ] Matching DSC_6473.JPG-DSC_6474.JPG done!\u001b[0m\n",
            "\u001b[1;33m2024-05-14 11:28:11 | [WARNING ] Cannot find scores in assets/example_cyprus/results_sift+lightglue_bruteforce_quality_high/features.h5\u001b[0m\n",
            "\u001b[1;33m2024-05-14 11:28:11 | [WARNING ] Cannot find scores in assets/example_cyprus/results_sift+lightglue_bruteforce_quality_high/features.h5\u001b[0m\n"
          ]
        },
        {
          "name": "stderr",
          "output_type": "stream",
          "text": [
            " 96%|█████████▌| 43/45 [00:14<00:00,  2.86it/s]"
          ]
        },
        {
          "name": "stdout",
          "output_type": "stream",
          "text": [
            "\u001b[1;30m2024-05-14 11:28:11 | [DEBUG   ] Matching image pair: DSC_6473.JPG - DSC_6475.JPG\u001b[0m\n",
            "\u001b[1;33m2024-05-14 11:28:11 | [WARNING ] Cannot find scores in assets/example_cyprus/results_sift+lightglue_bruteforce_quality_high/features.h5\u001b[0m\n",
            "\u001b[1;33m2024-05-14 11:28:11 | [WARNING ] Cannot find scores in assets/example_cyprus/results_sift+lightglue_bruteforce_quality_high/features.h5\u001b[0m\n",
            "\u001b[1;30m2024-05-14 11:28:11 | [DEBUG   ] Tile selection was NONE. Matching full images...\u001b[0m\n",
            "\u001b[1;30m2024-05-14 11:28:12 | [DEBUG   ] [Timer] | [MatcherBase match] load h5 features=0.045, match full images=0.099, save to h5=0.001, Total execution=0.145\u001b[0m\n",
            "\u001b[1;30m2024-05-14 11:28:12 | [DEBUG   ] PYDEGENSAC found 485 inliers (90.15%)\u001b[0m\n",
            "\u001b[1;30m2024-05-14 11:28:12 | [DEBUG   ] Estiamted Fundamental matrix: \n",
            "[[-1.35637031e-04  3.63958502e-03 -2.96316305e+00]\n",
            " [-3.79253106e-03 -2.89724541e-04 -3.13919713e-01]\n",
            " [ 2.84519381e+00  1.00000000e+00 -3.97468070e+02]]\u001b[0m\n",
            "\u001b[1;30m2024-05-14 11:28:12 | [DEBUG   ] [Timer] | [MatcherBase match] Geom. verification=0.119, save to h5=0.001, Total execution=0.120\u001b[0m\n",
            "\u001b[1;30m2024-05-14 11:28:12 | [DEBUG   ] Matching DSC_6473.JPG-DSC_6475.JPG done!\u001b[0m\n",
            "\u001b[1;33m2024-05-14 11:28:12 | [WARNING ] Cannot find scores in assets/example_cyprus/results_sift+lightglue_bruteforce_quality_high/features.h5\u001b[0m\n",
            "\u001b[1;33m2024-05-14 11:28:12 | [WARNING ] Cannot find scores in assets/example_cyprus/results_sift+lightglue_bruteforce_quality_high/features.h5\u001b[0m\n"
          ]
        },
        {
          "name": "stderr",
          "output_type": "stream",
          "text": [
            " 98%|█████████▊| 44/45 [00:14<00:00,  2.72it/s]"
          ]
        },
        {
          "name": "stdout",
          "output_type": "stream",
          "text": [
            "\u001b[1;30m2024-05-14 11:28:12 | [DEBUG   ] Matching image pair: DSC_6474.JPG - DSC_6475.JPG\u001b[0m\n",
            "\u001b[1;33m2024-05-14 11:28:12 | [WARNING ] Cannot find scores in assets/example_cyprus/results_sift+lightglue_bruteforce_quality_high/features.h5\u001b[0m\n",
            "\u001b[1;33m2024-05-14 11:28:12 | [WARNING ] Cannot find scores in assets/example_cyprus/results_sift+lightglue_bruteforce_quality_high/features.h5\u001b[0m\n",
            "\u001b[1;30m2024-05-14 11:28:12 | [DEBUG   ] Tile selection was NONE. Matching full images...\u001b[0m\n",
            "\u001b[1;30m2024-05-14 11:28:12 | [DEBUG   ] [Timer] | [MatcherBase match] load h5 features=0.046, match full images=0.097, save to h5=0.001, Total execution=0.144\u001b[0m\n",
            "\u001b[1;30m2024-05-14 11:28:12 | [DEBUG   ] PYDEGENSAC found 571 inliers (92.54%)\u001b[0m\n",
            "\u001b[1;30m2024-05-14 11:28:12 | [DEBUG   ] Estiamted Fundamental matrix: \n",
            "[[-1.18433431e-05 -2.59213151e-05  4.99765984e-02]\n",
            " [ 3.17414482e-04 -7.47175591e-06 -1.11974502e+00]\n",
            " [-8.97617745e-02  1.00000000e+00  4.46180112e+00]]\u001b[0m\n",
            "\u001b[1;30m2024-05-14 11:28:12 | [DEBUG   ] [Timer] | [MatcherBase match] Geom. verification=0.107, save to h5=0.001, Total execution=0.108\u001b[0m\n",
            "\u001b[1;30m2024-05-14 11:28:12 | [DEBUG   ] Matching DSC_6474.JPG-DSC_6475.JPG done!\u001b[0m\n",
            "\u001b[1;33m2024-05-14 11:28:12 | [WARNING ] Cannot find scores in assets/example_cyprus/results_sift+lightglue_bruteforce_quality_high/features.h5\u001b[0m\n",
            "\u001b[1;33m2024-05-14 11:28:12 | [WARNING ] Cannot find scores in assets/example_cyprus/results_sift+lightglue_bruteforce_quality_high/features.h5\u001b[0m\n"
          ]
        },
        {
          "name": "stderr",
          "output_type": "stream",
          "text": [
            "100%|██████████| 45/45 [00:15<00:00,  2.94it/s]"
          ]
        },
        {
          "name": "stdout",
          "output_type": "stream",
          "text": [
            "\u001b[0;37m2024-05-14 11:28:12 | [INFO    ] [Timer] | [matching] generate_pairs=99.756, extract_features=7.707, Match pair=0.378, Total execution=122.800\u001b[0m\n",
            "\u001b[0;37m2024-05-14 11:28:12 | [INFO    ] [Timer] | [Deep Image Matching] Total execution=0.000\u001b[0m\n"
          ]
        },
        {
          "name": "stderr",
          "output_type": "stream",
          "text": [
            "\n"
          ]
        }
      ],
      "source": [
        "matcher = dim.ImageMatcher(config)\n",
        "feature_path, match_path = matcher.run()"
      ]
    },
    {
      "cell_type": "markdown",
      "metadata": {},
      "source": [
        "Export matches to COLMAP format\n"
      ]
    },
    {
      "cell_type": "code",
      "execution_count": 9,
      "metadata": {},
      "outputs": [
        {
          "name": "stdout",
          "output_type": "stream",
          "text": [
            "\u001b[1;33m2024-05-14 11:28:12 | [WARNING ] Database path assets/example_cyprus/results_sift+lightglue_bruteforce_quality_high/database.db already exists - deleting it\u001b[0m\n",
            "\u001b[1;33m2024-05-14 11:28:12 | [WARNING ] Was not possible to load the first image to initialize cam0\u001b[0m\n",
            "\u001b[1;33m2024-05-14 11:28:12 | [WARNING ] Was not possible to load the first image to initialize cam1\u001b[0m\n"
          ]
        },
        {
          "name": "stderr",
          "output_type": "stream",
          "text": [
            "100%|██████████| 10/10 [00:00<00:00, 740.08it/s]\n",
            "45it [00:00, 5396.38it/s]             \n",
            "44it [00:00, 6592.23it/s]             \n"
          ]
        }
      ],
      "source": [
        "dim.io.export_to_colmap(\n",
        "    img_dir=config.general[\"image_dir\"],\n",
        "    feature_path=feature_path,\n",
        "    match_path=match_path,\n",
        "    database_path=config.general[\"output_dir\"] / \"database.db\",\n",
        "    camera_config_path=config.general[\"camera_options\"],\n",
        ")"
      ]
    },
    {
      "cell_type": "markdown",
      "metadata": {},
      "source": [
        "Run reconstruction with pycolmap\n"
      ]
    },
    {
      "cell_type": "code",
      "execution_count": 10,
      "metadata": {},
      "outputs": [
        {
          "name": "stdout",
          "output_type": "stream",
          "text": [
            "\u001b[0;37m2024-05-14 11:28:12 | [INFO    ] Running 3D reconstruction...\u001b[0m\n"
          ]
        },
        {
          "name": "stderr",
          "output_type": "stream",
          "text": [
            "I20240514 11:28:12.810319 466242 misc.cc:198] \n",
            "==============================================================================\n",
            "Loading database\n",
            "==============================================================================\n",
            "I20240514 11:28:12.812754 466242 database_cache.cc:54] Loading cameras...\n",
            "I20240514 11:28:12.812825 466242 database_cache.cc:64]  1 in 0.000s\n",
            "I20240514 11:28:12.812850 466242 database_cache.cc:72] Loading matches...\n",
            "I20240514 11:28:12.813066 466242 database_cache.cc:78]  44 in 0.000s\n",
            "I20240514 11:28:12.813083 466242 database_cache.cc:94] Loading images...\n",
            "I20240514 11:28:12.815517 466242 database_cache.cc:143]  10 in 0.002s (connected 10)\n",
            "I20240514 11:28:12.815572 466242 database_cache.cc:154] Building correspondence graph...\n",
            "I20240514 11:28:12.818686 466242 database_cache.cc:190]  in 0.003s (ignored 0)\n",
            "I20240514 11:28:12.818742 466242 timer.cc:91] Elapsed time: 0.000 [minutes]\n",
            "I20240514 11:28:12.819898 466242 misc.cc:198] \n",
            "==============================================================================\n",
            "Finding good initial image pair\n",
            "==============================================================================\n",
            "I20240514 11:28:12.902141 466242 misc.cc:198] \n",
            "==============================================================================\n",
            "Initializing with image pair #5 and #9\n",
            "==============================================================================\n",
            "I20240514 11:28:12.902958 466242 misc.cc:198] \n",
            "==============================================================================\n",
            "Global bundle adjustment\n",
            "==============================================================================\n",
            "I20240514 11:28:12.908131 466242 misc.cc:205] \n",
            "Bundle adjustment report\n",
            "------------------------\n",
            "I20240514 11:28:12.908167 466242 bundle_adjustment.cc:942] \n",
            "    Residuals : 928\n",
            "   Parameters : 701\n",
            "   Iterations : 12\n",
            "         Time : 0.0046289 [s]\n",
            " Initial cost : 0.290809 [px]\n",
            "   Final cost : 0.234164 [px]\n",
            "  Termination : Convergence\n",
            "\n",
            "I20240514 11:28:12.908406 466242 incremental_mapper.cc:160] => Filtered observations: 0\n",
            "I20240514 11:28:12.908413 466242 incremental_mapper.cc:167] => Filtered images: 0\n",
            "I20240514 11:28:12.934652 466242 misc.cc:198] \n",
            "==============================================================================\n",
            "Registering image #7 (3)\n",
            "==============================================================================\n",
            "I20240514 11:28:12.934690 466242 incremental_mapper.cc:495] => Image sees 169 / 1249 points\n",
            "I20240514 11:28:12.937394 466242 misc.cc:205] \n",
            "Pose refinement report\n",
            "----------------------\n",
            "I20240514 11:28:12.937418 466242 bundle_adjustment.cc:942] \n",
            "    Residuals : 338\n",
            "   Parameters : 6\n",
            "   Iterations : 11\n",
            "         Time : 0.00131702 [s]\n",
            " Initial cost : 0.366172 [px]\n",
            "   Final cost : 0.320556 [px]\n",
            "  Termination : Convergence\n",
            "\n",
            "I20240514 11:28:12.937603 466242 incremental_mapper.cc:40] => Continued observations: 169\n",
            "I20240514 11:28:12.939749 466242 incremental_mapper.cc:43] => Added observations: 995\n",
            "I20240514 11:28:12.956894 466242 misc.cc:205] \n",
            "Bundle adjustment report\n",
            "------------------------\n",
            "I20240514 11:28:12.956933 466242 bundle_adjustment.cc:942] \n",
            "    Residuals : 3256\n",
            "   Parameters : 2051\n",
            "   Iterations : 10\n",
            "         Time : 0.0159428 [s]\n",
            " Initial cost : 0.611792 [px]\n",
            "   Final cost : 0.308946 [px]\n",
            "  Termination : Convergence\n",
            "\n",
            "I20240514 11:28:12.958535 466242 incremental_mapper.cc:78] => Merged observations: 0\n",
            "I20240514 11:28:12.958565 466242 incremental_mapper.cc:79] => Completed observations: 1\n",
            "I20240514 11:28:12.958571 466242 incremental_mapper.cc:81] => Filtered observations: 3\n",
            "I20240514 11:28:12.958576 466242 incremental_mapper.cc:90] => Changed observations: 0.002457\n",
            "I20240514 11:28:12.967751 466242 misc.cc:205] \n",
            "Bundle adjustment report\n",
            "------------------------\n",
            "I20240514 11:28:12.967800 466242 bundle_adjustment.cc:942] \n",
            "    Residuals : 3252\n",
            "   Parameters : 2051\n",
            "   Iterations : 3\n",
            "         Time : 0.00788713 [s]\n",
            " Initial cost : 0.343419 [px]\n",
            "   Final cost : 0.334256 [px]\n",
            "  Termination : Convergence\n",
            "\n",
            "I20240514 11:28:12.969354 466242 incremental_mapper.cc:78] => Merged observations: 0\n",
            "I20240514 11:28:12.969372 466242 incremental_mapper.cc:79] => Completed observations: 0\n",
            "I20240514 11:28:12.969377 466242 incremental_mapper.cc:81] => Filtered observations: 0\n",
            "I20240514 11:28:12.969381 466242 incremental_mapper.cc:90] => Changed observations: 0.000000\n",
            "I20240514 11:28:12.969455 466242 misc.cc:198] \n",
            "==============================================================================\n",
            "Retriangulation\n",
            "==============================================================================\n",
            "I20240514 11:28:12.969635 466242 incremental_mapper.cc:175] => Completed observations: 0\n",
            "I20240514 11:28:12.969770 466242 incremental_mapper.cc:178] => Merged observations: 0\n",
            "I20240514 11:28:12.969776 466242 incremental_mapper.cc:105] => Retriangulated observations: 0\n",
            "I20240514 11:28:12.969786 466242 misc.cc:198] \n",
            "==============================================================================\n",
            "Global bundle adjustment\n",
            "==============================================================================\n",
            "I20240514 11:28:12.985334 466242 misc.cc:205] \n",
            "Bundle adjustment report\n",
            "------------------------\n",
            "I20240514 11:28:12.985386 466242 bundle_adjustment.cc:942] \n",
            "    Residuals : 3252\n",
            "   Parameters : 2051\n",
            "   Iterations : 7\n",
            "         Time : 0.01438 [s]\n",
            " Initial cost : 0.334256 [px]\n",
            "   Final cost : 0.334235 [px]\n",
            "  Termination : Convergence\n",
            "\n",
            "I20240514 11:28:12.986191 466242 incremental_mapper.cc:175] => Completed observations: 0\n",
            "I20240514 11:28:12.986336 466242 incremental_mapper.cc:178] => Merged observations: 0\n",
            "I20240514 11:28:12.986495 466242 incremental_mapper.cc:160] => Filtered observations: 0\n",
            "I20240514 11:28:12.986500 466242 incremental_mapper.cc:119] => Changed observations: 0.000000\n",
            "I20240514 11:28:12.986506 466242 incremental_mapper.cc:167] => Filtered images: 0\n",
            "I20240514 11:28:13.013871 466242 misc.cc:198] \n",
            "==============================================================================\n",
            "Registering image #10 (4)\n",
            "==============================================================================\n",
            "I20240514 11:28:13.013916 466242 incremental_mapper.cc:495] => Image sees 284 / 1204 points\n",
            "I20240514 11:28:13.019408 466242 misc.cc:205] \n",
            "Pose refinement report\n",
            "----------------------\n",
            "I20240514 11:28:13.019451 466242 bundle_adjustment.cc:942] \n",
            "    Residuals : 462\n",
            "   Parameters : 6\n",
            "   Iterations : 20\n",
            "         Time : 0.00341702 [s]\n",
            " Initial cost : 0.799759 [px]\n",
            "   Final cost : 0.783218 [px]\n",
            "  Termination : Convergence\n",
            "\n",
            "I20240514 11:28:13.019694 466242 incremental_mapper.cc:40] => Continued observations: 231\n",
            "I20240514 11:28:13.020722 466242 incremental_mapper.cc:43] => Added observations: 269\n",
            "I20240514 11:28:13.076031 466242 misc.cc:205] \n",
            "Bundle adjustment report\n",
            "------------------------\n",
            "I20240514 11:28:13.076085 466242 bundle_adjustment.cc:942] \n",
            "    Residuals : 4252\n",
            "   Parameters : 2336\n",
            "   Iterations : 25\n",
            "         Time : 0.0536728 [s]\n",
            " Initial cost : 0.894944 [px]\n",
            "   Final cost : 0.817628 [px]\n",
            "  Termination : Convergence\n",
            "\n",
            "I20240514 11:28:13.077839 466242 incremental_mapper.cc:78] => Merged observations: 0\n",
            "I20240514 11:28:13.077860 466242 incremental_mapper.cc:79] => Completed observations: 10\n",
            "I20240514 11:28:13.077864 466242 incremental_mapper.cc:81] => Filtered observations: 223\n",
            "I20240514 11:28:13.077868 466242 incremental_mapper.cc:90] => Changed observations: 0.109595\n",
            "I20240514 11:28:13.096133 466242 misc.cc:205] \n",
            "Bundle adjustment report\n",
            "------------------------\n",
            "I20240514 11:28:13.096174 466242 bundle_adjustment.cc:942] \n",
            "    Residuals : 3826\n",
            "   Parameters : 2213\n",
            "   Iterations : 9\n",
            "         Time : 0.017091 [s]\n",
            " Initial cost : 0.573757 [px]\n",
            "   Final cost : 0.461287 [px]\n",
            "  Termination : Convergence\n",
            "\n",
            "I20240514 11:28:13.097719 466242 incremental_mapper.cc:78] => Merged observations: 0\n",
            "I20240514 11:28:13.097734 466242 incremental_mapper.cc:79] => Completed observations: 24\n",
            "I20240514 11:28:13.097738 466242 incremental_mapper.cc:81] => Filtered observations: 2\n",
            "I20240514 11:28:13.097743 466242 incremental_mapper.cc:90] => Changed observations: 0.013591\n",
            "I20240514 11:28:13.097759 466242 misc.cc:198] \n",
            "==============================================================================\n",
            "Retriangulation\n",
            "==============================================================================\n",
            "I20240514 11:28:13.097950 466242 incremental_mapper.cc:175] => Completed observations: 0\n",
            "I20240514 11:28:13.098088 466242 incremental_mapper.cc:178] => Merged observations: 0\n",
            "I20240514 11:28:13.098127 466242 incremental_mapper.cc:105] => Retriangulated observations: 0\n",
            "I20240514 11:28:13.098136 466242 misc.cc:198] \n",
            "==============================================================================\n",
            "Global bundle adjustment\n",
            "==============================================================================\n",
            "I20240514 11:28:13.110636 466242 misc.cc:205] \n",
            "Bundle adjustment report\n",
            "------------------------\n",
            "I20240514 11:28:13.110679 466242 bundle_adjustment.cc:942] \n",
            "    Residuals : 3870\n",
            "   Parameters : 2243\n",
            "   Iterations : 6\n",
            "         Time : 0.0113282 [s]\n",
            " Initial cost : 0.467078 [px]\n",
            "   Final cost : 0.46175 [px]\n",
            "  Termination : Convergence\n",
            "\n",
            "I20240514 11:28:13.111470 466242 incremental_mapper.cc:175] => Completed observations: 0\n",
            "I20240514 11:28:13.111627 466242 incremental_mapper.cc:178] => Merged observations: 0\n",
            "I20240514 11:28:13.111797 466242 incremental_mapper.cc:160] => Filtered observations: 5\n",
            "I20240514 11:28:13.111802 466242 incremental_mapper.cc:119] => Changed observations: 0.002584\n",
            "I20240514 11:28:13.111810 466242 misc.cc:198] \n",
            "==============================================================================\n",
            "Global bundle adjustment\n",
            "==============================================================================\n",
            "I20240514 11:28:13.125867 466242 misc.cc:205] \n",
            "Bundle adjustment report\n",
            "------------------------\n",
            "I20240514 11:28:13.125907 466242 bundle_adjustment.cc:942] \n",
            "    Residuals : 3860\n",
            "   Parameters : 2237\n",
            "   Iterations : 7\n",
            "         Time : 0.0128701 [s]\n",
            " Initial cost : 0.451242 [px]\n",
            "   Final cost : 0.44942 [px]\n",
            "  Termination : Convergence\n",
            "\n",
            "I20240514 11:28:13.126693 466242 incremental_mapper.cc:175] => Completed observations: 1\n",
            "I20240514 11:28:13.126845 466242 incremental_mapper.cc:178] => Merged observations: 0\n",
            "I20240514 11:28:13.127007 466242 incremental_mapper.cc:160] => Filtered observations: 2\n",
            "I20240514 11:28:13.127012 466242 incremental_mapper.cc:119] => Changed observations: 0.001554\n",
            "I20240514 11:28:13.127019 466242 misc.cc:198] \n",
            "==============================================================================\n",
            "Global bundle adjustment\n",
            "==============================================================================\n",
            "I20240514 11:28:13.141105 466242 misc.cc:205] \n",
            "Bundle adjustment report\n",
            "------------------------\n",
            "I20240514 11:28:13.141139 466242 bundle_adjustment.cc:942] \n",
            "    Residuals : 3858\n",
            "   Parameters : 2234\n",
            "   Iterations : 7\n",
            "         Time : 0.0129271 [s]\n",
            " Initial cost : 0.447133 [px]\n",
            "   Final cost : 0.446132 [px]\n",
            "  Termination : Convergence\n",
            "\n",
            "I20240514 11:28:13.141847 466242 incremental_mapper.cc:175] => Completed observations: 0\n",
            "I20240514 11:28:13.141999 466242 incremental_mapper.cc:178] => Merged observations: 0\n",
            "I20240514 11:28:13.142158 466242 incremental_mapper.cc:160] => Filtered observations: 0\n",
            "I20240514 11:28:13.142161 466242 incremental_mapper.cc:119] => Changed observations: 0.000000\n",
            "I20240514 11:28:13.142167 466242 incremental_mapper.cc:167] => Filtered images: 0\n",
            "I20240514 11:28:13.166914 466242 misc.cc:198] \n",
            "==============================================================================\n",
            "Registering image #4 (5)\n",
            "==============================================================================\n",
            "I20240514 11:28:13.166962 466242 incremental_mapper.cc:495] => Image sees 251 / 1007 points\n",
            "I20240514 11:28:13.173831 466242 misc.cc:205] \n",
            "Pose refinement report\n",
            "----------------------\n",
            "I20240514 11:28:13.173871 466242 bundle_adjustment.cc:942] \n",
            "    Residuals : 482\n",
            "   Parameters : 6\n",
            "   Iterations : 24\n",
            "         Time : 0.00514698 [s]\n",
            " Initial cost : 0.847464 [px]\n",
            "   Final cost : 0.79421 [px]\n",
            "  Termination : Convergence\n",
            "\n",
            "I20240514 11:28:13.174154 466242 incremental_mapper.cc:40] => Continued observations: 240\n",
            "I20240514 11:28:13.175118 466242 incremental_mapper.cc:43] => Added observations: 389\n",
            "I20240514 11:28:13.250082 466242 misc.cc:205] \n",
            "Bundle adjustment report\n",
            "------------------------\n",
            "I20240514 11:28:13.250130 466242 bundle_adjustment.cc:942] \n",
            "    Residuals : 5116\n",
            "   Parameters : 2774\n",
            "   Iterations : 26\n",
            "         Time : 0.0731161 [s]\n",
            " Initial cost : 0.775957 [px]\n",
            "   Final cost : 0.683799 [px]\n",
            "  Termination : No convergence\n",
            "\n",
            "I20240514 11:28:13.251976 466242 incremental_mapper.cc:78] => Merged observations: 0\n",
            "I20240514 11:28:13.251992 466242 incremental_mapper.cc:79] => Completed observations: 5\n",
            "I20240514 11:28:13.251997 466242 incremental_mapper.cc:81] => Filtered observations: 182\n",
            "I20240514 11:28:13.252002 466242 incremental_mapper.cc:90] => Changed observations: 0.073104\n",
            "I20240514 11:28:13.274152 466242 misc.cc:205] \n",
            "Bundle adjustment report\n",
            "------------------------\n",
            "I20240514 11:28:13.274191 466242 bundle_adjustment.cc:942] \n",
            "    Residuals : 4760\n",
            "   Parameters : 2609\n",
            "   Iterations : 8\n",
            "         Time : 0.0207369 [s]\n",
            " Initial cost : 0.560421 [px]\n",
            "   Final cost : 0.508248 [px]\n",
            "  Termination : Convergence\n",
            "\n",
            "I20240514 11:28:13.276099 466242 incremental_mapper.cc:78] => Merged observations: 0\n",
            "I20240514 11:28:13.276119 466242 incremental_mapper.cc:79] => Completed observations: 51\n",
            "I20240514 11:28:13.276124 466242 incremental_mapper.cc:81] => Filtered observations: 0\n",
            "I20240514 11:28:13.276127 466242 incremental_mapper.cc:90] => Changed observations: 0.021429\n",
            "I20240514 11:28:13.276144 466242 misc.cc:198] \n",
            "==============================================================================\n",
            "Retriangulation\n",
            "==============================================================================\n",
            "I20240514 11:28:13.276453 466242 incremental_mapper.cc:175] => Completed observations: 1\n",
            "I20240514 11:28:13.276664 466242 incremental_mapper.cc:178] => Merged observations: 0\n",
            "I20240514 11:28:13.276670 466242 incremental_mapper.cc:105] => Retriangulated observations: 0\n",
            "I20240514 11:28:13.276679 466242 misc.cc:198] \n",
            "==============================================================================\n",
            "Global bundle adjustment\n",
            "==============================================================================\n",
            "I20240514 11:28:13.294894 466242 misc.cc:205] \n",
            "Bundle adjustment report\n",
            "------------------------\n",
            "I20240514 11:28:13.294937 466242 bundle_adjustment.cc:942] \n",
            "    Residuals : 4864\n",
            "   Parameters : 2675\n",
            "   Iterations : 7\n",
            "         Time : 0.0167451 [s]\n",
            " Initial cost : 0.542153 [px]\n",
            "   Final cost : 0.535373 [px]\n",
            "  Termination : Convergence\n",
            "\n",
            "I20240514 11:28:13.295956 466242 incremental_mapper.cc:175] => Completed observations: 0\n",
            "I20240514 11:28:13.296216 466242 incremental_mapper.cc:178] => Merged observations: 0\n",
            "I20240514 11:28:13.296434 466242 incremental_mapper.cc:160] => Filtered observations: 2\n",
            "I20240514 11:28:13.296442 466242 incremental_mapper.cc:119] => Changed observations: 0.000822\n",
            "I20240514 11:28:13.296450 466242 misc.cc:198] \n",
            "==============================================================================\n",
            "Global bundle adjustment\n",
            "==============================================================================\n",
            "I20240514 11:28:13.314693 466242 misc.cc:205] \n",
            "Bundle adjustment report\n",
            "------------------------\n",
            "I20240514 11:28:13.314735 466242 bundle_adjustment.cc:942] \n",
            "    Residuals : 4860\n",
            "   Parameters : 2672\n",
            "   Iterations : 7\n",
            "         Time : 0.016772 [s]\n",
            " Initial cost : 0.532493 [px]\n",
            "   Final cost : 0.532351 [px]\n",
            "  Termination : Convergence\n",
            "\n",
            "I20240514 11:28:13.315712 466242 incremental_mapper.cc:175] => Completed observations: 0\n",
            "I20240514 11:28:13.315923 466242 incremental_mapper.cc:178] => Merged observations: 0\n",
            "I20240514 11:28:13.316134 466242 incremental_mapper.cc:160] => Filtered observations: 0\n",
            "I20240514 11:28:13.316140 466242 incremental_mapper.cc:119] => Changed observations: 0.000000\n",
            "I20240514 11:28:13.316147 466242 incremental_mapper.cc:167] => Filtered images: 0\n",
            "I20240514 11:28:13.340446 466242 misc.cc:198] \n",
            "==============================================================================\n",
            "Registering image #3 (6)\n",
            "==============================================================================\n",
            "I20240514 11:28:13.340489 466242 incremental_mapper.cc:495] => Image sees 297 / 1137 points\n",
            "I20240514 11:28:13.347079 466242 misc.cc:205] \n",
            "Pose refinement report\n",
            "----------------------\n",
            "I20240514 11:28:13.347116 466242 bundle_adjustment.cc:942] \n",
            "    Residuals : 576\n",
            "   Parameters : 6\n",
            "   Iterations : 21\n",
            "         Time : 0.00460911 [s]\n",
            " Initial cost : 0.823407 [px]\n",
            "   Final cost : 0.781563 [px]\n",
            "  Termination : Convergence\n",
            "\n",
            "I20240514 11:28:13.347501 466242 incremental_mapper.cc:40] => Continued observations: 287\n",
            "I20240514 11:28:13.348801 466242 incremental_mapper.cc:43] => Added observations: 572\n",
            "I20240514 11:28:13.447419 466242 misc.cc:205] \n",
            "Bundle adjustment report\n",
            "------------------------\n",
            "I20240514 11:28:13.447467 466242 bundle_adjustment.cc:942] \n",
            "    Residuals : 6578\n",
            "   Parameters : 3488\n",
            "   Iterations : 26\n",
            "         Time : 0.096544 [s]\n",
            " Initial cost : 0.740542 [px]\n",
            "   Final cost : 0.648047 [px]\n",
            "  Termination : No convergence\n",
            "\n",
            "I20240514 11:28:13.449759 466242 incremental_mapper.cc:78] => Merged observations: 8\n",
            "I20240514 11:28:13.449777 466242 incremental_mapper.cc:79] => Completed observations: 17\n",
            "I20240514 11:28:13.449781 466242 incremental_mapper.cc:81] => Filtered observations: 196\n",
            "I20240514 11:28:13.449785 466242 incremental_mapper.cc:90] => Changed observations: 0.067194\n",
            "I20240514 11:28:13.475360 466242 misc.cc:205] \n",
            "Bundle adjustment report\n",
            "------------------------\n",
            "I20240514 11:28:13.475406 466242 bundle_adjustment.cc:942] \n",
            "    Residuals : 6218\n",
            "   Parameters : 3308\n",
            "   Iterations : 6\n",
            "         Time : 0.0237219 [s]\n",
            " Initial cost : 0.61923 [px]\n",
            "   Final cost : 0.58845 [px]\n",
            "  Termination : Convergence\n",
            "\n",
            "I20240514 11:28:13.477572 466242 incremental_mapper.cc:78] => Merged observations: 0\n",
            "I20240514 11:28:13.477588 466242 incremental_mapper.cc:79] => Completed observations: 18\n",
            "I20240514 11:28:13.477593 466242 incremental_mapper.cc:81] => Filtered observations: 0\n",
            "I20240514 11:28:13.477597 466242 incremental_mapper.cc:90] => Changed observations: 0.005790\n",
            "I20240514 11:28:13.477614 466242 misc.cc:198] \n",
            "==============================================================================\n",
            "Retriangulation\n",
            "==============================================================================\n",
            "I20240514 11:28:13.477949 466242 incremental_mapper.cc:175] => Completed observations: 0\n",
            "I20240514 11:28:13.478174 466242 incremental_mapper.cc:178] => Merged observations: 0\n",
            "I20240514 11:28:13.478180 466242 incremental_mapper.cc:105] => Retriangulated observations: 0\n",
            "I20240514 11:28:13.478188 466242 misc.cc:198] \n",
            "==============================================================================\n",
            "Global bundle adjustment\n",
            "==============================================================================\n",
            "I20240514 11:28:13.496444 466242 misc.cc:205] \n",
            "Bundle adjustment report\n",
            "------------------------\n",
            "I20240514 11:28:13.496470 466242 bundle_adjustment.cc:942] \n",
            "    Residuals : 6254\n",
            "   Parameters : 3332\n",
            "   Iterations : 5\n",
            "         Time : 0.016453 [s]\n",
            " Initial cost : 0.596929 [px]\n",
            "   Final cost : 0.596121 [px]\n",
            "  Termination : Convergence\n",
            "\n",
            "I20240514 11:28:13.497515 466242 incremental_mapper.cc:175] => Completed observations: 0\n",
            "I20240514 11:28:13.497750 466242 incremental_mapper.cc:178] => Merged observations: 0\n",
            "I20240514 11:28:13.497990 466242 incremental_mapper.cc:160] => Filtered observations: 0\n",
            "I20240514 11:28:13.497996 466242 incremental_mapper.cc:119] => Changed observations: 0.000000\n",
            "I20240514 11:28:13.498001 466242 incremental_mapper.cc:167] => Filtered images: 0\n",
            "I20240514 11:28:13.523774 466242 misc.cc:198] \n",
            "==============================================================================\n",
            "Registering image #2 (7)\n",
            "==============================================================================\n",
            "I20240514 11:28:13.523808 466242 incremental_mapper.cc:495] => Image sees 302 / 786 points\n",
            "I20240514 11:28:13.528273 466242 misc.cc:205] \n",
            "Pose refinement report\n",
            "----------------------\n",
            "I20240514 11:28:13.528301 466242 bundle_adjustment.cc:942] \n",
            "    Residuals : 376\n",
            "   Parameters : 6\n",
            "   Iterations : 21\n",
            "         Time : 0.00265503 [s]\n",
            " Initial cost : 0.907571 [px]\n",
            "   Final cost : 0.846959 [px]\n",
            "  Termination : Convergence\n",
            "\n",
            "I20240514 11:28:13.528429 466242 incremental_mapper.cc:40] => Continued observations: 187\n",
            "I20240514 11:28:13.529134 466242 incremental_mapper.cc:43] => Added observations: 340\n",
            "I20240514 11:28:13.620764 466242 misc.cc:205] \n",
            "Bundle adjustment report\n",
            "------------------------\n",
            "I20240514 11:28:13.620810 466242 bundle_adjustment.cc:942] \n",
            "    Residuals : 6692\n",
            "   Parameters : 3074\n",
            "   Iterations : 25\n",
            "         Time : 0.089257 [s]\n",
            " Initial cost : 0.933604 [px]\n",
            "   Final cost : 0.826039 [px]\n",
            "  Termination : Convergence\n",
            "\n",
            "I20240514 11:28:13.623070 466242 incremental_mapper.cc:78] => Merged observations: 5\n",
            "I20240514 11:28:13.623090 466242 incremental_mapper.cc:79] => Completed observations: 6\n",
            "I20240514 11:28:13.623093 466242 incremental_mapper.cc:81] => Filtered observations: 392\n",
            "I20240514 11:28:13.623097 466242 incremental_mapper.cc:90] => Changed observations: 0.116541\n",
            "I20240514 11:28:13.634562 466242 misc.cc:205] \n",
            "Bundle adjustment report\n",
            "------------------------\n",
            "I20240514 11:28:13.634593 466242 bundle_adjustment.cc:942] \n",
            "    Residuals : 5920\n",
            "   Parameters : 2837\n",
            "   Iterations : 3\n",
            "         Time : 0.00960994 [s]\n",
            " Initial cost : 0.692959 [px]\n",
            "   Final cost : 0.620967 [px]\n",
            "  Termination : Convergence\n",
            "\n",
            "I20240514 11:28:13.636459 466242 incremental_mapper.cc:78] => Merged observations: 0\n",
            "I20240514 11:28:13.636473 466242 incremental_mapper.cc:79] => Completed observations: 77\n",
            "I20240514 11:28:13.636477 466242 incremental_mapper.cc:81] => Filtered observations: 4\n",
            "I20240514 11:28:13.636482 466242 incremental_mapper.cc:90] => Changed observations: 0.026367\n",
            "I20240514 11:28:13.636495 466242 misc.cc:198] \n",
            "==============================================================================\n",
            "Retriangulation\n",
            "==============================================================================\n",
            "I20240514 11:28:13.636857 466242 incremental_mapper.cc:175] => Completed observations: 0\n",
            "I20240514 11:28:13.637109 466242 incremental_mapper.cc:178] => Merged observations: 0\n",
            "I20240514 11:28:13.637115 466242 incremental_mapper.cc:105] => Retriangulated observations: 34\n",
            "I20240514 11:28:13.637208 466242 misc.cc:198] \n",
            "==============================================================================\n",
            "Global bundle adjustment\n",
            "==============================================================================\n",
            "I20240514 11:28:13.667271 466242 misc.cc:205] \n",
            "Bundle adjustment report\n",
            "------------------------\n",
            "I20240514 11:28:13.667313 466242 bundle_adjustment.cc:942] \n",
            "    Residuals : 6750\n",
            "   Parameters : 3542\n",
            "   Iterations : 8\n",
            "         Time : 0.028163 [s]\n",
            " Initial cost : 1.22044 [px]\n",
            "   Final cost : 0.943318 [px]\n",
            "  Termination : Convergence\n",
            "\n",
            "I20240514 11:28:13.668711 466242 incremental_mapper.cc:175] => Completed observations: 6\n",
            "I20240514 11:28:13.669010 466242 incremental_mapper.cc:178] => Merged observations: 0\n",
            "I20240514 11:28:13.669322 466242 incremental_mapper.cc:160] => Filtered observations: 87\n",
            "I20240514 11:28:13.669328 466242 incremental_mapper.cc:119] => Changed observations: 0.027556\n",
            "I20240514 11:28:13.669337 466242 misc.cc:198] \n",
            "==============================================================================\n",
            "Global bundle adjustment\n",
            "==============================================================================\n",
            "I20240514 11:28:13.695358 466242 misc.cc:205] \n",
            "Bundle adjustment report\n",
            "------------------------\n",
            "I20240514 11:28:13.695395 466242 bundle_adjustment.cc:942] \n",
            "    Residuals : 6588\n",
            "   Parameters : 3497\n",
            "   Iterations : 7\n",
            "         Time : 0.0240579 [s]\n",
            " Initial cost : 0.678641 [px]\n",
            "   Final cost : 0.623195 [px]\n",
            "  Termination : Convergence\n",
            "\n",
            "I20240514 11:28:13.696954 466242 incremental_mapper.cc:175] => Completed observations: 12\n",
            "I20240514 11:28:13.697472 466242 incremental_mapper.cc:178] => Merged observations: 0\n",
            "I20240514 11:28:13.697948 466242 incremental_mapper.cc:160] => Filtered observations: 7\n",
            "I20240514 11:28:13.697962 466242 incremental_mapper.cc:119] => Changed observations: 0.005768\n",
            "I20240514 11:28:13.697976 466242 misc.cc:198] \n",
            "==============================================================================\n",
            "Global bundle adjustment\n",
            "==============================================================================\n",
            "I20240514 11:28:13.725682 466242 misc.cc:205] \n",
            "Bundle adjustment report\n",
            "------------------------\n",
            "I20240514 11:28:13.725720 466242 bundle_adjustment.cc:942] \n",
            "    Residuals : 6598\n",
            "   Parameters : 3497\n",
            "   Iterations : 7\n",
            "         Time : 0.0252242 [s]\n",
            " Initial cost : 0.618278 [px]\n",
            "   Final cost : 0.606842 [px]\n",
            "  Termination : Convergence\n",
            "\n",
            "I20240514 11:28:13.726996 466242 incremental_mapper.cc:175] => Completed observations: 6\n",
            "I20240514 11:28:13.727285 466242 incremental_mapper.cc:178] => Merged observations: 0\n",
            "I20240514 11:28:13.727550 466242 incremental_mapper.cc:160] => Filtered observations: 0\n",
            "I20240514 11:28:13.727555 466242 incremental_mapper.cc:119] => Changed observations: 0.001819\n",
            "I20240514 11:28:13.727563 466242 misc.cc:198] \n",
            "==============================================================================\n",
            "Global bundle adjustment\n",
            "==============================================================================\n",
            "I20240514 11:28:13.750072 466242 misc.cc:205] \n",
            "Bundle adjustment report\n",
            "------------------------\n",
            "I20240514 11:28:13.750104 466242 bundle_adjustment.cc:942] \n",
            "    Residuals : 6610\n",
            "   Parameters : 3497\n",
            "   Iterations : 6\n",
            "         Time : 0.020515 [s]\n",
            " Initial cost : 0.611 [px]\n",
            "   Final cost : 0.609419 [px]\n",
            "  Termination : Convergence\n",
            "\n",
            "I20240514 11:28:13.751305 466242 incremental_mapper.cc:175] => Completed observations: 3\n",
            "I20240514 11:28:13.751593 466242 incremental_mapper.cc:178] => Merged observations: 0\n",
            "I20240514 11:28:13.751871 466242 incremental_mapper.cc:160] => Filtered observations: 0\n",
            "I20240514 11:28:13.751880 466242 incremental_mapper.cc:119] => Changed observations: 0.000908\n",
            "I20240514 11:28:13.751890 466242 misc.cc:198] \n",
            "==============================================================================\n",
            "Global bundle adjustment\n",
            "==============================================================================\n",
            "I20240514 11:28:13.771549 466242 misc.cc:205] \n",
            "Bundle adjustment report\n",
            "------------------------\n",
            "I20240514 11:28:13.771591 466242 bundle_adjustment.cc:942] \n",
            "    Residuals : 6616\n",
            "   Parameters : 3497\n",
            "   Iterations : 5\n",
            "         Time : 0.0175989 [s]\n",
            " Initial cost : 0.611875 [px]\n",
            "   Final cost : 0.611151 [px]\n",
            "  Termination : Convergence\n",
            "\n",
            "I20240514 11:28:13.772944 466242 incremental_mapper.cc:175] => Completed observations: 1\n",
            "I20240514 11:28:13.773262 466242 incremental_mapper.cc:178] => Merged observations: 0\n",
            "I20240514 11:28:13.773542 466242 incremental_mapper.cc:160] => Filtered observations: 0\n",
            "I20240514 11:28:13.773548 466242 incremental_mapper.cc:119] => Changed observations: 0.000302\n",
            "I20240514 11:28:13.773555 466242 incremental_mapper.cc:167] => Filtered images: 0\n",
            "I20240514 11:28:13.800885 466242 misc.cc:198] \n",
            "==============================================================================\n",
            "Registering image #8 (8)\n",
            "==============================================================================\n",
            "I20240514 11:28:13.800942 466242 incremental_mapper.cc:495] => Image sees 291 / 1203 points\n",
            "I20240514 11:28:13.805810 466242 misc.cc:205] \n",
            "Pose refinement report\n",
            "----------------------\n",
            "I20240514 11:28:13.805845 466242 bundle_adjustment.cc:942] \n",
            "    Residuals : 378\n",
            "   Parameters : 6\n",
            "   Iterations : 18\n",
            "         Time : 0.00236392 [s]\n",
            " Initial cost : 0.861411 [px]\n",
            "   Final cost : 0.822167 [px]\n",
            "  Termination : Convergence\n",
            "\n",
            "I20240514 11:28:13.806016 466242 incremental_mapper.cc:40] => Continued observations: 187\n",
            "I20240514 11:28:13.807968 466242 incremental_mapper.cc:43] => Added observations: 917\n",
            "I20240514 11:28:13.901376 466242 misc.cc:205] \n",
            "Bundle adjustment report\n",
            "------------------------\n",
            "I20240514 11:28:13.901428 466242 bundle_adjustment.cc:942] \n",
            "    Residuals : 6982\n",
            "   Parameters : 2846\n",
            "   Iterations : 26\n",
            "         Time : 0.0906479 [s]\n",
            " Initial cost : 1.17992 [px]\n",
            "   Final cost : 1.00287 [px]\n",
            "  Termination : No convergence\n",
            "\n",
            "I20240514 11:28:13.904222 466242 incremental_mapper.cc:78] => Merged observations: 0\n",
            "I20240514 11:28:13.904237 466242 incremental_mapper.cc:79] => Completed observations: 16\n",
            "I20240514 11:28:13.904242 466242 incremental_mapper.cc:81] => Filtered observations: 613\n",
            "I20240514 11:28:13.904245 466242 incremental_mapper.cc:90] => Changed observations: 0.166095\n",
            "I20240514 11:28:13.918150 466242 misc.cc:205] \n",
            "Bundle adjustment report\n",
            "------------------------\n",
            "I20240514 11:28:13.918193 466242 bundle_adjustment.cc:942] \n",
            "    Residuals : 5804\n",
            "   Parameters : 2468\n",
            "   Iterations : 4\n",
            "         Time : 0.0117519 [s]\n",
            " Initial cost : 0.767594 [px]\n",
            "   Final cost : 0.68859 [px]\n",
            "  Termination : Convergence\n",
            "\n",
            "I20240514 11:28:13.920818 466242 incremental_mapper.cc:78] => Merged observations: 6\n",
            "I20240514 11:28:13.920838 466242 incremental_mapper.cc:79] => Completed observations: 115\n",
            "I20240514 11:28:13.920842 466242 incremental_mapper.cc:81] => Filtered observations: 1\n",
            "I20240514 11:28:13.920846 466242 incremental_mapper.cc:90] => Changed observations: 0.038149\n",
            "I20240514 11:28:13.920866 466242 misc.cc:198] \n",
            "==============================================================================\n",
            "Retriangulation\n",
            "==============================================================================\n",
            "I20240514 11:28:13.921345 466242 incremental_mapper.cc:175] => Completed observations: 15\n",
            "I20240514 11:28:13.921655 466242 incremental_mapper.cc:178] => Merged observations: 0\n",
            "I20240514 11:28:13.921662 466242 incremental_mapper.cc:105] => Retriangulated observations: 218\n",
            "I20240514 11:28:13.922013 466242 misc.cc:198] \n",
            "==============================================================================\n",
            "Global bundle adjustment\n",
            "==============================================================================\n",
            "I20240514 11:28:13.965214 466242 misc.cc:205] \n",
            "Bundle adjustment report\n",
            "------------------------\n",
            "I20240514 11:28:13.965255 466242 bundle_adjustment.cc:942] \n",
            "    Residuals : 8324\n",
            "   Parameters : 4418\n",
            "   Iterations : 9\n",
            "         Time : 0.040736 [s]\n",
            " Initial cost : 1.65653 [px]\n",
            "   Final cost : 1.30785 [px]\n",
            "  Termination : Convergence\n",
            "\n",
            "I20240514 11:28:13.967088 466242 incremental_mapper.cc:175] => Completed observations: 13\n",
            "I20240514 11:28:13.967535 466242 incremental_mapper.cc:178] => Merged observations: 0\n",
            "I20240514 11:28:13.968055 466242 incremental_mapper.cc:160] => Filtered observations: 327\n",
            "I20240514 11:28:13.968065 466242 incremental_mapper.cc:119] => Changed observations: 0.081691\n",
            "I20240514 11:28:13.968076 466242 misc.cc:198] \n",
            "==============================================================================\n",
            "Global bundle adjustment\n",
            "==============================================================================\n",
            "I20240514 11:28:14.007277 466242 misc.cc:205] \n",
            "Bundle adjustment report\n",
            "------------------------\n",
            "I20240514 11:28:14.007310 466242 bundle_adjustment.cc:942] \n",
            "    Residuals : 7696\n",
            "   Parameters : 4250\n",
            "   Iterations : 9\n",
            "         Time : 0.0367241 [s]\n",
            " Initial cost : 0.826552 [px]\n",
            "   Final cost : 0.700494 [px]\n",
            "  Termination : Convergence\n",
            "\n",
            "I20240514 11:28:14.008972 466242 incremental_mapper.cc:175] => Completed observations: 47\n",
            "I20240514 11:28:14.009397 466242 incremental_mapper.cc:178] => Merged observations: 6\n",
            "I20240514 11:28:14.009737 466242 incremental_mapper.cc:160] => Filtered observations: 20\n",
            "I20240514 11:28:14.009742 466242 incremental_mapper.cc:119] => Changed observations: 0.018971\n",
            "I20240514 11:28:14.009752 466242 misc.cc:198] \n",
            "==============================================================================\n",
            "Global bundle adjustment\n",
            "==============================================================================\n",
            "I20240514 11:28:14.040810 466242 misc.cc:205] \n",
            "Bundle adjustment report\n",
            "------------------------\n",
            "I20240514 11:28:14.040841 466242 bundle_adjustment.cc:942] \n",
            "    Residuals : 7750\n",
            "   Parameters : 4238\n",
            "   Iterations : 7\n",
            "         Time : 0.0287149 [s]\n",
            " Initial cost : 0.698084 [px]\n",
            "   Final cost : 0.682401 [px]\n",
            "  Termination : Convergence\n",
            "\n",
            "I20240514 11:28:14.042333 466242 incremental_mapper.cc:175] => Completed observations: 12\n",
            "I20240514 11:28:14.042734 466242 incremental_mapper.cc:178] => Merged observations: 6\n",
            "I20240514 11:28:14.043061 466242 incremental_mapper.cc:160] => Filtered observations: 8\n",
            "I20240514 11:28:14.043067 466242 incremental_mapper.cc:119] => Changed observations: 0.006710\n",
            "I20240514 11:28:14.043074 466242 misc.cc:198] \n",
            "==============================================================================\n",
            "Global bundle adjustment\n",
            "==============================================================================\n",
            "I20240514 11:28:14.073968 466242 misc.cc:205] \n",
            "Bundle adjustment report\n",
            "------------------------\n",
            "I20240514 11:28:14.074002 466242 bundle_adjustment.cc:942] \n",
            "    Residuals : 7758\n",
            "   Parameters : 4235\n",
            "   Iterations : 7\n",
            "         Time : 0.0285559 [s]\n",
            " Initial cost : 0.683216 [px]\n",
            "   Final cost : 0.677411 [px]\n",
            "  Termination : Convergence\n",
            "\n",
            "I20240514 11:28:14.075553 466242 incremental_mapper.cc:175] => Completed observations: 7\n",
            "I20240514 11:28:14.075939 466242 incremental_mapper.cc:178] => Merged observations: 0\n",
            "I20240514 11:28:14.076275 466242 incremental_mapper.cc:160] => Filtered observations: 5\n",
            "I20240514 11:28:14.076280 466242 incremental_mapper.cc:119] => Changed observations: 0.003094\n",
            "I20240514 11:28:14.076288 466242 misc.cc:198] \n",
            "==============================================================================\n",
            "Global bundle adjustment\n",
            "==============================================================================\n",
            "I20240514 11:28:14.103608 466242 misc.cc:205] \n",
            "Bundle adjustment report\n",
            "------------------------\n",
            "I20240514 11:28:14.103652 466242 bundle_adjustment.cc:942] \n",
            "    Residuals : 7762\n",
            "   Parameters : 4232\n",
            "   Iterations : 6\n",
            "         Time : 0.0249679 [s]\n",
            " Initial cost : 0.678009 [px]\n",
            "   Final cost : 0.673735 [px]\n",
            "  Termination : Convergence\n",
            "\n",
            "I20240514 11:28:14.105199 466242 incremental_mapper.cc:175] => Completed observations: 0\n",
            "I20240514 11:28:14.105587 466242 incremental_mapper.cc:178] => Merged observations: 0\n",
            "I20240514 11:28:14.105911 466242 incremental_mapper.cc:160] => Filtered observations: 2\n",
            "I20240514 11:28:14.105917 466242 incremental_mapper.cc:119] => Changed observations: 0.000515\n",
            "I20240514 11:28:14.105924 466242 incremental_mapper.cc:167] => Filtered images: 0\n",
            "I20240514 11:28:14.128798 466242 misc.cc:198] \n",
            "==============================================================================\n",
            "Registering image #6 (9)\n",
            "==============================================================================\n",
            "I20240514 11:28:14.128827 466242 incremental_mapper.cc:495] => Image sees 528 / 1202 points\n",
            "I20240514 11:28:14.138049 466242 misc.cc:205] \n",
            "Pose refinement report\n",
            "----------------------\n",
            "I20240514 11:28:14.138077 466242 bundle_adjustment.cc:942] \n",
            "    Residuals : 664\n",
            "   Parameters : 6\n",
            "   Iterations : 31\n",
            "         Time : 0.006881 [s]\n",
            " Initial cost : 0.91761 [px]\n",
            "   Final cost : 0.893202 [px]\n",
            "  Termination : Convergence\n",
            "\n",
            "I20240514 11:28:14.138314 466242 incremental_mapper.cc:40] => Continued observations: 330\n",
            "I20240514 11:28:14.140236 466242 incremental_mapper.cc:43] => Added observations: 813\n",
            "I20240514 11:28:14.231793 466242 misc.cc:205] \n",
            "Bundle adjustment report\n",
            "------------------------\n",
            "I20240514 11:28:14.231840 466242 bundle_adjustment.cc:942] \n",
            "    Residuals : 8146\n",
            "   Parameters : 3287\n",
            "   Iterations : 23\n",
            "         Time : 0.088655 [s]\n",
            " Initial cost : 1.29116 [px]\n",
            "   Final cost : 1.07424 [px]\n",
            "  Termination : Convergence\n",
            "\n",
            "I20240514 11:28:14.235028 466242 incremental_mapper.cc:78] => Merged observations: 0\n",
            "I20240514 11:28:14.235044 466242 incremental_mapper.cc:79] => Completed observations: 21\n",
            "I20240514 11:28:14.235049 466242 incremental_mapper.cc:81] => Filtered observations: 905\n",
            "I20240514 11:28:14.235052 466242 incremental_mapper.cc:90] => Changed observations: 0.217473\n",
            "I20240514 11:28:14.246832 466242 misc.cc:205] \n",
            "Bundle adjustment report\n",
            "------------------------\n",
            "I20240514 11:28:14.246857 466242 bundle_adjustment.cc:942] \n",
            "    Residuals : 6426\n",
            "   Parameters : 2801\n",
            "   Iterations : 3\n",
            "         Time : 0.00957084 [s]\n",
            " Initial cost : 0.771788 [px]\n",
            "   Final cost : 0.660137 [px]\n",
            "  Termination : Convergence\n",
            "\n",
            "I20240514 11:28:14.249676 466242 incremental_mapper.cc:78] => Merged observations: 4\n",
            "I20240514 11:28:14.249691 466242 incremental_mapper.cc:79] => Completed observations: 185\n",
            "I20240514 11:28:14.249694 466242 incremental_mapper.cc:81] => Filtered observations: 11\n",
            "I20240514 11:28:14.249699 466242 incremental_mapper.cc:90] => Changed observations: 0.057471\n",
            "I20240514 11:28:14.249720 466242 misc.cc:198] \n",
            "==============================================================================\n",
            "Retriangulation\n",
            "==============================================================================\n",
            "I20240514 11:28:14.250224 466242 incremental_mapper.cc:175] => Completed observations: 13\n",
            "I20240514 11:28:14.250576 466242 incremental_mapper.cc:178] => Merged observations: 0\n",
            "I20240514 11:28:14.250622 466242 incremental_mapper.cc:105] => Retriangulated observations: 533\n",
            "I20240514 11:28:14.251209 466242 misc.cc:198] \n",
            "==============================================================================\n",
            "Global bundle adjustment\n",
            "==============================================================================\n",
            "I20240514 11:28:14.301304 466242 misc.cc:205] \n",
            "Bundle adjustment report\n",
            "------------------------\n",
            "I20240514 11:28:14.301342 466242 bundle_adjustment.cc:942] \n",
            "    Residuals : 9696\n",
            "   Parameters : 4796\n",
            "   Iterations : 9\n",
            "         Time : 0.047281 [s]\n",
            " Initial cost : 2.98267 [px]\n",
            "   Final cost : 1.87693 [px]\n",
            "  Termination : Convergence\n",
            "\n",
            "I20240514 11:28:14.303239 466242 incremental_mapper.cc:175] => Completed observations: 46\n",
            "I20240514 11:28:14.303709 466242 incremental_mapper.cc:178] => Merged observations: 6\n",
            "I20240514 11:28:14.304459 466242 incremental_mapper.cc:160] => Filtered observations: 1020\n",
            "I20240514 11:28:14.304466 466242 incremental_mapper.cc:119] => Changed observations: 0.221122\n",
            "I20240514 11:28:14.304476 466242 misc.cc:198] \n",
            "==============================================================================\n",
            "Global bundle adjustment\n",
            "==============================================================================\n",
            "I20240514 11:28:14.340292 466242 misc.cc:205] \n",
            "Bundle adjustment report\n",
            "------------------------\n",
            "I20240514 11:28:14.340330 466242 bundle_adjustment.cc:942] \n",
            "    Residuals : 7736\n",
            "   Parameters : 4190\n",
            "   Iterations : 8\n",
            "         Time : 0.0333869 [s]\n",
            " Initial cost : 0.91491 [px]\n",
            "   Final cost : 0.723099 [px]\n",
            "  Termination : Convergence\n",
            "\n",
            "I20240514 11:28:14.342047 466242 incremental_mapper.cc:175] => Completed observations: 125\n",
            "I20240514 11:28:14.342463 466242 incremental_mapper.cc:178] => Merged observations: 0\n",
            "I20240514 11:28:14.342815 466242 incremental_mapper.cc:160] => Filtered observations: 38\n",
            "I20240514 11:28:14.342823 466242 incremental_mapper.cc:119] => Changed observations: 0.042141\n",
            "I20240514 11:28:14.342831 466242 misc.cc:198] \n",
            "==============================================================================\n",
            "Global bundle adjustment\n",
            "==============================================================================\n",
            "I20240514 11:28:14.375288 466242 misc.cc:205] \n",
            "Bundle adjustment report\n",
            "------------------------\n",
            "I20240514 11:28:14.375320 466242 bundle_adjustment.cc:942] \n",
            "    Residuals : 7910\n",
            "   Parameters : 4160\n",
            "   Iterations : 7\n",
            "         Time : 0.0300071 [s]\n",
            " Initial cost : 0.730468 [px]\n",
            "   Final cost : 0.701008 [px]\n",
            "  Termination : Convergence\n",
            "\n",
            "I20240514 11:28:14.376878 466242 incremental_mapper.cc:175] => Completed observations: 28\n",
            "I20240514 11:28:14.377260 466242 incremental_mapper.cc:178] => Merged observations: 0\n",
            "I20240514 11:28:14.377594 466242 incremental_mapper.cc:160] => Filtered observations: 11\n",
            "I20240514 11:28:14.377600 466242 incremental_mapper.cc:119] => Changed observations: 0.009861\n",
            "I20240514 11:28:14.377609 466242 misc.cc:198] \n",
            "==============================================================================\n",
            "Global bundle adjustment\n",
            "==============================================================================\n",
            "I20240514 11:28:14.405953 466242 misc.cc:205] \n",
            "Bundle adjustment report\n",
            "------------------------\n",
            "I20240514 11:28:14.405985 466242 bundle_adjustment.cc:942] \n",
            "    Residuals : 7944\n",
            "   Parameters : 4151\n",
            "   Iterations : 6\n",
            "         Time : 0.0259371 [s]\n",
            " Initial cost : 0.70905 [px]\n",
            "   Final cost : 0.700527 [px]\n",
            "  Termination : Convergence\n",
            "\n",
            "I20240514 11:28:14.407471 466242 incremental_mapper.cc:175] => Completed observations: 7\n",
            "I20240514 11:28:14.407852 466242 incremental_mapper.cc:178] => Merged observations: 0\n",
            "I20240514 11:28:14.408185 466242 incremental_mapper.cc:160] => Filtered observations: 3\n",
            "I20240514 11:28:14.408191 466242 incremental_mapper.cc:119] => Changed observations: 0.002518\n",
            "I20240514 11:28:14.408200 466242 misc.cc:198] \n",
            "==============================================================================\n",
            "Global bundle adjustment\n",
            "==============================================================================\n",
            "I20240514 11:28:14.436435 466242 misc.cc:205] \n",
            "Bundle adjustment report\n",
            "------------------------\n",
            "I20240514 11:28:14.436501 466242 bundle_adjustment.cc:942] \n",
            "    Residuals : 7952\n",
            "   Parameters : 4151\n",
            "   Iterations : 6\n",
            "         Time : 0.025826 [s]\n",
            " Initial cost : 0.702375 [px]\n",
            "   Final cost : 0.69871 [px]\n",
            "  Termination : Convergence\n",
            "\n",
            "I20240514 11:28:14.438041 466242 incremental_mapper.cc:175] => Completed observations: 7\n",
            "I20240514 11:28:14.438436 466242 incremental_mapper.cc:178] => Merged observations: 5\n",
            "I20240514 11:28:14.438759 466242 incremental_mapper.cc:160] => Filtered observations: 0\n",
            "I20240514 11:28:14.438766 466242 incremental_mapper.cc:119] => Changed observations: 0.003018\n",
            "I20240514 11:28:14.438773 466242 incremental_mapper.cc:167] => Filtered images: 0\n",
            "I20240514 11:28:14.467969 466242 misc.cc:198] \n",
            "==============================================================================\n",
            "Registering image #1 (10)\n",
            "==============================================================================\n",
            "I20240514 11:28:14.468009 466242 incremental_mapper.cc:495] => Image sees 313 / 865 points\n",
            "I20240514 11:28:14.474562 466242 misc.cc:205] \n",
            "Pose refinement report\n",
            "----------------------\n",
            "I20240514 11:28:14.474591 466242 bundle_adjustment.cc:942] \n",
            "    Residuals : 450\n",
            "   Parameters : 6\n",
            "   Iterations : 32\n",
            "         Time : 0.00475502 [s]\n",
            " Initial cost : 0.827433 [px]\n",
            "   Final cost : 0.817064 [px]\n",
            "  Termination : Convergence\n",
            "\n",
            "I20240514 11:28:14.474737 466242 incremental_mapper.cc:40] => Continued observations: 222\n",
            "I20240514 11:28:14.476548 466242 incremental_mapper.cc:43] => Added observations: 605\n",
            "I20240514 11:28:14.556210 466242 misc.cc:205] \n",
            "Bundle adjustment report\n",
            "------------------------\n",
            "I20240514 11:28:14.556255 466242 bundle_adjustment.cc:942] \n",
            "    Residuals : 7674\n",
            "   Parameters : 2876\n",
            "   Iterations : 22\n",
            "         Time : 0.076853 [s]\n",
            " Initial cost : 0.974084 [px]\n",
            "   Final cost : 0.880723 [px]\n",
            "  Termination : Convergence\n",
            "\n",
            "I20240514 11:28:14.559254 466242 incremental_mapper.cc:78] => Merged observations: 0\n",
            "I20240514 11:28:14.559271 466242 incremental_mapper.cc:79] => Completed observations: 19\n",
            "I20240514 11:28:14.559275 466242 incremental_mapper.cc:81] => Filtered observations: 507\n",
            "I20240514 11:28:14.559279 466242 incremental_mapper.cc:90] => Changed observations: 0.132327\n",
            "I20240514 11:28:14.571211 466242 misc.cc:205] \n",
            "Bundle adjustment report\n",
            "------------------------\n",
            "I20240514 11:28:14.571235 466242 bundle_adjustment.cc:942] \n",
            "    Residuals : 6696\n",
            "   Parameters : 2618\n",
            "   Iterations : 3\n",
            "         Time : 0.00971007 [s]\n",
            " Initial cost : 0.808928 [px]\n",
            "   Final cost : 0.742922 [px]\n",
            "  Termination : Convergence\n",
            "\n",
            "I20240514 11:28:14.573810 466242 incremental_mapper.cc:78] => Merged observations: 4\n",
            "I20240514 11:28:14.573822 466242 incremental_mapper.cc:79] => Completed observations: 101\n",
            "I20240514 11:28:14.573827 466242 incremental_mapper.cc:81] => Filtered observations: 2\n",
            "I20240514 11:28:14.573829 466242 incremental_mapper.cc:90] => Changed observations: 0.030694\n",
            "I20240514 11:28:14.573848 466242 misc.cc:198] \n",
            "==============================================================================\n",
            "Retriangulation\n",
            "==============================================================================\n",
            "I20240514 11:28:14.574326 466242 incremental_mapper.cc:175] => Completed observations: 3\n",
            "I20240514 11:28:14.574664 466242 incremental_mapper.cc:178] => Merged observations: 0\n",
            "I20240514 11:28:14.574671 466242 incremental_mapper.cc:105] => Retriangulated observations: 328\n",
            "I20240514 11:28:14.575111 466242 misc.cc:198] \n",
            "==============================================================================\n",
            "Global bundle adjustment\n",
            "==============================================================================\n",
            "I20240514 11:28:14.614580 466242 misc.cc:205] \n",
            "Bundle adjustment report\n",
            "------------------------\n",
            "I20240514 11:28:14.614614 466242 bundle_adjustment.cc:942] \n",
            "    Residuals : 9500\n",
            "   Parameters : 4709\n",
            "   Iterations : 7\n",
            "         Time : 0.0367 [s]\n",
            " Initial cost : 2.5443 [px]\n",
            "   Final cost : 1.42262 [px]\n",
            "  Termination : Convergence\n",
            "\n",
            "I20240514 11:28:14.616415 466242 incremental_mapper.cc:175] => Completed observations: 46\n",
            "I20240514 11:28:14.616875 466242 incremental_mapper.cc:178] => Merged observations: 11\n",
            "I20240514 11:28:14.617513 466242 incremental_mapper.cc:160] => Filtered observations: 588\n",
            "I20240514 11:28:14.617522 466242 incremental_mapper.cc:119] => Changed observations: 0.135789\n",
            "I20240514 11:28:14.617530 466242 misc.cc:198] \n",
            "==============================================================================\n",
            "Global bundle adjustment\n",
            "==============================================================================\n",
            "I20240514 11:28:14.647922 466242 misc.cc:205] \n",
            "Bundle adjustment report\n",
            "------------------------\n",
            "I20240514 11:28:14.647961 466242 bundle_adjustment.cc:942] \n",
            "    Residuals : 8406\n",
            "   Parameters : 4373\n",
            "   Iterations : 6\n",
            "         Time : 0.0277691 [s]\n",
            " Initial cost : 0.868181 [px]\n",
            "   Final cost : 0.761805 [px]\n",
            "  Termination : Convergence\n",
            "\n",
            "I20240514 11:28:14.649775 466242 incremental_mapper.cc:175] => Completed observations: 49\n",
            "I20240514 11:28:14.650242 466242 incremental_mapper.cc:178] => Merged observations: 4\n",
            "I20240514 11:28:14.650620 466242 incremental_mapper.cc:160] => Filtered observations: 40\n",
            "I20240514 11:28:14.650626 466242 incremental_mapper.cc:119] => Changed observations: 0.022127\n",
            "I20240514 11:28:14.650637 466242 misc.cc:198] \n",
            "==============================================================================\n",
            "Global bundle adjustment\n",
            "==============================================================================\n",
            "I20240514 11:28:14.681056 466242 misc.cc:205] \n",
            "Bundle adjustment report\n",
            "------------------------\n",
            "I20240514 11:28:14.681094 466242 bundle_adjustment.cc:942] \n",
            "    Residuals : 8424\n",
            "   Parameters : 4346\n",
            "   Iterations : 6\n",
            "         Time : 0.0277259 [s]\n",
            " Initial cost : 0.751269 [px]\n",
            "   Final cost : 0.731937 [px]\n",
            "  Termination : Convergence\n",
            "\n",
            "I20240514 11:28:14.682844 466242 incremental_mapper.cc:175] => Completed observations: 13\n",
            "I20240514 11:28:14.683285 466242 incremental_mapper.cc:178] => Merged observations: 0\n",
            "I20240514 11:28:14.683640 466242 incremental_mapper.cc:160] => Filtered observations: 9\n",
            "I20240514 11:28:14.683645 466242 incremental_mapper.cc:119] => Changed observations: 0.005223\n",
            "I20240514 11:28:14.683655 466242 misc.cc:198] \n",
            "==============================================================================\n",
            "Global bundle adjustment\n",
            "==============================================================================\n",
            "I20240514 11:28:14.709697 466242 misc.cc:205] \n",
            "Bundle adjustment report\n",
            "------------------------\n",
            "I20240514 11:28:14.709728 466242 bundle_adjustment.cc:942] \n",
            "    Residuals : 8432\n",
            "   Parameters : 4343\n",
            "   Iterations : 5\n",
            "         Time : 0.0234089 [s]\n",
            " Initial cost : 0.731746 [px]\n",
            "   Final cost : 0.72548 [px]\n",
            "  Termination : Convergence\n",
            "\n",
            "I20240514 11:28:14.711365 466242 incremental_mapper.cc:175] => Completed observations: 5\n",
            "I20240514 11:28:14.711771 466242 incremental_mapper.cc:178] => Merged observations: 0\n",
            "I20240514 11:28:14.712122 466242 incremental_mapper.cc:160] => Filtered observations: 4\n",
            "I20240514 11:28:14.712129 466242 incremental_mapper.cc:119] => Changed observations: 0.002135\n",
            "I20240514 11:28:14.712137 466242 misc.cc:198] \n",
            "==============================================================================\n",
            "Global bundle adjustment\n",
            "==============================================================================\n",
            "I20240514 11:28:14.738170 466242 misc.cc:205] \n",
            "Bundle adjustment report\n",
            "------------------------\n",
            "I20240514 11:28:14.738201 466242 bundle_adjustment.cc:942] \n",
            "    Residuals : 8434\n",
            "   Parameters : 4343\n",
            "   Iterations : 5\n",
            "         Time : 0.023407 [s]\n",
            " Initial cost : 0.725667 [px]\n",
            "   Final cost : 0.722676 [px]\n",
            "  Termination : Convergence\n",
            "\n",
            "I20240514 11:28:14.739816 466242 incremental_mapper.cc:175] => Completed observations: 1\n",
            "I20240514 11:28:14.740223 466242 incremental_mapper.cc:178] => Merged observations: 0\n",
            "I20240514 11:28:14.740571 466242 incremental_mapper.cc:160] => Filtered observations: 6\n",
            "I20240514 11:28:14.740577 466242 incremental_mapper.cc:119] => Changed observations: 0.001660\n",
            "I20240514 11:28:14.740584 466242 incremental_mapper.cc:167] => Filtered images: 0\n"
          ]
        },
        {
          "name": "stdout",
          "output_type": "stream",
          "text": [
            "\u001b[0;37m2024-05-14 11:28:14 | [INFO    ] Reconstructed 1 model(s).\u001b[0m\n",
            "\u001b[0;37m2024-05-14 11:28:14 | [INFO    ] Largest model is #0 with 10 images.\u001b[0m\n",
            "\u001b[0;37m2024-05-14 11:28:14 | [INFO    ] Exporting model...\u001b[0m\n"
          ]
        },
        {
          "name": "stderr",
          "output_type": "stream",
          "text": [
            "I20240514 11:28:14.770922 466242 timer.cc:91] Elapsed time: 0.033 [minutes]\n"
          ]
        }
      ],
      "source": [
        "model = dim.reconstruction.pycolmap_reconstruction(\n",
        "    database_path=config.general[\"output_dir\"] / \"database.db\",\n",
        "    sfm_dir=config.general[\"output_dir\"],\n",
        "    image_dir=config.general[\"image_dir\"],\n",
        "    refine_intrinsics=False,\n",
        ")"
      ]
    }
  ],
  "metadata": {
    "kernelspec": {
      "display_name": "deep_image_matching",
      "language": "python",
      "name": "python3"
    },
    "language_info": {
      "codemirror_mode": {
        "name": "ipython",
        "version": 3
      },
      "file_extension": ".py",
      "mimetype": "text/x-python",
      "name": "python",
      "nbconvert_exporter": "python",
      "pygments_lexer": "ipython3",
      "version": "3.10.14"
    }
  },
  "nbformat": 4,
  "nbformat_minor": 2
}
