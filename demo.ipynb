{
  "cells": [
    {
      "cell_type": "code",
      "execution_count": 1,
      "metadata": {
        "notebookRunGroups": {
          "groupValue": ""
        }
      },
      "outputs": [
        {
          "name": "stderr",
          "output_type": "stream",
          "text": [
            "/home/francesco/dev/deep-image-matching/src/deep_image_matching/thirdparty/LightGlue/lightglue/lightglue.py:24: FutureWarning: `torch.cuda.amp.custom_fwd(args...)` is deprecated. Please use `torch.amp.custom_fwd(args..., device_type='cuda')` instead.\n",
            "  @torch.cuda.amp.custom_fwd(cast_inputs=torch.float32)\n",
            "xFormers not available\n",
            "xFormers not available\n"
          ]
        },
        {
          "name": "stdout",
          "output_type": "stream",
          "text": [
            "Deep Image Matching loaded in 10.390 seconds.\n"
          ]
        }
      ],
      "source": [
        "import deep_image_matching as dim\n",
        "\n",
        "params = {\n",
        "    \"dir\": \"./assets/example_cyprus\",\n",
        "    \"pipeline\": \"superpoint+lightglue\",\n",
        "    \"strategy\": \"matching_lowres\",\n",
        "    \"quality\": \"medium\",\n",
        "    \"tiling\": \"none\",\n",
        "    \"camera_options\": \"./assets/example_cyprus/cameras.yaml\",\n",
        "    \"openmvg\": None,\n",
        "}\n",
        "config = dim.Config(params)"
      ]
    },
    {
      "cell_type": "markdown",
      "metadata": {},
      "source": [
        "Run feature extraction and matching"
      ]
    },
    {
      "cell_type": "code",
      "execution_count": 2,
      "metadata": {},
      "outputs": [
        {
          "name": "stdout",
          "output_type": "stream",
          "text": [
            "Downloading: \"https://github.com/cvg/LightGlue/releases/download/v0.1_arxiv/superpoint_v1.pth\" to /home/francesco/.cache/torch/hub/checkpoints/superpoint_v1.pth\n"
          ]
        },
        {
          "name": "stderr",
          "output_type": "stream",
          "text": [
            "100%|██████████| 4.96M/4.96M [00:00<00:00, 14.7MB/s]"
          ]
        },
        {
          "name": "stdout",
          "output_type": "stream",
          "text": [
            "Loaded SuperPoint model\n"
          ]
        },
        {
          "name": "stderr",
          "output_type": "stream",
          "text": [
            "\n"
          ]
        },
        {
          "name": "stdout",
          "output_type": "stream",
          "text": [
            "Downloading: \"https://github.com/cvg/LightGlue/releases/download/v0.1_arxiv/superpoint_lightglue.pth\" to /home/francesco/.cache/torch/hub/checkpoints/superpoint_lightglue_v0-1_arxiv.pth\n"
          ]
        },
        {
          "name": "stderr",
          "output_type": "stream",
          "text": [
            "100%|██████████| 45.3M/45.3M [00:03<00:00, 12.5MB/s]"
          ]
        },
        {
          "name": "stdout",
          "output_type": "stream",
          "text": [
            "\u001b[0;37m2025-07-02 14:30:06 | [INFO    ] Running image matching with the following configuration:\u001b[0m\n",
            "\u001b[0;37m2025-07-02 14:30:06 | [INFO    ]   Image folder: assets/example_cyprus/images\u001b[0m\n",
            "\u001b[0;37m2025-07-02 14:30:06 | [INFO    ]   Output folder: assets/example_cyprus/results_superpoint+lightglue_matching_lowres_quality_medium\u001b[0m\n",
            "\u001b[0;37m2025-07-02 14:30:06 | [INFO    ]   Number of images: 10\u001b[0m\n",
            "\u001b[0;37m2025-07-02 14:30:06 | [INFO    ]   Matching strategy: matching_lowres\u001b[0m\n",
            "\u001b[0;37m2025-07-02 14:30:06 | [INFO    ]   Image quality: MEDIUM\u001b[0m\n",
            "\u001b[0;37m2025-07-02 14:30:06 | [INFO    ]   Tile selection: NONE\u001b[0m\n",
            "\u001b[0;37m2025-07-02 14:30:06 | [INFO    ]   Feature extraction method: superpoint\u001b[0m\n",
            "\u001b[0;37m2025-07-02 14:30:06 | [INFO    ]   Matching method: lightglue\u001b[0m\n",
            "\u001b[0;37m2025-07-02 14:30:06 | [INFO    ]   Geometric verification: PYDEGENSAC\u001b[0m\n",
            "\u001b[0;37m2025-07-02 14:30:06 | [INFO    ]   CUDA available: False\u001b[0m\n",
            "\u001b[0;37m2025-07-02 14:30:06 | [INFO    ] Low resolution matching, generating pairs ..\u001b[0m\n"
          ]
        },
        {
          "name": "stderr",
          "output_type": "stream",
          "text": [
            "\n"
          ]
        },
        {
          "name": "stdout",
          "output_type": "stream",
          "text": [
            "Loaded SuperPoint model\n",
            "\u001b[0;37m2025-07-02 14:30:06 | [INFO    ] Extracting features from downsampled images...\u001b[0m\n"
          ]
        },
        {
          "name": "stderr",
          "output_type": "stream",
          "text": [
            "100%|██████████| 10/10 [00:13<00:00,  1.37s/it]"
          ]
        },
        {
          "name": "stdout",
          "output_type": "stream",
          "text": [
            "\u001b[0;37m2025-07-02 14:30:19 | [INFO    ] Matching downsampled images...\u001b[0m\n"
          ]
        },
        {
          "name": "stderr",
          "output_type": "stream",
          "text": [
            "\n",
            "100%|██████████| 45/45 [00:41<00:00,  1.08it/s]"
          ]
        },
        {
          "name": "stdout",
          "output_type": "stream",
          "text": [
            "\u001b[0;37m2025-07-02 14:31:01 | [INFO    ] Found 28 pairs.\u001b[0m\n",
            "\u001b[0;37m2025-07-02 14:31:01 | [INFO    ] Extracting features with superpoint...\u001b[0m\n",
            "\u001b[0;37m2025-07-02 14:31:01 | [INFO    ] superpoint configuration: \u001b[0m\n"
          ]
        },
        {
          "name": "stderr",
          "output_type": "stream",
          "text": [
            "\n"
          ]
        },
        {
          "name": "stdout",
          "output_type": "stream",
          "text": [
            "{'keypoint_threshold': 0.0005,\n",
            " 'max_keypoints': 4096,\n",
            " 'name': 'superpoint',\n",
            " 'nms_radius': 3}\n"
          ]
        },
        {
          "name": "stderr",
          "output_type": "stream",
          "text": [
            "100%|██████████| 10/10 [00:08<00:00,  1.22it/s]"
          ]
        },
        {
          "name": "stdout",
          "output_type": "stream",
          "text": [
            "\u001b[0;37m2025-07-02 14:31:09 | [INFO    ] Features extracted!\u001b[0m\n",
            "\u001b[0;37m2025-07-02 14:31:09 | [INFO    ] Matching features with lightglue...\u001b[0m\n",
            "\u001b[0;37m2025-07-02 14:31:09 | [INFO    ] lightglue configuration: \u001b[0m\n",
            "{'depth_confidence': 0.95,\n",
            " 'filter_threshold': 0.1,\n",
            " 'flash': True,\n",
            " 'mp': False,\n",
            " 'n_layers': 9,\n",
            " 'name': 'lightglue',\n",
            " 'width_confidence': 0.99}\n",
            "\u001b[0;37m2025-07-02 14:31:09 | [INFO    ] Matching features...\u001b[0m\n",
            "\u001b[0;37m2025-07-02 14:31:09 | [INFO    ] \u001b[0m\n"
          ]
        },
        {
          "name": "stderr",
          "output_type": "stream",
          "text": [
            "\n",
            "100%|██████████| 28/28 [02:14<00:00,  4.82s/it]"
          ]
        },
        {
          "name": "stdout",
          "output_type": "stream",
          "text": [
            "\u001b[0;37m2025-07-02 14:33:24 | [INFO    ] [Timer] | [matching] generate_pairs=65.898, extract_features=8.203, Match pair=3.192, Total execution=208.996\u001b[0m\n",
            "\u001b[0;37m2025-07-02 14:33:24 | [INFO    ] [Timer] | [Deep Image Matching] Total execution=0.000\u001b[0m\n"
          ]
        },
        {
          "name": "stderr",
          "output_type": "stream",
          "text": [
            "\n"
          ]
        }
      ],
      "source": [
        "matcher = dim.ImageMatcher(config)\n",
        "feature_path, match_path = matcher.run()"
      ]
    },
    {
      "cell_type": "markdown",
      "metadata": {},
      "source": [
        "Export matches to COLMAP format"
      ]
    },
    {
      "cell_type": "code",
      "execution_count": 3,
      "metadata": {},
      "outputs": [
        {
          "name": "stdout",
          "output_type": "stream",
          "text": [
            "\u001b[1;33m2025-07-02 14:33:38 | [WARNING ] Was not possible to load the first image to initialize cam0\u001b[0m\n",
            "\u001b[1;33m2025-07-02 14:33:38 | [WARNING ] Was not possible to load the first image to initialize cam1\u001b[0m\n"
          ]
        },
        {
          "name": "stderr",
          "output_type": "stream",
          "text": [
            "100%|██████████| 10/10 [00:00<00:00, 338.28it/s]\n",
            "28it [00:00, 3082.10it/s]             \n",
            "28it [00:00, 3575.16it/s]             \n"
          ]
        }
      ],
      "source": [
        "dim.io.export_to_colmap(\n",
        "    img_dir=config.general[\"image_dir\"],\n",
        "    feature_path=feature_path,\n",
        "    match_path=match_path,\n",
        "    database_path=config.general[\"output_dir\"] / \"database.db\",\n",
        "    camera_config_path=config.general[\"camera_options\"],\n",
        ")"
      ]
    },
    {
      "cell_type": "markdown",
      "metadata": {},
      "source": [
        "Run reconstruction with pycolmap"
      ]
    },
    {
      "cell_type": "code",
      "execution_count": 4,
      "metadata": {},
      "outputs": [
        {
          "name": "stdout",
          "output_type": "stream",
          "text": [
            "\u001b[0;37m2025-07-02 14:33:46 | [INFO    ] Running 3D reconstruction...\u001b[0m\n"
          ]
        },
        {
          "name": "stderr",
          "output_type": "stream",
          "text": [
            "I20250702 14:33:46.073336 140420164540224 incremental_pipeline.cc:253] Loading database\n",
            "I20250702 14:33:46.085152 140420164540224 database_cache.cc:66] Loading rigs...\n",
            "I20250702 14:33:46.085198 140420164540224 database_cache.cc:76]  0 in 0.000s\n",
            "I20250702 14:33:46.085208 140420164540224 database_cache.cc:84] Loading cameras...\n",
            "I20250702 14:33:46.086809 140420164540224 database_cache.cc:102]  1 in 0.002s\n",
            "I20250702 14:33:46.086836 140420164540224 database_cache.cc:110] Loading frames...\n",
            "I20250702 14:33:46.086866 140420164540224 database_cache.cc:127]  0 in 0.000s\n",
            "I20250702 14:33:46.086873 140420164540224 database_cache.cc:135] Loading matches...\n",
            "I20250702 14:33:46.087203 140420164540224 database_cache.cc:140]  28 in 0.000s\n",
            "I20250702 14:33:46.087211 140420164540224 database_cache.cc:156] Loading images...\n",
            "I20250702 14:33:46.088835 140420164540224 database_cache.cc:241]  10 in 0.002s (connected 8)\n",
            "I20250702 14:33:46.088877 140420164540224 database_cache.cc:252] Building correspondence graph...\n",
            "I20250702 14:33:46.095349 140420164540224 database_cache.cc:279]  in 0.006s (ignored 0)\n",
            "I20250702 14:33:46.095387 140420164540224 timer.cc:91] Elapsed time: 0.000 [minutes]\n",
            "I20250702 14:33:46.096635 140420164540224 incremental_pipeline.cc:299] Finding good initial image pair\n",
            "I20250702 14:33:46.182531 140420164540224 incremental_pipeline.cc:323] Registering initial image pair #5 and #9\n",
            "I20250702 14:33:46.193603 140420164540224 incremental_pipeline.cc:337] Global bundle adjustment\n",
            "I20250702 14:33:46.324332 140420164540224 incremental_pipeline.cc:427] Registering image #7 (num_reg_frames=2)\n",
            "I20250702 14:33:46.324369 140420164540224 incremental_pipeline.cc:430] => Image sees 1178 / 3640 points\n",
            "I20250702 14:33:47.002278 140420164540224 incremental_pipeline.cc:42] Retriangulation and Global bundle adjustment\n",
            "I20250702 14:33:47.230529 140420164540224 incremental_pipeline.cc:427] Registering image #10 (num_reg_frames=3)\n",
            "I20250702 14:33:47.230559 140420164540224 incremental_pipeline.cc:430] => Image sees 1658 / 3215 points\n",
            "I20250702 14:33:48.112955 140420164540224 incremental_pipeline.cc:42] Retriangulation and Global bundle adjustment\n",
            "I20250702 14:33:48.612318 140420164540224 incremental_pipeline.cc:427] Registering image #4 (num_reg_frames=4)\n",
            "I20250702 14:33:48.612345 140420164540224 incremental_pipeline.cc:430] => Image sees 1614 / 3079 points\n",
            "I20250702 14:33:49.309847 140420164540224 incremental_pipeline.cc:42] Retriangulation and Global bundle adjustment\n",
            "I20250702 14:33:50.955531 140420164540224 incremental_pipeline.cc:427] Registering image #2 (num_reg_frames=5)\n",
            "I20250702 14:33:50.955556 140420164540224 incremental_pipeline.cc:430] => Image sees 1782 / 2644 points\n",
            "I20250702 14:33:51.778977 140420164540224 incremental_pipeline.cc:42] Retriangulation and Global bundle adjustment\n",
            "I20250702 14:33:52.887404 140420164540224 incremental_pipeline.cc:427] Registering image #8 (num_reg_frames=6)\n",
            "I20250702 14:33:52.887428 140420164540224 incremental_pipeline.cc:430] => Image sees 1245 / 2587 points\n",
            "I20250702 14:33:53.704275 140420164540224 incremental_pipeline.cc:42] Retriangulation and Global bundle adjustment\n",
            "I20250702 14:33:54.703491 140420164540224 incremental_pipeline.cc:427] Registering image #1 (num_reg_frames=7)\n",
            "I20250702 14:33:54.703515 140420164540224 incremental_pipeline.cc:430] => Image sees 1651 / 2576 points\n",
            "I20250702 14:33:55.553287 140420164540224 incremental_pipeline.cc:42] Retriangulation and Global bundle adjustment\n"
          ]
        },
        {
          "name": "stdout",
          "output_type": "stream",
          "text": [
            "\u001b[0;37m2025-07-02 14:33:56 | [INFO    ] Reconstructed 1 model(s).\u001b[0m\n",
            "\u001b[0;37m2025-07-02 14:33:56 | [INFO    ] Largest model is #0 with 8 images.\u001b[0m\n",
            "\u001b[0;37m2025-07-02 14:33:56 | [INFO    ] Exporting model...\u001b[0m\n"
          ]
        },
        {
          "name": "stderr",
          "output_type": "stream",
          "text": [
            "I20250702 14:33:56.518462 140420164540224 incremental_pipeline.cc:581] Keeping successful reconstruction\n",
            "I20250702 14:33:56.519494 140420164540224 timer.cc:91] Elapsed time: 0.174 [minutes]\n"
          ]
        },
        {
          "ename": "AttributeError",
          "evalue": "'pycolmap._core.Reconstruction' object has no attribute 'export_bundler'",
          "output_type": "error",
          "traceback": [
            "\u001b[0;31m---------------------------------------------------------------------------\u001b[0m",
            "\u001b[0;31mAttributeError\u001b[0m                            Traceback (most recent call last)",
            "Cell \u001b[0;32mIn[4], line 1\u001b[0m\n\u001b[0;32m----> 1\u001b[0m model \u001b[38;5;241m=\u001b[39m \u001b[43mdim\u001b[49m\u001b[38;5;241;43m.\u001b[39;49m\u001b[43mreconstruction\u001b[49m\u001b[38;5;241;43m.\u001b[39;49m\u001b[43mpycolmap_reconstruction\u001b[49m\u001b[43m(\u001b[49m\n\u001b[1;32m      2\u001b[0m \u001b[43m    \u001b[49m\u001b[43mdatabase_path\u001b[49m\u001b[38;5;241;43m=\u001b[39;49m\u001b[43mconfig\u001b[49m\u001b[38;5;241;43m.\u001b[39;49m\u001b[43mgeneral\u001b[49m\u001b[43m[\u001b[49m\u001b[38;5;124;43m\"\u001b[39;49m\u001b[38;5;124;43moutput_dir\u001b[39;49m\u001b[38;5;124;43m\"\u001b[39;49m\u001b[43m]\u001b[49m\u001b[43m \u001b[49m\u001b[38;5;241;43m/\u001b[39;49m\u001b[43m \u001b[49m\u001b[38;5;124;43m\"\u001b[39;49m\u001b[38;5;124;43mdatabase.db\u001b[39;49m\u001b[38;5;124;43m\"\u001b[39;49m\u001b[43m,\u001b[49m\n\u001b[1;32m      3\u001b[0m \u001b[43m    \u001b[49m\u001b[43msfm_dir\u001b[49m\u001b[38;5;241;43m=\u001b[39;49m\u001b[43mconfig\u001b[49m\u001b[38;5;241;43m.\u001b[39;49m\u001b[43mgeneral\u001b[49m\u001b[43m[\u001b[49m\u001b[38;5;124;43m\"\u001b[39;49m\u001b[38;5;124;43moutput_dir\u001b[39;49m\u001b[38;5;124;43m\"\u001b[39;49m\u001b[43m]\u001b[49m\u001b[43m,\u001b[49m\n\u001b[1;32m      4\u001b[0m \u001b[43m    \u001b[49m\u001b[43mimage_dir\u001b[49m\u001b[38;5;241;43m=\u001b[39;49m\u001b[43mconfig\u001b[49m\u001b[38;5;241;43m.\u001b[39;49m\u001b[43mgeneral\u001b[49m\u001b[43m[\u001b[49m\u001b[38;5;124;43m\"\u001b[39;49m\u001b[38;5;124;43mimage_dir\u001b[39;49m\u001b[38;5;124;43m\"\u001b[39;49m\u001b[43m]\u001b[49m\u001b[43m,\u001b[49m\n\u001b[1;32m      5\u001b[0m \u001b[43m    \u001b[49m\u001b[43mrefine_intrinsics\u001b[49m\u001b[38;5;241;43m=\u001b[39;49m\u001b[38;5;28;43;01mFalse\u001b[39;49;00m\u001b[43m,\u001b[49m\n\u001b[1;32m      6\u001b[0m \u001b[43m)\u001b[49m\n",
            "File \u001b[0;32m~/dev/deep-image-matching/src/deep_image_matching/reconstruction.py:96\u001b[0m, in \u001b[0;36mpycolmap_reconstruction\u001b[0;34m(database_path, sfm_dir, image_dir, refine_intrinsics, options, export_text, export_bundler, export_ply, verbose)\u001b[0m\n\u001b[1;32m     94\u001b[0m     \u001b[38;5;28;01mif\u001b[39;00m export_bundler:\n\u001b[1;32m     95\u001b[0m         fname \u001b[38;5;241m=\u001b[39m \u001b[38;5;124m\"\u001b[39m\u001b[38;5;124mbundler\u001b[39m\u001b[38;5;124m\"\u001b[39m\n\u001b[0;32m---> 96\u001b[0m         \u001b[43mmodel\u001b[49m\u001b[38;5;241;43m.\u001b[39;49m\u001b[43mexport_bundler\u001b[49m(\n\u001b[1;32m     97\u001b[0m             reconstruction_dir \u001b[38;5;241m/\u001b[39m (fname \u001b[38;5;241m+\u001b[39m \u001b[38;5;124m\"\u001b[39m\u001b[38;5;124m.out\u001b[39m\u001b[38;5;124m\"\u001b[39m),\n\u001b[1;32m     98\u001b[0m             reconstruction_dir \u001b[38;5;241m/\u001b[39m (fname \u001b[38;5;241m+\u001b[39m \u001b[38;5;124m\"\u001b[39m\u001b[38;5;124m_list.txt\u001b[39m\u001b[38;5;124m\"\u001b[39m),\n\u001b[1;32m     99\u001b[0m             skip_distortion\u001b[38;5;241m=\u001b[39m\u001b[38;5;28;01mTrue\u001b[39;00m,\n\u001b[1;32m    100\u001b[0m         )\n\u001b[1;32m    102\u001b[0m \u001b[38;5;28;01mreturn\u001b[39;00m reconstructions[largest_index]\n",
            "\u001b[0;31mAttributeError\u001b[0m: 'pycolmap._core.Reconstruction' object has no attribute 'export_bundler'"
          ]
        }
      ],
      "source": [
        "model = dim.reconstruction.pycolmap_reconstruction(\n",
        "    database_path=config.general[\"output_dir\"] / \"database.db\",\n",
        "    sfm_dir=config.general[\"output_dir\"],\n",
        "    image_dir=config.general[\"image_dir\"],\n",
        "    refine_intrinsics=False,\n",
        ")"
      ]
    }
  ],
  "metadata": {
    "kernelspec": {
      "display_name": "Python 3",
      "language": "python",
      "name": "python3"
    },
    "language_info": {
      "codemirror_mode": {
        "name": "ipython",
        "version": 3
      },
      "file_extension": ".py",
      "mimetype": "text/x-python",
      "name": "python",
      "nbconvert_exporter": "python",
      "pygments_lexer": "ipython3",
      "version": "3.9.23"
    }
  },
  "nbformat": 4,
  "nbformat_minor": 2
}
