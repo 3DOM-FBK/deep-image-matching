{
 "cells": [
  {
   "cell_type": "code",
   "execution_count": null,
   "metadata": {},
   "outputs": [],
   "source": [
    "import logging\n",
    "from importlib import import_module\n",
    "\n",
    "import deep_image_matching as dim\n",
    "import yaml\n",
    "\n",
    "logger = dim.setup_logger(\"dim\")\n",
    "\n",
    "cli_params = {\n",
    "    \"dir\": \"../assets/example_cyprus\",\n",
    "    \"pipeline\": \"superpoint+lightglue\",\n",
    "    \"strategy\": \"matching_lowres\",\n",
    "    \"quality\": \"high\",\n",
    "    \"tiling\": \"preselection\",\n",
    "    \"skip_reconstruction\": False,\n",
    "    \"force\": True,\n",
    "    \"camera_options\": \"../config/cameras.yaml\",\n",
    "    \"openmvg\": None,\n",
    "}"
   ]
  },
  {
   "cell_type": "code",
   "execution_count": null,
   "metadata": {},
   "outputs": [],
   "source": [
    "# Build configuration\n",
    "config = dim.Config(cli_params)\n",
    "imgs_dir = config.general[\"image_dir\"]\n",
    "output_dir = config.general[\"output_dir\"]"
   ]
  },
  {
   "cell_type": "code",
   "execution_count": null,
   "metadata": {},
   "outputs": [],
   "source": [
    "# - General configuration\n",
    "config.general[\"min_inliers_per_pair\"] = 10\n",
    "config.general[\"min_inlier_ratio_per_pair\"] = 0.2\n",
    "\n",
    "# - SuperPoint configuration\n",
    "config.extractor[\"max_keypoints\"] = 8000\n",
    "\n",
    "# - LightGue configuration\n",
    "config.matcher[\"filter_threshold\"] = 0.1\n",
    "\n",
    "# Save configuration to a json file in the output directory\n",
    "config.save()"
   ]
  },
  {
   "cell_type": "code",
   "execution_count": null,
   "metadata": {},
   "outputs": [],
   "source": [
    "# Initialize ImageMatcher class\n",
    "matcher = dim.ImageMatcher(config)\n",
    "\n",
    "# Run image matching\n",
    "feature_path, match_path = matcher.run()"
   ]
  },
  {
   "cell_type": "code",
   "execution_count": null,
   "metadata": {},
   "outputs": [],
   "source": [
    "# Export in colmap format\n",
    "with open(config.general[\"camera_options\"], \"r\") as file:\n",
    "    camera_options = yaml.safe_load(file)\n",
    "database_path = output_dir / \"database.db\"\n",
    "dim.io.export_to_colmap(\n",
    "    img_dir=imgs_dir,\n",
    "    feature_path=feature_path,\n",
    "    match_path=match_path,\n",
    "    database_path=database_path,\n",
    "    camera_options=camera_options,\n",
    ")"
   ]
  },
  {
   "cell_type": "code",
   "execution_count": null,
   "metadata": {},
   "outputs": [],
   "source": [
    "from deep_image_matching import graph\n",
    "\n",
    "graph.view_graph(database_path, output_dir, imgs_dir)"
   ]
  },
  {
   "cell_type": "markdown",
   "metadata": {},
   "source": []
  },
  {
   "cell_type": "code",
   "execution_count": null,
   "metadata": {},
   "outputs": [],
   "source": [
    "reconst_opts = {}\n",
    "refine_intrinsics = False\n",
    "\n",
    "# Run reconstruction\n",
    "model = dim.reconstruction.pycolmap_reconstruction(\n",
    "    database_path=output_dir / \"database.db\",\n",
    "    sfm_dir=output_dir,\n",
    "    image_dir=imgs_dir,\n",
    "    options=reconst_opts,\n",
    "    verbose=config.general[\"verbose\"],\n",
    "    refine_intrinsics=refine_intrinsics,\n",
    ")"
   ]
  }
 ],
 "metadata": {
  "language_info": {
   "name": "python"
  }
 },
 "nbformat": 4,
 "nbformat_minor": 2
}
