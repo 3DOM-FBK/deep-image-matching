{
 "cells": [
  {
   "cell_type": "code",
   "execution_count": 1,
   "metadata": {},
   "outputs": [
    {
     "name": "stdout",
     "output_type": "stream",
     "text": [
      "\u001b[1;33m2024-04-10 12:00:35 | [WARNING ] datasets/belv_20230725/results_superpoint+lightglue_bruteforce_quality_highest already exists, but the '--force' option is used. Deleting the folder.\u001b[0m\n",
      "Using a custom configuration file: /home/francesco/phd/deep-image-matching/datasets/belv_20230725/superpoint+lightglue.yaml\n",
      "Config general:\n",
      "{'camera_options': './datasets/belv_20230725/cameras.yaml',\n",
      " 'db_path': None,\n",
      " 'geom_verification': <GeometricVerification.NONE: 0>,\n",
      " 'graph': True,\n",
      " 'gv_confidence': 0.99999,\n",
      " 'gv_threshold': 4,\n",
      " 'image_dir': PosixPath('datasets/belv_20230725/images'),\n",
      " 'matching_strategy': 'bruteforce',\n",
      " 'min_inlier_ratio_per_pair': 0.2,\n",
      " 'min_inliers_per_pair': 2,\n",
      " 'min_matches_per_tile': 10,\n",
      " 'openmvg_conf': None,\n",
      " 'output_dir': PosixPath('datasets/belv_20230725/results_superpoint+lightglue_bruteforce_quality_highest'),\n",
      " 'overlap': None,\n",
      " 'pair_file': PosixPath('datasets/belv_20230725/results_superpoint+lightglue_bruteforce_quality_highest/pairs.txt'),\n",
      " 'quality': <Quality.HIGHEST: 4>,\n",
      " 'refine_intrinsics': False,\n",
      " 'retrieval': None,\n",
      " 'skip_reconstruction': False,\n",
      " 'tile_overlap': 100,\n",
      " 'tile_preselection_size': 1000,\n",
      " 'tile_selection': <TileSelection.PRESELECTION: 3>,\n",
      " 'tile_size': (3000, 2000),\n",
      " 'try_match_full_images': False,\n",
      " 'upright': False,\n",
      " 'verbose': True}\n",
      "\n",
      "\n",
      "Config extractor:\n",
      "{'fix_sampling': True,\n",
      " 'keypoint_threshold': 0.0005,\n",
      " 'max_keypoints': 8000,\n",
      " 'name': 'superpoint',\n",
      " 'nms_radius': 4,\n",
      " 'remove_borders': 4}\n",
      "\n",
      "\n",
      "Config matcher:\n",
      "{'depth_confidence': -1,\n",
      " 'filter_threshold': 0.6,\n",
      " 'flash': True,\n",
      " 'mp': False,\n",
      " 'n_layers': 9,\n",
      " 'name': 'lightglue',\n",
      " 'width_confidence': -1}\n",
      "\n",
      "\n"
     ]
    }
   ],
   "source": [
    "import deep_image_matching as dim\n",
    "import yaml\n",
    "\n",
    "logger = dim.setup_logger(\"dim\")\n",
    "\n",
    "params = {\n",
    "    \"dir\": \"./datasets/belv_20230725\",\n",
    "    \"pipeline\": \"superpoint+lightglue\",\n",
    "    \"config_file\": \"./datasets/belv_20230725/superpoint+lightglue.yaml\",\n",
    "    \"strategy\": \"bruteforce\",\n",
    "    \"quality\": \"highest\",\n",
    "    \"tiling\": \"preselection\",\n",
    "    \"skip_reconstruction\": False,\n",
    "    \"force\": True,\n",
    "    \"camera_options\": \"./datasets/belv_20230725/cameras.yaml\",\n",
    "    \"openmvg\": None,\n",
    "    \"verbose\": True,\n",
    "}\n",
    "\n",
    "# Build configuration\n",
    "config = dim.Config(params)\n",
    "config.save()"
   ]
  },
  {
   "cell_type": "code",
   "execution_count": 2,
   "metadata": {},
   "outputs": [
    {
     "name": "stdout",
     "output_type": "stream",
     "text": [
      "\u001b[1;30m2024-04-10 12:00:36 | [DEBUG   ] Matching options: Quality: HIGHEST - Tiling: PRESELECTION\u001b[0m\n",
      "\u001b[1;30m2024-04-10 12:00:36 | [DEBUG   ] Saving directory: datasets/belv_20230725/results_superpoint+lightglue_bruteforce_quality_highest\u001b[0m\n",
      "\u001b[1;30m2024-04-10 12:00:36 | [DEBUG   ] Running inference on device cuda\u001b[0m\n",
      "Loaded SuperPoint model\n",
      "\u001b[1;30m2024-04-10 12:00:37 | [DEBUG   ] Matching options: Tiling: PRESELECTION\u001b[0m\n",
      "\u001b[1;30m2024-04-10 12:00:37 | [DEBUG   ] Saving directory: datasets/belv_20230725/results_superpoint+lightglue_bruteforce_quality_highest\u001b[0m\n",
      "\u001b[1;30m2024-04-10 12:00:37 | [DEBUG   ] Running inference on device cuda\u001b[0m\n",
      "Loaded SuperPoint model\n",
      "\u001b[0;37m2024-04-10 12:00:37 | [INFO    ] Running image matching with the following configuration:\u001b[0m\n",
      "\u001b[0;37m2024-04-10 12:00:37 | [INFO    ]   Image folder: datasets/belv_20230725/images\u001b[0m\n",
      "\u001b[0;37m2024-04-10 12:00:37 | [INFO    ]   Output folder: datasets/belv_20230725/results_superpoint+lightglue_bruteforce_quality_highest\u001b[0m\n",
      "\u001b[0;37m2024-04-10 12:00:37 | [INFO    ]   Number of images: 2\u001b[0m\n",
      "\u001b[0;37m2024-04-10 12:00:37 | [INFO    ]   Matching strategy: bruteforce\u001b[0m\n",
      "\u001b[0;37m2024-04-10 12:00:37 | [INFO    ]   Image quality: HIGHEST\u001b[0m\n",
      "\u001b[0;37m2024-04-10 12:00:37 | [INFO    ]   Tile selection: PRESELECTION\u001b[0m\n",
      "\u001b[0;37m2024-04-10 12:00:37 | [INFO    ]   Feature extraction method: superpoint\u001b[0m\n",
      "\u001b[0;37m2024-04-10 12:00:37 | [INFO    ]   Matching method: lightglue\u001b[0m\n",
      "\u001b[0;37m2024-04-10 12:00:37 | [INFO    ]   Geometric verification: NONE\u001b[0m\n",
      "\u001b[0;37m2024-04-10 12:00:37 | [INFO    ]   CUDA available: True\u001b[0m\n",
      "\u001b[1;30m2024-04-10 12:00:37 | [DEBUG   ] Bruteforce matching, generating pairs ..\u001b[0m\n",
      "\u001b[0;37m2024-04-10 12:00:37 | [INFO    ] Number of pairs: 1\u001b[0m\n",
      "\u001b[0;37m2024-04-10 12:00:37 | [INFO    ] Found 1 pairs.\u001b[0m\n",
      "\u001b[0;37m2024-04-10 12:00:37 | [INFO    ] Extracting features with superpoint...\u001b[0m\n",
      "\u001b[0;37m2024-04-10 12:00:37 | [INFO    ] superpoint configuration: \u001b[0m\n",
      "{'fix_sampling': True,\n",
      " 'keypoint_threshold': 0.0005,\n",
      " 'max_keypoints': 8000,\n",
      " 'name': 'superpoint',\n",
      " 'nms_radius': 4,\n",
      " 'remove_borders': 4}\n"
     ]
    },
    {
     "name": "stderr",
     "output_type": "stream",
     "text": [
      "  0%|          | 0/2 [00:00<?, ?it/s]"
     ]
    },
    {
     "name": "stdout",
     "output_type": "stream",
     "text": [
      "\u001b[1;30m2024-04-10 12:00:38 | [DEBUG   ]   - Extracting features from tile: 0\u001b[0m\n",
      "\u001b[1;30m2024-04-10 12:00:40 | [DEBUG   ]   - Extracting features from tile: 1\u001b[0m\n",
      "\u001b[1;30m2024-04-10 12:00:40 | [DEBUG   ]   - Extracting features from tile: 2\u001b[0m\n",
      "\u001b[1;30m2024-04-10 12:00:40 | [DEBUG   ]   - Extracting features from tile: 3\u001b[0m\n",
      "\u001b[1;30m2024-04-10 12:00:41 | [DEBUG   ]   - Extracting features from tile: 4\u001b[0m\n",
      "\u001b[1;30m2024-04-10 12:00:41 | [DEBUG   ]   - Extracting features from tile: 5\u001b[0m\n",
      "\u001b[1;30m2024-04-10 12:00:41 | [DEBUG   ]   - Extracting features from tile: 6\u001b[0m\n",
      "\u001b[1;30m2024-04-10 12:00:42 | [DEBUG   ]   - Extracting features from tile: 7\u001b[0m\n",
      "\u001b[1;30m2024-04-10 12:00:42 | [DEBUG   ]   - Extracting features from tile: 8\u001b[0m\n",
      "\u001b[1;30m2024-04-10 12:00:42 | [DEBUG   ]   - Extracting features from tile: 9\u001b[0m\n",
      "\u001b[1;30m2024-04-10 12:00:43 | [DEBUG   ]   - Extracting features from tile: 10\u001b[0m\n",
      "\u001b[1;30m2024-04-10 12:00:43 | [DEBUG   ]   - Extracting features from tile: 11\u001b[0m\n",
      "\u001b[1;30m2024-04-10 12:00:43 | [DEBUG   ]   - Extracting features from tile: 12\u001b[0m\n",
      "\u001b[1;30m2024-04-10 12:00:44 | [DEBUG   ]   - Extracting features from tile: 13\u001b[0m\n",
      "\u001b[1;30m2024-04-10 12:00:44 | [DEBUG   ]   - Extracting features from tile: 14\u001b[0m\n",
      "\u001b[1;30m2024-04-10 12:00:44 | [DEBUG   ]   - Extracting features from tile: 15\u001b[0m\n",
      "\u001b[1;30m2024-04-10 12:00:45 | [DEBUG   ] Extracted 124594 keypoints\u001b[0m\n"
     ]
    },
    {
     "name": "stderr",
     "output_type": "stream",
     "text": [
      " 50%|█████     | 1/2 [00:10<00:10, 10.41s/it]"
     ]
    },
    {
     "name": "stdout",
     "output_type": "stream",
     "text": [
      "\u001b[1;30m2024-04-10 12:00:48 | [DEBUG   ]   - Extracting features from tile: 0\u001b[0m\n",
      "\u001b[1;30m2024-04-10 12:00:48 | [DEBUG   ]   - Extracting features from tile: 1\u001b[0m\n",
      "\u001b[1;30m2024-04-10 12:00:49 | [DEBUG   ]   - Extracting features from tile: 2\u001b[0m\n",
      "\u001b[1;30m2024-04-10 12:00:49 | [DEBUG   ]   - Extracting features from tile: 3\u001b[0m\n",
      "\u001b[1;30m2024-04-10 12:00:49 | [DEBUG   ]   - Extracting features from tile: 4\u001b[0m\n",
      "\u001b[1;30m2024-04-10 12:00:50 | [DEBUG   ]   - Extracting features from tile: 5\u001b[0m\n",
      "\u001b[1;30m2024-04-10 12:00:50 | [DEBUG   ]   - Extracting features from tile: 6\u001b[0m\n",
      "\u001b[1;30m2024-04-10 12:00:50 | [DEBUG   ]   - Extracting features from tile: 7\u001b[0m\n",
      "\u001b[1;30m2024-04-10 12:00:51 | [DEBUG   ]   - Extracting features from tile: 8\u001b[0m\n",
      "\u001b[1;30m2024-04-10 12:00:51 | [DEBUG   ]   - Extracting features from tile: 9\u001b[0m\n",
      "\u001b[1;30m2024-04-10 12:00:51 | [DEBUG   ]   - Extracting features from tile: 10\u001b[0m\n",
      "\u001b[1;30m2024-04-10 12:00:52 | [DEBUG   ]   - Extracting features from tile: 11\u001b[0m\n",
      "\u001b[1;30m2024-04-10 12:00:52 | [DEBUG   ]   - Extracting features from tile: 12\u001b[0m\n",
      "\u001b[1;30m2024-04-10 12:00:52 | [DEBUG   ]   - Extracting features from tile: 13\u001b[0m\n",
      "\u001b[1;30m2024-04-10 12:00:53 | [DEBUG   ]   - Extracting features from tile: 14\u001b[0m\n",
      "\u001b[1;30m2024-04-10 12:00:53 | [DEBUG   ]   - Extracting features from tile: 15\u001b[0m\n",
      "\u001b[1;30m2024-04-10 12:00:54 | [DEBUG   ] Extracted 124302 keypoints\u001b[0m\n"
     ]
    },
    {
     "name": "stderr",
     "output_type": "stream",
     "text": [
      "100%|██████████| 2/2 [00:18<00:00,  9.40s/it]"
     ]
    },
    {
     "name": "stdout",
     "output_type": "stream",
     "text": [
      "\u001b[0;37m2024-04-10 12:00:56 | [INFO    ] Features extracted!\u001b[0m\n",
      "\u001b[0;37m2024-04-10 12:00:56 | [INFO    ] Matching features with lightglue...\u001b[0m\n",
      "\u001b[0;37m2024-04-10 12:00:56 | [INFO    ] lightglue configuration: \u001b[0m\n",
      "{'depth_confidence': -1,\n",
      " 'filter_threshold': 0.6,\n",
      " 'flash': True,\n",
      " 'mp': False,\n",
      " 'n_layers': 9,\n",
      " 'name': 'lightglue',\n",
      " 'width_confidence': -1}\n",
      "\u001b[0;37m2024-04-10 12:00:56 | [INFO    ] Matching features...\u001b[0m\n",
      "\u001b[0;37m2024-04-10 12:00:56 | [INFO    ] \u001b[0m\n"
     ]
    },
    {
     "name": "stderr",
     "output_type": "stream",
     "text": [
      "\n",
      "  0%|          | 0/1 [00:00<?, ?it/s]"
     ]
    },
    {
     "name": "stdout",
     "output_type": "stream",
     "text": [
      "\u001b[1;30m2024-04-10 12:00:56 | [DEBUG   ] Matching image pair: p1_20230725_115953_IMG_1147.JPG - p2_20230725_120026_IMG_0885.JPG\u001b[0m\n",
      "\u001b[1;30m2024-04-10 12:00:57 | [DEBUG   ] Matching by tile with PRESELECTION selection...\u001b[0m\n",
      "\u001b[1;30m2024-04-10 12:00:58 | [DEBUG   ] Matching tiles by downsampling preselection\u001b[0m\n"
     ]
    },
    {
     "name": "stderr",
     "output_type": "stream",
     "text": [
      "/home/francesco/miniforge3/envs/deep-image-matching/lib/python3.10/site-packages/torchvision/models/_utils.py:208: UserWarning: The parameter 'pretrained' is deprecated since 0.13 and may be removed in the future, please use 'weights' instead.\n",
      "  warnings.warn(\n",
      "/home/francesco/miniforge3/envs/deep-image-matching/lib/python3.10/site-packages/torchvision/models/_utils.py:223: UserWarning: Arguments other than a weight enum or `None` for 'weights' are deprecated since 0.13 and may be removed in the future. The current behavior is equivalent to passing `weights=None`.\n",
      "  warnings.warn(msg)\n"
     ]
    },
    {
     "name": "stdout",
     "output_type": "stream",
     "text": [
      "Using coarse resolution (280, 280), and upsample res (420, 420)\n"
     ]
    },
    {
     "name": "stderr",
     "output_type": "stream",
     "text": [
      "/home/francesco/miniforge3/envs/deep-image-matching/lib/python3.10/site-packages/torch/functional.py:507: UserWarning: torch.meshgrid: in an upcoming release, it will be required to pass the indexing argument. (Triggered internally at ../aten/src/ATen/native/TensorShape.cpp:3549.)\n",
      "  return _VF.meshgrid(tensors, **kwargs)  # type: ignore[attr-defined]\n"
     ]
    },
    {
     "name": "stdout",
     "output_type": "stream",
     "text": [
      "\u001b[1;30m2024-04-10 12:01:11 | [DEBUG   ] [Timer] | [Tile selection] preselection=8.261, Tile selection=5.780, Total execution=14.041\u001b[0m\n",
      "\u001b[1;30m2024-04-10 12:01:11 | [DEBUG   ]  - Matching tile pair (2, 4)\u001b[0m\n",
      "\u001b[1;30m2024-04-10 12:01:11 | [DEBUG   ]      Found 0 matches\u001b[0m\n",
      "\u001b[1;30m2024-04-10 12:01:11 | [DEBUG   ]  - Matching tile pair (3, 2)\u001b[0m\n",
      "\u001b[1;30m2024-04-10 12:01:12 | [DEBUG   ]      Found 0 matches\u001b[0m\n",
      "\u001b[1;30m2024-04-10 12:01:12 | [DEBUG   ]  - Matching tile pair (3, 4)\u001b[0m\n",
      "\u001b[1;30m2024-04-10 12:01:12 | [DEBUG   ]      Found 1123 matches\u001b[0m\n",
      "\u001b[1;30m2024-04-10 12:01:12 | [DEBUG   ]  - Matching tile pair (3, 5)\u001b[0m\n",
      "\u001b[1;30m2024-04-10 12:01:12 | [DEBUG   ]      Found 635 matches\u001b[0m\n",
      "\u001b[1;30m2024-04-10 12:01:12 | [DEBUG   ]  - Matching tile pair (5, 4)\u001b[0m\n",
      "\u001b[1;30m2024-04-10 12:01:13 | [DEBUG   ]      Found 0 matches\u001b[0m\n",
      "\u001b[1;30m2024-04-10 12:01:13 | [DEBUG   ]  - Matching tile pair (5, 5)\u001b[0m\n",
      "\u001b[1;30m2024-04-10 12:01:13 | [DEBUG   ]      Found 0 matches\u001b[0m\n",
      "\u001b[1;30m2024-04-10 12:01:13 | [DEBUG   ]  - Matching tile pair (5, 8)\u001b[0m\n",
      "\u001b[1;30m2024-04-10 12:01:13 | [DEBUG   ]      Found 0 matches\u001b[0m\n",
      "\u001b[1;30m2024-04-10 12:01:13 | [DEBUG   ]  - Matching tile pair (6, 4)\u001b[0m\n",
      "\u001b[1;30m2024-04-10 12:01:13 | [DEBUG   ]      Found 0 matches\u001b[0m\n",
      "\u001b[1;30m2024-04-10 12:01:13 | [DEBUG   ]  - Matching tile pair (6, 5)\u001b[0m\n",
      "\u001b[1;30m2024-04-10 12:01:14 | [DEBUG   ]      Found 0 matches\u001b[0m\n",
      "\u001b[1;30m2024-04-10 12:01:14 | [DEBUG   ]  - Matching tile pair (7, 5)\u001b[0m\n",
      "\u001b[1;30m2024-04-10 12:01:14 | [DEBUG   ]      Found 0 matches\u001b[0m\n",
      "\u001b[1;30m2024-04-10 12:01:14 | [DEBUG   ]  - Matching tile pair (7, 6)\u001b[0m\n",
      "\u001b[1;30m2024-04-10 12:01:14 | [DEBUG   ]      Found 0 matches\u001b[0m\n",
      "\u001b[1;30m2024-04-10 12:01:14 | [DEBUG   ]  - Matching tile pair (7, 7)\u001b[0m\n",
      "\u001b[1;30m2024-04-10 12:01:15 | [DEBUG   ]      Found 0 matches\u001b[0m\n",
      "\u001b[1;30m2024-04-10 12:01:15 | [DEBUG   ]  - Matching tile pair (8, 4)\u001b[0m\n",
      "\u001b[1;30m2024-04-10 12:01:15 | [DEBUG   ]      Found 0 matches\u001b[0m\n",
      "\u001b[1;30m2024-04-10 12:01:15 | [DEBUG   ]  - Matching tile pair (8, 8)\u001b[0m\n",
      "\u001b[1;30m2024-04-10 12:01:15 | [DEBUG   ]      Found 0 matches\u001b[0m\n",
      "\u001b[1;30m2024-04-10 12:01:15 | [DEBUG   ]  - Matching tile pair (8, 9)\u001b[0m\n",
      "\u001b[1;30m2024-04-10 12:01:16 | [DEBUG   ]      Found 6 matches\u001b[0m\n",
      "\u001b[1;30m2024-04-10 12:01:16 | [DEBUG   ]  - Matching tile pair (9, 8)\u001b[0m\n",
      "\u001b[1;30m2024-04-10 12:01:16 | [DEBUG   ]      Found 0 matches\u001b[0m\n",
      "\u001b[1;30m2024-04-10 12:01:16 | [DEBUG   ]  - Matching tile pair (9, 9)\u001b[0m\n",
      "\u001b[1;30m2024-04-10 12:01:16 | [DEBUG   ]      Found 1082 matches\u001b[0m\n",
      "\u001b[1;30m2024-04-10 12:01:16 | [DEBUG   ]  - Matching tile pair (9, 10)\u001b[0m\n",
      "\u001b[1;30m2024-04-10 12:01:16 | [DEBUG   ]      Found 0 matches\u001b[0m\n",
      "\u001b[1;30m2024-04-10 12:01:16 | [DEBUG   ]  - Matching tile pair (10, 5)\u001b[0m\n",
      "\u001b[1;30m2024-04-10 12:01:17 | [DEBUG   ]      Found 0 matches\u001b[0m\n",
      "\u001b[1;30m2024-04-10 12:01:17 | [DEBUG   ]  - Matching tile pair (10, 6)\u001b[0m\n",
      "\u001b[1;30m2024-04-10 12:01:17 | [DEBUG   ]      Found 0 matches\u001b[0m\n",
      "\u001b[1;30m2024-04-10 12:01:17 | [DEBUG   ]  - Matching tile pair (10, 9)\u001b[0m\n",
      "\u001b[1;30m2024-04-10 12:01:17 | [DEBUG   ]      Found 0 matches\u001b[0m\n",
      "\u001b[1;30m2024-04-10 12:01:17 | [DEBUG   ]  - Matching tile pair (10, 10)\u001b[0m\n",
      "\u001b[1;30m2024-04-10 12:01:18 | [DEBUG   ]      Found 1316 matches\u001b[0m\n",
      "\u001b[1;30m2024-04-10 12:01:18 | [DEBUG   ]  - Matching tile pair (10, 11)\u001b[0m\n",
      "\u001b[1;30m2024-04-10 12:01:18 | [DEBUG   ]      Found 0 matches\u001b[0m\n",
      "\u001b[1;30m2024-04-10 12:01:18 | [DEBUG   ]  - Matching tile pair (11, 7)\u001b[0m\n",
      "\u001b[1;30m2024-04-10 12:01:18 | [DEBUG   ]      Found 0 matches\u001b[0m\n",
      "\u001b[1;30m2024-04-10 12:01:18 | [DEBUG   ]  - Matching tile pair (11, 11)\u001b[0m\n",
      "\u001b[1;30m2024-04-10 12:01:19 | [DEBUG   ]      Found 0 matches\u001b[0m\n",
      "\u001b[1;30m2024-04-10 12:01:19 | [DEBUG   ]  - Matching tile pair (12, 8)\u001b[0m\n",
      "\u001b[1;30m2024-04-10 12:01:19 | [DEBUG   ]      Found 0 matches\u001b[0m\n",
      "\u001b[1;30m2024-04-10 12:01:19 | [DEBUG   ]  - Matching tile pair (12, 9)\u001b[0m\n",
      "\u001b[1;30m2024-04-10 12:01:19 | [DEBUG   ]      Found 0 matches\u001b[0m\n",
      "\u001b[1;30m2024-04-10 12:01:19 | [DEBUG   ]  - Matching tile pair (12, 13)\u001b[0m\n",
      "\u001b[1;30m2024-04-10 12:01:20 | [DEBUG   ]      Found 0 matches\u001b[0m\n",
      "\u001b[1;30m2024-04-10 12:01:20 | [DEBUG   ]  - Matching tile pair (12, 14)\u001b[0m\n",
      "\u001b[1;30m2024-04-10 12:01:20 | [DEBUG   ]      Found 0 matches\u001b[0m\n",
      "\u001b[1;30m2024-04-10 12:01:20 | [DEBUG   ]  - Matching tile pair (13, 9)\u001b[0m\n",
      "\u001b[1;30m2024-04-10 12:01:20 | [DEBUG   ]      Found 0 matches\u001b[0m\n",
      "\u001b[1;30m2024-04-10 12:01:20 | [DEBUG   ]  - Matching tile pair (13, 10)\u001b[0m\n",
      "\u001b[1;30m2024-04-10 12:01:20 | [DEBUG   ]      Found 0 matches\u001b[0m\n",
      "\u001b[1;30m2024-04-10 12:01:20 | [DEBUG   ]  - Matching tile pair (13, 13)\u001b[0m\n",
      "\u001b[1;30m2024-04-10 12:01:21 | [DEBUG   ]      Found 0 matches\u001b[0m\n",
      "\u001b[1;30m2024-04-10 12:01:21 | [DEBUG   ]  - Matching tile pair (13, 14)\u001b[0m\n",
      "\u001b[1;30m2024-04-10 12:01:21 | [DEBUG   ]      Found 291 matches\u001b[0m\n",
      "\u001b[1;30m2024-04-10 12:01:21 | [DEBUG   ]  - Matching tile pair (13, 15)\u001b[0m\n",
      "\u001b[1;30m2024-04-10 12:01:21 | [DEBUG   ]      Found 0 matches\u001b[0m\n",
      "\u001b[1;30m2024-04-10 12:01:21 | [DEBUG   ]  - Matching tile pair (14, 10)\u001b[0m\n",
      "\u001b[1;30m2024-04-10 12:01:22 | [DEBUG   ]      Found 0 matches\u001b[0m\n",
      "\u001b[1;30m2024-04-10 12:01:22 | [DEBUG   ]  - Matching tile pair (14, 11)\u001b[0m\n",
      "\u001b[1;30m2024-04-10 12:01:22 | [DEBUG   ]      Found 0 matches\u001b[0m\n",
      "\u001b[1;30m2024-04-10 12:01:22 | [DEBUG   ]  - Matching tile pair (14, 14)\u001b[0m\n",
      "\u001b[1;30m2024-04-10 12:01:22 | [DEBUG   ]      Found 0 matches\u001b[0m\n",
      "\u001b[1;30m2024-04-10 12:01:22 | [DEBUG   ]  - Matching tile pair (14, 15)\u001b[0m\n",
      "\u001b[1;30m2024-04-10 12:01:23 | [DEBUG   ]      Found 0 matches\u001b[0m\n",
      "\u001b[1;30m2024-04-10 12:01:23 | [DEBUG   ] Matching by tile completed.\u001b[0m\n",
      "\u001b[1;30m2024-04-10 12:01:23 | [DEBUG   ] [Timer] | [MatcherBase match_by_tile] tile selection=14.066, match tile=11.581, Total execution=25.648\u001b[0m\n",
      "\u001b[1;30m2024-04-10 12:01:23 | [DEBUG   ] [Timer] | [MatcherBase match] load h5 features=0.915, save to h5=25.650, Total execution=26.565\u001b[0m\n",
      "\u001b[1;30m2024-04-10 12:01:23 | [DEBUG   ] Method was set to GeometricVerification.NONE, trying to use it from OPENCV...\u001b[0m\n"
     ]
    },
    {
     "name": "stderr",
     "output_type": "stream",
     "text": [
      "  0%|          | 0/1 [00:26<?, ?it/s]\n"
     ]
    },
    {
     "ename": "KeyError",
     "evalue": "'NONE'",
     "output_type": "error",
     "traceback": [
      "\u001b[0;31m---------------------------------------------------------------------------\u001b[0m",
      "\u001b[0;31mKeyError\u001b[0m                                  Traceback (most recent call last)",
      "Cell \u001b[0;32mIn[2], line 5\u001b[0m\n\u001b[1;32m      2\u001b[0m matcher \u001b[38;5;241m=\u001b[39m dim\u001b[38;5;241m.\u001b[39mImageMatcher(config)\n\u001b[1;32m      4\u001b[0m \u001b[38;5;66;03m# Run image matching\u001b[39;00m\n\u001b[0;32m----> 5\u001b[0m feature_path, match_path \u001b[38;5;241m=\u001b[39m \u001b[43mmatcher\u001b[49m\u001b[38;5;241;43m.\u001b[39;49m\u001b[43mrun\u001b[49m\u001b[43m(\u001b[49m\u001b[43m)\u001b[49m\n\u001b[1;32m      7\u001b[0m \u001b[38;5;66;03m# Read camera options\u001b[39;00m\n\u001b[1;32m      8\u001b[0m \u001b[38;5;28;01mwith\u001b[39;00m \u001b[38;5;28mopen\u001b[39m(config\u001b[38;5;241m.\u001b[39mgeneral[\u001b[38;5;124m\"\u001b[39m\u001b[38;5;124mcamera_options\u001b[39m\u001b[38;5;124m\"\u001b[39m], \u001b[38;5;124m\"\u001b[39m\u001b[38;5;124mr\u001b[39m\u001b[38;5;124m\"\u001b[39m) \u001b[38;5;28;01mas\u001b[39;00m file:\n",
      "File \u001b[0;32m~/phd/deep-image-matching/src/deep_image_matching/image_matching.py:198\u001b[0m, in \u001b[0;36mImageMatcher.run\u001b[0;34m(self)\u001b[0m\n\u001b[1;32m    195\u001b[0m timer\u001b[38;5;241m.\u001b[39mupdate(\u001b[38;5;124m\"\u001b[39m\u001b[38;5;124mextract_features\u001b[39m\u001b[38;5;124m\"\u001b[39m)\n\u001b[1;32m    197\u001b[0m \u001b[38;5;66;03m# Matching\u001b[39;00m\n\u001b[0;32m--> 198\u001b[0m match_path \u001b[38;5;241m=\u001b[39m \u001b[38;5;28;43mself\u001b[39;49m\u001b[38;5;241;43m.\u001b[39;49m\u001b[43mmatch_pairs\u001b[49m\u001b[43m(\u001b[49m\u001b[43mfeature_path\u001b[49m\u001b[43m)\u001b[49m\n\u001b[1;32m    200\u001b[0m \u001b[38;5;66;03m# If features have been extracted on \"upright\" images, this function bring features back to their original image orientation\u001b[39;00m\n\u001b[1;32m    201\u001b[0m \u001b[38;5;28;01mif\u001b[39;00m \u001b[38;5;28mself\u001b[39m\u001b[38;5;241m.\u001b[39mconfig\u001b[38;5;241m.\u001b[39mgeneral[\u001b[38;5;124m\"\u001b[39m\u001b[38;5;124mupright\u001b[39m\u001b[38;5;124m\"\u001b[39m]:\n",
      "File \u001b[0;32m~/phd/deep-image-matching/src/deep_image_matching/image_matching.py:407\u001b[0m, in \u001b[0;36mImageMatcher.match_pairs\u001b[0;34m(self, feature_path, try_full_image)\u001b[0m\n\u001b[1;32m    404\u001b[0m logger\u001b[38;5;241m.\u001b[39mdebug(\u001b[38;5;124mf\u001b[39m\u001b[38;5;124m\"\u001b[39m\u001b[38;5;124mMatching image pair: \u001b[39m\u001b[38;5;132;01m{\u001b[39;00mname0\u001b[38;5;132;01m}\u001b[39;00m\u001b[38;5;124m - \u001b[39m\u001b[38;5;132;01m{\u001b[39;00mname1\u001b[38;5;132;01m}\u001b[39;00m\u001b[38;5;124m\"\u001b[39m)\n\u001b[1;32m    406\u001b[0m \u001b[38;5;66;03m# Run matching\u001b[39;00m\n\u001b[0;32m--> 407\u001b[0m \u001b[38;5;28;43mself\u001b[39;49m\u001b[38;5;241;43m.\u001b[39;49m\u001b[43m_matcher\u001b[49m\u001b[38;5;241;43m.\u001b[39;49m\u001b[43mmatch\u001b[49m\u001b[43m(\u001b[49m\n\u001b[1;32m    408\u001b[0m \u001b[43m    \u001b[49m\u001b[43mfeature_path\u001b[49m\u001b[38;5;241;43m=\u001b[39;49m\u001b[43mfeature_path\u001b[49m\u001b[43m,\u001b[49m\n\u001b[1;32m    409\u001b[0m \u001b[43m    \u001b[49m\u001b[43mmatches_path\u001b[49m\u001b[38;5;241;43m=\u001b[39;49m\u001b[43mmatches_path\u001b[49m\u001b[43m,\u001b[49m\n\u001b[1;32m    410\u001b[0m \u001b[43m    \u001b[49m\u001b[43mimg0\u001b[49m\u001b[38;5;241;43m=\u001b[39;49m\u001b[43mim0\u001b[49m\u001b[43m,\u001b[49m\n\u001b[1;32m    411\u001b[0m \u001b[43m    \u001b[49m\u001b[43mimg1\u001b[49m\u001b[38;5;241;43m=\u001b[39;49m\u001b[43mim1\u001b[49m\u001b[43m,\u001b[49m\n\u001b[1;32m    412\u001b[0m \u001b[43m    \u001b[49m\u001b[43mtry_full_image\u001b[49m\u001b[38;5;241;43m=\u001b[39;49m\u001b[43mtry_full_image\u001b[49m\u001b[43m,\u001b[49m\n\u001b[1;32m    413\u001b[0m \u001b[43m\u001b[49m\u001b[43m)\u001b[49m\n\u001b[1;32m    414\u001b[0m timer\u001b[38;5;241m.\u001b[39mupdate(\u001b[38;5;124m\"\u001b[39m\u001b[38;5;124mMatch pair\u001b[39m\u001b[38;5;124m\"\u001b[39m)\n\u001b[1;32m    416\u001b[0m \u001b[38;5;66;03m# NOTE: Geometric verif. has been moved to the end of the matching process\u001b[39;00m\n",
      "File \u001b[0;32m~/phd/deep-image-matching/src/deep_image_matching/matchers/matcher_base.py:291\u001b[0m, in \u001b[0;36mMatcherBase.match\u001b[0;34m(self, feature_path, matches_path, img0, img1, try_full_image)\u001b[0m\n\u001b[1;32m    288\u001b[0m gv_threshold \u001b[38;5;241m=\u001b[39m \u001b[38;5;28mself\u001b[39m\u001b[38;5;241m.\u001b[39mconfig[\u001b[38;5;124m\"\u001b[39m\u001b[38;5;124mgeneral\u001b[39m\u001b[38;5;124m\"\u001b[39m][\u001b[38;5;124m\"\u001b[39m\u001b[38;5;124mgv_threshold\u001b[39m\u001b[38;5;124m\"\u001b[39m] \u001b[38;5;241m*\u001b[39m scales[\u001b[38;5;28mself\u001b[39m\u001b[38;5;241m.\u001b[39mconfig[\u001b[38;5;124m\"\u001b[39m\u001b[38;5;124mgeneral\u001b[39m\u001b[38;5;124m\"\u001b[39m][\u001b[38;5;124m\"\u001b[39m\u001b[38;5;124mquality\u001b[39m\u001b[38;5;124m\"\u001b[39m]]\n\u001b[1;32m    290\u001b[0m \u001b[38;5;66;03m# Apply geometric verification\u001b[39;00m\n\u001b[0;32m--> 291\u001b[0m _, inlMask \u001b[38;5;241m=\u001b[39m \u001b[43mgeometric_verification\u001b[49m\u001b[43m(\u001b[49m\n\u001b[1;32m    292\u001b[0m \u001b[43m    \u001b[49m\u001b[43mkpts0\u001b[49m\u001b[38;5;241;43m=\u001b[39;49m\u001b[43mfeatures0\u001b[49m\u001b[43m[\u001b[49m\u001b[38;5;124;43m\"\u001b[39;49m\u001b[38;5;124;43mkeypoints\u001b[39;49m\u001b[38;5;124;43m\"\u001b[39;49m\u001b[43m]\u001b[49m\u001b[43m[\u001b[49m\u001b[43mmatches\u001b[49m\u001b[43m[\u001b[49m\u001b[43m:\u001b[49m\u001b[43m,\u001b[49m\u001b[43m \u001b[49m\u001b[38;5;241;43m0\u001b[39;49m\u001b[43m]\u001b[49m\u001b[43m]\u001b[49m\u001b[43m,\u001b[49m\n\u001b[1;32m    293\u001b[0m \u001b[43m    \u001b[49m\u001b[43mkpts1\u001b[49m\u001b[38;5;241;43m=\u001b[39;49m\u001b[43mfeatures1\u001b[49m\u001b[43m[\u001b[49m\u001b[38;5;124;43m\"\u001b[39;49m\u001b[38;5;124;43mkeypoints\u001b[39;49m\u001b[38;5;124;43m\"\u001b[39;49m\u001b[43m]\u001b[49m\u001b[43m[\u001b[49m\u001b[43mmatches\u001b[49m\u001b[43m[\u001b[49m\u001b[43m:\u001b[49m\u001b[43m,\u001b[49m\u001b[43m \u001b[49m\u001b[38;5;241;43m1\u001b[39;49m\u001b[43m]\u001b[49m\u001b[43m]\u001b[49m\u001b[43m,\u001b[49m\n\u001b[1;32m    294\u001b[0m \u001b[43m    \u001b[49m\u001b[43mmethod\u001b[49m\u001b[38;5;241;43m=\u001b[39;49m\u001b[38;5;28;43mself\u001b[39;49m\u001b[38;5;241;43m.\u001b[39;49m\u001b[43mconfig\u001b[49m\u001b[43m[\u001b[49m\u001b[38;5;124;43m\"\u001b[39;49m\u001b[38;5;124;43mgeneral\u001b[39;49m\u001b[38;5;124;43m\"\u001b[39;49m\u001b[43m]\u001b[49m\u001b[43m[\u001b[49m\u001b[38;5;124;43m\"\u001b[39;49m\u001b[38;5;124;43mgeom_verification\u001b[39;49m\u001b[38;5;124;43m\"\u001b[39;49m\u001b[43m]\u001b[49m\u001b[43m,\u001b[49m\n\u001b[1;32m    295\u001b[0m \u001b[43m    \u001b[49m\u001b[43mthreshold\u001b[49m\u001b[38;5;241;43m=\u001b[39;49m\u001b[43mgv_threshold\u001b[49m\u001b[43m,\u001b[49m\n\u001b[1;32m    296\u001b[0m \u001b[43m    \u001b[49m\u001b[43mconfidence\u001b[49m\u001b[38;5;241;43m=\u001b[39;49m\u001b[38;5;28;43mself\u001b[39;49m\u001b[38;5;241;43m.\u001b[39;49m\u001b[43mconfig\u001b[49m\u001b[43m[\u001b[49m\u001b[38;5;124;43m\"\u001b[39;49m\u001b[38;5;124;43mgeneral\u001b[39;49m\u001b[38;5;124;43m\"\u001b[39;49m\u001b[43m]\u001b[49m\u001b[43m[\u001b[49m\u001b[38;5;124;43m\"\u001b[39;49m\u001b[38;5;124;43mgv_confidence\u001b[39;49m\u001b[38;5;124;43m\"\u001b[39;49m\u001b[43m]\u001b[49m\u001b[43m,\u001b[49m\n\u001b[1;32m    297\u001b[0m \u001b[43m\u001b[49m\u001b[43m)\u001b[49m\n\u001b[1;32m    298\u001b[0m num_inliers \u001b[38;5;241m=\u001b[39m np\u001b[38;5;241m.\u001b[39msum(inlMask)\n\u001b[1;32m    299\u001b[0m inliers_ratio \u001b[38;5;241m=\u001b[39m num_inliers \u001b[38;5;241m/\u001b[39m \u001b[38;5;28mlen\u001b[39m(matches)\n",
      "File \u001b[0;32m~/phd/deep-image-matching/src/deep_image_matching/utils/geometric_verification.py:137\u001b[0m, in \u001b[0;36mgeometric_verification\u001b[0;34m(kpts0, kpts1, method, threshold, confidence, max_iters, quiet, **kwargs)\u001b[0m\n\u001b[1;32m    135\u001b[0m \u001b[38;5;28;01mif\u001b[39;00m method\u001b[38;5;241m.\u001b[39mname \u001b[38;5;129;01mnot\u001b[39;00m \u001b[38;5;129;01min\u001b[39;00m [\u001b[38;5;124m\"\u001b[39m\u001b[38;5;124mPYDEGENSAC\u001b[39m\u001b[38;5;124m\"\u001b[39m, \u001b[38;5;124m\"\u001b[39m\u001b[38;5;124mMAGSAC\u001b[39m\u001b[38;5;124m\"\u001b[39m, \u001b[38;5;124m\"\u001b[39m\u001b[38;5;124mRANSAC\u001b[39m\u001b[38;5;124m\"\u001b[39m]:\n\u001b[1;32m    136\u001b[0m     logger\u001b[38;5;241m.\u001b[39mdebug(\u001b[38;5;124mf\u001b[39m\u001b[38;5;124m\"\u001b[39m\u001b[38;5;124mMethod was set to \u001b[39m\u001b[38;5;132;01m{\u001b[39;00mmethod\u001b[38;5;132;01m}\u001b[39;00m\u001b[38;5;124m, trying to use it from OPENCV...\u001b[39m\u001b[38;5;124m\"\u001b[39m)\n\u001b[0;32m--> 137\u001b[0m     met \u001b[38;5;241m=\u001b[39m \u001b[43mopencv_methods_mapping\u001b[49m\u001b[43m[\u001b[49m\u001b[43mmethod\u001b[49m\u001b[38;5;241;43m.\u001b[39;49m\u001b[43mname\u001b[49m\u001b[43m]\u001b[49m\n\u001b[1;32m    138\u001b[0m     \u001b[38;5;28;01mtry\u001b[39;00m:\n\u001b[1;32m    139\u001b[0m         F, inliers \u001b[38;5;241m=\u001b[39m cv2\u001b[38;5;241m.\u001b[39mfindFundamentalMat(kpts0, kpts1, met, threshold, confidence, max_iters)\n",
      "\u001b[0;31mKeyError\u001b[0m: 'NONE'"
     ]
    }
   ],
   "source": [
    "# Initialize ImageMatcher class\n",
    "matcher = dim.ImageMatcher(config)\n",
    "\n",
    "# Run image matching\n",
    "feature_path, match_path = matcher.run()\n",
    "\n",
    "# Read camera options\n",
    "with open(config.general[\"camera_options\"], \"r\") as file:\n",
    "    camera_options = yaml.safe_load(file)\n",
    "\n",
    "# Export in colmap format\n",
    "database_path = config.general[\"output_dir\"] / \"database.db\"\n",
    "dim.io.export_to_colmap(\n",
    "    img_dir=config.general[\"image_dir\"],\n",
    "    feature_path=feature_path,\n",
    "    match_path=match_path,\n",
    "    database_path=database_path,\n",
    "    camera_options=camera_options,\n",
    ")"
   ]
  },
  {
   "cell_type": "code",
   "execution_count": 1,
   "metadata": {},
   "outputs": [
    {
     "ename": "NameError",
     "evalue": "name 'output_dir' is not defined",
     "output_type": "error",
     "traceback": [
      "\u001b[0;31m---------------------------------------------------------------------------\u001b[0m",
      "\u001b[0;31mNameError\u001b[0m                                 Traceback (most recent call last)",
      "Cell \u001b[0;32mIn[1], line 2\u001b[0m\n\u001b[1;32m      1\u001b[0m \u001b[38;5;66;03m# Export in colmap format\u001b[39;00m\n\u001b[0;32m----> 2\u001b[0m database_path \u001b[38;5;241m=\u001b[39m \u001b[43moutput_dir\u001b[49m \u001b[38;5;241m/\u001b[39m \u001b[38;5;124m\"\u001b[39m\u001b[38;5;124mdatabase.db\u001b[39m\u001b[38;5;124m\"\u001b[39m\n\u001b[1;32m      3\u001b[0m dim\u001b[38;5;241m.\u001b[39mio\u001b[38;5;241m.\u001b[39mexport_to_colmap(\n\u001b[1;32m      4\u001b[0m     img_dir\u001b[38;5;241m=\u001b[39mimgs_dir,\n\u001b[1;32m      5\u001b[0m     feature_path\u001b[38;5;241m=\u001b[39mfeature_path,\n\u001b[0;32m   (...)\u001b[0m\n\u001b[1;32m      8\u001b[0m     camera_options\u001b[38;5;241m=\u001b[39mcamera_options,\n\u001b[1;32m      9\u001b[0m )\n",
      "\u001b[0;31mNameError\u001b[0m: name 'output_dir' is not defined"
     ]
    }
   ],
   "source": [
    "# Export in colmap format\n",
    "database_path = output_dir / \"database.db\"\n",
    "dim.io.export_to_colmap(\n",
    "    img_dir=imgs_dir,\n",
    "    feature_path=feature_path,\n",
    "    match_path=match_path,\n",
    "    database_path=database_path,\n",
    "    camera_options=camera_options,\n",
    ")"
   ]
  },
  {
   "cell_type": "code",
   "execution_count": 69,
   "metadata": {},
   "outputs": [],
   "source": [
    "# Set camera options\n",
    "\n",
    "import numpy as np\n",
    "\n",
    "cameras = {\n",
    "    1: {\n",
    "        \"model\": 4,  # 4 is OPENCV model\n",
    "        \"width\": 6000,\n",
    "        \"height\": 4000,\n",
    "        \"params\": [\n",
    "            9.26789262766209504e03,\n",
    "            9.26789262766209504e03,\n",
    "            3.05349107994520591e03,\n",
    "            1.94835654532114540e03,\n",
    "            -8.07042713029020586e-02,\n",
    "            9.46617629940955385e-02,\n",
    "            3.31782983128223608e-04,\n",
    "            -4.32106111976037410e-04,\n",
    "        ],\n",
    "    },\n",
    "    2: {\n",
    "        \"model\": 4,\n",
    "        \"width\": 6000,\n",
    "        \"height\": 4000,\n",
    "        \"params\": [\n",
    "            6.62174345720628298e03,\n",
    "            6.62174345720628298e03,\n",
    "            3.01324420057086490e03,\n",
    "            1.94347461466223308e03,\n",
    "            -9.41830394356213407e-02,\n",
    "            8.55303528514532035e-02,\n",
    "            1.68948638308769863e-04,\n",
    "            -8.74637609310216697e-04,\n",
    "        ],\n",
    "    },\n",
    "}\n",
    "with dim.utils.COLMAPDatabase(database_path) as db:\n",
    "    for id, cam in cameras.items():\n",
    "        db.update_camera(\n",
    "            camera_id=id,\n",
    "            model=cam[\"model\"],\n",
    "            width=cam[\"width\"],\n",
    "            height=cam[\"height\"],\n",
    "            params=cam[\"params\"],\n",
    "        )"
   ]
  },
  {
   "cell_type": "code",
   "execution_count": 70,
   "metadata": {},
   "outputs": [],
   "source": [
    "# import pycolmap\n",
    "\n",
    "# print(pycolmap.IncrementalPipelineOptions().summary())"
   ]
  },
  {
   "cell_type": "code",
   "execution_count": 64,
   "metadata": {},
   "outputs": [
    {
     "name": "stdout",
     "output_type": "stream",
     "text": [
      "\u001b[0;37m2024-04-09 15:15:21 | [INFO    ] Running 3D reconstruction...\u001b[0m\n"
     ]
    },
    {
     "name": "stderr",
     "output_type": "stream",
     "text": [
      "I20240409 15:15:21.422063 167579 misc.cc:198] \n",
      "==============================================================================\n",
      "Loading database\n",
      "==============================================================================\n",
      "I20240409 15:15:21.422781 167579 database_cache.cc:54] Loading cameras...\n",
      "I20240409 15:15:21.422809 167579 database_cache.cc:64]  2 in 0.000s\n",
      "I20240409 15:15:21.422822 167579 database_cache.cc:72] Loading matches...\n",
      "I20240409 15:15:21.422835 167579 database_cache.cc:78]  1 in 0.000s\n",
      "I20240409 15:15:21.422838 167579 database_cache.cc:94] Loading images...\n",
      "I20240409 15:15:21.423250 167579 database_cache.cc:143]  2 in 0.000s (connected 2)\n",
      "I20240409 15:15:21.423261 167579 database_cache.cc:154] Building correspondence graph...\n",
      "I20240409 15:15:21.423429 167579 database_cache.cc:190]  in 0.000s (ignored 0)\n",
      "I20240409 15:15:21.423439 167579 timer.cc:91] Elapsed time: 0.000 [minutes]\n",
      "I20240409 15:15:21.423715 167579 misc.cc:198] \n",
      "==============================================================================\n",
      "Finding good initial image pair\n",
      "==============================================================================\n",
      "I20240409 15:15:21.490808 167579 misc.cc:198] \n",
      "==============================================================================\n",
      "Initializing with image pair #1 and #2\n",
      "==============================================================================\n",
      "I20240409 15:15:21.491742 167579 misc.cc:198] \n",
      "==============================================================================\n",
      "Global bundle adjustment\n",
      "==============================================================================\n",
      "I20240409 15:15:21.502663 167579 misc.cc:205] \n",
      "Bundle adjustment report\n",
      "------------------------\n",
      "I20240409 15:15:21.502694 167579 bundle_adjustment.cc:942] \n",
      "    Residuals : 1424\n",
      "   Parameters : 1073\n",
      "   Iterations : 11\n",
      "         Time : 0.0105071 [s]\n",
      " Initial cost : 1.28933 [px]\n",
      "   Final cost : 1.26975 [px]\n",
      "  Termination : Convergence\n",
      "\n",
      "I20240409 15:15:21.502931 167579 incremental_mapper.cc:160] => Filtered observations: 28\n",
      "I20240409 15:15:21.502938 167579 incremental_mapper.cc:167] => Filtered images: 0\n"
     ]
    },
    {
     "name": "stdout",
     "output_type": "stream",
     "text": [
      "\u001b[0;37m2024-04-09 15:15:21 | [INFO    ] Reconstructed 1 model(s).\u001b[0m\n",
      "\u001b[0;37m2024-04-09 15:15:21 | [INFO    ] Largest model is #0 with 2 images.\u001b[0m\n",
      "\u001b[0;37m2024-04-09 15:15:21 | [INFO    ] Exporting model...\u001b[0m\n"
     ]
    },
    {
     "name": "stderr",
     "output_type": "stream",
     "text": [
      "I20240409 15:15:21.692776 167579 timer.cc:91] Elapsed time: 0.005 [minutes]\n"
     ]
    }
   ],
   "source": [
    "# Run reconstruction\n",
    "opt = dict(\n",
    "    triangulation=dict(\n",
    "        ignore_two_view_tracks=False,\n",
    "        min_angle=0.5,\n",
    "    ),\n",
    "    mapper=dict(filter_min_tri_angle=0.5, filter_max_reproj_error=5.0),\n",
    ")\n",
    "refine_intrinsics = False\n",
    "verbose = False\n",
    "\n",
    "model = dim.reconstruction.pycolmap_reconstruction(\n",
    "    database_path=output_dir / \"database.db\",\n",
    "    sfm_dir=output_dir,\n",
    "    image_dir=imgs_dir,\n",
    "    refine_intrinsics=refine_intrinsics,\n",
    "    options=opt,\n",
    "    verbose=verbose,\n",
    ")"
   ]
  }
 ],
 "metadata": {
  "kernelspec": {
   "display_name": "deep-image-matching",
   "language": "python",
   "name": "python3"
  },
  "language_info": {
   "codemirror_mode": {
    "name": "ipython",
    "version": 3
   },
   "file_extension": ".py",
   "mimetype": "text/x-python",
   "name": "python",
   "nbconvert_exporter": "python",
   "pygments_lexer": "ipython3",
   "version": "3.10.13"
  }
 },
 "nbformat": 4,
 "nbformat_minor": 2
}
