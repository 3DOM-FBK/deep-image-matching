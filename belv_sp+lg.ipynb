{
 "cells": [
  {
   "cell_type": "code",
   "execution_count": 1,
   "metadata": {},
   "outputs": [
    {
     "name": "stdout",
     "output_type": "stream",
     "text": [
      "Deep Image Matching loaded in 3.036 seconds.\n",
      "\u001b[1;33m2024-04-11 10:28:07 | [WARNING ] datasets/belv_20230725/results_superpoint+lightglue_bruteforce_quality_highest already exists, but the '--force' option is used. Deleting the folder.\u001b[0m\n",
      "Using a custom configuration file: /home/francesco/phd/deep-image-matching/datasets/belv_20230725/superpoint+lightglue.yaml\n",
      "Config general:\n",
      "{'camera_options': './datasets/belv_20230725/cameras.yaml',\n",
      " 'db_path': None,\n",
      " 'geom_verification': <GeometricVerification.PYDEGENSAC: 1>,\n",
      " 'graph': True,\n",
      " 'gv_confidence': 0.99999,\n",
      " 'gv_threshold': 6,\n",
      " 'image_dir': PosixPath('datasets/belv_20230725/images'),\n",
      " 'matching_strategy': 'bruteforce',\n",
      " 'min_inlier_ratio_per_pair': 0.2,\n",
      " 'min_inliers_per_pair': 2,\n",
      " 'min_matches_per_tile': 10,\n",
      " 'openmvg_conf': None,\n",
      " 'output_dir': PosixPath('datasets/belv_20230725/results_superpoint+lightglue_bruteforce_quality_highest'),\n",
      " 'overlap': None,\n",
      " 'pair_file': PosixPath('datasets/belv_20230725/results_superpoint+lightglue_bruteforce_quality_highest/pairs.txt'),\n",
      " 'preselection_pipeline': 'roma',\n",
      " 'quality': <Quality.HIGHEST: 4>,\n",
      " 'refine_intrinsics': False,\n",
      " 'retrieval': None,\n",
      " 'skip_reconstruction': False,\n",
      " 'tile_overlap': 200,\n",
      " 'tile_preselection_size': 1000,\n",
      " 'tile_selection': <TileSelection.PRESELECTION: 3>,\n",
      " 'tile_size': (3000, 2000),\n",
      " 'try_match_full_images': False,\n",
      " 'upright': False,\n",
      " 'verbose': True}\n",
      "\n",
      "\n",
      "Config extractor:\n",
      "{'fix_sampling': True,\n",
      " 'keypoint_threshold': 0.0005,\n",
      " 'max_keypoints': 4000,\n",
      " 'name': 'superpoint',\n",
      " 'nms_radius': 3,\n",
      " 'remove_borders': 4}\n",
      "\n",
      "\n",
      "Config matcher:\n",
      "{'depth_confidence': -1,\n",
      " 'filter_threshold': 0.6,\n",
      " 'flash': True,\n",
      " 'mp': False,\n",
      " 'n_layers': 9,\n",
      " 'name': 'lightglue',\n",
      " 'width_confidence': -1}\n",
      "\n",
      "\n"
     ]
    }
   ],
   "source": [
    "import deep_image_matching as dim\n",
    "import yaml\n",
    "\n",
    "logger = dim.setup_logger(\"dim\")\n",
    "\n",
    "params = {\n",
    "    \"dir\": \"./datasets/belv_20230725\",\n",
    "    \"pipeline\": \"superpoint+lightglue\",\n",
    "    \"config_file\": \"./datasets/belv_20230725/superpoint+lightglue.yaml\",\n",
    "    \"strategy\": \"bruteforce\",\n",
    "    \"quality\": \"highest\",\n",
    "    \"tiling\": \"preselection\",\n",
    "    \"skip_reconstruction\": False,\n",
    "    \"force\": True,\n",
    "    \"camera_options\": \"./datasets/belv_20230725/cameras.yaml\",\n",
    "    \"openmvg\": None,\n",
    "    \"verbose\": True,\n",
    "}\n",
    "\n",
    "# Build configuration\n",
    "config = dim.Config(params)\n",
    "config.save()"
   ]
  },
  {
   "cell_type": "code",
   "execution_count": 2,
   "metadata": {},
   "outputs": [
    {
     "name": "stdout",
     "output_type": "stream",
     "text": [
      "\u001b[1;30m2024-04-11 10:28:09 | [DEBUG   ] Matching options: Quality: HIGHEST - Tiling: PRESELECTION\u001b[0m\n",
      "\u001b[1;30m2024-04-11 10:28:09 | [DEBUG   ] Saving directory: datasets/belv_20230725/results_superpoint+lightglue_bruteforce_quality_highest\u001b[0m\n",
      "\u001b[1;30m2024-04-11 10:28:09 | [DEBUG   ] Running inference on device cuda\u001b[0m\n",
      "Loaded SuperPoint model\n",
      "\u001b[1;30m2024-04-11 10:28:10 | [DEBUG   ] Matching options: Tiling: PRESELECTION\u001b[0m\n",
      "\u001b[1;30m2024-04-11 10:28:10 | [DEBUG   ] Saving directory: datasets/belv_20230725/results_superpoint+lightglue_bruteforce_quality_highest\u001b[0m\n",
      "\u001b[1;30m2024-04-11 10:28:10 | [DEBUG   ] Running inference on device cuda\u001b[0m\n",
      "Loaded SuperPoint model\n",
      "\u001b[0;37m2024-04-11 10:28:10 | [INFO    ] Running image matching with the following configuration:\u001b[0m\n",
      "\u001b[0;37m2024-04-11 10:28:10 | [INFO    ]   Image folder: datasets/belv_20230725/images\u001b[0m\n",
      "\u001b[0;37m2024-04-11 10:28:10 | [INFO    ]   Output folder: datasets/belv_20230725/results_superpoint+lightglue_bruteforce_quality_highest\u001b[0m\n",
      "\u001b[0;37m2024-04-11 10:28:10 | [INFO    ]   Number of images: 2\u001b[0m\n",
      "\u001b[0;37m2024-04-11 10:28:10 | [INFO    ]   Matching strategy: bruteforce\u001b[0m\n",
      "\u001b[0;37m2024-04-11 10:28:10 | [INFO    ]   Image quality: HIGHEST\u001b[0m\n",
      "\u001b[0;37m2024-04-11 10:28:10 | [INFO    ]   Tile selection: PRESELECTION\u001b[0m\n",
      "\u001b[0;37m2024-04-11 10:28:10 | [INFO    ]   Feature extraction method: superpoint\u001b[0m\n",
      "\u001b[0;37m2024-04-11 10:28:10 | [INFO    ]   Matching method: lightglue\u001b[0m\n",
      "\u001b[0;37m2024-04-11 10:28:10 | [INFO    ]   Geometric verification: PYDEGENSAC\u001b[0m\n",
      "\u001b[0;37m2024-04-11 10:28:10 | [INFO    ]   CUDA available: True\u001b[0m\n",
      "\u001b[1;30m2024-04-11 10:28:49 | [DEBUG   ] Bruteforce matching, generating pairs ..\u001b[0m\n",
      "\u001b[0;37m2024-04-11 10:28:49 | [INFO    ] Number of pairs: 1\u001b[0m\n",
      "\u001b[0;37m2024-04-11 10:28:49 | [INFO    ] Found 1 pairs.\u001b[0m\n",
      "\u001b[0;37m2024-04-11 10:28:49 | [INFO    ] Extracting features with superpoint...\u001b[0m\n",
      "\u001b[0;37m2024-04-11 10:28:49 | [INFO    ] superpoint configuration: \u001b[0m\n",
      "{'fix_sampling': True,\n",
      " 'keypoint_threshold': 0.0005,\n",
      " 'max_keypoints': 4000,\n",
      " 'name': 'superpoint',\n",
      " 'nms_radius': 3,\n",
      " 'remove_borders': 4}\n"
     ]
    },
    {
     "name": "stderr",
     "output_type": "stream",
     "text": [
      "  0%|          | 0/2 [00:00<?, ?it/s]"
     ]
    },
    {
     "name": "stdout",
     "output_type": "stream",
     "text": [
      "\u001b[1;30m2024-04-11 10:28:49 | [DEBUG   ]   - Extracting features from tile: 0\u001b[0m\n",
      "\u001b[1;30m2024-04-11 10:28:52 | [DEBUG   ]   - Extracting features from tile: 1\u001b[0m\n",
      "\u001b[1;30m2024-04-11 10:28:52 | [DEBUG   ]   - Extracting features from tile: 2\u001b[0m\n",
      "\u001b[1;30m2024-04-11 10:28:52 | [DEBUG   ]   - Extracting features from tile: 3\u001b[0m\n",
      "\u001b[1;30m2024-04-11 10:28:52 | [DEBUG   ]   - Extracting features from tile: 4\u001b[0m\n",
      "\u001b[1;30m2024-04-11 10:28:53 | [DEBUG   ]   - Extracting features from tile: 5\u001b[0m\n",
      "\u001b[1;30m2024-04-11 10:28:53 | [DEBUG   ]   - Extracting features from tile: 6\u001b[0m\n",
      "\u001b[1;30m2024-04-11 10:28:53 | [DEBUG   ]   - Extracting features from tile: 7\u001b[0m\n",
      "\u001b[1;30m2024-04-11 10:28:54 | [DEBUG   ]   - Extracting features from tile: 8\u001b[0m\n",
      "\u001b[1;30m2024-04-11 10:28:54 | [DEBUG   ]   - Extracting features from tile: 9\u001b[0m\n",
      "\u001b[1;30m2024-04-11 10:28:54 | [DEBUG   ]   - Extracting features from tile: 10\u001b[0m\n",
      "\u001b[1;30m2024-04-11 10:28:55 | [DEBUG   ]   - Extracting features from tile: 11\u001b[0m\n",
      "\u001b[1;30m2024-04-11 10:28:55 | [DEBUG   ]   - Extracting features from tile: 12\u001b[0m\n",
      "\u001b[1;30m2024-04-11 10:28:55 | [DEBUG   ]   - Extracting features from tile: 13\u001b[0m\n",
      "\u001b[1;30m2024-04-11 10:28:55 | [DEBUG   ]   - Extracting features from tile: 14\u001b[0m\n",
      "\u001b[1;30m2024-04-11 10:28:56 | [DEBUG   ]   - Extracting features from tile: 15\u001b[0m\n",
      "\u001b[1;30m2024-04-11 10:28:56 | [DEBUG   ] Extracted 58034 keypoints\u001b[0m\n"
     ]
    },
    {
     "name": "stderr",
     "output_type": "stream",
     "text": [
      " 50%|█████     | 1/2 [00:08<00:08,  8.67s/it]"
     ]
    },
    {
     "name": "stdout",
     "output_type": "stream",
     "text": [
      "\u001b[1;30m2024-04-11 10:28:58 | [DEBUG   ]   - Extracting features from tile: 0\u001b[0m\n",
      "\u001b[1;30m2024-04-11 10:28:58 | [DEBUG   ]   - Extracting features from tile: 1\u001b[0m\n",
      "\u001b[1;30m2024-04-11 10:28:59 | [DEBUG   ]   - Extracting features from tile: 2\u001b[0m\n",
      "\u001b[1;30m2024-04-11 10:28:59 | [DEBUG   ]   - Extracting features from tile: 3\u001b[0m\n",
      "\u001b[1;30m2024-04-11 10:28:59 | [DEBUG   ]   - Extracting features from tile: 4\u001b[0m\n",
      "\u001b[1;30m2024-04-11 10:29:00 | [DEBUG   ]   - Extracting features from tile: 5\u001b[0m\n",
      "\u001b[1;30m2024-04-11 10:29:00 | [DEBUG   ]   - Extracting features from tile: 6\u001b[0m\n",
      "\u001b[1;30m2024-04-11 10:29:00 | [DEBUG   ]   - Extracting features from tile: 7\u001b[0m\n",
      "\u001b[1;30m2024-04-11 10:29:00 | [DEBUG   ]   - Extracting features from tile: 8\u001b[0m\n",
      "\u001b[1;30m2024-04-11 10:29:01 | [DEBUG   ]   - Extracting features from tile: 9\u001b[0m\n",
      "\u001b[1;30m2024-04-11 10:29:01 | [DEBUG   ]   - Extracting features from tile: 10\u001b[0m\n",
      "\u001b[1;30m2024-04-11 10:29:01 | [DEBUG   ]   - Extracting features from tile: 11\u001b[0m\n",
      "\u001b[1;30m2024-04-11 10:29:02 | [DEBUG   ]   - Extracting features from tile: 12\u001b[0m\n",
      "\u001b[1;30m2024-04-11 10:29:02 | [DEBUG   ]   - Extracting features from tile: 13\u001b[0m\n",
      "\u001b[1;30m2024-04-11 10:29:02 | [DEBUG   ]   - Extracting features from tile: 14\u001b[0m\n",
      "\u001b[1;30m2024-04-11 10:29:03 | [DEBUG   ]   - Extracting features from tile: 15\u001b[0m\n",
      "\u001b[1;30m2024-04-11 10:29:03 | [DEBUG   ] Extracted 58003 keypoints\u001b[0m\n"
     ]
    },
    {
     "name": "stderr",
     "output_type": "stream",
     "text": [
      "100%|██████████| 2/2 [00:15<00:00,  7.73s/it]"
     ]
    },
    {
     "name": "stdout",
     "output_type": "stream",
     "text": [
      "\u001b[0;37m2024-04-11 10:29:04 | [INFO    ] Features extracted!\u001b[0m\n",
      "\u001b[0;37m2024-04-11 10:29:04 | [INFO    ] Matching features with lightglue...\u001b[0m\n",
      "\u001b[0;37m2024-04-11 10:29:04 | [INFO    ] lightglue configuration: \u001b[0m\n",
      "{'depth_confidence': -1,\n",
      " 'filter_threshold': 0.6,\n",
      " 'flash': True,\n",
      " 'mp': False,\n",
      " 'n_layers': 9,\n",
      " 'name': 'lightglue',\n",
      " 'width_confidence': -1}\n",
      "\u001b[0;37m2024-04-11 10:29:04 | [INFO    ] Matching features...\u001b[0m\n",
      "\u001b[0;37m2024-04-11 10:29:04 | [INFO    ] \u001b[0m\n"
     ]
    },
    {
     "name": "stderr",
     "output_type": "stream",
     "text": [
      "\n",
      "  0%|          | 0/1 [00:00<?, ?it/s]"
     ]
    },
    {
     "name": "stdout",
     "output_type": "stream",
     "text": [
      "\u001b[1;30m2024-04-11 10:29:04 | [DEBUG   ] Matching image pair: p1_20230725_115953_IMG_1147.JPG - p2_20230725_120026_IMG_0885.JPG\u001b[0m\n",
      "\u001b[1;30m2024-04-11 10:29:05 | [DEBUG   ] Matching by tile with PRESELECTION selection...\u001b[0m\n",
      "\u001b[1;30m2024-04-11 10:29:15 | [DEBUG   ] Matching tiles by downsampling preselection\u001b[0m\n"
     ]
    },
    {
     "name": "stderr",
     "output_type": "stream",
     "text": [
      "/home/francesco/miniforge3/envs/deep-image-matching/lib/python3.10/site-packages/torchvision/models/_utils.py:208: UserWarning: The parameter 'pretrained' is deprecated since 0.13 and may be removed in the future, please use 'weights' instead.\n",
      "  warnings.warn(\n",
      "/home/francesco/miniforge3/envs/deep-image-matching/lib/python3.10/site-packages/torchvision/models/_utils.py:223: UserWarning: Arguments other than a weight enum or `None` for 'weights' are deprecated since 0.13 and may be removed in the future. The current behavior is equivalent to passing `weights=None`.\n",
      "  warnings.warn(msg)\n"
     ]
    },
    {
     "name": "stdout",
     "output_type": "stream",
     "text": [
      "Using coarse resolution (280, 280), and upsample res (420, 420)\n"
     ]
    },
    {
     "name": "stderr",
     "output_type": "stream",
     "text": [
      "/home/francesco/miniforge3/envs/deep-image-matching/lib/python3.10/site-packages/torch/functional.py:507: UserWarning: torch.meshgrid: in an upcoming release, it will be required to pass the indexing argument. (Triggered internally at ../aten/src/ATen/native/TensorShape.cpp:3549.)\n",
      "  return _VF.meshgrid(tensors, **kwargs)  # type: ignore[attr-defined]\n"
     ]
    },
    {
     "name": "stdout",
     "output_type": "stream",
     "text": [
      "\u001b[1;30m2024-04-11 10:29:23 | [DEBUG   ] [Timer] | [Tile selection] preselection=9.026, Tile selection=0.000, Total execution=9.026\u001b[0m\n",
      "\u001b[1;30m2024-04-11 10:29:23 | [DEBUG   ]  - Matching tile pair (2, 4)\u001b[0m\n",
      "\u001b[1;30m2024-04-11 10:29:23 | [DEBUG   ]      Found 0 matches\u001b[0m\n",
      "\u001b[1;30m2024-04-11 10:29:23 | [DEBUG   ]  - Matching tile pair (3, 4)\u001b[0m\n",
      "\u001b[1;30m2024-04-11 10:29:23 | [DEBUG   ]      Found 571 matches\u001b[0m\n",
      "\u001b[1;30m2024-04-11 10:29:23 | [DEBUG   ]  - Matching tile pair (3, 5)\u001b[0m\n",
      "\u001b[1;30m2024-04-11 10:29:23 | [DEBUG   ]      Found 218 matches\u001b[0m\n",
      "\u001b[1;30m2024-04-11 10:29:23 | [DEBUG   ]  - Matching tile pair (5, 5)\u001b[0m\n",
      "\u001b[1;30m2024-04-11 10:29:24 | [DEBUG   ]      Found 0 matches\u001b[0m\n",
      "\u001b[1;30m2024-04-11 10:29:24 | [DEBUG   ]  - Matching tile pair (5, 8)\u001b[0m\n",
      "\u001b[1;30m2024-04-11 10:29:24 | [DEBUG   ]      Found 0 matches\u001b[0m\n",
      "\u001b[1;30m2024-04-11 10:29:24 | [DEBUG   ]  - Matching tile pair (6, 4)\u001b[0m\n",
      "\u001b[1;30m2024-04-11 10:29:24 | [DEBUG   ]      Found 0 matches\u001b[0m\n",
      "\u001b[1;30m2024-04-11 10:29:24 | [DEBUG   ]  - Matching tile pair (6, 5)\u001b[0m\n",
      "\u001b[1;30m2024-04-11 10:29:24 | [DEBUG   ]      Found 0 matches\u001b[0m\n",
      "\u001b[1;30m2024-04-11 10:29:24 | [DEBUG   ]  - Matching tile pair (6, 9)\u001b[0m\n",
      "\u001b[1;30m2024-04-11 10:29:24 | [DEBUG   ]      Found 0 matches\u001b[0m\n",
      "\u001b[1;30m2024-04-11 10:29:24 | [DEBUG   ]  - Matching tile pair (7, 4)\u001b[0m\n",
      "\u001b[1;30m2024-04-11 10:29:24 | [DEBUG   ]      Found 0 matches\u001b[0m\n",
      "\u001b[1;30m2024-04-11 10:29:24 | [DEBUG   ]  - Matching tile pair (7, 5)\u001b[0m\n",
      "\u001b[1;30m2024-04-11 10:29:24 | [DEBUG   ]      Found 0 matches\u001b[0m\n",
      "\u001b[1;30m2024-04-11 10:29:24 | [DEBUG   ]  - Matching tile pair (7, 6)\u001b[0m\n",
      "\u001b[1;30m2024-04-11 10:29:24 | [DEBUG   ]      Found 0 matches\u001b[0m\n",
      "\u001b[1;30m2024-04-11 10:29:24 | [DEBUG   ]  - Matching tile pair (7, 7)\u001b[0m\n",
      "\u001b[1;30m2024-04-11 10:29:24 | [DEBUG   ]      Found 0 matches\u001b[0m\n",
      "\u001b[1;30m2024-04-11 10:29:24 | [DEBUG   ]  - Matching tile pair (8, 8)\u001b[0m\n",
      "\u001b[1;30m2024-04-11 10:29:25 | [DEBUG   ]      Found 122 matches\u001b[0m\n",
      "\u001b[1;30m2024-04-11 10:29:25 | [DEBUG   ]  - Matching tile pair (8, 9)\u001b[0m\n",
      "\u001b[1;30m2024-04-11 10:29:25 | [DEBUG   ]      Found 5 matches\u001b[0m\n",
      "\u001b[1;30m2024-04-11 10:29:25 | [DEBUG   ]  - Matching tile pair (9, 8)\u001b[0m\n",
      "\u001b[1;30m2024-04-11 10:29:25 | [DEBUG   ]      Found 0 matches\u001b[0m\n",
      "\u001b[1;30m2024-04-11 10:29:25 | [DEBUG   ]  - Matching tile pair (9, 9)\u001b[0m\n",
      "\u001b[1;30m2024-04-11 10:29:25 | [DEBUG   ]      Found 423 matches\u001b[0m\n",
      "\u001b[1;30m2024-04-11 10:29:25 | [DEBUG   ]  - Matching tile pair (9, 10)\u001b[0m\n",
      "\u001b[1;30m2024-04-11 10:29:25 | [DEBUG   ]      Found 0 matches\u001b[0m\n",
      "\u001b[1;30m2024-04-11 10:29:25 | [DEBUG   ]  - Matching tile pair (10, 5)\u001b[0m\n",
      "\u001b[1;30m2024-04-11 10:29:25 | [DEBUG   ]      Found 0 matches\u001b[0m\n",
      "\u001b[1;30m2024-04-11 10:29:25 | [DEBUG   ]  - Matching tile pair (10, 6)\u001b[0m\n",
      "\u001b[1;30m2024-04-11 10:29:25 | [DEBUG   ]      Found 0 matches\u001b[0m\n",
      "\u001b[1;30m2024-04-11 10:29:25 | [DEBUG   ]  - Matching tile pair (10, 9)\u001b[0m\n",
      "\u001b[1;30m2024-04-11 10:29:25 | [DEBUG   ]      Found 0 matches\u001b[0m\n",
      "\u001b[1;30m2024-04-11 10:29:25 | [DEBUG   ]  - Matching tile pair (10, 10)\u001b[0m\n",
      "\u001b[1;30m2024-04-11 10:29:25 | [DEBUG   ]      Found 577 matches\u001b[0m\n",
      "\u001b[1;30m2024-04-11 10:29:25 | [DEBUG   ]  - Matching tile pair (10, 11)\u001b[0m\n",
      "\u001b[1;30m2024-04-11 10:29:26 | [DEBUG   ]      Found 0 matches\u001b[0m\n",
      "\u001b[1;30m2024-04-11 10:29:26 | [DEBUG   ]  - Matching tile pair (11, 7)\u001b[0m\n",
      "\u001b[1;30m2024-04-11 10:29:26 | [DEBUG   ]      Found 0 matches\u001b[0m\n",
      "\u001b[1;30m2024-04-11 10:29:26 | [DEBUG   ]  - Matching tile pair (11, 11)\u001b[0m\n",
      "\u001b[1;30m2024-04-11 10:29:26 | [DEBUG   ]      Found 0 matches\u001b[0m\n",
      "\u001b[1;30m2024-04-11 10:29:26 | [DEBUG   ]  - Matching tile pair (12, 8)\u001b[0m\n",
      "\u001b[1;30m2024-04-11 10:29:26 | [DEBUG   ]      Found 0 matches\u001b[0m\n",
      "\u001b[1;30m2024-04-11 10:29:26 | [DEBUG   ]  - Matching tile pair (12, 9)\u001b[0m\n",
      "\u001b[1;30m2024-04-11 10:29:26 | [DEBUG   ]      Found 0 matches\u001b[0m\n",
      "\u001b[1;30m2024-04-11 10:29:26 | [DEBUG   ]  - Matching tile pair (12, 12)\u001b[0m\n",
      "\u001b[1;30m2024-04-11 10:29:26 | [DEBUG   ]      Found 0 matches\u001b[0m\n",
      "\u001b[1;30m2024-04-11 10:29:26 | [DEBUG   ]  - Matching tile pair (12, 13)\u001b[0m\n",
      "\u001b[1;30m2024-04-11 10:29:26 | [DEBUG   ]      Found 0 matches\u001b[0m\n",
      "\u001b[1;30m2024-04-11 10:29:26 | [DEBUG   ]  - Matching tile pair (12, 14)\u001b[0m\n",
      "\u001b[1;30m2024-04-11 10:29:26 | [DEBUG   ]      Found 0 matches\u001b[0m\n",
      "\u001b[1;30m2024-04-11 10:29:26 | [DEBUG   ]  - Matching tile pair (13, 9)\u001b[0m\n",
      "\u001b[1;30m2024-04-11 10:29:26 | [DEBUG   ]      Found 0 matches\u001b[0m\n",
      "\u001b[1;30m2024-04-11 10:29:26 | [DEBUG   ]  - Matching tile pair (13, 10)\u001b[0m\n",
      "\u001b[1;30m2024-04-11 10:29:27 | [DEBUG   ]      Found 0 matches\u001b[0m\n",
      "\u001b[1;30m2024-04-11 10:29:27 | [DEBUG   ]  - Matching tile pair (13, 13)\u001b[0m\n",
      "\u001b[1;30m2024-04-11 10:29:27 | [DEBUG   ]      Found 0 matches\u001b[0m\n",
      "\u001b[1;30m2024-04-11 10:29:27 | [DEBUG   ]  - Matching tile pair (13, 14)\u001b[0m\n",
      "\u001b[1;30m2024-04-11 10:29:27 | [DEBUG   ]      Found 233 matches\u001b[0m\n",
      "\u001b[1;30m2024-04-11 10:29:27 | [DEBUG   ]  - Matching tile pair (13, 15)\u001b[0m\n",
      "\u001b[1;30m2024-04-11 10:29:27 | [DEBUG   ]      Found 0 matches\u001b[0m\n",
      "\u001b[1;30m2024-04-11 10:29:27 | [DEBUG   ]  - Matching tile pair (14, 10)\u001b[0m\n",
      "\u001b[1;30m2024-04-11 10:29:27 | [DEBUG   ]      Found 0 matches\u001b[0m\n",
      "\u001b[1;30m2024-04-11 10:29:27 | [DEBUG   ]  - Matching tile pair (14, 11)\u001b[0m\n",
      "\u001b[1;30m2024-04-11 10:29:27 | [DEBUG   ]      Found 0 matches\u001b[0m\n",
      "\u001b[1;30m2024-04-11 10:29:27 | [DEBUG   ]  - Matching tile pair (14, 14)\u001b[0m\n",
      "\u001b[1;30m2024-04-11 10:29:27 | [DEBUG   ]      Found 0 matches\u001b[0m\n",
      "\u001b[1;30m2024-04-11 10:29:27 | [DEBUG   ]  - Matching tile pair (14, 15)\u001b[0m\n",
      "\u001b[1;30m2024-04-11 10:29:27 | [DEBUG   ]      Found 0 matches\u001b[0m\n",
      "\u001b[1;30m2024-04-11 10:29:27 | [DEBUG   ]  - Matching tile pair (15, 11)\u001b[0m\n",
      "\u001b[1;30m2024-04-11 10:29:27 | [DEBUG   ]      Found 0 matches\u001b[0m\n",
      "\u001b[1;30m2024-04-11 10:29:27 | [DEBUG   ] Matching by tile completed.\u001b[0m\n",
      "\u001b[1;30m2024-04-11 10:29:27 | [DEBUG   ] [Timer] | [MatcherBase match_by_tile] tile selection=18.329, match tile=4.369, Total execution=22.699\u001b[0m\n",
      "\u001b[1;30m2024-04-11 10:29:27 | [DEBUG   ] [Timer] | [MatcherBase match] load h5 features=0.380, save to h5=22.707, Total execution=23.087\u001b[0m\n",
      "\u001b[1;30m2024-04-11 10:29:27 | [DEBUG   ] PYDEGENSAC found 2043 inliers (95.07%)\u001b[0m\n",
      "\u001b[1;30m2024-04-11 10:29:27 | [DEBUG   ] Estiamted Fundamental matrix: \n",
      "[[-2.57667465e-05  2.27804884e-05 -2.22411152e-01]\n",
      " [-1.22264904e-04  7.35502794e-06 -6.75984568e-01]\n",
      " [ 5.27104086e-01  1.00000000e+00 -9.70976338e+02]]\u001b[0m\n",
      "\u001b[1;30m2024-04-11 10:29:27 | [DEBUG   ] [Timer] | [MatcherBase match] Geom. verification=0.011, save to h5=0.001, Total execution=0.012\u001b[0m\n",
      "\u001b[1;30m2024-04-11 10:29:27 | [DEBUG   ] Matching p1_20230725_115953_IMG_1147.JPG-p2_20230725_120026_IMG_0885.JPG done!\u001b[0m\n"
     ]
    },
    {
     "name": "stderr",
     "output_type": "stream",
     "text": [
      "100%|██████████| 1/1 [00:24<00:00, 24.05s/it]"
     ]
    },
    {
     "name": "stdout",
     "output_type": "stream",
     "text": [
      "\u001b[0;37m2024-04-11 10:29:28 | [INFO    ] [Timer] | [matching] generate_pairs=41.395, extract_features=15.481, Match pair=24.053, Total execution=80.979\u001b[0m\n",
      "\u001b[0;37m2024-04-11 10:29:28 | [INFO    ] [Timer] | [Deep Image Matching] Total execution=0.000\u001b[0m\n"
     ]
    },
    {
     "name": "stderr",
     "output_type": "stream",
     "text": [
      "\n",
      "100%|██████████| 2/2 [00:00<00:00, 403.45it/s]\n",
      "1it [00:00, 1136.98it/s]\n",
      "1it [00:00, 1162.18it/s]\n"
     ]
    }
   ],
   "source": [
    "# Initialize ImageMatcher class\n",
    "matcher = dim.ImageMatcher(config)\n",
    "\n",
    "# Run image matching\n",
    "feature_path, match_path = matcher.run()\n",
    "\n",
    "# Read camera options\n",
    "with open(config.general[\"camera_options\"], \"r\") as file:\n",
    "    camera_options = yaml.safe_load(file)\n",
    "\n",
    "# Export in colmap format\n",
    "database_path = config.general[\"output_dir\"] / \"database.db\"\n",
    "dim.io.export_to_colmap(\n",
    "    img_dir=config.general[\"image_dir\"],\n",
    "    feature_path=feature_path,\n",
    "    match_path=match_path,\n",
    "    database_path=database_path,\n",
    "    camera_options=camera_options,\n",
    ")"
   ]
  },
  {
   "cell_type": "code",
   "execution_count": 8,
   "metadata": {},
   "outputs": [],
   "source": [
    "# Set camera options\n",
    "\n",
    "import numpy as np\n",
    "\n",
    "cameras = {\n",
    "    1: {\n",
    "        \"model\": 4,  # 4 is OPENCV model\n",
    "        \"width\": 6000,\n",
    "        \"height\": 4000,\n",
    "        \"params\": [\n",
    "            9.26789262766209504e03,\n",
    "            9.26789262766209504e03,\n",
    "            3.05349107994520591e03,\n",
    "            1.94835654532114540e03,\n",
    "            -8.07042713029020586e-02,\n",
    "            9.46617629940955385e-02,\n",
    "            3.31782983128223608e-04,\n",
    "            -4.32106111976037410e-04,\n",
    "        ],\n",
    "    },\n",
    "    2: {\n",
    "        \"model\": 4,\n",
    "        \"width\": 6000,\n",
    "        \"height\": 4000,\n",
    "        \"params\": [\n",
    "            6.62174345720628298e03,\n",
    "            6.62174345720628298e03,\n",
    "            3.01324420057086490e03,\n",
    "            1.94347461466223308e03,\n",
    "            -9.41830394356213407e-02,\n",
    "            8.55303528514532035e-02,\n",
    "            1.68948638308769863e-04,\n",
    "            -8.74637609310216697e-04,\n",
    "        ],\n",
    "    },\n",
    "}\n",
    "with dim.utils.COLMAPDatabase(database_path) as db:\n",
    "    for id, cam in cameras.items():\n",
    "        db.update_camera(\n",
    "            camera_id=id,\n",
    "            model=cam[\"model\"],\n",
    "            width=cam[\"width\"],\n",
    "            height=cam[\"height\"],\n",
    "            params=cam[\"params\"],\n",
    "        )"
   ]
  },
  {
   "cell_type": "code",
   "execution_count": 9,
   "metadata": {},
   "outputs": [],
   "source": [
    "# import pycolmap\n",
    "\n",
    "# print(pycolmap.IncrementalPipelineOptions().summary())"
   ]
  },
  {
   "cell_type": "code",
   "execution_count": 10,
   "metadata": {},
   "outputs": [
    {
     "name": "stdout",
     "output_type": "stream",
     "text": [
      "\u001b[0;37m2024-04-10 12:25:19 | [INFO    ] Running 3D reconstruction...\u001b[0m\n"
     ]
    },
    {
     "name": "stderr",
     "output_type": "stream",
     "text": [
      "I20240410 12:25:19.521893 843404 misc.cc:198] \n",
      "==============================================================================\n",
      "Loading database\n",
      "==============================================================================\n",
      "I20240410 12:25:19.529183 843404 database_cache.cc:54] Loading cameras...\n",
      "I20240410 12:25:19.529922 843404 database_cache.cc:64]  2 in 0.001s\n",
      "I20240410 12:25:19.529970 843404 database_cache.cc:72] Loading matches...\n",
      "I20240410 12:25:19.530303 843404 database_cache.cc:78]  1 in 0.000s\n",
      "I20240410 12:25:19.530313 843404 database_cache.cc:94] Loading images...\n",
      "I20240410 12:25:19.534248 843404 database_cache.cc:143]  2 in 0.004s (connected 2)\n",
      "I20240410 12:25:19.534322 843404 database_cache.cc:154] Building correspondence graph...\n",
      "W20240410 12:25:19.534687 843404 correspondence_graph.cc:156] Duplicate correspondence between point2D_idx=56963 in image_id=1 and point2D_idx=20004 in image_id=2\n",
      "I20240410 12:25:19.536156 843404 database_cache.cc:190]  in 0.002s (ignored 0)\n",
      "I20240410 12:25:19.536219 843404 timer.cc:91] Elapsed time: 0.000 [minutes]\n",
      "I20240410 12:25:19.537696 843404 misc.cc:198] \n",
      "==============================================================================\n",
      "Finding good initial image pair\n",
      "==============================================================================\n",
      "I20240410 12:25:19.656800 843404 misc.cc:198] \n",
      "==============================================================================\n",
      "Initializing with image pair #1 and #2\n",
      "==============================================================================\n",
      "I20240410 12:25:19.661058 843404 misc.cc:198] \n",
      "==============================================================================\n",
      "Global bundle adjustment\n",
      "==============================================================================\n",
      "I20240410 12:25:19.710225 843404 misc.cc:205] \n",
      "Bundle adjustment report\n",
      "------------------------\n",
      "I20240410 12:25:19.710276 843404 bundle_adjustment.cc:942] \n",
      "    Residuals : 5956\n",
      "   Parameters : 4472\n",
      "   Iterations : 9\n",
      "         Time : 0.043977 [s]\n",
      " Initial cost : 0.58496 [px]\n",
      "   Final cost : 0.575629 [px]\n",
      "  Termination : Convergence\n",
      "\n",
      "I20240410 12:25:19.711241 843404 incremental_mapper.cc:160] => Filtered observations: 2\n",
      "I20240410 12:25:19.711256 843404 incremental_mapper.cc:167] => Filtered images: 0\n",
      "I20240410 12:25:19.907547 843404 timer.cc:91] Elapsed time: 0.006 [minutes]\n"
     ]
    },
    {
     "name": "stdout",
     "output_type": "stream",
     "text": [
      "\u001b[0;37m2024-04-10 12:25:19 | [INFO    ] Reconstructed 1 model(s).\u001b[0m\n",
      "\u001b[0;37m2024-04-10 12:25:19 | [INFO    ] Largest model is #0 with 2 images.\u001b[0m\n",
      "\u001b[0;37m2024-04-10 12:25:19 | [INFO    ] Exporting model...\u001b[0m\n"
     ]
    }
   ],
   "source": [
    "# Run reconstruction\n",
    "opt = dict(\n",
    "    triangulation=dict(\n",
    "        ignore_two_view_tracks=False,\n",
    "        min_angle=0.5,\n",
    "    ),\n",
    "    mapper=dict(filter_min_tri_angle=0.5, filter_max_reproj_error=5.0),\n",
    ")\n",
    "refine_intrinsics = False\n",
    "verbose = False\n",
    "\n",
    "model = dim.reconstruction.pycolmap_reconstruction(\n",
    "    database_path=config.general[\"output_dir\"] / \"database.db\",\n",
    "    sfm_dir=config.general[\"output_dir\"],\n",
    "    image_dir=config.general[\"image_dir\"],\n",
    "    refine_intrinsics=refine_intrinsics,\n",
    "    options=opt,\n",
    "    verbose=verbose,\n",
    ")"
   ]
  }
 ],
 "metadata": {
  "kernelspec": {
   "display_name": "deep-image-matching",
   "language": "python",
   "name": "python3"
  },
  "language_info": {
   "codemirror_mode": {
    "name": "ipython",
    "version": 3
   },
   "file_extension": ".py",
   "mimetype": "text/x-python",
   "name": "python",
   "nbconvert_exporter": "python",
   "pygments_lexer": "ipython3",
   "version": "3.10.13"
  }
 },
 "nbformat": 4,
 "nbformat_minor": 2
}
