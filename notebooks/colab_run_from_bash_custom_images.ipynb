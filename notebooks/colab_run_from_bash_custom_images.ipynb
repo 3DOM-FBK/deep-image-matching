{
 "cells": [
  {
   "cell_type": "markdown",
   "metadata": {},
   "source": [
    "# Deep-Image-Matching example with custom images\n",
    "\n",
    "Load custom images in `/content/custom_example/images` directory. Note: notebook inspired by LoFTR notebook."
   ]
  },
  {
   "cell_type": "code",
   "execution_count": null,
   "metadata": {},
   "outputs": [],
   "source": [
    "!mkdir -p /content/custom_example/ && rm -rf /content/custom_example/* # clear previously uploaded images\n",
    "!mkdir -p /content/custom_example/images\n",
    "%cd /content/custom_example/images\n",
    "from google.colab import files\n",
    "\n",
    "uploaded = files.upload()\n",
    "\n",
    "for file_name in uploaded.keys():\n",
    "    print(\n",
    "        f'User uploaded file \"{file_name}\" with length {len(uploaded[file_name])} bytes'\n",
    "    )\n",
    "image_pair = [\"/content/custom_example/images\" + f for f in list(uploaded.keys())]\n",
    "%cd /content/"
   ]
  },
  {
   "cell_type": "code",
   "execution_count": null,
   "metadata": {},
   "outputs": [],
   "source": [
    "# Download locally deep-image-matching repository\n",
    "!git clone https://github.com/3DOM-FBK/deep-image-matching.git\n",
    "\n",
    "# Uncomment to run with python 3.9\n",
    "# Install Python 3.9\n",
    "!sudo apt-get update\n",
    "!sudo apt-get install python3.9\n",
    "\n",
    "# Set Python 3.9 as the default\n",
    "!sudo update-alternatives --install /usr/bin/python3 python3 /usr/bin/python3.9 0\n",
    "!sudo update-alternatives --set python3 /usr/bin/python3.9\n",
    "\n",
    "# Check Python version\n",
    "!python --version\n",
    "\n",
    "# Install pip for Python 3.9\n",
    "!sudo apt-get install python3.9-distutils\n",
    "!wget https://bootstrap.pypa.io/get-pip.py\n",
    "!sudo python3 get-pip.py"
   ]
  },
  {
   "cell_type": "code",
   "execution_count": null,
   "metadata": {},
   "outputs": [],
   "source": [
    "# Install all the dependencies\n",
    "%%bash\n",
    "cd ./deep-image-matching\n",
    "pip3 install -e .\n",
    "pip3 install pycolmap==0.6.1"
   ]
  },
  {
   "cell_type": "code",
   "execution_count": null,
   "metadata": {},
   "outputs": [],
   "source": [
    "# Run on custom images\n",
    "%%bash\n",
    "python3 ./deep-image-matching/main.py \\\n",
    "  --dir /content/custom_example \\\n",
    "  --pipeline superpoint+lightglue \\\n",
    "  --config ./deep-image-matching/config/superpoint+lightglue.yaml\n",
    "  --skip_reconstruction \\\n",
    "  --camera_options ./deep-image-matching/config/cameras.yaml \\\n",
    "  --force"
   ]
  },
  {
   "cell_type": "code",
   "execution_count": null,
   "metadata": {},
   "outputs": [],
   "source": [
    "# Visualize results\n",
    "# Pass to --images argument the names of the images (e.g. \"img01.jpg img02.jpg\") or their ids (e.g. \"1 2\") to visualize verified matches inside COLMAP database (change --type ['names', 'ids'])\n",
    "%%bash\n",
    "python3 ./deep-image-matching/show_matches.py \\\n",
    "  --images \"1 2\" \\\n",
    "  --type ids \\\n",
    "  --database /content/custom_example/results_superpoint+lightglue_matching_lowres_quality_high/database.db \\\n",
    "  --imgsdir /content/custom_example/images \\\n",
    "  --output /content/custom_example/"
   ]
  },
  {
   "cell_type": "code",
   "execution_count": null,
   "metadata": {},
   "outputs": [],
   "source": [
    "# Run to visualize the matches\n",
    "import cv2\n",
    "from google.colab.patches import cv2_imshow\n",
    "\n",
    "image_path1 = \"/content/custom_example/1_2.png\"\n",
    "image1 = cv2.imread(image_path1)\n",
    "cv2_imshow(image1)"
   ]
  }
 ],
 "metadata": {
  "kernelspec": {
   "display_name": "Python 3.8.10 64-bit",
   "language": "python",
   "name": "python3"
  },
  "language_info": {
   "name": "python",
   "version": "3.8.10"
  },
  "orig_nbformat": 4,
  "vscode": {
   "interpreter": {
    "hash": "916dbcbb3f70747c44a77c7bcd40155683ae19c65e1c03b4aa3499c5328201f1"
   }
  }
 },
 "nbformat": 4,
 "nbformat_minor": 2
}
