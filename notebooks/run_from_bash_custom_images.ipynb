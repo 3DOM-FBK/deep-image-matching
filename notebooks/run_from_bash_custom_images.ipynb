{
 "cells": [
  {
   "cell_type": "markdown",
   "metadata": {},
   "source": [
    "# Deep-Image-Matching example with custom images\n",
    "\n",
    "Load custom images in `/content/custom_example/images` directory. Note: notebook inspired by LoFTR notebook."
   ]
  },
  {
   "cell_type": "code",
   "execution_count": null,
   "metadata": {},
   "outputs": [],
   "source": [
    "!mkdir -p /content/custom_example/ && rm -rf /content/custom_example/* # clear previously uploaded images\n",
    "!mkdir -p /content/custom_example/images\n",
    "%cd /content/custom_example/images\n",
    "from google.colab import files\n",
    "uploaded = files.upload()\n",
    "\n",
    "for file_name in uploaded.keys():\n",
    "  print('User uploaded file \"{name}\" with length {length} bytes'.format(\n",
    "      name=file_name, length=len(uploaded[file_name])))\n",
    "image_pair = ['/content/custom_example/images' + f for f in list(uploaded.keys())]\n",
    "%cd /content/"
   ]
  },
  {
   "cell_type": "code",
   "execution_count": null,
   "metadata": {},
   "outputs": [],
   "source": [
    "# Download locally deep-image-matching repository\n",
    "!git clone https://github.com/3DOM-FBK/deep-image-matching.git"
   ]
  },
  {
   "cell_type": "code",
   "execution_count": null,
   "metadata": {},
   "outputs": [],
   "source": [
    "# Install all the dependencies\n",
    "%%bash\n",
    "cd ./deep-image-matching\n",
    "pip3 install -e .\n",
    "pip3 install pycolmap==0.4.0"
   ]
  },
  {
   "cell_type": "code",
   "execution_count": null,
   "metadata": {},
   "outputs": [],
   "source": [
    "%%bash\n",
    "python3 ./deep-image-matching/main.py \\\n",
    "  --dir /content/custom_example \\\n",
    "  --config superpoint+lightglue"
   ]
  }
 ],
 "metadata": {
  "kernelspec": {
   "display_name": "Python 3.8.10 64-bit",
   "language": "python",
   "name": "python3"
  },
  "language_info": {
   "name": "python",
   "version": "3.8.10"
  },
  "orig_nbformat": 4,
  "vscode": {
   "interpreter": {
    "hash": "916dbcbb3f70747c44a77c7bcd40155683ae19c65e1c03b4aa3499c5328201f1"
   }
  }
 },
 "nbformat": 4,
 "nbformat_minor": 2
}
