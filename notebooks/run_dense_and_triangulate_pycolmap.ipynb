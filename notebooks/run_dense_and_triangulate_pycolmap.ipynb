{
 "cells": [
  {
   "cell_type": "code",
   "execution_count": 1,
   "metadata": {},
   "outputs": [
    {
     "name": "stdout",
     "output_type": "stream",
     "text": [
      "\u001b[1;33m2024-04-10 12:59:02 | [WARNING ] datasets/belv_20230725/results_roma_bruteforce_quality_high already exists, but the '--force' option is used. Deleting the folder.\u001b[0m\n",
      "Using a custom configuration file: /home/francesco/phd/deep-image-matching/datasets/belv_20230725/config_roma.yaml\n",
      "Config general:\n",
      "{'camera_options': './datasets/belv_20230725/cameras.yaml',\n",
      " 'db_path': None,\n",
      " 'geom_verification': <GeometricVerification.PYDEGENSAC: 1>,\n",
      " 'graph': True,\n",
      " 'gv_confidence': 0.9999,\n",
      " 'gv_threshold': 5,\n",
      " 'image_dir': PosixPath('datasets/belv_20230725/images'),\n",
      " 'matching_strategy': 'bruteforce',\n",
      " 'min_inlier_ratio_per_pair': 0.2,\n",
      " 'min_inliers_per_pair': 5,\n",
      " 'min_matches_per_tile': 3,\n",
      " 'openmvg_conf': None,\n",
      " 'output_dir': PosixPath('datasets/belv_20230725/results_roma_bruteforce_quality_high'),\n",
      " 'overlap': None,\n",
      " 'pair_file': PosixPath('datasets/belv_20230725/results_roma_bruteforce_quality_high/pairs.txt'),\n",
      " 'quality': <Quality.HIGH: 3>,\n",
      " 'refine_intrinsics': False,\n",
      " 'retrieval': None,\n",
      " 'skip_reconstruction': True,\n",
      " 'tile_overlap': 0,\n",
      " 'tile_preselection_size': 1000,\n",
      " 'tile_selection': <TileSelection.PRESELECTION: 3>,\n",
      " 'tile_size': (3000, 2000),\n",
      " 'try_match_full_images': False,\n",
      " 'upright': False,\n",
      " 'verbose': True}\n",
      "\n",
      "\n",
      "Config extractor:\n",
      "{'name': 'no_extractor'}\n",
      "\n",
      "\n",
      "Config matcher:\n",
      "{'coarse_res': 560,\n",
      " 'name': 'roma',\n",
      " 'num_sampled_points': 10000,\n",
      " 'pretrained': 'outdoor',\n",
      " 'upsample_res': 760}\n",
      "\n",
      "\n"
     ]
    }
   ],
   "source": [
    "import deep_image_matching as dim\n",
    "import yaml\n",
    "\n",
    "logger = dim.setup_logger(\"dim\")\n",
    "\n",
    "params = {\n",
    "    \"dir\": \"./datasets/belv_20230725\",\n",
    "    \"pipeline\": \"roma\",\n",
    "    \"config_file\": \"./datasets/belv_20230725/config_roma.yaml\",\n",
    "    \"strategy\": \"bruteforce\",\n",
    "    \"quality\": \"high\",\n",
    "    \"tiling\": \"preselection\",\n",
    "    \"skip_reconstruction\": True,\n",
    "    \"force\": True,\n",
    "    \"camera_options\": \"./datasets/belv_20230725/cameras.yaml\",\n",
    "    \"openmvg\": None,\n",
    "    \"verbose\": True,\n",
    "}\n",
    "\n",
    "# Build configuration\n",
    "config = dim.Config(params)\n",
    "imgs_dir = config.general[\"image_dir\"]\n",
    "output_dir = config.general[\"output_dir\"]\n",
    "config.save()"
   ]
  },
  {
   "cell_type": "code",
   "execution_count": 2,
   "metadata": {},
   "outputs": [
    {
     "name": "stdout",
     "output_type": "stream",
     "text": [
      "\u001b[1;30m2024-04-10 12:59:02 | [DEBUG   ] Matching options: Quality: HIGH - Tiling: PRESELECTION\u001b[0m\n",
      "\u001b[1;30m2024-04-10 12:59:02 | [DEBUG   ] Saving directory: datasets/belv_20230725/results_roma_bruteforce_quality_high\u001b[0m\n",
      "\u001b[1;30m2024-04-10 12:59:02 | [DEBUG   ] Running inference on device cuda\u001b[0m\n",
      "\u001b[1;30m2024-04-10 12:59:02 | [DEBUG   ] Matching options: Tiling: PRESELECTION\u001b[0m\n",
      "\u001b[1;30m2024-04-10 12:59:02 | [DEBUG   ] Saving directory: datasets/belv_20230725/results_roma_bruteforce_quality_high\u001b[0m\n",
      "\u001b[1;30m2024-04-10 12:59:02 | [DEBUG   ] Running inference on device cuda\u001b[0m\n",
      "Loaded SuperPoint model\n",
      "\u001b[0;37m2024-04-10 12:59:03 | [INFO    ] Running RoMa by tile..\u001b[0m\n",
      "\u001b[0;37m2024-04-10 12:59:03 | [INFO    ] RoMa uses a fixed tile size of 760 pixels. This can result in a large number of tiles for high-resolution images. If the number of tiles is too high, consider reducing the image resolution via the 'Quality' parameter.\u001b[0m\n"
     ]
    },
    {
     "name": "stderr",
     "output_type": "stream",
     "text": [
      "/home/francesco/miniforge3/envs/deep-image-matching/lib/python3.10/site-packages/torchvision/models/_utils.py:208: UserWarning: The parameter 'pretrained' is deprecated since 0.13 and may be removed in the future, please use 'weights' instead.\n",
      "  warnings.warn(\n",
      "/home/francesco/miniforge3/envs/deep-image-matching/lib/python3.10/site-packages/torchvision/models/_utils.py:223: UserWarning: Arguments other than a weight enum or `None` for 'weights' are deprecated since 0.13 and may be removed in the future. The current behavior is equivalent to passing `weights=None`.\n",
      "  warnings.warn(msg)\n"
     ]
    },
    {
     "name": "stdout",
     "output_type": "stream",
     "text": [
      "Using coarse resolution (560, 560), and upsample res (760, 760)\n",
      "\u001b[0;37m2024-04-10 12:59:08 | [INFO    ] Running image matching with the following configuration:\u001b[0m\n",
      "\u001b[0;37m2024-04-10 12:59:08 | [INFO    ]   Image folder: datasets/belv_20230725/images\u001b[0m\n",
      "\u001b[0;37m2024-04-10 12:59:08 | [INFO    ]   Output folder: datasets/belv_20230725/results_roma_bruteforce_quality_high\u001b[0m\n",
      "\u001b[0;37m2024-04-10 12:59:08 | [INFO    ]   Number of images: 2\u001b[0m\n",
      "\u001b[0;37m2024-04-10 12:59:08 | [INFO    ]   Matching strategy: bruteforce\u001b[0m\n",
      "\u001b[0;37m2024-04-10 12:59:08 | [INFO    ]   Image quality: HIGH\u001b[0m\n",
      "\u001b[0;37m2024-04-10 12:59:08 | [INFO    ]   Tile selection: PRESELECTION\u001b[0m\n",
      "\u001b[0;37m2024-04-10 12:59:08 | [INFO    ]   Feature extraction method: no_extractor\u001b[0m\n",
      "\u001b[0;37m2024-04-10 12:59:08 | [INFO    ]   Matching method: roma\u001b[0m\n",
      "\u001b[0;37m2024-04-10 12:59:08 | [INFO    ]   Geometric verification: PYDEGENSAC\u001b[0m\n",
      "\u001b[0;37m2024-04-10 12:59:08 | [INFO    ]   CUDA available: True\u001b[0m\n",
      "\u001b[1;30m2024-04-10 12:59:08 | [DEBUG   ] Bruteforce matching, generating pairs ..\u001b[0m\n",
      "\u001b[0;37m2024-04-10 12:59:08 | [INFO    ] Number of pairs: 1\u001b[0m\n",
      "\u001b[0;37m2024-04-10 12:59:08 | [INFO    ] Found 1 pairs.\u001b[0m\n",
      "\u001b[0;37m2024-04-10 12:59:08 | [INFO    ] Extracting features with no_extractor...\u001b[0m\n",
      "\u001b[0;37m2024-04-10 12:59:08 | [INFO    ] no_extractor configuration: \u001b[0m\n",
      "{'name': 'no_extractor'}\n"
     ]
    },
    {
     "name": "stderr",
     "output_type": "stream",
     "text": [
      "100%|██████████| 2/2 [00:00<00:00, 492.06it/s]"
     ]
    },
    {
     "name": "stdout",
     "output_type": "stream",
     "text": [
      "\u001b[0;37m2024-04-10 12:59:08 | [INFO    ] Features extracted!\u001b[0m\n",
      "\u001b[0;37m2024-04-10 12:59:08 | [INFO    ] Matching features with roma...\u001b[0m\n",
      "\u001b[0;37m2024-04-10 12:59:08 | [INFO    ] roma configuration: \u001b[0m\n",
      "{'coarse_res': 560,\n",
      " 'name': 'roma',\n",
      " 'num_sampled_points': 10000,\n",
      " 'pretrained': 'outdoor',\n",
      " 'upsample_res': 760}\n",
      "\u001b[0;37m2024-04-10 12:59:08 | [INFO    ] Matching features...\u001b[0m\n",
      "\u001b[0;37m2024-04-10 12:59:08 | [INFO    ] \u001b[0m\n"
     ]
    },
    {
     "name": "stderr",
     "output_type": "stream",
     "text": [
      "\n",
      "  0%|          | 0/1 [00:00<?, ?it/s]"
     ]
    },
    {
     "name": "stdout",
     "output_type": "stream",
     "text": [
      "\u001b[1;30m2024-04-10 12:59:08 | [DEBUG   ] Matching image pair: p1_20230725_115953_IMG_1147.JPG - p2_20230725_120026_IMG_0885.JPG\u001b[0m\n",
      "\u001b[1;30m2024-04-10 12:59:09 | [DEBUG   ] Matching tiles by downsampling preselection\u001b[0m\n"
     ]
    },
    {
     "name": "stderr",
     "output_type": "stream",
     "text": [
      "/home/francesco/miniforge3/envs/deep-image-matching/lib/python3.10/site-packages/torchvision/models/_utils.py:208: UserWarning: The parameter 'pretrained' is deprecated since 0.13 and may be removed in the future, please use 'weights' instead.\n",
      "  warnings.warn(\n",
      "/home/francesco/miniforge3/envs/deep-image-matching/lib/python3.10/site-packages/torchvision/models/_utils.py:223: UserWarning: Arguments other than a weight enum or `None` for 'weights' are deprecated since 0.13 and may be removed in the future. The current behavior is equivalent to passing `weights=None`.\n",
      "  warnings.warn(msg)\n"
     ]
    },
    {
     "name": "stdout",
     "output_type": "stream",
     "text": [
      "Using coarse resolution (280, 280), and upsample res (420, 420)\n"
     ]
    },
    {
     "name": "stderr",
     "output_type": "stream",
     "text": [
      "/home/francesco/miniforge3/envs/deep-image-matching/lib/python3.10/site-packages/torch/functional.py:507: UserWarning: torch.meshgrid: in an upcoming release, it will be required to pass the indexing argument. (Triggered internally at ../aten/src/ATen/native/TensorShape.cpp:3549.)\n",
      "  return _VF.meshgrid(tensors, **kwargs)  # type: ignore[attr-defined]\n"
     ]
    },
    {
     "name": "stdout",
     "output_type": "stream",
     "text": [
      "\u001b[1;30m2024-04-10 12:59:20 | [DEBUG   ] [Timer] | [Tile selection] preselection=9.296, Tile selection=2.208, Total execution=11.504\u001b[0m\n",
      "\u001b[0;37m2024-04-10 12:59:20 | [INFO    ] Matching 83 tile pairs\u001b[0m\n",
      "\u001b[1;30m2024-04-10 12:59:22 | [DEBUG   ] Tiles saved to datasets/belv_20230725/results_roma_bruteforce_quality_high/tiles\u001b[0m\n"
     ]
    },
    {
     "name": "stderr",
     "output_type": "stream",
     "text": []
    },
    {
     "name": "stdout",
     "output_type": "stream",
     "text": [
      "\u001b[1;30m2024-04-10 12:59:22 | [DEBUG   ]   - Matching tile pair (6, 16)\u001b[0m\n",
      "\u001b[1;30m2024-04-10 12:59:23 | [DEBUG   ]      Found 10000 matches\u001b[0m\n"
     ]
    },
    {
     "name": "stderr",
     "output_type": "stream",
     "text": []
    },
    {
     "name": "stdout",
     "output_type": "stream",
     "text": [
      "\u001b[1;30m2024-04-10 12:59:24 | [DEBUG   ]   - Matching tile pair (7, 5)\u001b[0m\n",
      "\u001b[1;30m2024-04-10 12:59:25 | [DEBUG   ]      Found 10000 matches\u001b[0m\n"
     ]
    },
    {
     "name": "stderr",
     "output_type": "stream",
     "text": []
    },
    {
     "name": "stdout",
     "output_type": "stream",
     "text": [
      "\u001b[1;30m2024-04-10 12:59:25 | [DEBUG   ]   - Matching tile pair (7, 16)\u001b[0m\n",
      "\u001b[1;30m2024-04-10 12:59:27 | [DEBUG   ]      Found 10000 matches\u001b[0m\n"
     ]
    },
    {
     "name": "stderr",
     "output_type": "stream",
     "text": []
    },
    {
     "name": "stdout",
     "output_type": "stream",
     "text": [
      "\u001b[1;30m2024-04-10 12:59:27 | [DEBUG   ]   - Matching tile pair (7, 17)\u001b[0m\n",
      "\u001b[1;30m2024-04-10 12:59:28 | [DEBUG   ]      Found 10000 matches\u001b[0m\n"
     ]
    },
    {
     "name": "stderr",
     "output_type": "stream",
     "text": []
    },
    {
     "name": "stdout",
     "output_type": "stream",
     "text": [
      "\u001b[1;30m2024-04-10 12:59:29 | [DEBUG   ]   - Matching tile pair (12, 16)\u001b[0m\n",
      "\u001b[1;30m2024-04-10 12:59:30 | [DEBUG   ]      Found 10000 matches\u001b[0m\n"
     ]
    },
    {
     "name": "stderr",
     "output_type": "stream",
     "text": []
    },
    {
     "name": "stdout",
     "output_type": "stream",
     "text": [
      "\u001b[1;30m2024-04-10 12:59:30 | [DEBUG   ]   - Matching tile pair (13, 16)\u001b[0m\n",
      "\u001b[1;30m2024-04-10 12:59:32 | [DEBUG   ]      Found 10000 matches\u001b[0m\n"
     ]
    },
    {
     "name": "stderr",
     "output_type": "stream",
     "text": []
    },
    {
     "name": "stdout",
     "output_type": "stream",
     "text": [
      "\u001b[1;30m2024-04-10 12:59:32 | [DEBUG   ]   - Matching tile pair (14, 16)\u001b[0m\n",
      "\u001b[1;30m2024-04-10 12:59:33 | [DEBUG   ]      Found 10000 matches\u001b[0m\n"
     ]
    },
    {
     "name": "stderr",
     "output_type": "stream",
     "text": []
    },
    {
     "name": "stdout",
     "output_type": "stream",
     "text": [
      "\u001b[1;30m2024-04-10 12:59:34 | [DEBUG   ]   - Matching tile pair (15, 17)\u001b[0m\n",
      "\u001b[1;30m2024-04-10 12:59:35 | [DEBUG   ]      Found 10000 matches\u001b[0m\n"
     ]
    },
    {
     "name": "stderr",
     "output_type": "stream",
     "text": []
    },
    {
     "name": "stdout",
     "output_type": "stream",
     "text": [
      "\u001b[1;30m2024-04-10 12:59:35 | [DEBUG   ]   - Matching tile pair (15, 18)\u001b[0m\n",
      "\u001b[1;30m2024-04-10 12:59:37 | [DEBUG   ]      Found 10000 matches\u001b[0m\n"
     ]
    },
    {
     "name": "stderr",
     "output_type": "stream",
     "text": []
    },
    {
     "name": "stdout",
     "output_type": "stream",
     "text": [
      "\u001b[1;30m2024-04-10 12:59:37 | [DEBUG   ]   - Matching tile pair (15, 19)\u001b[0m\n",
      "\u001b[1;30m2024-04-10 12:59:38 | [DEBUG   ]      Found 10000 matches\u001b[0m\n"
     ]
    },
    {
     "name": "stderr",
     "output_type": "stream",
     "text": []
    },
    {
     "name": "stdout",
     "output_type": "stream",
     "text": [
      "\u001b[1;30m2024-04-10 12:59:38 | [DEBUG   ]   - Matching tile pair (19, 17)\u001b[0m\n",
      "\u001b[1;30m2024-04-10 12:59:40 | [DEBUG   ]      Found 10000 matches\u001b[0m\n"
     ]
    },
    {
     "name": "stderr",
     "output_type": "stream",
     "text": []
    },
    {
     "name": "stdout",
     "output_type": "stream",
     "text": [
      "\u001b[1;30m2024-04-10 12:59:40 | [DEBUG   ]   - Matching tile pair (19, 18)\u001b[0m\n",
      "\u001b[1;30m2024-04-10 12:59:42 | [DEBUG   ]      Found 10000 matches\u001b[0m\n"
     ]
    },
    {
     "name": "stderr",
     "output_type": "stream",
     "text": []
    },
    {
     "name": "stdout",
     "output_type": "stream",
     "text": [
      "\u001b[1;30m2024-04-10 12:59:42 | [DEBUG   ]   - Matching tile pair (19, 19)\u001b[0m\n",
      "\u001b[1;30m2024-04-10 12:59:43 | [DEBUG   ]      Found 10000 matches\u001b[0m\n"
     ]
    },
    {
     "name": "stderr",
     "output_type": "stream",
     "text": []
    },
    {
     "name": "stdout",
     "output_type": "stream",
     "text": [
      "\u001b[1;30m2024-04-10 12:59:43 | [DEBUG   ]   - Matching tile pair (20, 18)\u001b[0m\n",
      "\u001b[1;30m2024-04-10 12:59:45 | [DEBUG   ]      Found 10000 matches\u001b[0m\n"
     ]
    },
    {
     "name": "stderr",
     "output_type": "stream",
     "text": []
    },
    {
     "name": "stdout",
     "output_type": "stream",
     "text": [
      "\u001b[1;30m2024-04-10 12:59:45 | [DEBUG   ]   - Matching tile pair (20, 19)\u001b[0m\n",
      "\u001b[1;30m2024-04-10 12:59:47 | [DEBUG   ]      Found 10000 matches\u001b[0m\n"
     ]
    },
    {
     "name": "stderr",
     "output_type": "stream",
     "text": []
    },
    {
     "name": "stdout",
     "output_type": "stream",
     "text": [
      "\u001b[1;30m2024-04-10 12:59:47 | [DEBUG   ]   - Matching tile pair (20, 20)\u001b[0m\n",
      "\u001b[1;30m2024-04-10 12:59:48 | [DEBUG   ]      Found 10000 matches\u001b[0m\n"
     ]
    },
    {
     "name": "stderr",
     "output_type": "stream",
     "text": []
    },
    {
     "name": "stdout",
     "output_type": "stream",
     "text": [
      "\u001b[1;30m2024-04-10 12:59:48 | [DEBUG   ]   - Matching tile pair (21, 20)\u001b[0m\n",
      "\u001b[1;30m2024-04-10 12:59:50 | [DEBUG   ]      Found 10000 matches\u001b[0m\n"
     ]
    },
    {
     "name": "stderr",
     "output_type": "stream",
     "text": []
    },
    {
     "name": "stdout",
     "output_type": "stream",
     "text": [
      "\u001b[1;30m2024-04-10 12:59:50 | [DEBUG   ]   - Matching tile pair (22, 21)\u001b[0m\n",
      "\u001b[1;30m2024-04-10 12:59:51 | [DEBUG   ]      Found 10000 matches\u001b[0m\n"
     ]
    },
    {
     "name": "stderr",
     "output_type": "stream",
     "text": []
    },
    {
     "name": "stdout",
     "output_type": "stream",
     "text": [
      "\u001b[1;30m2024-04-10 12:59:52 | [DEBUG   ]   - Matching tile pair (22, 22)\u001b[0m\n",
      "\u001b[1;30m2024-04-10 12:59:53 | [DEBUG   ]      Found 10000 matches\u001b[0m\n"
     ]
    },
    {
     "name": "stderr",
     "output_type": "stream",
     "text": []
    },
    {
     "name": "stdout",
     "output_type": "stream",
     "text": [
      "\u001b[1;30m2024-04-10 12:59:53 | [DEBUG   ]   - Matching tile pair (23, 20)\u001b[0m\n",
      "\u001b[1;30m2024-04-10 12:59:55 | [DEBUG   ]      Found 10000 matches\u001b[0m\n"
     ]
    },
    {
     "name": "stderr",
     "output_type": "stream",
     "text": []
    },
    {
     "name": "stdout",
     "output_type": "stream",
     "text": [
      "\u001b[1;30m2024-04-10 12:59:55 | [DEBUG   ]   - Matching tile pair (23, 21)\u001b[0m\n",
      "\u001b[1;30m2024-04-10 12:59:57 | [DEBUG   ]      Found 10000 matches\u001b[0m\n"
     ]
    },
    {
     "name": "stderr",
     "output_type": "stream",
     "text": []
    },
    {
     "name": "stdout",
     "output_type": "stream",
     "text": [
      "\u001b[1;30m2024-04-10 12:59:57 | [DEBUG   ]   - Matching tile pair (23, 22)\u001b[0m\n",
      "\u001b[1;30m2024-04-10 12:59:58 | [DEBUG   ]      Found 10000 matches\u001b[0m\n"
     ]
    },
    {
     "name": "stderr",
     "output_type": "stream",
     "text": []
    },
    {
     "name": "stdout",
     "output_type": "stream",
     "text": [
      "\u001b[1;30m2024-04-10 12:59:58 | [DEBUG   ]   - Matching tile pair (24, 16)\u001b[0m\n",
      "\u001b[1;30m2024-04-10 13:00:00 | [DEBUG   ]      Found 10000 matches\u001b[0m\n"
     ]
    },
    {
     "name": "stderr",
     "output_type": "stream",
     "text": []
    },
    {
     "name": "stdout",
     "output_type": "stream",
     "text": [
      "\u001b[1;30m2024-04-10 13:00:00 | [DEBUG   ]   - Matching tile pair (24, 24)\u001b[0m\n",
      "\u001b[1;30m2024-04-10 13:00:02 | [DEBUG   ]      Found 10000 matches\u001b[0m\n"
     ]
    },
    {
     "name": "stderr",
     "output_type": "stream",
     "text": []
    },
    {
     "name": "stdout",
     "output_type": "stream",
     "text": [
      "\u001b[1;30m2024-04-10 13:00:02 | [DEBUG   ]   - Matching tile pair (24, 25)\u001b[0m\n",
      "\u001b[1;30m2024-04-10 13:00:03 | [DEBUG   ]      Found 10000 matches\u001b[0m\n"
     ]
    },
    {
     "name": "stderr",
     "output_type": "stream",
     "text": []
    },
    {
     "name": "stdout",
     "output_type": "stream",
     "text": [
      "\u001b[1;30m2024-04-10 13:00:03 | [DEBUG   ]   - Matching tile pair (25, 16)\u001b[0m\n",
      "\u001b[1;30m2024-04-10 13:00:05 | [DEBUG   ]      Found 10000 matches\u001b[0m\n"
     ]
    },
    {
     "name": "stderr",
     "output_type": "stream",
     "text": []
    },
    {
     "name": "stdout",
     "output_type": "stream",
     "text": [
      "\u001b[1;30m2024-04-10 13:00:05 | [DEBUG   ]   - Matching tile pair (25, 17)\u001b[0m\n",
      "\u001b[1;30m2024-04-10 13:00:07 | [DEBUG   ]      Found 10000 matches\u001b[0m\n"
     ]
    },
    {
     "name": "stderr",
     "output_type": "stream",
     "text": []
    },
    {
     "name": "stdout",
     "output_type": "stream",
     "text": [
      "\u001b[1;30m2024-04-10 13:00:07 | [DEBUG   ]   - Matching tile pair (25, 24)\u001b[0m\n",
      "\u001b[1;30m2024-04-10 13:00:08 | [DEBUG   ]      Found 10000 matches\u001b[0m\n"
     ]
    },
    {
     "name": "stderr",
     "output_type": "stream",
     "text": []
    },
    {
     "name": "stdout",
     "output_type": "stream",
     "text": [
      "\u001b[1;30m2024-04-10 13:00:08 | [DEBUG   ]   - Matching tile pair (25, 25)\u001b[0m\n",
      "\u001b[1;30m2024-04-10 13:00:10 | [DEBUG   ]      Found 10000 matches\u001b[0m\n"
     ]
    },
    {
     "name": "stderr",
     "output_type": "stream",
     "text": []
    },
    {
     "name": "stdout",
     "output_type": "stream",
     "text": [
      "\u001b[1;30m2024-04-10 13:00:10 | [DEBUG   ]   - Matching tile pair (25, 26)\u001b[0m\n",
      "\u001b[1;30m2024-04-10 13:00:12 | [DEBUG   ]      Found 10000 matches\u001b[0m\n"
     ]
    },
    {
     "name": "stderr",
     "output_type": "stream",
     "text": []
    },
    {
     "name": "stdout",
     "output_type": "stream",
     "text": [
      "\u001b[1;30m2024-04-10 13:00:12 | [DEBUG   ]   - Matching tile pair (26, 25)\u001b[0m\n",
      "\u001b[1;30m2024-04-10 13:00:13 | [DEBUG   ]      Found 10000 matches\u001b[0m\n"
     ]
    },
    {
     "name": "stderr",
     "output_type": "stream",
     "text": []
    },
    {
     "name": "stdout",
     "output_type": "stream",
     "text": [
      "\u001b[1;30m2024-04-10 13:00:14 | [DEBUG   ]   - Matching tile pair (26, 26)\u001b[0m\n",
      "\u001b[1;30m2024-04-10 13:00:15 | [DEBUG   ]      Found 10000 matches\u001b[0m\n"
     ]
    },
    {
     "name": "stderr",
     "output_type": "stream",
     "text": []
    },
    {
     "name": "stdout",
     "output_type": "stream",
     "text": [
      "\u001b[1;30m2024-04-10 13:00:15 | [DEBUG   ]   - Matching tile pair (26, 27)\u001b[0m\n",
      "\u001b[1;30m2024-04-10 13:00:17 | [DEBUG   ]      Found 10000 matches\u001b[0m\n"
     ]
    },
    {
     "name": "stderr",
     "output_type": "stream",
     "text": []
    },
    {
     "name": "stdout",
     "output_type": "stream",
     "text": [
      "\u001b[1;30m2024-04-10 13:00:17 | [DEBUG   ]   - Matching tile pair (27, 26)\u001b[0m\n",
      "\u001b[1;30m2024-04-10 13:00:19 | [DEBUG   ]      Found 10000 matches\u001b[0m\n"
     ]
    },
    {
     "name": "stderr",
     "output_type": "stream",
     "text": []
    },
    {
     "name": "stdout",
     "output_type": "stream",
     "text": [
      "\u001b[1;30m2024-04-10 13:00:19 | [DEBUG   ]   - Matching tile pair (27, 27)\u001b[0m\n",
      "\u001b[1;30m2024-04-10 13:00:20 | [DEBUG   ]      Found 10000 matches\u001b[0m\n"
     ]
    },
    {
     "name": "stderr",
     "output_type": "stream",
     "text": []
    },
    {
     "name": "stdout",
     "output_type": "stream",
     "text": [
      "\u001b[1;30m2024-04-10 13:00:21 | [DEBUG   ]   - Matching tile pair (27, 28)\u001b[0m\n",
      "\u001b[1;30m2024-04-10 13:00:22 | [DEBUG   ]      Found 10000 matches\u001b[0m\n"
     ]
    },
    {
     "name": "stderr",
     "output_type": "stream",
     "text": []
    },
    {
     "name": "stdout",
     "output_type": "stream",
     "text": [
      "\u001b[1;30m2024-04-10 13:00:22 | [DEBUG   ]   - Matching tile pair (28, 19)\u001b[0m\n",
      "\u001b[1;30m2024-04-10 13:00:24 | [DEBUG   ]      Found 10000 matches\u001b[0m\n"
     ]
    },
    {
     "name": "stderr",
     "output_type": "stream",
     "text": []
    },
    {
     "name": "stdout",
     "output_type": "stream",
     "text": [
      "\u001b[1;30m2024-04-10 13:00:24 | [DEBUG   ]   - Matching tile pair (28, 20)\u001b[0m\n",
      "\u001b[1;30m2024-04-10 13:00:26 | [DEBUG   ]      Found 10000 matches\u001b[0m\n"
     ]
    },
    {
     "name": "stderr",
     "output_type": "stream",
     "text": []
    },
    {
     "name": "stdout",
     "output_type": "stream",
     "text": [
      "\u001b[1;30m2024-04-10 13:00:26 | [DEBUG   ]   - Matching tile pair (28, 28)\u001b[0m\n",
      "\u001b[1;30m2024-04-10 13:00:27 | [DEBUG   ]      Found 10000 matches\u001b[0m\n"
     ]
    },
    {
     "name": "stderr",
     "output_type": "stream",
     "text": []
    },
    {
     "name": "stdout",
     "output_type": "stream",
     "text": [
      "\u001b[1;30m2024-04-10 13:00:28 | [DEBUG   ]   - Matching tile pair (28, 29)\u001b[0m\n",
      "\u001b[1;30m2024-04-10 13:00:29 | [DEBUG   ]      Found 10000 matches\u001b[0m\n"
     ]
    },
    {
     "name": "stderr",
     "output_type": "stream",
     "text": []
    },
    {
     "name": "stdout",
     "output_type": "stream",
     "text": [
      "\u001b[1;30m2024-04-10 13:00:29 | [DEBUG   ]   - Matching tile pair (29, 21)\u001b[0m\n",
      "\u001b[1;30m2024-04-10 13:00:31 | [DEBUG   ]      Found 10000 matches\u001b[0m\n"
     ]
    },
    {
     "name": "stderr",
     "output_type": "stream",
     "text": []
    },
    {
     "name": "stdout",
     "output_type": "stream",
     "text": [
      "\u001b[1;30m2024-04-10 13:00:31 | [DEBUG   ]   - Matching tile pair (29, 29)\u001b[0m\n",
      "\u001b[1;30m2024-04-10 13:00:33 | [DEBUG   ]      Found 10000 matches\u001b[0m\n"
     ]
    },
    {
     "name": "stderr",
     "output_type": "stream",
     "text": []
    },
    {
     "name": "stdout",
     "output_type": "stream",
     "text": [
      "\u001b[1;30m2024-04-10 13:00:33 | [DEBUG   ]   - Matching tile pair (29, 30)\u001b[0m\n",
      "\u001b[1;30m2024-04-10 13:00:34 | [DEBUG   ]      Found 10000 matches\u001b[0m\n"
     ]
    },
    {
     "name": "stderr",
     "output_type": "stream",
     "text": []
    },
    {
     "name": "stdout",
     "output_type": "stream",
     "text": [
      "\u001b[1;30m2024-04-10 13:00:35 | [DEBUG   ]   - Matching tile pair (30, 21)\u001b[0m\n",
      "\u001b[1;30m2024-04-10 13:00:36 | [DEBUG   ]      Found 10000 matches\u001b[0m\n"
     ]
    },
    {
     "name": "stderr",
     "output_type": "stream",
     "text": []
    },
    {
     "name": "stdout",
     "output_type": "stream",
     "text": [
      "\u001b[1;30m2024-04-10 13:00:36 | [DEBUG   ]   - Matching tile pair (30, 22)\u001b[0m\n",
      "\u001b[1;30m2024-04-10 13:00:38 | [DEBUG   ]      Found 10000 matches\u001b[0m\n"
     ]
    },
    {
     "name": "stderr",
     "output_type": "stream",
     "text": []
    },
    {
     "name": "stdout",
     "output_type": "stream",
     "text": [
      "\u001b[1;30m2024-04-10 13:00:38 | [DEBUG   ]   - Matching tile pair (30, 23)\u001b[0m\n",
      "\u001b[1;30m2024-04-10 13:00:40 | [DEBUG   ]      Found 10000 matches\u001b[0m\n"
     ]
    },
    {
     "name": "stderr",
     "output_type": "stream",
     "text": []
    },
    {
     "name": "stdout",
     "output_type": "stream",
     "text": [
      "\u001b[1;30m2024-04-10 13:00:40 | [DEBUG   ]   - Matching tile pair (30, 30)\u001b[0m\n",
      "\u001b[1;30m2024-04-10 13:00:41 | [DEBUG   ]      Found 10000 matches\u001b[0m\n"
     ]
    },
    {
     "name": "stderr",
     "output_type": "stream",
     "text": []
    },
    {
     "name": "stdout",
     "output_type": "stream",
     "text": [
      "\u001b[1;30m2024-04-10 13:00:42 | [DEBUG   ]   - Matching tile pair (32, 25)\u001b[0m\n",
      "\u001b[1;30m2024-04-10 13:00:43 | [DEBUG   ]      Found 10000 matches\u001b[0m\n"
     ]
    },
    {
     "name": "stderr",
     "output_type": "stream",
     "text": []
    },
    {
     "name": "stdout",
     "output_type": "stream",
     "text": [
      "\u001b[1;30m2024-04-10 13:00:43 | [DEBUG   ]   - Matching tile pair (32, 33)\u001b[0m\n",
      "\u001b[1;30m2024-04-10 13:00:45 | [DEBUG   ]      Found 10000 matches\u001b[0m\n"
     ]
    },
    {
     "name": "stderr",
     "output_type": "stream",
     "text": []
    },
    {
     "name": "stdout",
     "output_type": "stream",
     "text": [
      "\u001b[1;30m2024-04-10 13:00:45 | [DEBUG   ]   - Matching tile pair (32, 34)\u001b[0m\n",
      "\u001b[1;30m2024-04-10 13:00:47 | [DEBUG   ]      Found 10000 matches\u001b[0m\n"
     ]
    },
    {
     "name": "stderr",
     "output_type": "stream",
     "text": []
    },
    {
     "name": "stdout",
     "output_type": "stream",
     "text": [
      "\u001b[1;30m2024-04-10 13:00:47 | [DEBUG   ]   - Matching tile pair (32, 35)\u001b[0m\n",
      "\u001b[1;30m2024-04-10 13:00:48 | [DEBUG   ]      Found 10000 matches\u001b[0m\n"
     ]
    },
    {
     "name": "stderr",
     "output_type": "stream",
     "text": []
    },
    {
     "name": "stdout",
     "output_type": "stream",
     "text": [
      "\u001b[1;30m2024-04-10 13:00:49 | [DEBUG   ]   - Matching tile pair (33, 26)\u001b[0m\n",
      "\u001b[1;30m2024-04-10 13:00:50 | [DEBUG   ]      Found 10000 matches\u001b[0m\n"
     ]
    },
    {
     "name": "stderr",
     "output_type": "stream",
     "text": []
    },
    {
     "name": "stdout",
     "output_type": "stream",
     "text": [
      "\u001b[1;30m2024-04-10 13:00:50 | [DEBUG   ]   - Matching tile pair (33, 34)\u001b[0m\n",
      "\u001b[1;30m2024-04-10 13:00:52 | [DEBUG   ]      Found 10000 matches\u001b[0m\n"
     ]
    },
    {
     "name": "stderr",
     "output_type": "stream",
     "text": []
    },
    {
     "name": "stdout",
     "output_type": "stream",
     "text": [
      "\u001b[1;30m2024-04-10 13:00:52 | [DEBUG   ]   - Matching tile pair (33, 35)\u001b[0m\n",
      "\u001b[1;30m2024-04-10 13:00:54 | [DEBUG   ]      Found 10000 matches\u001b[0m\n"
     ]
    },
    {
     "name": "stderr",
     "output_type": "stream",
     "text": []
    },
    {
     "name": "stdout",
     "output_type": "stream",
     "text": [
      "\u001b[1;30m2024-04-10 13:00:54 | [DEBUG   ]   - Matching tile pair (34, 26)\u001b[0m\n",
      "\u001b[1;30m2024-04-10 13:00:55 | [DEBUG   ]      Found 10000 matches\u001b[0m\n"
     ]
    },
    {
     "name": "stderr",
     "output_type": "stream",
     "text": []
    },
    {
     "name": "stdout",
     "output_type": "stream",
     "text": [
      "\u001b[1;30m2024-04-10 13:00:56 | [DEBUG   ]   - Matching tile pair (34, 27)\u001b[0m\n",
      "\u001b[1;30m2024-04-10 13:00:57 | [DEBUG   ]      Found 10000 matches\u001b[0m\n"
     ]
    },
    {
     "name": "stderr",
     "output_type": "stream",
     "text": []
    },
    {
     "name": "stdout",
     "output_type": "stream",
     "text": [
      "\u001b[1;30m2024-04-10 13:00:57 | [DEBUG   ]   - Matching tile pair (34, 35)\u001b[0m\n",
      "\u001b[1;30m2024-04-10 13:00:59 | [DEBUG   ]      Found 10000 matches\u001b[0m\n"
     ]
    },
    {
     "name": "stderr",
     "output_type": "stream",
     "text": []
    },
    {
     "name": "stdout",
     "output_type": "stream",
     "text": [
      "\u001b[1;30m2024-04-10 13:00:59 | [DEBUG   ]   - Matching tile pair (34, 36)\u001b[0m\n",
      "\u001b[1;30m2024-04-10 13:01:01 | [DEBUG   ]      Found 10000 matches\u001b[0m\n"
     ]
    },
    {
     "name": "stderr",
     "output_type": "stream",
     "text": []
    },
    {
     "name": "stdout",
     "output_type": "stream",
     "text": [
      "\u001b[1;30m2024-04-10 13:01:01 | [DEBUG   ]   - Matching tile pair (35, 27)\u001b[0m\n",
      "\u001b[1;30m2024-04-10 13:01:02 | [DEBUG   ]      Found 10000 matches\u001b[0m\n"
     ]
    },
    {
     "name": "stderr",
     "output_type": "stream",
     "text": []
    },
    {
     "name": "stdout",
     "output_type": "stream",
     "text": [
      "\u001b[1;30m2024-04-10 13:01:03 | [DEBUG   ]   - Matching tile pair (35, 28)\u001b[0m\n",
      "\u001b[1;30m2024-04-10 13:01:04 | [DEBUG   ]      Found 10000 matches\u001b[0m\n"
     ]
    },
    {
     "name": "stderr",
     "output_type": "stream",
     "text": []
    },
    {
     "name": "stdout",
     "output_type": "stream",
     "text": [
      "\u001b[1;30m2024-04-10 13:01:04 | [DEBUG   ]   - Matching tile pair (35, 35)\u001b[0m\n",
      "\u001b[1;30m2024-04-10 13:01:06 | [DEBUG   ]      Found 10000 matches\u001b[0m\n"
     ]
    },
    {
     "name": "stderr",
     "output_type": "stream",
     "text": []
    },
    {
     "name": "stdout",
     "output_type": "stream",
     "text": [
      "\u001b[1;30m2024-04-10 13:01:06 | [DEBUG   ]   - Matching tile pair (35, 36)\u001b[0m\n",
      "\u001b[1;30m2024-04-10 13:01:08 | [DEBUG   ]      Found 10000 matches\u001b[0m\n"
     ]
    },
    {
     "name": "stderr",
     "output_type": "stream",
     "text": []
    },
    {
     "name": "stdout",
     "output_type": "stream",
     "text": [
      "\u001b[1;30m2024-04-10 13:01:08 | [DEBUG   ]   - Matching tile pair (35, 37)\u001b[0m\n",
      "\u001b[1;30m2024-04-10 13:01:10 | [DEBUG   ]      Found 10000 matches\u001b[0m\n"
     ]
    },
    {
     "name": "stderr",
     "output_type": "stream",
     "text": []
    },
    {
     "name": "stdout",
     "output_type": "stream",
     "text": [
      "\u001b[1;30m2024-04-10 13:01:10 | [DEBUG   ]   - Matching tile pair (36, 29)\u001b[0m\n",
      "\u001b[1;30m2024-04-10 13:01:11 | [DEBUG   ]      Found 10000 matches\u001b[0m\n"
     ]
    },
    {
     "name": "stderr",
     "output_type": "stream",
     "text": []
    },
    {
     "name": "stdout",
     "output_type": "stream",
     "text": [
      "\u001b[1;30m2024-04-10 13:01:11 | [DEBUG   ]   - Matching tile pair (36, 30)\u001b[0m\n",
      "\u001b[1;30m2024-04-10 13:01:13 | [DEBUG   ]      Found 10000 matches\u001b[0m\n"
     ]
    },
    {
     "name": "stderr",
     "output_type": "stream",
     "text": []
    },
    {
     "name": "stdout",
     "output_type": "stream",
     "text": [
      "\u001b[1;30m2024-04-10 13:01:13 | [DEBUG   ]   - Matching tile pair (36, 31)\u001b[0m\n",
      "\u001b[1;30m2024-04-10 13:01:15 | [DEBUG   ]      Found 10000 matches\u001b[0m\n"
     ]
    },
    {
     "name": "stderr",
     "output_type": "stream",
     "text": []
    },
    {
     "name": "stdout",
     "output_type": "stream",
     "text": [
      "\u001b[1;30m2024-04-10 13:01:15 | [DEBUG   ]   - Matching tile pair (36, 37)\u001b[0m\n",
      "\u001b[1;30m2024-04-10 13:01:17 | [DEBUG   ]      Found 10000 matches\u001b[0m\n"
     ]
    },
    {
     "name": "stderr",
     "output_type": "stream",
     "text": []
    },
    {
     "name": "stdout",
     "output_type": "stream",
     "text": [
      "\u001b[1;30m2024-04-10 13:01:17 | [DEBUG   ]   - Matching tile pair (36, 38)\u001b[0m\n",
      "\u001b[1;30m2024-04-10 13:01:18 | [DEBUG   ]      Found 10000 matches\u001b[0m\n"
     ]
    },
    {
     "name": "stderr",
     "output_type": "stream",
     "text": []
    },
    {
     "name": "stdout",
     "output_type": "stream",
     "text": [
      "\u001b[1;30m2024-04-10 13:01:19 | [DEBUG   ]   - Matching tile pair (36, 39)\u001b[0m\n",
      "\u001b[1;30m2024-04-10 13:01:20 | [DEBUG   ]      Found 10000 matches\u001b[0m\n"
     ]
    },
    {
     "name": "stderr",
     "output_type": "stream",
     "text": []
    },
    {
     "name": "stdout",
     "output_type": "stream",
     "text": [
      "\u001b[1;30m2024-04-10 13:01:20 | [DEBUG   ]   - Matching tile pair (37, 30)\u001b[0m\n",
      "\u001b[1;30m2024-04-10 13:01:22 | [DEBUG   ]      Found 10000 matches\u001b[0m\n"
     ]
    },
    {
     "name": "stderr",
     "output_type": "stream",
     "text": []
    },
    {
     "name": "stdout",
     "output_type": "stream",
     "text": [
      "\u001b[1;30m2024-04-10 13:01:22 | [DEBUG   ]   - Matching tile pair (37, 31)\u001b[0m\n",
      "\u001b[1;30m2024-04-10 13:01:24 | [DEBUG   ]      Found 10000 matches\u001b[0m\n"
     ]
    },
    {
     "name": "stderr",
     "output_type": "stream",
     "text": []
    },
    {
     "name": "stdout",
     "output_type": "stream",
     "text": [
      "\u001b[1;30m2024-04-10 13:01:24 | [DEBUG   ]   - Matching tile pair (40, 44)\u001b[0m\n",
      "\u001b[1;30m2024-04-10 13:01:26 | [DEBUG   ]      Found 10000 matches\u001b[0m\n"
     ]
    },
    {
     "name": "stderr",
     "output_type": "stream",
     "text": []
    },
    {
     "name": "stdout",
     "output_type": "stream",
     "text": [
      "\u001b[1;30m2024-04-10 13:01:26 | [DEBUG   ]   - Matching tile pair (40, 45)\u001b[0m\n",
      "\u001b[1;30m2024-04-10 13:01:27 | [DEBUG   ]      Found 10000 matches\u001b[0m\n"
     ]
    },
    {
     "name": "stderr",
     "output_type": "stream",
     "text": []
    },
    {
     "name": "stdout",
     "output_type": "stream",
     "text": [
      "\u001b[1;30m2024-04-10 13:01:27 | [DEBUG   ]   - Matching tile pair (41, 37)\u001b[0m\n",
      "\u001b[1;30m2024-04-10 13:01:29 | [DEBUG   ]      Found 10000 matches\u001b[0m\n"
     ]
    },
    {
     "name": "stderr",
     "output_type": "stream",
     "text": []
    },
    {
     "name": "stdout",
     "output_type": "stream",
     "text": [
      "\u001b[1;30m2024-04-10 13:01:29 | [DEBUG   ]   - Matching tile pair (41, 46)\u001b[0m\n",
      "\u001b[1;30m2024-04-10 13:01:31 | [DEBUG   ]      Found 10000 matches\u001b[0m\n"
     ]
    },
    {
     "name": "stderr",
     "output_type": "stream",
     "text": []
    },
    {
     "name": "stdout",
     "output_type": "stream",
     "text": [
      "\u001b[1;30m2024-04-10 13:01:31 | [DEBUG   ]   - Matching tile pair (42, 37)\u001b[0m\n",
      "\u001b[1;30m2024-04-10 13:01:33 | [DEBUG   ]      Found 10000 matches\u001b[0m\n"
     ]
    },
    {
     "name": "stderr",
     "output_type": "stream",
     "text": []
    },
    {
     "name": "stdout",
     "output_type": "stream",
     "text": [
      "\u001b[1;30m2024-04-10 13:01:33 | [DEBUG   ]   - Matching tile pair (42, 38)\u001b[0m\n",
      "\u001b[1;30m2024-04-10 13:01:34 | [DEBUG   ]      Found 10000 matches\u001b[0m\n"
     ]
    },
    {
     "name": "stderr",
     "output_type": "stream",
     "text": []
    },
    {
     "name": "stdout",
     "output_type": "stream",
     "text": [
      "\u001b[1;30m2024-04-10 13:01:35 | [DEBUG   ]   - Matching tile pair (42, 39)\u001b[0m\n",
      "\u001b[1;30m2024-04-10 13:01:36 | [DEBUG   ]      Found 10000 matches\u001b[0m\n"
     ]
    },
    {
     "name": "stderr",
     "output_type": "stream",
     "text": []
    },
    {
     "name": "stdout",
     "output_type": "stream",
     "text": [
      "\u001b[1;30m2024-04-10 13:01:36 | [DEBUG   ]   - Matching tile pair (43, 37)\u001b[0m\n",
      "\u001b[1;30m2024-04-10 13:01:38 | [DEBUG   ]      Found 10000 matches\u001b[0m\n"
     ]
    },
    {
     "name": "stderr",
     "output_type": "stream",
     "text": []
    },
    {
     "name": "stdout",
     "output_type": "stream",
     "text": [
      "\u001b[1;30m2024-04-10 13:01:38 | [DEBUG   ]   - Matching tile pair (43, 38)\u001b[0m\n",
      "\u001b[1;30m2024-04-10 13:01:40 | [DEBUG   ]      Found 10000 matches\u001b[0m\n"
     ]
    },
    {
     "name": "stderr",
     "output_type": "stream",
     "text": []
    },
    {
     "name": "stdout",
     "output_type": "stream",
     "text": [
      "\u001b[1;30m2024-04-10 13:01:40 | [DEBUG   ]   - Matching tile pair (43, 39)\u001b[0m\n",
      "\u001b[1;30m2024-04-10 13:01:42 | [DEBUG   ]      Found 10000 matches\u001b[0m\n"
     ]
    },
    {
     "name": "stderr",
     "output_type": "stream",
     "text": []
    },
    {
     "name": "stdout",
     "output_type": "stream",
     "text": [
      "\u001b[1;30m2024-04-10 13:01:42 | [DEBUG   ]   - Matching tile pair (44, 38)\u001b[0m\n",
      "\u001b[1;30m2024-04-10 13:01:43 | [DEBUG   ]      Found 10000 matches\u001b[0m\n"
     ]
    },
    {
     "name": "stderr",
     "output_type": "stream",
     "text": []
    },
    {
     "name": "stdout",
     "output_type": "stream",
     "text": [
      "\u001b[1;30m2024-04-10 13:01:44 | [DEBUG   ]   - Matching tile pair (44, 39)\u001b[0m\n",
      "\u001b[1;30m2024-04-10 13:01:45 | [DEBUG   ]      Found 10000 matches\u001b[0m\n"
     ]
    },
    {
     "name": "stderr",
     "output_type": "stream",
     "text": []
    },
    {
     "name": "stdout",
     "output_type": "stream",
     "text": [
      "\u001b[1;30m2024-04-10 13:03:55 | [DEBUG   ] PYDEGENSAC found 309270 inliers (37.86%)\u001b[0m\n",
      "\u001b[1;30m2024-04-10 13:03:55 | [DEBUG   ] Estiamted Fundamental matrix: \n",
      "[[ 2.04607140e-08 -1.11088371e-08  1.52043743e-04]\n",
      " [ 9.04008565e-08 -1.51978537e-08  5.43652046e-04]\n",
      " [-3.97334709e-04 -7.52778481e-04  7.09388462e-01]]\u001b[0m\n",
      "\u001b[1;30m2024-04-10 13:03:55 | [DEBUG   ] [Timer] | [RomaMatcher match] [match] Match by tile=161.669, Geom. verification=125.292, save to h5=0.004, Total execution=286.965\u001b[0m\n"
     ]
    },
    {
     "name": "stderr",
     "output_type": "stream",
     "text": [
      "100%|██████████| 1/1 [04:46<00:00, 286.97s/it]"
     ]
    },
    {
     "name": "stdout",
     "output_type": "stream",
     "text": [
      "\u001b[0;37m2024-04-10 13:03:55 | [INFO    ] [Timer] | [matching] generate_pairs=6.507, extract_features=0.047, Match pair=286.969, Total execution=293.538\u001b[0m\n",
      "\u001b[0;37m2024-04-10 13:03:55 | [INFO    ] [Timer] | [Deep Image Matching] Total execution=0.000\u001b[0m\n"
     ]
    },
    {
     "name": "stderr",
     "output_type": "stream",
     "text": [
      "\n",
      "100%|██████████| 2/2 [00:00<00:00, 73.98it/s]\n",
      "1it [00:00, 138.76it/s]\n"
     ]
    }
   ],
   "source": [
    "# Initialize ImageMatcher class\n",
    "matcher = dim.ImageMatcher(config)\n",
    "\n",
    "# Run image matching\n",
    "feature_path, match_path = matcher.run()\n",
    "\n",
    "# Read camera options\n",
    "with open(config.general[\"camera_options\"], \"r\") as file:\n",
    "    camera_options = yaml.safe_load(file)\n",
    "\n",
    "# Export in colmap format\n",
    "database_path = output_dir / \"database.db\"\n",
    "dim.io.export_to_colmap(\n",
    "    img_dir=imgs_dir,\n",
    "    feature_path=feature_path,\n",
    "    match_path=match_path,\n",
    "    database_path=database_path,\n",
    "    camera_options=camera_options,\n",
    ")"
   ]
  },
  {
   "cell_type": "code",
   "execution_count": 9,
   "metadata": {},
   "outputs": [],
   "source": [
    "import pycolmap\n",
    "from deep_image_matching.triangulation import db_from_existing_poses\n",
    "from deep_image_matching.utils import OutputCapture\n",
    "\n",
    "# Define project directory\n",
    "root_path = config.general[\"output_dir\"].parent\n",
    "image_dir = config.general[\"image_dir\"]\n",
    "\n",
    "# Path to the pre-computed COLMAP reconstuction with the knwon poses\n",
    "sfm_path = root_path / \"results_superpoint+lightglue_bruteforce_quality_highest\"\n",
    "sfm_db_path = sfm_path / \"database.db\"\n",
    "sfm_rec_path = sfm_path / \"reconstruction\"\n",
    "\n",
    "# Path to the dense matching results to be triangulated\n",
    "dense_path = config.general[\"output_dir\"]\n",
    "features_h5 = dense_path / \"features.h5\"\n",
    "matches_h5 = dense_path / \"matches.h5\"\n",
    "pair_file = dense_path / \"pairs.txt\"\n",
    "\n",
    "# Path to the output for the dense matching\n",
    "dense_db_path = dense_path / \"database_dense.db\"\n",
    "model_path = dense_path / \"dense_model\"\n",
    "model_path.mkdir(exist_ok=True, parents=True)\n",
    "\n",
    "# Do geometric verification of the dense features (with known camera poses)\n",
    "do_geometric_verification = True\n",
    "max_error = 6\n",
    "triang_min_angle = 0.1"
   ]
  },
  {
   "cell_type": "code",
   "execution_count": 10,
   "metadata": {},
   "outputs": [
    {
     "name": "stderr",
     "output_type": "stream",
     "text": [
      "Importing keypoints:   0%|          | 0/2 [00:00<?, ?it/s]"
     ]
    },
    {
     "name": "stderr",
     "output_type": "stream",
     "text": [
      "Importing keypoints: 100%|██████████| 2/2 [00:00<00:00, 89.20it/s]\n",
      "Importing matches: 100%|██████████| 1/1 [00:00<00:00, 138.75it/s]"
     ]
    },
    {
     "name": "stdout",
     "output_type": "stream",
     "text": [
      "\u001b[0;37m2024-04-10 13:07:40 | [INFO    ] Performing geometric verification of the matches...\u001b[0m\n"
     ]
    },
    {
     "name": "stderr",
     "output_type": "stream",
     "text": [
      "\n",
      "Importing verified matches: 100%|██████████| 1/1 [00:01<00:00,  1.22s/it]"
     ]
    },
    {
     "name": "stdout",
     "output_type": "stream",
     "text": [
      "\u001b[0;37m2024-04-10 13:07:41 | [INFO    ] mean/med/min/max valid matches 85.01/85.01/85.01/85.01%.\u001b[0m\n"
     ]
    },
    {
     "name": "stderr",
     "output_type": "stream",
     "text": [
      "\n"
     ]
    }
   ],
   "source": [
    "# Open sfm reconstruction with pycolmap\n",
    "sfm_rec = pycolmap.Reconstruction(sfm_rec_path)\n",
    "\n",
    "# Create a new database with the dense features and the known camera poses\n",
    "db_from_existing_poses(\n",
    "    dense_db_path,\n",
    "    features_h5,\n",
    "    matches_h5,\n",
    "    sfm_rec_path,\n",
    "    pair_file,\n",
    "    do_geometric_verification=do_geometric_verification,\n",
    "    max_error=max_error,\n",
    ")"
   ]
  },
  {
   "cell_type": "code",
   "execution_count": 11,
   "metadata": {},
   "outputs": [
    {
     "name": "stderr",
     "output_type": "stream",
     "text": [
      "I20240410 13:07:53.631589 876812 misc.cc:198] \n",
      "==============================================================================\n",
      "Loading database\n",
      "==============================================================================\n",
      "I20240410 13:07:53.632503 876812 database_cache.cc:54] Loading cameras...\n",
      "I20240410 13:07:53.632544 876812 database_cache.cc:64]  2 in 0.000s\n",
      "I20240410 13:07:53.632558 876812 database_cache.cc:72] Loading matches...\n",
      "I20240410 13:07:53.635040 876812 database_cache.cc:78]  1 in 0.003s\n",
      "I20240410 13:07:53.635087 876812 database_cache.cc:94] Loading images...\n",
      "I20240410 13:07:53.680949 876812 database_cache.cc:143]  2 in 0.046s (connected 2)\n",
      "I20240410 13:07:53.681013 876812 database_cache.cc:154] Building correspondence graph...\n",
      "I20240410 13:07:53.747117 876812 database_cache.cc:190]  in 0.066s (ignored 0)\n",
      "I20240410 13:07:53.747819 876812 timer.cc:91] Elapsed time: 0.002 [minutes]\n",
      "I20240410 13:07:53.769037 876812 misc.cc:198] \n",
      "==============================================================================\n",
      "Triangulating image #1 (0)\n",
      "==============================================================================\n",
      "I20240410 13:07:53.769070 876812 sfm.cc:473] => Image sees 0 / 262895 points\n",
      "I20240410 13:07:54.437633 876812 sfm.cc:478] => Triangulated 262870 points\n",
      "I20240410 13:07:54.437700 876812 misc.cc:198] \n",
      "==============================================================================\n",
      "Triangulating image #2 (1)\n",
      "==============================================================================\n",
      "I20240410 13:07:54.437705 876812 sfm.cc:473] => Image sees 262870 / 262895 points\n",
      "I20240410 13:07:54.457778 876812 sfm.cc:478] => Triangulated 10 points\n",
      "I20240410 13:07:54.457810 876812 misc.cc:198] \n",
      "==============================================================================\n",
      "Retriangulation\n",
      "==============================================================================\n",
      "I20240410 13:07:54.487118 876812 incremental_mapper.cc:175] => Completed observations: 0\n",
      "I20240410 13:07:54.511844 876812 incremental_mapper.cc:178] => Merged observations: 0\n",
      "I20240410 13:07:54.521505 876812 misc.cc:198] \n",
      "==============================================================================\n",
      "Bundle adjustment\n",
      "==============================================================================\n"
     ]
    },
    {
     "name": "stdout",
     "output_type": "stream",
     "text": [
      "iter      cost      cost_change  |gradient|   |step|    tr_ratio  tr_radius  ls_iter  iter_time  total_time\n",
      "   0  9.487550e+04    0.00e+00    2.47e+03   0.00e+00   0.00e+00  1.00e+04        0    2.02e-01    6.94e-01\n",
      "   1  9.106523e+04    3.81e+03    3.15e-01   1.36e-01   1.00e+00  3.00e+04        0    2.47e-01    9.42e-01\n"
     ]
    },
    {
     "name": "stderr",
     "output_type": "stream",
     "text": [
      "I20240410 13:07:55.768111 876812 misc.cc:205] \n",
      "Bundle adjustment report\n",
      "------------------------\n",
      "I20240410 13:07:55.768187 876812 bundle_adjustment.cc:942] \n",
      "    Residuals : 1051520\n",
      "   Parameters : 788640\n",
      "   Iterations : 2\n",
      "         Time : 0.993238 [s]\n",
      " Initial cost : 0.300378 [px]\n",
      "   Final cost : 0.294285 [px]\n",
      "  Termination : Convergence\n",
      "\n",
      "I20240410 13:07:55.803182 876812 incremental_mapper.cc:175] => Completed observations: 0\n",
      "I20240410 13:07:55.828675 876812 incremental_mapper.cc:178] => Merged observations: 0\n",
      "I20240410 13:07:55.891414 876812 incremental_mapper.cc:160] => Filtered observations: 0\n",
      "I20240410 13:07:55.891463 876812 sfm.cc:521] => Changed observations: 0.000000\n",
      "I20240410 13:07:56.109426 876812 misc.cc:198] \n",
      "==============================================================================\n",
      "Extracting colors\n",
      "==============================================================================\n"
     ]
    }
   ],
   "source": [
    "# Run the triangulation with the known camera poses\n",
    "\n",
    "# Define the options for the triangulation according to the IncrementalPipelineOptions available in pycolmap\n",
    "# print(pycolmap.IncrementalPipelineOptions().summary())\n",
    "opt = dict(\n",
    "    triangulation=dict(\n",
    "        ignore_two_view_tracks=False,\n",
    "        min_angle=triang_min_angle,\n",
    "    ),\n",
    ")\n",
    "verbose = True\n",
    "\n",
    "with OutputCapture(verbose):\n",
    "    with pycolmap.ostream():\n",
    "        reconstruction = pycolmap.triangulate_points(\n",
    "            sfm_rec,\n",
    "            dense_db_path,\n",
    "            image_dir,\n",
    "            model_path,\n",
    "            options=opt,\n",
    "        )"
   ]
  }
 ],
 "metadata": {
  "kernelspec": {
   "display_name": "deep-image-matching",
   "language": "python",
   "name": "python3"
  },
  "language_info": {
   "codemirror_mode": {
    "name": "ipython",
    "version": 3
   },
   "file_extension": ".py",
   "mimetype": "text/x-python",
   "name": "python",
   "nbconvert_exporter": "python",
   "pygments_lexer": "ipython3",
   "version": "3.10.13"
  }
 },
 "nbformat": 4,
 "nbformat_minor": 2
}
