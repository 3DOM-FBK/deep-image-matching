{
  "cells": [
    {
      "cell_type": "markdown",
      "metadata": {
        "id": "7v7uTVIGq-Gz"
      },
      "source": [
        "# Deep-Image-Matching example\n",
        "## Download the repo and install the package"
      ]
    },
    {
      "cell_type": "code",
      "execution_count": null,
      "metadata": {
        "colab": {
          "base_uri": "https://localhost:8080/"
        },
        "id": "J3YPBWuoHf1l",
        "outputId": "cd92bf60-6524-4cc0-cb8c-6c12b9c48bfd"
      },
      "outputs": [],
      "source": [
        "# Download locally deep-image-matching repository\n",
        "!git clone https://github.com/3DOM-FBK/deep-image-matching.git\n",
        "\n",
        "# Uncomment to run with python 3.9\n",
        "## Install Python 3.9\n",
        "#!sudo apt-get update\n",
        "#!sudo apt-get install python3.9\n",
        "#\n",
        "## Set Python 3.9 as the default\n",
        "#!sudo update-alternatives --install /usr/bin/python3 python3 /usr/bin/python3.9 0\n",
        "#!sudo update-alternatives --set python3 /usr/bin/python3.9\n",
        "#\n",
        "## Check Python version\n",
        "#!python --version\n",
        "#\n",
        "## Install pip for Python 3.9\n",
        "#!sudo apt-get install python3.9-distutils\n",
        "#!wget https://bootstrap.pypa.io/get-pip.py\n",
        "#!sudo python3 get-pip.py"
      ]
    },
    {
      "cell_type": "code",
      "execution_count": null,
      "metadata": {
        "colab": {
          "base_uri": "https://localhost:8080/"
        },
        "id": "cWEEM2fwsFQ8",
        "outputId": "0e4234e0-6c33-4c7f-ffa6-e4d0d80a444d"
      },
      "outputs": [],
      "source": [
        "# Install all the dependencies\n",
        "%%bash\n",
        "cd ./deep-image-matching\n",
        "pip3 install -e .\n",
        "pip3 install pycolmap==0.6.1"
      ]
    },
    {
      "cell_type": "markdown",
      "metadata": {},
      "source": [
        "## Check the options and run"
      ]
    },
    {
      "cell_type": "code",
      "execution_count": 8,
      "metadata": {
        "colab": {
          "base_uri": "https://localhost:8080/"
        },
        "id": "ii5t5mwjPpZ0",
        "outputId": "511ae3c7-9ac7-4fbd-d783-2b686e3104dd"
      },
      "outputs": [
        {
          "name": "stdout",
          "output_type": "stream",
          "text": [
            "\u001b[1;33m2024-01-17 10:29:18 | [WARNING ] Not possible to import tkinter\u001b[0m\n",
            "usage: main.py [-h] [--gui] [-i IMAGES] [-o OUTS]\n",
            "               [-c {superpoint+lightglue,superpoint+lightglue_fast,superpoint+superglue,disk+lightglue,aliked+lightglue,orb+kornia_matcher,sift+kornia_matcher,loftr,se2loftr,roma,keynetaffnethardnet+kornia_matcher,dedode}]\n",
            "               [-Q {lowest,low,medium,high,highest}] [-t {none,preselection,grid,exhaustive}]\n",
            "               [-m {bruteforce,sequential,retrieval,custom_pairs,matching_lowres}] [-p PAIRS]\n",
            "               [-v OVERLAP] [-r {netvlad,openibl,cosplace,dir}] [--upright]\n",
            "               [--skip_reconstruction] [-f] [-V]\n",
            "\n",
            "Matching with hand-crafted and deep-learning based local features and image retrieval.\n",
            "\n",
            "optional arguments:\n",
            "  -h, --help            show this help message and exit\n",
            "  --gui                 Run GUI interface\n",
            "  -i IMAGES, --images IMAGES\n",
            "                        Input image folder\n",
            "  -o OUTS, --outs OUTS  Output folder\n",
            "  -c {superpoint+lightglue,superpoint+lightglue_fast,superpoint+superglue,disk+lightglue,aliked+lightglue,orb+kornia_matcher,sift+kornia_matcher,loftr,se2loftr,roma,keynetaffnethardnet+kornia_matcher,dedode}, --config {superpoint+lightglue,superpoint+lightglue_fast,superpoint+superglue,disk+lightglue,aliked+lightglue,orb+kornia_matcher,sift+kornia_matcher,loftr,se2loftr,roma,keynetaffnethardnet+kornia_matcher,dedode}\n",
            "                        Extractor and matcher configuration\n",
            "  -Q {lowest,low,medium,high,highest}, --quality {lowest,low,medium,high,highest}\n",
            "                        Set the image resolution for the matching. High means full resolution\n",
            "                        images, medium is half res, low is 1/4 res, highest is x2 upsampling.\n",
            "                        Default is high.\n",
            "  -t {none,preselection,grid,exhaustive}, --tiling {none,preselection,grid,exhaustive}\n",
            "                        Set the tiling strategy for the matching. Default is none.\n",
            "  -m {bruteforce,sequential,retrieval,custom_pairs,matching_lowres}, --strategy {bruteforce,sequential,retrieval,custom_pairs,matching_lowres}\n",
            "                        Matching strategy\n",
            "  -p PAIRS, --pairs PAIRS\n",
            "                        Specify pairs for matching\n",
            "  -v OVERLAP, --overlap OVERLAP\n",
            "                        Image overlap, if using sequential overlap strategy\n",
            "  -r {netvlad,openibl,cosplace,dir}, --retrieval {netvlad,openibl,cosplace,dir}\n",
            "                        Specify image retrieval method\n",
            "  --upright             Enable the estimation of the best image rotation for the matching (useful\n",
            "                        in case of aerial datasets).\n",
            "  --skip_reconstruction\n",
            "                        Skip reconstruction step carried out with pycolmap. This step is necessary\n",
            "                        to export the solution in Bundler format for Agisoft Metashape.\n",
            "  -f, --force           Force overwrite of output folder\n",
            "  -V, --verbose\n"
          ]
        }
      ],
      "source": [
        "%%bash\n",
        "# See option to run deep-image-matching\n",
        "python3 ./deep-image-matching/main.py --help"
      ]
    },
    {
      "cell_type": "code",
      "execution_count": null,
      "metadata": {},
      "outputs": [],
      "source": [
        "%%bash\n",
        "python3 ./deep-image-matching/main.py \\\n",
        "  --dir ./deep-image-matching/assets/pytest \\\n",
        "  --pipeline sift+kornia_matcher \\\n",
        "  --skip_reconstruction"
      ]
    },
    {
      "cell_type": "code",
      "execution_count": null,
      "metadata": {},
      "outputs": [],
      "source": [
        "%%bash\n",
        "python3 ./deep-image-matching/main.py \\\n",
        "  --dir ./deep-image-matching/assets/pytest \\\n",
        "  --pipeline orb+kornia_matcher \\\n",
        "  --skip_reconstruction"
      ]
    },
    {
      "cell_type": "code",
      "execution_count": null,
      "metadata": {
        "colab": {
          "base_uri": "https://localhost:8080/"
        },
        "id": "35rrUr1zVLD8",
        "outputId": "342c0e9d-4cb1-452d-8fbf-5be31e211a02"
      },
      "outputs": [],
      "source": [
        "%%bash\n",
        "python3 ./deep-image-matching/main.py \\\n",
        "  --dir ./deep-image-matching/assets/pytest \\\n",
        "  --pipeline superpoint+lightglue \\\n",
        "  --skip_reconstruction"
      ]
    },
    {
      "cell_type": "code",
      "execution_count": null,
      "metadata": {},
      "outputs": [],
      "source": [
        "%%bash\n",
        "python3 ./deep-image-matching/main.py \\\n",
        "  --dir ./deep-image-matching/assets/pytest \\\n",
        "  --pipeline disk+lightglue \\\n",
        "  --skip_reconstruction"
      ]
    },
    {
      "cell_type": "code",
      "execution_count": null,
      "metadata": {},
      "outputs": [],
      "source": [
        "%%bash\n",
        "python3 ./deep-image-matching/main.py \\\n",
        "  --dir ./deep-image-matching/assets/pytest \\\n",
        "  --pipeline aliked+lightglue \\\n",
        "  --skip_reconstruction"
      ]
    },
    {
      "cell_type": "code",
      "execution_count": null,
      "metadata": {},
      "outputs": [],
      "source": [
        "%%bash\n",
        "python3 ./deep-image-matching/main.py \\\n",
        "  --dir ./deep-image-matching/assets/pytest \\\n",
        "  --pipeline keynetaffnethardnet+kornia_matcher \\\n",
        "  --skip_reconstruction"
      ]
    },
    {
      "cell_type": "markdown",
      "metadata": {
        "id": "ZvMncOdYHlBD"
      },
      "source": [
        "Now you can download the COLMAP database from the result folder inside `content/deep-image-matching/assets/pytest`, and import it in COLMAP GUI for further processing if needed."
      ]
    },
    {
      "cell_type": "markdown",
      "metadata": {},
      "source": [
        "## Visualize the results"
      ]
    },
    {
      "cell_type": "code",
      "execution_count": null,
      "metadata": {},
      "outputs": [],
      "source": [
        "# Pass to --images argument the names of the images (e.g. \"img01.jpg img02.jpg\") or their ids (e.g. \"1 2\") to visualize verified matches inside COLMAP database (change --type ['names', 'ids'])\n",
        "%%bash\n",
        "python3 ./deep-image-matching/show_matches.py \\\n",
        "  --images \"1 2\" \\\n",
        "  --type ids \\\n",
        "  --database ./deep-image-matching/assets/pytest/results_sift+kornia_matcher_matching_lowres_quality_high/database.db \\\n",
        "  --imgsdir ./deep-image-matching/assets/pytest/images \\\n",
        "  --output ./deep-image-matching/assets/pytest/matches_sift+kornia_matcher.png \\\n",
        "  --max_size 500"
      ]
    },
    {
      "cell_type": "code",
      "execution_count": null,
      "metadata": {},
      "outputs": [],
      "source": [
        "%%bash\n",
        "python3 ./deep-image-matching/show_matches.py \\\n",
        "  --images \"1 2\" \\\n",
        "  --type ids \\\n",
        "  --database ./deep-image-matching/assets/pytest/results_orb+kornia_matcher_matching_lowres_quality_high/database.db \\\n",
        "  --imgsdir ./deep-image-matching/assets/pytest/images \\\n",
        "  --output ./deep-image-matching/assets/pytest/matches_orb+kornia_matcher.png \\\n",
        "  --max_size 500"
      ]
    },
    {
      "cell_type": "code",
      "execution_count": null,
      "metadata": {},
      "outputs": [],
      "source": [
        "%%bash\n",
        "python3 ./deep-image-matching/show_matches.py \\\n",
        "  --images \"1 2\" \\\n",
        "  --type ids \\\n",
        "  --database ./deep-image-matching/assets/pytest/results_superpoint+lightglue_matching_lowres_quality_high/database.db \\\n",
        "  --imgsdir ./deep-image-matching/assets/pytest/images \\\n",
        "  --output ./deep-image-matching/assets/pytest/matches_superpoint+lightglue.png \\\n",
        "  --max_size 500"
      ]
    },
    {
      "cell_type": "code",
      "execution_count": null,
      "metadata": {},
      "outputs": [],
      "source": [
        "%%bash\n",
        "python3 ./deep-image-matching/show_matches.py \\\n",
        "  --images \"1 2\" \\\n",
        "  --type ids \\\n",
        "  --database ./deep-image-matching/assets/pytest/results_disk+lightglue_matching_lowres_quality_high/database.db \\\n",
        "  --imgsdir ./deep-image-matching/assets/pytest/images \\\n",
        "  --output ./deep-image-matching/assets/pytest/matches_disk+lightglue.png \\\n",
        "  --max_size 500"
      ]
    },
    {
      "cell_type": "code",
      "execution_count": null,
      "metadata": {},
      "outputs": [],
      "source": [
        "%%bash\n",
        "python3 ./deep-image-matching/show_matches.py \\\n",
        "  --images \"1 2\" \\\n",
        "  --type ids \\\n",
        "  --database ./deep-image-matching/assets/pytest/results_aliked+lightglue_matching_lowres_quality_high/database.db \\\n",
        "  --imgsdir ./deep-image-matching/assets/pytest/images \\\n",
        "  --output ./deep-image-matching/assets/pytest/matches_aliked+lightglue.png \\\n",
        "  --max_size 500"
      ]
    },
    {
      "cell_type": "code",
      "execution_count": null,
      "metadata": {},
      "outputs": [],
      "source": [
        "%%bash\n",
        "python3 ./deep-image-matching/show_matches.py \\\n",
        "  --images \"1 2\" \\\n",
        "  --type ids \\\n",
        "  --database ./deep-image-matching/assets/pytest/results_keynetaffnethardnet+kornia_matcher_matching_lowres_quality_high/database.db \\\n",
        "  --imgsdir ./deep-image-matching/assets/pytest/images \\\n",
        "  --output ./deep-image-matching/assets/pytest/matches_keynetaffnethardnet+kornia_matcher.png \\\n",
        "  --max_size 500"
      ]
    },
    {
      "cell_type": "code",
      "execution_count": null,
      "metadata": {},
      "outputs": [],
      "source": [
        "# Run to visualize the matches\n",
        "import cv2\n",
        "from google.colab.patches import cv2_imshow\n",
        "\n",
        "print('\\nsift + kornia_matcher')\n",
        "image_path1 = \"./deep-image-matching/assets/pytest/matches_sift+kornia_matcher.png\"\n",
        "image1 = cv2.imread(image_path1)\n",
        "cv2_imshow(image1)\n",
        "\n",
        "print('orb + kornia matcher')\n",
        "image_path2 = \"./deep-image-matching/assets/pytest/matches_orb+kornia_matcher.png\"\n",
        "image2 = cv2.imread(image_path2)\n",
        "cv2_imshow(image2)\n",
        "\n",
        "print('\\nsuperpoint + lightglue')\n",
        "image_path3 = \"./deep-image-matching/assets/pytest/matches_superpoint+lightglue.png\"\n",
        "image3 = cv2.imread(image_path3)\n",
        "cv2_imshow(image3)\n",
        "\n",
        "print('\\ndisk + lightglue')\n",
        "image_path4 = \"./deep-image-matching/assets/pytest/matches_disk+lightglue.png\"\n",
        "image4 = cv2.imread(image_path4)\n",
        "cv2_imshow(image4)\n",
        "\n",
        "print('\\naliked + lightglue')\n",
        "image_path5 = \"./deep-image-matching/assets/pytest/matches_aliked+lightglue.png\"\n",
        "image5 = cv2.imread(image_path5)\n",
        "cv2_imshow(image5)\n",
        "\n",
        "print('\\nKey.Net + HardNet + kornia matcher')\n",
        "image_path6 = \"./deep-image-matching/assets/pytest/matches_keynetaffnethardnet+kornia_matcher.png\"\n",
        "image6 = cv2.imread(image_path6)\n",
        "cv2_imshow(image6)"
      ]
    }
  ],
  "metadata": {
    "accelerator": "GPU",
    "colab": {
      "gpuType": "T4",
      "provenance": []
    },
    "kernelspec": {
      "display_name": "Python 3.8.10 64-bit",
      "language": "python",
      "name": "python3"
    },
    "language_info": {
      "name": "python",
      "version": "3.8.10"
    },
    "vscode": {
      "interpreter": {
        "hash": "916dbcbb3f70747c44a77c7bcd40155683ae19c65e1c03b4aa3499c5328201f1"
      }
    }
  },
  "nbformat": 4,
  "nbformat_minor": 0
}
