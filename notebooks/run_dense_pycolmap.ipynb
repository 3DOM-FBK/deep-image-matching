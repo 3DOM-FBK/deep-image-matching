{
 "cells": [
  {
   "cell_type": "markdown",
   "metadata": {},
   "source": [
    "# Run Dense reconstruction\n",
    "\n",
    "This notebook will guide you for running a dense reconstruction with LOFTR or RoMa starting from an existing reconstruction (e.g., carried out with SuperPoint+LightGlue that are more robust for image orientation).\n",
    "\n",
    "This notebook will perform the dense matching with RoMa and it uses pycolmap to triangulate the points from the existing camera poses using pycolmap. To build a sparse reconstruction with SuperPoint+LightGlue, you can use the notebook `sfm_pipeline.ipynb`.\n"
   ]
  },
  {
   "cell_type": "code",
   "execution_count": 1,
   "metadata": {},
   "outputs": [
    {
     "name": "stdout",
     "output_type": "stream",
     "text": [
      "Deep Image Matching loaded in 3.127 seconds.\n",
      "Using a custom configuration file: /home/francesco/phd/deep-image-matching/assets/example_cyprus/config_roma.yaml\n",
      "Config general:\n",
      "{'camera_options': '../assets/example_cyprus/cameras.yaml',\n",
      " 'db_path': None,\n",
      " 'geom_verification': <GeometricVerification.NONE: 0>,\n",
      " 'graph': True,\n",
      " 'gv_confidence': 0.9999,\n",
      " 'gv_threshold': 3,\n",
      " 'image_dir': PosixPath('../assets/example_cyprus/images'),\n",
      " 'matching_strategy': 'matching_lowres',\n",
      " 'min_inlier_ratio_per_pair': 0.2,\n",
      " 'min_inliers_per_pair': 5,\n",
      " 'min_matches_per_tile': 3,\n",
      " 'openmvg_conf': None,\n",
      " 'output_dir': PosixPath('../assets/example_cyprus/results_roma_matching_lowres_quality_medium'),\n",
      " 'overlap': None,\n",
      " 'pair_file': PosixPath('../assets/example_cyprus/results_roma_matching_lowres_quality_medium/pairs.txt'),\n",
      " 'preselection_pipeline': 'roma',\n",
      " 'quality': <Quality.MEDIUM: 2>,\n",
      " 'refine_intrinsics': False,\n",
      " 'retrieval': None,\n",
      " 'skip_reconstruction': True,\n",
      " 'tile_overlap': 50,\n",
      " 'tile_preselection_size': 1000,\n",
      " 'tile_selection': <TileSelection.NONE: 0>,\n",
      " 'tile_size': (2400, 2000),\n",
      " 'try_match_full_images': False,\n",
      " 'upright': False,\n",
      " 'verbose': False}\n",
      "\n",
      "\n",
      "Config extractor:\n",
      "{'name': 'no_extractor'}\n",
      "\n",
      "\n",
      "Config matcher:\n",
      "{'coarse_res': 560,\n",
      " 'name': 'roma',\n",
      " 'num_sampled_points': 10000,\n",
      " 'pretrained': 'outdoor',\n",
      " 'upsample_res': 860}\n",
      "\n",
      "\n"
     ]
    }
   ],
   "source": [
    "import pycolmap\n",
    "\n",
    "import deep_image_matching as dim\n",
    "from deep_image_matching.triangulation import db_from_existing_poses\n",
    "from deep_image_matching.utils import OutputCapture\n",
    "\n",
    "logger = dim.setup_logger(\"dim\")\n",
    "\n",
    "# Define the paraemters for the dense matching\n",
    "params = {\n",
    "    \"dir\": \"../assets/example_cyprus\",\n",
    "    \"pipeline\": \"roma\",\n",
    "    \"config_file\": \"../assets/example_cyprus/config_roma.yaml\",\n",
    "    \"strategy\": \"matching_lowres\",\n",
    "    \"quality\": \"medium\",\n",
    "    \"tiling\": \"none\",\n",
    "    \"skip_reconstruction\": True,\n",
    "    \"force\": True,\n",
    "    \"camera_options\": \"../assets/example_cyprus/cameras.yaml\",\n",
    "    \"openmvg\": None,\n",
    "}\n",
    "\n",
    "# Build the configuration object\n",
    "config = dim.Config(params)"
   ]
  },
  {
   "cell_type": "markdown",
   "metadata": {},
   "source": [
    "Define the parameters for building the dense reconstruction starting from the known camera poses computed previously.\n"
   ]
  },
  {
   "cell_type": "code",
   "execution_count": 2,
   "metadata": {},
   "outputs": [],
   "source": [
    "# Define project directory\n",
    "root_path = config.general[\"output_dir\"].parent\n",
    "image_dir = config.general[\"image_dir\"]\n",
    "\n",
    "# Path to the pre-computed COLMAP reconstuction with the knwon poses (set your own path)\n",
    "sfm_path = root_path / \"results_superpoint+lightglue_matching_lowres_quality_medium\"\n",
    "sfm_db_path = sfm_path / \"database.db\"\n",
    "sfm_rec_path = sfm_path / \"reconstruction\"\n",
    "\n",
    "# Path to the dense matching results to be triangulated\n",
    "dense_path = config.general[\"output_dir\"]\n",
    "features_h5 = dense_path / \"features.h5\"\n",
    "matches_h5 = dense_path / \"matches.h5\"\n",
    "pair_file = dense_path / \"pairs.txt\"\n",
    "\n",
    "# Path to the output for the dense matching\n",
    "dense_db_path = dense_path / \"database_dense.db\"\n",
    "model_path = dense_path / \"dense_model\"\n",
    "model_path.mkdir(exist_ok=True, parents=True)\n",
    "\n",
    "# Do geometric verification of the dense features (computing the epipolar error)\n",
    "do_geometric_verification = True\n",
    "max_error = 6\n",
    "\n",
    "# Define trinagulation parameters\n",
    "triang_min_angle = 0.1"
   ]
  },
  {
   "cell_type": "code",
   "execution_count": 3,
   "metadata": {},
   "outputs": [
    {
     "name": "stdout",
     "output_type": "stream",
     "text": [
      "\u001b[0;37m2024-04-13 13:38:19 | [INFO    ] RoMa always use a coarse resolution of 860 pixels, regardless of the quality parameter resolution.\u001b[0m\n"
     ]
    },
    {
     "name": "stderr",
     "output_type": "stream",
     "text": [
      "/home/francesco/miniforge3/envs/deep-image-matching/lib/python3.10/site-packages/torchvision/models/_utils.py:208: UserWarning: The parameter 'pretrained' is deprecated since 0.13 and may be removed in the future, please use 'weights' instead.\n",
      "  warnings.warn(\n",
      "/home/francesco/miniforge3/envs/deep-image-matching/lib/python3.10/site-packages/torchvision/models/_utils.py:223: UserWarning: Arguments other than a weight enum or `None` for 'weights' are deprecated since 0.13 and may be removed in the future. The current behavior is equivalent to passing `weights=None`.\n",
      "  warnings.warn(msg)\n"
     ]
    },
    {
     "name": "stdout",
     "output_type": "stream",
     "text": [
      "Using coarse resolution (560, 560), and upsample res (860, 860)\n",
      "\u001b[0;37m2024-04-13 13:38:25 | [INFO    ] Running image matching with the following configuration:\u001b[0m\n",
      "\u001b[0;37m2024-04-13 13:38:25 | [INFO    ]   Image folder: ../assets/example_cyprus/images\u001b[0m\n",
      "\u001b[0;37m2024-04-13 13:38:25 | [INFO    ]   Output folder: ../assets/example_cyprus/results_roma_matching_lowres_quality_medium\u001b[0m\n",
      "\u001b[0;37m2024-04-13 13:38:25 | [INFO    ]   Number of images: 10\u001b[0m\n",
      "\u001b[0;37m2024-04-13 13:38:25 | [INFO    ]   Matching strategy: matching_lowres\u001b[0m\n",
      "\u001b[0;37m2024-04-13 13:38:25 | [INFO    ]   Image quality: MEDIUM\u001b[0m\n",
      "\u001b[0;37m2024-04-13 13:38:25 | [INFO    ]   Tile selection: NONE\u001b[0m\n",
      "\u001b[0;37m2024-04-13 13:38:25 | [INFO    ]   Feature extraction method: no_extractor\u001b[0m\n",
      "\u001b[0;37m2024-04-13 13:38:25 | [INFO    ]   Matching method: roma\u001b[0m\n",
      "\u001b[0;37m2024-04-13 13:38:25 | [INFO    ]   Geometric verification: NONE\u001b[0m\n",
      "\u001b[0;37m2024-04-13 13:38:25 | [INFO    ]   CUDA available: True\u001b[0m\n",
      "\u001b[0;37m2024-04-13 13:38:25 | [INFO    ] Low resolution matching, generating pairs ..\u001b[0m\n",
      "Loaded SuperPoint model\n",
      "\u001b[0;37m2024-04-13 13:38:25 | [INFO    ] Extracting features from downsampled images...\u001b[0m\n"
     ]
    },
    {
     "name": "stderr",
     "output_type": "stream",
     "text": [
      "100%|██████████| 10/10 [00:02<00:00,  4.64it/s]"
     ]
    },
    {
     "name": "stdout",
     "output_type": "stream",
     "text": [
      "\u001b[0;37m2024-04-13 13:38:28 | [INFO    ] Matching downsampled images...\u001b[0m\n"
     ]
    },
    {
     "name": "stderr",
     "output_type": "stream",
     "text": [
      "\n",
      "100%|██████████| 45/45 [00:01<00:00, 43.27it/s]"
     ]
    },
    {
     "name": "stdout",
     "output_type": "stream",
     "text": [
      "\u001b[0;37m2024-04-13 13:38:29 | [INFO    ] Found 28 pairs.\u001b[0m\n",
      "\u001b[0;37m2024-04-13 13:38:29 | [INFO    ] Extracting features with no_extractor...\u001b[0m\n",
      "\u001b[0;37m2024-04-13 13:38:29 | [INFO    ] no_extractor configuration: \u001b[0m\n"
     ]
    },
    {
     "name": "stderr",
     "output_type": "stream",
     "text": [
      "\n"
     ]
    },
    {
     "name": "stdout",
     "output_type": "stream",
     "text": [
      "{'name': 'no_extractor'}\n"
     ]
    },
    {
     "name": "stderr",
     "output_type": "stream",
     "text": [
      "100%|██████████| 10/10 [00:00<00:00, 738.36it/s]"
     ]
    },
    {
     "name": "stdout",
     "output_type": "stream",
     "text": [
      "\u001b[0;37m2024-04-13 13:38:29 | [INFO    ] Features extracted!\u001b[0m\n",
      "\u001b[0;37m2024-04-13 13:38:29 | [INFO    ] Matching features with roma...\u001b[0m\n",
      "\u001b[0;37m2024-04-13 13:38:29 | [INFO    ] roma configuration: \u001b[0m\n",
      "{'coarse_res': 560,\n",
      " 'name': 'roma',\n",
      " 'num_sampled_points': 10000,\n",
      " 'pretrained': 'outdoor',\n",
      " 'upsample_res': 860}\n",
      "\u001b[0;37m2024-04-13 13:38:29 | [INFO    ] Matching features...\u001b[0m\n",
      "\u001b[0;37m2024-04-13 13:38:29 | [INFO    ] \u001b[0m\n"
     ]
    },
    {
     "name": "stderr",
     "output_type": "stream",
     "text": [
      "\n",
      "  0%|          | 0/28 [00:00<?, ?it/s]/home/francesco/miniforge3/envs/deep-image-matching/lib/python3.10/site-packages/torch/functional.py:507: UserWarning: torch.meshgrid: in an upcoming release, it will be required to pass the indexing argument. (Triggered internally at ../aten/src/ATen/native/TensorShape.cpp:3549.)\n",
      "  return _VF.meshgrid(tensors, **kwargs)  # type: ignore[attr-defined]\n",
      "100%|██████████| 28/28 [00:48<00:00,  1.73s/it]"
     ]
    },
    {
     "name": "stdout",
     "output_type": "stream",
     "text": [
      "\u001b[0;37m2024-04-13 13:39:17 | [INFO    ] [Timer] | [matching] generate_pairs=9.582, extract_features=0.019, Match pair=1.726, Total execution=58.102\u001b[0m\n",
      "\u001b[0;37m2024-04-13 13:39:17 | [INFO    ] [Timer] | [Deep Image Matching] Total execution=0.000\u001b[0m\n",
      "\u001b[1;33m2024-04-13 13:39:17 | [WARNING ] Was not possible to load the first image to initialize cam0\u001b[0m\n",
      "\u001b[1;33m2024-04-13 13:39:17 | [WARNING ] Was not possible to load the first image to initialize cam1\u001b[0m\n"
     ]
    },
    {
     "name": "stderr",
     "output_type": "stream",
     "text": [
      "\n",
      "100%|██████████| 10/10 [00:00<00:00, 732.60it/s]\n",
      "28it [00:00, 3828.29it/s]             \n"
     ]
    }
   ],
   "source": [
    "# Initialize ImageMatcher class\n",
    "matcher = dim.ImageMatcher(config)\n",
    "\n",
    "# Run image matching\n",
    "feature_path, match_path = matcher.run()\n",
    "\n",
    "# Export in colmap format\n",
    "database_path = config.general[\"output_dir\"] / \"database.db\"\n",
    "dim.io.export_to_colmap(\n",
    "    img_dir=config.general[\"image_dir\"],\n",
    "    feature_path=feature_path,\n",
    "    match_path=match_path,\n",
    "    database_path=database_path,\n",
    "    camera_config_path=config.general[\"camera_options\"],\n",
    ")"
   ]
  },
  {
   "cell_type": "code",
   "execution_count": 6,
   "metadata": {},
   "outputs": [
    {
     "name": "stdout",
     "output_type": "stream",
     "text": [
      "\u001b[1;33m2024-04-13 13:39:28 | [WARNING ] The database already exists, deleting it.\u001b[0m\n"
     ]
    },
    {
     "name": "stderr",
     "output_type": "stream",
     "text": [
      "Importing keypoints: 100%|██████████| 8/8 [00:00<00:00, 773.38it/s]\n",
      "Importing matches: 100%|██████████| 28/28 [00:00<00:00, 2145.23it/s]"
     ]
    },
    {
     "name": "stdout",
     "output_type": "stream",
     "text": [
      "\u001b[0;37m2024-04-13 13:39:29 | [INFO    ] Performing geometric verification of the matches...\u001b[0m\n"
     ]
    },
    {
     "name": "stderr",
     "output_type": "stream",
     "text": [
      "\n",
      "Importing verified matches: 100%|██████████| 7/7 [00:01<00:00,  3.66it/s]"
     ]
    },
    {
     "name": "stdout",
     "output_type": "stream",
     "text": [
      "\u001b[0;37m2024-04-13 13:39:30 | [INFO    ] mean/med/min/max valid matches 59.78/55.11/39.00/97.69%.\u001b[0m\n"
     ]
    },
    {
     "name": "stderr",
     "output_type": "stream",
     "text": [
      "\n"
     ]
    }
   ],
   "source": [
    "# Open sfm reconstruction with pycolmap\n",
    "sfm_rec = pycolmap.Reconstruction(sfm_rec_path)\n",
    "\n",
    "# Create a new database with the dense features and the known camera poses\n",
    "db_from_existing_poses(\n",
    "    dense_db_path,\n",
    "    features_h5,\n",
    "    matches_h5,\n",
    "    sfm_rec_path,\n",
    "    pair_file,\n",
    "    do_geometric_verification=do_geometric_verification,\n",
    "    max_error=max_error,\n",
    ")"
   ]
  },
  {
   "cell_type": "code",
   "execution_count": 7,
   "metadata": {},
   "outputs": [
    {
     "name": "stderr",
     "output_type": "stream",
     "text": [
      "I20240413 13:40:11.921245 3611342 misc.cc:198] \n",
      "==============================================================================\n",
      "Loading database\n",
      "==============================================================================\n",
      "I20240413 13:40:11.922073 3611342 database_cache.cc:54] Loading cameras...\n",
      "I20240413 13:40:11.922111 3611342 database_cache.cc:64]  1 in 0.000s\n",
      "I20240413 13:40:11.922125 3611342 database_cache.cc:72] Loading matches...\n",
      "I20240413 13:40:11.923058 3611342 database_cache.cc:78]  28 in 0.001s\n",
      "I20240413 13:40:11.923079 3611342 database_cache.cc:94] Loading images...\n",
      "I20240413 13:40:11.933820 3611342 database_cache.cc:143]  8 in 0.011s (connected 8)\n",
      "I20240413 13:40:11.933871 3611342 database_cache.cc:154] Building correspondence graph...\n",
      "I20240413 13:40:11.968505 3611342 database_cache.cc:190]  in 0.035s (ignored 0)\n",
      "I20240413 13:40:11.970479 3611342 timer.cc:91] Elapsed time: 0.001 [minutes]\n",
      "I20240413 13:40:11.976388 3611342 misc.cc:198] \n",
      "==============================================================================\n",
      "Triangulating image #1 (0)\n",
      "==============================================================================\n",
      "I20240413 13:40:11.976423 3611342 sfm.cc:473] => Image sees 0 / 36298 points\n",
      "I20240413 13:40:12.061582 3611342 sfm.cc:478] => Triangulated 35733 points\n",
      "I20240413 13:40:12.061640 3611342 misc.cc:198] \n",
      "==============================================================================\n",
      "Triangulating image #2 (1)\n",
      "==============================================================================\n",
      "I20240413 13:40:12.061645 3611342 sfm.cc:473] => Image sees 4106 / 34289 points\n",
      "I20240413 13:40:12.132586 3611342 sfm.cc:478] => Triangulated 29618 points\n",
      "I20240413 13:40:12.132617 3611342 misc.cc:198] \n",
      "==============================================================================\n",
      "Triangulating image #4 (2)\n",
      "==============================================================================\n",
      "I20240413 13:40:12.132622 3611342 sfm.cc:473] => Image sees 11307 / 45619 points\n",
      "I20240413 13:40:12.213624 3611342 sfm.cc:478] => Triangulated 34312 points\n",
      "I20240413 13:40:12.213681 3611342 misc.cc:198] \n",
      "==============================================================================\n",
      "Triangulating image #5 (3)\n",
      "==============================================================================\n",
      "I20240413 13:40:12.213687 3611342 sfm.cc:473] => Image sees 18114 / 47663 points\n",
      "I20240413 13:40:12.276453 3611342 sfm.cc:478] => Triangulated 29549 points\n",
      "I20240413 13:40:12.276499 3611342 misc.cc:198] \n",
      "==============================================================================\n",
      "Triangulating image #7 (4)\n",
      "==============================================================================\n",
      "I20240413 13:40:12.276504 3611342 sfm.cc:473] => Image sees 27382 / 48279 points\n",
      "I20240413 13:40:12.320092 3611342 sfm.cc:478] => Triangulated 20368 points\n",
      "I20240413 13:40:12.320122 3611342 misc.cc:198] \n",
      "==============================================================================\n",
      "Triangulating image #8 (5)\n",
      "==============================================================================\n",
      "I20240413 13:40:12.320127 3611342 sfm.cc:473] => Image sees 24236 / 35818 points\n",
      "I20240413 13:40:12.344905 3611342 sfm.cc:478] => Triangulated 11054 points\n",
      "I20240413 13:40:12.344945 3611342 misc.cc:198] \n",
      "==============================================================================\n",
      "Triangulating image #9 (6)\n",
      "==============================================================================\n",
      "I20240413 13:40:12.344950 3611342 sfm.cc:473] => Image sees 41536 / 47190 points\n",
      "I20240413 13:40:12.358630 3611342 sfm.cc:478] => Triangulated 5362 points\n",
      "I20240413 13:40:12.358664 3611342 misc.cc:198] \n",
      "==============================================================================\n",
      "Triangulating image #10 (7)\n",
      "==============================================================================\n",
      "I20240413 13:40:12.358668 3611342 sfm.cc:473] => Image sees 39315 / 39608 points\n",
      "I20240413 13:40:12.361487 3611342 sfm.cc:478] => Triangulated 1 points\n",
      "I20240413 13:40:12.361502 3611342 misc.cc:198] \n",
      "==============================================================================\n",
      "Retriangulation\n",
      "==============================================================================\n",
      "I20240413 13:40:12.378624 3611342 incremental_mapper.cc:175] => Completed observations: 0\n",
      "I20240413 13:40:12.392472 3611342 incremental_mapper.cc:178] => Merged observations: 0\n",
      "I20240413 13:40:12.400408 3611342 misc.cc:198] \n",
      "==============================================================================\n",
      "Bundle adjustment\n",
      "==============================================================================\n"
     ]
    },
    {
     "name": "stdout",
     "output_type": "stream",
     "text": [
      "iter      cost      cost_change  |gradient|   |step|    tr_ratio  tr_radius  ls_iter  iter_time  total_time\n",
      "   0  3.111451e+05    0.00e+00    2.87e+02   0.00e+00   0.00e+00  1.00e+04        0    1.15e-01    4.58e-01\n",
      "   1  3.078114e+05    3.33e+03    1.10e+00   2.16e+00   1.00e+00  3.00e+04        0    1.64e-01    6.23e-01\n",
      "   2  3.078098e+05    1.58e+00    1.23e-01   3.82e+00   1.00e+00  9.00e+04        0    1.53e-01    7.76e-01\n"
     ]
    },
    {
     "name": "stderr",
     "output_type": "stream",
     "text": [
      "I20240413 13:40:13.397854 3611342 misc.cc:205] \n",
      "Bundle adjustment report\n",
      "------------------------\n",
      "I20240413 13:40:13.397927 3611342 bundle_adjustment.cc:942] \n",
      "    Residuals : 663988\n",
      "   Parameters : 497991\n",
      "   Iterations : 3\n",
      "         Time : 0.811643 [s]\n",
      " Initial cost : 0.684544 [px]\n",
      "   Final cost : 0.680865 [px]\n",
      "  Termination : Convergence\n",
      "\n",
      "I20240413 13:40:13.417588 3611342 incremental_mapper.cc:175] => Completed observations: 0\n",
      "I20240413 13:40:13.432924 3611342 incremental_mapper.cc:178] => Merged observations: 0\n",
      "I20240413 13:40:13.469981 3611342 incremental_mapper.cc:160] => Filtered observations: 13909\n",
      "I20240413 13:40:13.470013 3611342 sfm.cc:521] => Changed observations: 0.041895\n",
      "I20240413 13:40:13.609081 3611342 misc.cc:198] \n",
      "==============================================================================\n",
      "Bundle adjustment\n",
      "==============================================================================\n"
     ]
    },
    {
     "name": "stdout",
     "output_type": "stream",
     "text": [
      "iter      cost      cost_change  |gradient|   |step|    tr_ratio  tr_radius  ls_iter  iter_time  total_time\n",
      "   0  2.766719e+05    0.00e+00    2.77e-04   0.00e+00   0.00e+00  1.00e+04        0    9.16e-02    3.94e-01\n"
     ]
    },
    {
     "name": "stderr",
     "output_type": "stream",
     "text": [
      "I20240413 13:40:14.188024 3611342 misc.cc:205] \n",
      "Bundle adjustment report\n",
      "------------------------\n",
      "I20240413 13:40:14.188091 3611342 bundle_adjustment.cc:942] \n",
      "    Residuals : 608352\n",
      "   Parameters : 456264\n",
      "   Iterations : 1\n",
      "         Time : 0.423789 [s]\n",
      " Initial cost : 0.674381 [px]\n",
      "   Final cost : 0.674381 [px]\n",
      "  Termination : Convergence\n",
      "\n",
      "I20240413 13:40:14.205947 3611342 incremental_mapper.cc:175] => Completed observations: 0\n",
      "I20240413 13:40:14.218333 3611342 incremental_mapper.cc:178] => Merged observations: 0\n",
      "I20240413 13:40:14.247723 3611342 incremental_mapper.cc:160] => Filtered observations: 0\n",
      "I20240413 13:40:14.247749 3611342 sfm.cc:521] => Changed observations: 0.000000\n",
      "I20240413 13:40:14.362433 3611342 misc.cc:198] \n",
      "==============================================================================\n",
      "Extracting colors\n",
      "==============================================================================\n"
     ]
    }
   ],
   "source": [
    "# Run the triangulation with the known camera poses\n",
    "\n",
    "# Define the options for the triangulation according to the IncrementalPipelineOptions available in pycolmap\n",
    "# print(pycolmap.IncrementalPipelineOptions().summary())\n",
    "opt = dict(\n",
    "    triangulation=dict(\n",
    "        ignore_two_view_tracks=False,\n",
    "        min_angle=triang_min_angle,\n",
    "    ),\n",
    ")\n",
    "verbose = True\n",
    "\n",
    "with OutputCapture(verbose):\n",
    "    with pycolmap.ostream():\n",
    "        reconstruction = pycolmap.triangulate_points(\n",
    "            sfm_rec,\n",
    "            dense_db_path,\n",
    "            image_dir,\n",
    "            model_path,\n",
    "            options=opt,\n",
    "        )"
   ]
  },
  {
   "cell_type": "code",
   "execution_count": 8,
   "metadata": {},
   "outputs": [],
   "source": [
    "# Export the reconstruction in ply (to be opened in CloudCompare or Meshlab)\n",
    "reconstruction.export_PLY(model_path / \"model.ply\")\n",
    "\n",
    "# Export the reconstruction in bundler format (to be imported in Metashape)\n",
    "reconstruction.export_bundler(\n",
    "    model_path / \"bundler.out\",\n",
    "    model_path / \"bundler_list.txt\",\n",
    "    skip_distortion=True,\n",
    ")"
   ]
  },
  {
   "cell_type": "markdown",
   "metadata": {},
   "source": [
    "Now you can open the dense reconstruction also with the COLMAP GUI.\n"
   ]
  }
 ],
 "metadata": {
  "kernelspec": {
   "display_name": "deep-image-matching",
   "language": "python",
   "name": "python3"
  },
  "language_info": {
   "codemirror_mode": {
    "name": "ipython",
    "version": 3
   },
   "file_extension": ".py",
   "mimetype": "text/x-python",
   "name": "python",
   "nbconvert_exporter": "python",
   "pygments_lexer": "ipython3",
   "version": "3.10.13"
  }
 },
 "nbformat": 4,
 "nbformat_minor": 2
}
