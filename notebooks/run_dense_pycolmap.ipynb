{
 "cells": [
  {
   "cell_type": "markdown",
   "metadata": {},
   "source": [
    "# Run Dense reconstruction\n",
    "\n",
    "This notebook will guide you for running a dense reconstruction with LOFTR or RoMa starting from an existing reconstruction (e.g., carried out with SuperPoint+LightGlue that are more robust for image orientation).\n",
    "\n",
    "This notebook will perform the dense matching with RoMa and it uses pycolmap to triangulate the points from the existing camera poses using pycolmap.\n"
   ]
  },
  {
   "cell_type": "code",
   "execution_count": 1,
   "metadata": {},
   "outputs": [
    {
     "name": "stdout",
     "output_type": "stream",
     "text": [
      "Deep Image Matching loaded in 3.552 seconds.\n"
     ]
    },
    {
     "ename": "FileNotFoundError",
     "evalue": "Configuration file /home/francesco/phd/deep-image-matching/assets/example_cyprus/config_roma.yaml not found.",
     "output_type": "error",
     "traceback": [
      "\u001b[0;31m---------------------------------------------------------------------------\u001b[0m",
      "\u001b[0;31mFileNotFoundError\u001b[0m                         Traceback (most recent call last)",
      "Cell \u001b[0;32mIn[1], line 24\u001b[0m\n\u001b[1;32m      9\u001b[0m params \u001b[38;5;241m=\u001b[39m {\n\u001b[1;32m     10\u001b[0m     \u001b[38;5;124m\"\u001b[39m\u001b[38;5;124mdir\u001b[39m\u001b[38;5;124m\"\u001b[39m: \u001b[38;5;124m\"\u001b[39m\u001b[38;5;124m../assets/example_cyprus\u001b[39m\u001b[38;5;124m\"\u001b[39m,\n\u001b[1;32m     11\u001b[0m     \u001b[38;5;124m\"\u001b[39m\u001b[38;5;124mpipeline\u001b[39m\u001b[38;5;124m\"\u001b[39m: \u001b[38;5;124m\"\u001b[39m\u001b[38;5;124mroma\u001b[39m\u001b[38;5;124m\"\u001b[39m,\n\u001b[0;32m   (...)\u001b[0m\n\u001b[1;32m     20\u001b[0m     \u001b[38;5;124m\"\u001b[39m\u001b[38;5;124mverbose\u001b[39m\u001b[38;5;124m\"\u001b[39m: \u001b[38;5;28;01mTrue\u001b[39;00m,\n\u001b[1;32m     21\u001b[0m }\n\u001b[1;32m     23\u001b[0m \u001b[38;5;66;03m# Build configuration\u001b[39;00m\n\u001b[0;32m---> 24\u001b[0m config \u001b[38;5;241m=\u001b[39m \u001b[43mdim\u001b[49m\u001b[38;5;241;43m.\u001b[39;49m\u001b[43mConfig\u001b[49m\u001b[43m(\u001b[49m\u001b[43mparams\u001b[49m\u001b[43m)\u001b[49m\n\u001b[1;32m     25\u001b[0m imgs_dir \u001b[38;5;241m=\u001b[39m config\u001b[38;5;241m.\u001b[39mgeneral[\u001b[38;5;124m\"\u001b[39m\u001b[38;5;124mimage_dir\u001b[39m\u001b[38;5;124m\"\u001b[39m]\n\u001b[1;32m     26\u001b[0m output_dir \u001b[38;5;241m=\u001b[39m config\u001b[38;5;241m.\u001b[39mgeneral[\u001b[38;5;124m\"\u001b[39m\u001b[38;5;124moutput_dir\u001b[39m\u001b[38;5;124m\"\u001b[39m]\n",
      "File \u001b[0;32m~/phd/deep-image-matching/src/deep_image_matching/config.py:303\u001b[0m, in \u001b[0;36mConfig.__init__\u001b[0;34m(self, args)\u001b[0m\n\u001b[1;32m    301\u001b[0m config_file \u001b[38;5;241m=\u001b[39m Path(args[\u001b[38;5;124m\"\u001b[39m\u001b[38;5;124mconfig_file\u001b[39m\u001b[38;5;124m\"\u001b[39m])\u001b[38;5;241m.\u001b[39mresolve()\n\u001b[1;32m    302\u001b[0m \u001b[38;5;28;01mif\u001b[39;00m \u001b[38;5;129;01mnot\u001b[39;00m config_file\u001b[38;5;241m.\u001b[39mexists():\n\u001b[0;32m--> 303\u001b[0m     \u001b[38;5;28;01mraise\u001b[39;00m \u001b[38;5;167;01mFileNotFoundError\u001b[39;00m(\u001b[38;5;124mf\u001b[39m\u001b[38;5;124m\"\u001b[39m\u001b[38;5;124mConfiguration file \u001b[39m\u001b[38;5;132;01m{\u001b[39;00mconfig_file\u001b[38;5;132;01m}\u001b[39;00m\u001b[38;5;124m not found.\u001b[39m\u001b[38;5;124m\"\u001b[39m)\n\u001b[1;32m    304\u001b[0m \u001b[38;5;28mself\u001b[39m\u001b[38;5;241m.\u001b[39mupdate_from_yaml(config_file)\n\u001b[1;32m    305\u001b[0m \u001b[38;5;28mself\u001b[39m\u001b[38;5;241m.\u001b[39mprint()\n",
      "\u001b[0;31mFileNotFoundError\u001b[0m: Configuration file /home/francesco/phd/deep-image-matching/assets/example_cyprus/config_roma.yaml not found."
     ]
    }
   ],
   "source": [
    "import deep_image_matching as dim\n",
    "import yaml\n",
    "import pycolmap\n",
    "from deep_image_matching.triangulation import db_from_existing_poses\n",
    "from deep_image_matching.utils import OutputCapture\n",
    "\n",
    "logger = dim.setup_logger(\"dim\")\n",
    "\n",
    "params = {\n",
    "    \"dir\": \"../assets/example_cyprus\",\n",
    "    \"pipeline\": \"roma\",\n",
    "    \"config_file\": \"../assets/example_cyprus/config_roma.yaml\",\n",
    "    \"strategy\": \"bruteforce\",\n",
    "    \"quality\": \"high\",\n",
    "    \"tiling\": \"preselection\",\n",
    "    \"skip_reconstruction\": True,\n",
    "    \"force\": True,\n",
    "    \"camera_options\": \"../assets/example_cyprus/cameras.yaml\",\n",
    "    \"openmvg\": None,\n",
    "    \"verbose\": True,\n",
    "}\n",
    "\n",
    "# Build configuration\n",
    "config = dim.Config(params)\n",
    "imgs_dir = config.general[\"image_dir\"]\n",
    "output_dir = config.general[\"output_dir\"]\n",
    "config.save()"
   ]
  },
  {
   "cell_type": "code",
   "execution_count": null,
   "metadata": {},
   "outputs": [],
   "source": [
    "# Initialize ImageMatcher class\n",
    "matcher = dim.ImageMatcher(config)\n",
    "\n",
    "# Run image matching\n",
    "feature_path, match_path = matcher.run()\n",
    "\n",
    "# Read camera options\n",
    "with open(config.general[\"camera_options\"], \"r\") as file:\n",
    "    camera_options = yaml.safe_load(file)\n",
    "\n",
    "# Export in colmap format\n",
    "database_path = output_dir / \"database.db\"\n",
    "dim.io.export_to_colmap(\n",
    "    img_dir=imgs_dir,\n",
    "    feature_path=feature_path,\n",
    "    match_path=match_path,\n",
    "    database_path=database_path,\n",
    "    camera_options=camera_options,\n",
    ")"
   ]
  },
  {
   "cell_type": "code",
   "execution_count": null,
   "metadata": {},
   "outputs": [],
   "source": [
    "# Define project directory\n",
    "root_path = config.general[\"output_dir\"].parent\n",
    "image_dir = config.general[\"image_dir\"]\n",
    "\n",
    "# Path to the pre-computed COLMAP reconstuction with the knwon poses\n",
    "sfm_path = root_path / \"results_superpoint+lightglue_bruteforce_quality_highest\"\n",
    "sfm_db_path = sfm_path / \"database.db\"\n",
    "sfm_rec_path = sfm_path / \"reconstruction\"\n",
    "\n",
    "# Path to the dense matching results to be triangulated\n",
    "dense_path = config.general[\"output_dir\"]\n",
    "features_h5 = dense_path / \"features.h5\"\n",
    "matches_h5 = dense_path / \"matches.h5\"\n",
    "pair_file = dense_path / \"pairs.txt\"\n",
    "\n",
    "# Path to the output for the dense matching\n",
    "dense_db_path = dense_path / \"database_dense.db\"\n",
    "model_path = dense_path / \"dense_model\"\n",
    "model_path.mkdir(exist_ok=True, parents=True)\n",
    "\n",
    "# Do geometric verification of the dense features (with known camera poses)\n",
    "do_geometric_verification = True\n",
    "max_error = 6\n",
    "triang_min_angle = 0.1"
   ]
  },
  {
   "cell_type": "code",
   "execution_count": null,
   "metadata": {},
   "outputs": [],
   "source": [
    "# Open sfm reconstruction with pycolmap\n",
    "sfm_rec = pycolmap.Reconstruction(sfm_rec_path)\n",
    "\n",
    "# Create a new database with the dense features and the known camera poses\n",
    "db_from_existing_poses(\n",
    "    dense_db_path,\n",
    "    features_h5,\n",
    "    matches_h5,\n",
    "    sfm_rec_path,\n",
    "    pair_file,\n",
    "    do_geometric_verification=do_geometric_verification,\n",
    "    max_error=max_error,\n",
    ")"
   ]
  },
  {
   "cell_type": "code",
   "execution_count": null,
   "metadata": {},
   "outputs": [],
   "source": [
    "# Run the triangulation with the known camera poses\n",
    "\n",
    "# Define the options for the triangulation according to the IncrementalPipelineOptions available in pycolmap\n",
    "# print(pycolmap.IncrementalPipelineOptions().summary())\n",
    "opt = dict(\n",
    "    triangulation=dict(\n",
    "        ignore_two_view_tracks=False,\n",
    "        min_angle=triang_min_angle,\n",
    "    ),\n",
    ")\n",
    "verbose = True\n",
    "\n",
    "with OutputCapture(verbose):\n",
    "    with pycolmap.ostream():\n",
    "        reconstruction = pycolmap.triangulate_points(\n",
    "            sfm_rec,\n",
    "            dense_db_path,\n",
    "            image_dir,\n",
    "            model_path,\n",
    "            options=opt,\n",
    "        )"
   ]
  }
 ],
 "metadata": {
  "kernelspec": {
   "display_name": "deep-image-matching",
   "language": "python",
   "name": "python3"
  },
  "language_info": {
   "codemirror_mode": {
    "name": "ipython",
    "version": 3
   },
   "file_extension": ".py",
   "mimetype": "text/x-python",
   "name": "python",
   "nbconvert_exporter": "python",
   "pygments_lexer": "ipython3",
   "version": "3.10.13"
  }
 },
 "nbformat": 4,
 "nbformat_minor": 2
}
