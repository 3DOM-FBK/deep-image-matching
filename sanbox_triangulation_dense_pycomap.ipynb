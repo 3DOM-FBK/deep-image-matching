{
 "cells": [
  {
   "cell_type": "markdown",
   "metadata": {},
   "source": [
    "# Tringulate points from knwon camera poses with Pycolmap\n"
   ]
  },
  {
   "cell_type": "code",
   "execution_count": 1,
   "metadata": {},
   "outputs": [],
   "source": [
    "%reload_ext autoreload\n",
    "%autoreload 2\n",
    "\n",
    "from pathlib import Path\n",
    "\n",
    "import pycolmap\n",
    "from deep_image_matching.triangulation import (\n",
    "    create_db_from_model,\n",
    "    import_keypoints,\n",
    "    import_matches,\n",
    "    import_verifed_matches,\n",
    ")\n",
    "from deep_image_matching.utils import (\n",
    "    OutputCapture,\n",
    ")\n",
    "\n",
    "# Define project directory\n",
    "# root_path = Path(\"datasets/belv_20230725\")\n",
    "root_path = Path(\"datasets/belv_winter\")\n",
    "\n",
    "# Path to the images\n",
    "image_dir = root_path / \"images\"\n",
    "\n",
    "# Path to the pre-computed COLMAP reconstuction with the knwon poses\n",
    "sfm_path = root_path / \"results_superpoint+lightglue_bruteforce_quality_high\"\n",
    "sfm_db_path = sfm_path / \"database.db\"\n",
    "sfm_rec_path = sfm_path / \"reconstruction\"\n",
    "\n",
    "# Path to the dense matching results to be triangulated\n",
    "dense_path = root_path / \"results_roma_bruteforce_quality_medium\"\n",
    "features_h5 = dense_path / \"features.h5\"\n",
    "matches_h5 = dense_path / \"matches.h5\"\n",
    "pair_file = dense_path / \"pairs.txt\"\n",
    "\n",
    "# Path to the output for the dense matching\n",
    "dense_db_path = dense_path / \"database_dense.db\"\n",
    "model_path = dense_path / \"dense_model\"\n",
    "model_path.mkdir(exist_ok=True, parents=True)\n",
    "\n",
    "# Do geometric verification of the dense features (with known camera poses)\n",
    "do_geometric_verification = True\n",
    "max_error = 4"
   ]
  },
  {
   "cell_type": "code",
   "execution_count": 2,
   "metadata": {},
   "outputs": [
    {
     "name": "stderr",
     "output_type": "stream",
     "text": [
      "Importing keypoints: 100%|██████████| 5/5 [00:00<00:00, 181.20it/s]\n",
      "Importing matches: 100%|██████████| 10/10 [00:00<00:00, 1322.67it/s]"
     ]
    },
    {
     "name": "stdout",
     "output_type": "stream",
     "text": [
      "\u001b[0;37m2024-04-10 10:10:31 | [INFO    ] Performing geometric verification of the matches...\u001b[0m\n"
     ]
    },
    {
     "name": "stderr",
     "output_type": "stream",
     "text": [
      "\n",
      "Importing verified matches: 100%|██████████| 4/4 [00:02<00:00,  1.41it/s]"
     ]
    },
    {
     "name": "stdout",
     "output_type": "stream",
     "text": [
      "\u001b[0;37m2024-04-10 10:10:34 | [INFO    ] mean/med/min/max valid matches 50.29/61.79/3.48/87.35%.\u001b[0m\n"
     ]
    },
    {
     "name": "stderr",
     "output_type": "stream",
     "text": [
      "\n"
     ]
    }
   ],
   "source": [
    "# Import the sparse reconstruction\n",
    "sfm_rec = pycolmap.Reconstruction(sfm_rec_path)\n",
    "\n",
    "# Create an empty database from the sparse reconstruction\n",
    "image_ids = create_db_from_model(sfm_rec, dense_db_path)\n",
    "\n",
    "# Add keypoints to the database\n",
    "import_keypoints(features_h5, image_ids, dense_db_path)\n",
    "\n",
    "# Add matches to the database, but do not add two-view geometry\n",
    "import_matches(\n",
    "    matches_h5,\n",
    "    image_ids,\n",
    "    dense_db_path,\n",
    "    pair_file,\n",
    "    add_two_view_geometry=not do_geometric_verification,\n",
    ")\n",
    "\n",
    "\n",
    "if do_geometric_verification:\n",
    "    # Run the geometric verification with the knwon camera poses and add the inliers matches to the database in the two-view geometry table\n",
    "    import_verifed_matches(\n",
    "        image_ids,\n",
    "        sfm_rec,\n",
    "        dense_db_path,\n",
    "        features_h5,\n",
    "        matches_h5,\n",
    "        pair_file,\n",
    "        max_error=max_error,\n",
    "    )"
   ]
  },
  {
   "cell_type": "code",
   "execution_count": 3,
   "metadata": {},
   "outputs": [
    {
     "name": "stderr",
     "output_type": "stream",
     "text": [
      "I20240410 10:10:37.078500 720999 misc.cc:198] \n",
      "==============================================================================\n",
      "Loading database\n",
      "==============================================================================\n",
      "I20240410 10:10:37.083670 720999 database_cache.cc:54] Loading cameras...\n",
      "I20240410 10:10:37.083731 720999 database_cache.cc:64]  3 in 0.000s\n",
      "I20240410 10:10:37.083747 720999 database_cache.cc:72] Loading matches...\n",
      "I20240410 10:10:37.085050 720999 database_cache.cc:78]  10 in 0.001s\n",
      "I20240410 10:10:37.085073 720999 database_cache.cc:94] Loading images...\n",
      "I20240410 10:10:37.129077 720999 database_cache.cc:143]  5 in 0.044s (connected 5)\n",
      "I20240410 10:10:37.129146 720999 database_cache.cc:154] Building correspondence graph...\n",
      "I20240410 10:10:37.163204 720999 database_cache.cc:190]  in 0.034s (ignored 0)\n",
      "I20240410 10:10:37.164541 720999 timer.cc:91] Elapsed time: 0.001 [minutes]\n",
      "I20240410 10:10:37.184716 720999 misc.cc:198] \n",
      "==============================================================================\n",
      "Triangulating image #1 (0)\n",
      "==============================================================================\n",
      "I20240410 10:10:37.184751 720999 sfm.cc:473] => Image sees 0 / 38735 points\n",
      "I20240410 10:10:37.289250 720999 sfm.cc:478] => Triangulated 38735 points\n",
      "I20240410 10:10:37.289290 720999 misc.cc:198] \n",
      "==============================================================================\n",
      "Triangulating image #2 (1)\n",
      "==============================================================================\n",
      "I20240410 10:10:37.289295 720999 sfm.cc:473] => Image sees 2223 / 72307 points\n",
      "I20240410 10:10:37.470970 720999 sfm.cc:478] => Triangulated 70083 points\n",
      "I20240410 10:10:37.471035 720999 misc.cc:198] \n",
      "==============================================================================\n",
      "Triangulating image #3 (2)\n",
      "==============================================================================\n",
      "I20240410 10:10:37.471041 720999 sfm.cc:473] => Image sees 23597 / 52781 points\n",
      "I20240410 10:10:37.545953 720999 sfm.cc:478] => Triangulated 29184 points\n",
      "I20240410 10:10:37.546006 720999 misc.cc:198] \n",
      "==============================================================================\n",
      "Triangulating image #4 (3)\n",
      "==============================================================================\n",
      "I20240410 10:10:37.546015 720999 sfm.cc:473] => Image sees 46690 / 75099 points\n",
      "I20240410 10:10:37.631104 720999 sfm.cc:478] => Triangulated 28408 points\n",
      "I20240410 10:10:37.631163 720999 misc.cc:198] \n",
      "==============================================================================\n",
      "Triangulating image #5 (4)\n",
      "==============================================================================\n",
      "I20240410 10:10:37.631170 720999 sfm.cc:473] => Image sees 93900 / 93902 points\n",
      "I20240410 10:10:37.638203 720999 sfm.cc:478] => Triangulated 1 points\n",
      "I20240410 10:10:37.638222 720999 misc.cc:198] \n",
      "==============================================================================\n",
      "Retriangulation\n",
      "==============================================================================\n",
      "I20240410 10:10:37.652860 720999 incremental_mapper.cc:175] => Completed observations: 0\n",
      "I20240410 10:10:37.665251 720999 incremental_mapper.cc:178] => Merged observations: 0\n",
      "I20240410 10:10:37.679041 720999 misc.cc:198] \n",
      "==============================================================================\n",
      "Bundle adjustment\n",
      "==============================================================================\n"
     ]
    },
    {
     "name": "stdout",
     "output_type": "stream",
     "text": [
      "iter      cost      cost_change  |gradient|   |step|    tr_ratio  tr_radius  ls_iter  iter_time  total_time\n",
      "   0  9.772162e+04    0.00e+00    1.70e+03   0.00e+00   0.00e+00  1.00e+04        0    1.16e-01    4.70e-01\n",
      "   1  8.318726e+04    1.45e+04    3.53e-01   4.51e+00   1.00e+00  3.00e+04        0    1.44e-01    6.15e-01\n"
     ]
    },
    {
     "name": "stderr",
     "output_type": "stream",
     "text": [
      "I20240410 10:10:38.528729 720999 misc.cc:205] \n",
      "Bundle adjustment report\n",
      "------------------------\n",
      "I20240410 10:10:38.528859 720999 bundle_adjustment.cc:942] \n",
      "    Residuals : 665644\n",
      "   Parameters : 499233\n",
      "   Iterations : 2\n",
      "         Time : 0.651156 [s]\n",
      " Initial cost : 0.383155 [px]\n",
      "   Final cost : 0.353515 [px]\n",
      "  Termination : Convergence\n",
      "\n",
      "I20240410 10:10:38.546653 720999 incremental_mapper.cc:175] => Completed observations: 0\n",
      "I20240410 10:10:38.558491 720999 incremental_mapper.cc:178] => Merged observations: 0\n",
      "I20240410 10:10:38.590533 720999 incremental_mapper.cc:160] => Filtered observations: 5\n",
      "I20240410 10:10:38.590562 720999 sfm.cc:521] => Changed observations: 0.000015\n",
      "I20240410 10:10:38.738544 720999 misc.cc:198] \n",
      "==============================================================================\n",
      "Extracting colors\n",
      "==============================================================================\n"
     ]
    }
   ],
   "source": [
    "# Run the triangulation with the known camera poses\n",
    "\n",
    "# Define the options for the triangulation according to the IncrementalPipelineOptions available in pycolmap\n",
    "# print(pycolmap.IncrementalPipelineOptions().summary())\n",
    "opt = dict(\n",
    "    triangulation=dict(\n",
    "        ignore_two_view_tracks=False,\n",
    "        min_angle=0.5,\n",
    "    ),\n",
    ")\n",
    "verbose = True\n",
    "\n",
    "with OutputCapture(verbose):\n",
    "    with pycolmap.ostream():\n",
    "        reconstruction = pycolmap.triangulate_points(\n",
    "            sfm_rec,\n",
    "            dense_db_path,\n",
    "            image_dir,\n",
    "            model_path,\n",
    "            options=opt,\n",
    "        )"
   ]
  },
  {
   "cell_type": "code",
   "execution_count": 4,
   "metadata": {},
   "outputs": [],
   "source": [
    "# Export the model in ply and bundler format\n",
    "reconstruction.export_PLY(model_path / \"dense_model.ply\")\n",
    "reconstruction.export_bundler(model_path / \"bundler.out\", model_path / \"bunlder_list.txt\", skip_distortion=True)"
   ]
  }
 ],
 "metadata": {
  "kernelspec": {
   "display_name": "deep-image-matching",
   "language": "python",
   "name": "python3"
  },
  "language_info": {
   "codemirror_mode": {
    "name": "ipython",
    "version": 3
   },
   "file_extension": ".py",
   "mimetype": "text/x-python",
   "name": "python",
   "nbconvert_exporter": "python",
   "pygments_lexer": "ipython3",
   "version": "3.10.13"
  }
 },
 "nbformat": 4,
 "nbformat_minor": 2
}
